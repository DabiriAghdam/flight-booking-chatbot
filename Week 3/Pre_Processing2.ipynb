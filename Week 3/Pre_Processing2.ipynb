{
 "cells": [
  {
   "cell_type": "markdown",
   "id": "53a639b1",
   "metadata": {
    "id": "53a639b1"
   },
   "source": [
    "<h3 align=center> In His Name, the Most High </h3>"
   ]
  },
  {
   "cell_type": "code",
   "execution_count": 1,
   "id": "27a0482d",
   "metadata": {
    "id": "27a0482d"
   },
   "outputs": [],
   "source": [
    "#importing libraries\n",
    "import re\n",
    "import matplotlib.pyplot as plt\n",
    "plt.style.use('seaborn') # beautiful plots :O"
   ]
  },
  {
   "cell_type": "markdown",
   "id": "c37bfe7d",
   "metadata": {
    "id": "c37bfe7d"
   },
   "source": [
    "## ATIS Dataset EDA"
   ]
  },
  {
   "cell_type": "markdown",
   "id": "27e084e7",
   "metadata": {
    "id": "27e084e7"
   },
   "source": [
    "The ATIS dataset is a standard benchmark dataset widely used for intent classification and slot filling.\n",
    "here we obtained the dataset from https://github.com/yvchen/JointSLU."
   ]
  },
  {
   "cell_type": "code",
   "execution_count": 2,
   "id": "7e4240b2",
   "metadata": {
    "colab": {
     "base_uri": "https://localhost:8080/"
    },
    "id": "7e4240b2",
    "outputId": "33ba1dbd-168b-413e-92a2-abf176a4dd4d",
    "scrolled": true
   },
   "outputs": [
    {
     "name": "stdout",
     "output_type": "stream",
     "text": [
      "train dataset vocab size: 895\n",
      "# of train dataset rows: 4977\n",
      "# of train dataset unique intents: 16\n",
      "# of train dataset unique IOB tags: 121\n"
     ]
    }
   ],
   "source": [
    "#importing train data\n",
    "\n",
    "train_words = list() # a list of list of words for every sentence in train dataset\n",
    "train_tags = list() # a list of list of IOB tags for every sentence in train dataset\n",
    "train_intents = list() # a list of intent for every sentence in train dataset\n",
    "train_data = list() # a list of dicts contaiting above data in a more structured form\n",
    "train_vocabs = set() # a set containing whole train dataset words\n",
    "\n",
    "with open('atis-2.train+dev.w-intent.iob') as f:\n",
    "    for line in f.readlines():\n",
    "        line = line.strip().split()\n",
    "        \n",
    "        index = 0\n",
    "        words = list()\n",
    "        for i, word in enumerate(line[:-1]):\n",
    "            if (word == 'EOS'):\n",
    "                index = i\n",
    "                break\n",
    "            if (word != 'BOS'): \n",
    "                # what to do if word.isalpha()??\n",
    "                word = re.sub(r'[^\\w\\s]', '', word.lower()) # removing punctuations & lowerizing word\n",
    "                words.append(word) \n",
    "                train_vocabs.add(word)\n",
    "        \n",
    "        tags = list()\n",
    "        for tag in line[index + 2:-1]:\n",
    "            tags.append(tag)\n",
    "                    \n",
    "        #handling entries with multiple intents\n",
    "        intent = \"\"\n",
    "        if ('#' in line[-1]): \n",
    "            for item in line[-1].split('#'):\n",
    "                intent = item\n",
    "                break\n",
    "        else: intent = line[-1]\n",
    "\n",
    "        if (intent != 'atis_cheapest'): #droping 'atis_cheapest' because it has only 1 sample!\n",
    "          train_words.append(words)\n",
    "          train_tags.append(tags)\n",
    "          train_intents.append(intent)\n",
    "          train_data.append({\n",
    "              'words': words,\n",
    "              'iob_tags': tags,\n",
    "              #             'length': len(words),\n",
    "              'intent': intent})\n",
    "\n",
    "print('train dataset vocab size:', len(train_vocabs))\n",
    "print('# of train dataset rows:', len(train_data))\n",
    "print('# of train dataset unique intents:', len(set(train_intents)))\n",
    "print('# of train dataset unique IOB tags:', len(set([tag for item in train_tags for tag in item])))"
   ]
  },
  {
   "cell_type": "code",
   "execution_count": 3,
   "id": "d79fb14f",
   "metadata": {
    "colab": {
     "base_uri": "https://localhost:8080/"
    },
    "id": "d79fb14f",
    "outputId": "7bd67704-09b8-4359-8679-6d8eb8ee7533"
   },
   "outputs": [
    {
     "name": "stdout",
     "output_type": "stream",
     "text": [
      "tokenized words: ['im', 'looking', 'for', 'a', 'flight', 'from', 'charlotte', 'to', 'las', 'vegas', 'that', 'stops', 'in', 'st', 'louis', 'hopefully', 'a', 'dinner', 'flight', 'how', 'can', 'i', 'find', 'that', 'out']\n",
      "IOB tags: ['O', 'O', 'O', 'O', 'O', 'O', 'B-fromloc.city_name', 'O', 'B-toloc.city_name', 'I-toloc.city_name', 'O', 'O', 'O', 'B-stoploc.city_name', 'I-stoploc.city_name', 'O', 'O', 'B-meal_description', 'O', 'O', 'O', 'O', 'O', 'O', 'O']\n",
      "intent: atis_flight\n"
     ]
    }
   ],
   "source": [
    "ind = 5\n",
    "print('tokenized words:', train_data[ind]['words'])\n",
    "print('IOB tags:', train_data[ind]['iob_tags'])\n",
    "print('intent:', train_data[ind]['intent'])"
   ]
  },
  {
   "cell_type": "code",
   "execution_count": 4,
   "id": "5f7371a7",
   "metadata": {
    "colab": {
     "base_uri": "https://localhost:8080/"
    },
    "id": "5f7371a7",
    "outputId": "aa7fff42-5ea2-4fde-e65b-e09554faad84"
   },
   "outputs": [
    {
     "name": "stdout",
     "output_type": "stream",
     "text": [
      "atis_flight: 3687 (74.08%),\n",
      "atis_airfare: 424 (8.52%),\n",
      "atis_airline: 159 (3.19%),\n",
      "atis_ground_service: 256 (5.14%),\n",
      "atis_quantity: 51 (1.02%),\n",
      "atis_city: 19 (0.38%),\n",
      "atis_abbreviation: 147 (2.95%),\n",
      "atis_aircraft: 82 (1.65%),\n",
      "atis_distance: 20 (0.40%),\n",
      "atis_ground_fare: 18 (0.36%),\n",
      "atis_capacity: 16 (0.32%),\n",
      "atis_flight_time: 54 (1.08%),\n",
      "atis_meal: 6 (0.12%),\n",
      "atis_flight_no: 12 (0.24%),\n",
      "atis_restriction: 6 (0.12%),\n",
      "atis_airport: 20 (0.40%),\n"
     ]
    }
   ],
   "source": [
    "train_intents_freq = dict()\n",
    "for intent in train_intents:\n",
    "    train_intents_freq[intent] = train_intents.count(intent)\n",
    "    \n",
    "for key in train_intents_freq:\n",
    "    value = train_intents_freq[key]\n",
    "    print('%s: %d (%.2f%%),' % (key, value, value / len(train_intents) * 100))"
   ]
  },
  {
   "cell_type": "code",
   "execution_count": 5,
   "id": "3a1c887a",
   "metadata": {
    "colab": {
     "base_uri": "https://localhost:8080/",
     "height": 407
    },
    "id": "3a1c887a",
    "outputId": "d8e69ecc-bd2f-402a-e7b8-1c8385aa9661"
   },
   "outputs": [
    {
     "data": {
      "image/png": "[encoded data removed]",
      "text/plain": [
       "<Figure size 1728x576 with 1 Axes>"
      ]
     },
     "metadata": {},
     "output_type": "display_data"
    }
   ],
   "source": [
    "plt.figure(figsize=(24, 8))\n",
    "plt.bar(list(train_intents_freq.keys()),train_intents_freq.values())\n",
    "plt.show()"
   ]
  },
  {
   "cell_type": "code",
   "execution_count": 6,
   "id": "e38c53fa",
   "metadata": {
    "colab": {
     "base_uri": "https://localhost:8080/"
    },
    "id": "e38c53fa",
    "outputId": "117244e4-53bc-4107-8889-88ccd13541bd"
   },
   "outputs": [
    {
     "data": {
      "text/plain": [
       "{'O': 304452,\n",
       " 'B-fromloc.city_name': 4670,\n",
       " 'B-toloc.city_name': 4777,\n",
       " 'B-round_trip': 374,\n",
       " 'I-round_trip': 361,\n",
       " 'B-cost_relative': 365,\n",
       " 'B-fare_amount': 73,\n",
       " 'I-fare_amount': 71,\n",
       " 'B-arrive_date.month_name': 47,\n",
       " 'B-arrive_date.day_number': 47,\n",
       " 'I-fromloc.city_name': 841,\n",
       " 'B-stoploc.city_name': 243,\n",
       " 'B-arrive_time.time_relative': 203,\n",
       " 'B-arrive_time.time': 224,\n",
       " 'I-arrive_time.time': 191,\n",
       " 'B-toloc.state_code': 86,\n",
       " 'I-toloc.city_name': 1289,\n",
       " 'I-stoploc.city_name': 75,\n",
       " 'B-meal_description': 57,\n",
       " 'B-depart_date.month_name': 387,\n",
       " 'B-depart_date.day_number': 413,\n",
       " 'B-airline_name': 743,\n",
       " 'I-airline_name': 449,\n",
       " 'B-depart_time.period_of_day': 707,\n",
       " 'B-depart_date.day_name': 1001,\n",
       " 'B-toloc.state_name': 77,\n",
       " 'B-depart_time.time_relative': 343,\n",
       " 'B-depart_time.time': 391,\n",
       " 'B-toloc.airport_name': 39,\n",
       " 'I-toloc.airport_name': 77,\n",
       " 'B-depart_date.date_relative': 82,\n",
       " 'B-or': 84,\n",
       " 'B-airline_code': 148,\n",
       " 'B-class_type': 225,\n",
       " 'I-class_type': 189,\n",
       " 'I-cost_relative': 55,\n",
       " 'I-depart_time.time': 383,\n",
       " 'B-fromloc.airport_name': 89,\n",
       " 'I-fromloc.airport_name': 209,\n",
       " 'B-city_name': 231,\n",
       " 'B-flight_mod': 345,\n",
       " 'B-meal': 46,\n",
       " 'B-economy': 36,\n",
       " 'B-fare_basis_code': 86,\n",
       " 'I-depart_date.day_number': 132,\n",
       " 'B-depart_date.today_relative': 86,\n",
       " 'B-flight_stop': 172,\n",
       " 'B-airport_code': 29,\n",
       " 'B-fromloc.state_name': 39,\n",
       " 'I-fromloc.state_name': 9,\n",
       " 'I-city_name': 63,\n",
       " 'B-connect': 40,\n",
       " 'B-arrive_date.day_name': 92,\n",
       " 'B-fromloc.state_code': 48,\n",
       " 'B-arrive_date.today_relative': 2,\n",
       " 'B-depart_date.year': 25,\n",
       " 'B-depart_time.start_time': 25,\n",
       " 'I-depart_time.start_time': 13,\n",
       " 'B-depart_time.end_time': 25,\n",
       " 'I-depart_time.end_time': 18,\n",
       " 'B-arrive_time.start_time': 21,\n",
       " 'B-arrive_time.end_time': 20,\n",
       " 'I-arrive_time.end_time': 19,\n",
       " 'I-flight_mod': 19,\n",
       " 'B-flight_days': 39,\n",
       " 'B-mod': 30,\n",
       " 'B-flight_number': 100,\n",
       " 'I-toloc.state_name': 13,\n",
       " 'B-meal_code': 6,\n",
       " 'I-meal_code': 6,\n",
       " 'B-airport_name': 38,\n",
       " 'I-airport_name': 90,\n",
       " 'I-flight_stop': 23,\n",
       " 'B-transport_type': 50,\n",
       " 'I-transport_type': 25,\n",
       " 'B-state_code': 8,\n",
       " 'B-aircraft_code': 31,\n",
       " 'B-toloc.country_name': 3,\n",
       " 'I-arrive_date.day_number': 6,\n",
       " 'B-toloc.airport_code': 20,\n",
       " 'B-return_date.date_relative': 10,\n",
       " 'I-return_date.date_relative': 4,\n",
       " 'B-flight_time': 71,\n",
       " 'I-economy': 10,\n",
       " 'B-fromloc.airport_code': 15,\n",
       " 'B-arrive_time.period_of_day': 68,\n",
       " 'B-depart_time.period_mod': 48,\n",
       " 'I-flight_time': 44,\n",
       " 'B-return_date.day_name': 1,\n",
       " 'B-arrive_date.date_relative': 11,\n",
       " 'B-restriction_code': 23,\n",
       " 'I-restriction_code': 14,\n",
       " 'B-arrive_time.period_mod': 4,\n",
       " 'I-arrive_time.period_of_day': 3,\n",
       " 'B-period_of_day': 5,\n",
       " 'B-stoploc.state_code': 5,\n",
       " 'I-depart_date.today_relative': 36,\n",
       " 'I-fare_basis_code': 2,\n",
       " 'I-arrive_time.start_time': 8,\n",
       " 'B-time': 2,\n",
       " 'B-today_relative': 2,\n",
       " 'I-today_relative': 9,\n",
       " 'B-state_name': 2,\n",
       " 'B-days_code': 3,\n",
       " 'I-depart_time.period_of_day': 6,\n",
       " 'I-arrive_time.time_relative': 4,\n",
       " 'B-time_relative': 1,\n",
       " 'I-time': 1,\n",
       " 'B-return_date.month_name': 4,\n",
       " 'B-return_date.day_number': 4,\n",
       " 'I-depart_time.time_relative': 4,\n",
       " 'B-stoploc.airport_name': 1,\n",
       " 'B-day_name': 7,\n",
       " 'B-month_name': 4,\n",
       " 'B-day_number': 4,\n",
       " 'B-return_time.period_mod': 2,\n",
       " 'B-return_time.period_of_day': 3,\n",
       " 'B-return_date.today_relative': 1,\n",
       " 'I-return_date.today_relative': 4,\n",
       " 'I-meal_description': 1,\n",
       " 'I-return_date.day_number': 1}"
      ]
     },
     "execution_count": 6,
     "metadata": {},
     "output_type": "execute_result"
    }
   ],
   "source": [
    "train_tags_freq = dict()\n",
    "for item in train_tags:\n",
    "    for tag in item:\n",
    "        if (tag in train_tags_freq): train_tags_freq[tag] += item.count(tag)\n",
    "        else: train_tags_freq[tag] = item.count(tag)\n",
    "train_tags_freq"
   ]
  },
  {
   "cell_type": "code",
   "execution_count": 7,
   "id": "1dde0a8c",
   "metadata": {
    "colab": {
     "base_uri": "https://localhost:8080/"
    },
    "id": "1dde0a8c",
    "outputId": "aa121123-d38c-4ebb-d912-cd551063eb71"
   },
   "outputs": [
    {
     "name": "stdout",
     "output_type": "stream",
     "text": [
      "train dataset vocab size: 0\n",
      "# of test dataset rows: 893\n",
      "# of test dataset unique intents: 16\n",
      "# of test dataset unique IOB tags: 101\n"
     ]
    }
   ],
   "source": [
    "#importing test data\n",
    "\n",
    "test_words = list()  # a list of list of words for every sentence in test dataset\n",
    "test_tags = list() # a list of list of IOB tags for every sentence in test dataset\n",
    "test_intents = list() # a list of intent for every sentence in test dataset\n",
    "test_vocabs = set() # a list of dicts contaiting above data in a more structured form\n",
    "test_data = list() # a set containing whole test dataset words\n",
    "\n",
    "with open('atis.test.w-intent.iob') as f:\n",
    "    for line in f.readlines():\n",
    "        line = line.strip().split()\n",
    "        \n",
    "        index = 0\n",
    "        words = list()\n",
    "        for i, word in enumerate(line[:-1]):\n",
    "            if (word == 'EOS'):\n",
    "                index = i\n",
    "                break\n",
    "            if (word != 'BOS'): \n",
    "                word = re.sub(r'[^\\w\\s]', '', word.lower()) # removing punctuations & lowerizing word\n",
    "                words.append(word) \n",
    "                train_vocabs.add(word)\n",
    "        test_words.append(words)\n",
    "        \n",
    "        tags = list()\n",
    "        for tag in line[index + 2:-1]:\n",
    "            tags.append(tag)\n",
    "        test_tags.append(tags)\n",
    "                    \n",
    "        #handling entries with multiple intents\n",
    "        intent = \"\"\n",
    "        if ('#' in line[-1]): \n",
    "            for item in line[-1].split('#'):\n",
    "                intent = item\n",
    "                break\n",
    "        else: intent = line[-1]\n",
    "        test_intents.append(intent)\n",
    "        \n",
    "        test_data.append({\n",
    "            'words': words,\n",
    "            'iob_tags': tags,\n",
    "            #             'length': len(words),\n",
    "            'intent': intent})\n",
    "\n",
    "print('train dataset vocab size:', len(test_vocabs))\n",
    "print('# of test dataset rows:', len(test_data))\n",
    "print('# of test dataset unique intents:', len(set(test_intents)))\n",
    "print('# of test dataset unique IOB tags:', len(set([tag for item in test_tags for tag in item])))"
   ]
  },
  {
   "cell_type": "code",
   "execution_count": 8,
   "id": "ad36435a",
   "metadata": {
    "colab": {
     "base_uri": "https://localhost:8080/"
    },
    "id": "ad36435a",
    "outputId": "ddca30db-8102-44f9-8d3a-d283bc899d35",
    "scrolled": true
   },
   "outputs": [
    {
     "name": "stdout",
     "output_type": "stream",
     "text": [
      "tokenized words: ['i', 'would', 'like', 'to', 'find', 'a', 'flight', 'from', 'charlotte', 'to', 'las', 'vegas', 'that', 'makes', 'a', 'stop', 'in', 'st', 'louis']\n",
      "IOB tags: ['O', 'O', 'O', 'O', 'O', 'O', 'O', 'O', 'B-fromloc.city_name', 'O', 'B-toloc.city_name', 'I-toloc.city_name', 'O', 'O', 'O', 'O', 'O', 'B-stoploc.city_name', 'I-stoploc.city_name']\n",
      "intent: atis_flight\n"
     ]
    }
   ],
   "source": [
    "ind = 0\n",
    "print('tokenized words:', test_data[ind]['words'])\n",
    "print('IOB tags:', test_data[ind]['iob_tags'])\n",
    "print('intent:', test_data[ind]['intent'])"
   ]
  },
  {
   "cell_type": "code",
   "execution_count": 9,
   "id": "9220a160",
   "metadata": {
    "colab": {
     "base_uri": "https://localhost:8080/"
    },
    "id": "9220a160",
    "outputId": "8ca58d8e-146b-40df-a422-a36dcebf31b3",
    "scrolled": true
   },
   "outputs": [
    {
     "name": "stdout",
     "output_type": "stream",
     "text": [
      "atis_flight: 645 (72.23%) ,\n",
      "atis_airfare: 49 (5.49%) ,\n",
      "atis_ground_service: 36 (4.03%) ,\n",
      "atis_day_name: 2 (0.22%) ,\n",
      "atis_meal: 6 (0.67%) ,\n",
      "atis_airport: 18 (2.02%) ,\n",
      "atis_airline: 38 (4.26%) ,\n",
      "atis_flight_time: 1 (0.11%) ,\n",
      "atis_city: 6 (0.67%) ,\n",
      "atis_ground_fare: 7 (0.78%) ,\n",
      "atis_quantity: 3 (0.34%) ,\n",
      "atis_abbreviation: 33 (3.70%) ,\n",
      "atis_distance: 10 (1.12%) ,\n",
      "atis_aircraft: 9 (1.01%) ,\n",
      "atis_capacity: 21 (2.35%) ,\n",
      "atis_flight_no: 9 (1.01%) ,\n"
     ]
    }
   ],
   "source": [
    "test_intents_freq = dict()\n",
    "for intent in test_intents:\n",
    "    test_intents_freq[intent] = test_intents.count(intent)\n",
    "    \n",
    "for key in test_intents_freq:\n",
    "    value = test_intents_freq[key]\n",
    "    print('%s: %d (%.2f%%) ,' % (key, value, value / len(test_intents) * 100))"
   ]
  },
  {
   "cell_type": "code",
   "execution_count": 10,
   "id": "796b9c50",
   "metadata": {
    "colab": {
     "base_uri": "https://localhost:8080/",
     "height": 409
    },
    "id": "796b9c50",
    "outputId": "69467563-dbd3-494e-d86f-99ad3c6ef94e",
    "scrolled": true
   },
   "outputs": [
    {
     "data": {
      "image/png": "[encoded data removed]",
      "text/plain": [
       "<Figure size 1728x576 with 1 Axes>"
      ]
     },
     "metadata": {},
     "output_type": "display_data"
    }
   ],
   "source": [
    "plt.figure(figsize=(24, 8))\n",
    "plt.bar(list(test_intents_freq.keys()),test_intents_freq.values())\n",
    "plt.show()"
   ]
  },
  {
   "cell_type": "code",
   "execution_count": 11,
   "id": "71092fa3",
   "metadata": {
    "colab": {
     "base_uri": "https://localhost:8080/"
    },
    "id": "71092fa3",
    "outputId": "018dea51-0f5e-4308-f0be-c04c54abd062",
    "scrolled": true
   },
   "outputs": [
    {
     "data": {
      "text/plain": [
       "{'O': 39659,\n",
       " 'B-fromloc.city_name': 730,\n",
       " 'B-toloc.city_name': 764,\n",
       " 'I-toloc.city_name': 369,\n",
       " 'B-stoploc.city_name': 20,\n",
       " 'I-stoploc.city_name': 10,\n",
       " 'B-depart_date.month_name': 56,\n",
       " 'B-depart_date.day_number': 55,\n",
       " 'B-depart_time.time_relative': 65,\n",
       " 'B-depart_time.time': 57,\n",
       " 'I-depart_time.time': 52,\n",
       " 'B-round_trip': 73,\n",
       " 'I-round_trip': 71,\n",
       " 'B-airline_name': 125,\n",
       " 'I-airline_name': 75,\n",
       " 'B-depart_date.day_name': 222,\n",
       " 'B-depart_time.period_of_day': 142,\n",
       " 'I-fromloc.city_name': 203,\n",
       " 'B-meal_description': 10,\n",
       " 'B-depart_date.date_relative': 17,\n",
       " 'B-arrive_time.time_relative': 33,\n",
       " 'B-arrive_time.time': 34,\n",
       " 'I-arrive_time.time': 37,\n",
       " 'B-return_date.day_name': 2,\n",
       " 'B-arrive_date.date_relative': 2,\n",
       " 'B-arrive_date.day_name': 11,\n",
       " 'B-flight_stop': 21,\n",
       " 'B-depart_date.today_relative': 9,\n",
       " 'B-toloc.state_name': 28,\n",
       " 'B-arrive_date.month_name': 6,\n",
       " 'B-arrive_date.day_number': 6,\n",
       " 'B-arrive_time.start_time': 8,\n",
       " 'B-arrive_time.end_time': 8,\n",
       " 'I-arrive_time.end_time': 8,\n",
       " 'B-airport_name': 21,\n",
       " 'I-airport_name': 49,\n",
       " 'B-connect': 6,\n",
       " 'B-fromloc.airport_name': 12,\n",
       " 'I-fromloc.airport_name': 25,\n",
       " 'B-meal': 16,\n",
       " 'B-flight_number': 17,\n",
       " 'I-flight_number': 1,\n",
       " 'B-return_date.date_relative': 3,\n",
       " 'I-return_date.date_relative': 5,\n",
       " 'B-arrive_time.period_of_day': 6,\n",
       " 'B-fromloc.state_name': 17,\n",
       " 'B-city_name': 59,\n",
       " 'I-city_name': 44,\n",
       " 'I-depart_date.day_number': 15,\n",
       " 'I-depart_time.period_of_day': 1,\n",
       " 'B-cost_relative': 37,\n",
       " 'I-cost_relative': 3,\n",
       " 'B-flight_time': 1,\n",
       " 'I-flight_time': 1,\n",
       " 'B-flight_mod': 26,\n",
       " 'B-class_type': 30,\n",
       " 'I-class_type': 17,\n",
       " 'B-airline_code': 36,\n",
       " 'B-toloc.airport_code': 4,\n",
       " 'B-transport_type': 10,\n",
       " 'B-depart_time.start_time': 3,\n",
       " 'B-depart_time.end_time': 3,\n",
       " 'I-depart_time.end_time': 3,\n",
       " 'B-toloc.airport_name': 3,\n",
       " 'I-toloc.airport_name': 3,\n",
       " 'B-aircraft_code': 33,\n",
       " 'B-toloc.country_name': 1,\n",
       " 'B-mod': 2,\n",
       " 'B-state_name': 17,\n",
       " 'B-compartment': 1,\n",
       " 'B-meal_code': 1,\n",
       " 'B-day_name': 2,\n",
       " 'B-toloc.state_code': 18,\n",
       " 'B-fromloc.state_code': 23,\n",
       " 'B-depart_time.period_mod': 5,\n",
       " 'B-fromloc.airport_code': 5,\n",
       " 'B-fare_basis_code': 17,\n",
       " 'B-flight_days': 10,\n",
       " 'B-depart_date.year': 3,\n",
       " 'B-period_of_day': 6,\n",
       " 'I-flight_mod': 6,\n",
       " 'B-state_code': 1,\n",
       " 'B-restriction_code': 4,\n",
       " 'I-restriction_code': 3,\n",
       " 'B-airport_code': 9,\n",
       " 'B-days_code': 1,\n",
       " 'I-arrive_time.time_relative': 8,\n",
       " 'B-or': 3,\n",
       " 'B-stoploc.airport_code': 1,\n",
       " 'I-depart_time.time_relative': 1,\n",
       " 'I-state_name': 1,\n",
       " 'B-economy': 6,\n",
       " 'B-booking_class': 1,\n",
       " 'B-fare_amount': 2,\n",
       " 'I-fare_amount': 2,\n",
       " 'B-flight': 1,\n",
       " 'I-depart_time.start_time': 1,\n",
       " 'I-arrive_time.start_time': 1,\n",
       " 'I-transport_type': 1,\n",
       " 'I-fromloc.state_name': 1,\n",
       " 'I-toloc.state_name': 1}"
      ]
     },
     "execution_count": 11,
     "metadata": {},
     "output_type": "execute_result"
    }
   ],
   "source": [
    "test_tags_freq = dict()\n",
    "for item in test_tags:\n",
    "    for tag in item:\n",
    "        if (tag in test_tags_freq): test_tags_freq[tag] += item.count(tag)\n",
    "        else: test_tags_freq[tag] = item.count(tag)\n",
    "test_tags_freq"
   ]
  },
  {
   "cell_type": "markdown",
   "id": "ac5a6d17",
   "metadata": {
    "id": "ac5a6d17"
   },
   "source": [
    "##### comparing train & test dataset tags & intents:"
   ]
  },
  {
   "cell_type": "code",
   "execution_count": 12,
   "id": "daa709ab",
   "metadata": {
    "colab": {
     "base_uri": "https://localhost:8080/"
    },
    "id": "daa709ab",
    "outputId": "a33fa9f7-50b4-4d13-9b3b-8d1d71bc23c7"
   },
   "outputs": [
    {
     "name": "stdout",
     "output_type": "stream",
     "text": [
      "set()\n"
     ]
    }
   ],
   "source": [
    "print(test_vocabs.difference(train_vocabs))"
   ]
  },
  {
   "cell_type": "code",
   "execution_count": 13,
   "id": "21bf7e45",
   "metadata": {
    "colab": {
     "base_uri": "https://localhost:8080/"
    },
    "id": "21bf7e45",
    "outputId": "4feda29d-dacf-434c-9f44-6eaeb62cbf90"
   },
   "outputs": [
    {
     "data": {
      "text/plain": [
       "{'atis_day_name'}"
      ]
     },
     "execution_count": 13,
     "metadata": {},
     "output_type": "execute_result"
    }
   ],
   "source": [
    "set(test_intents).difference(set(train_intents))"
   ]
  },
  {
   "cell_type": "markdown",
   "id": "69e36fdc",
   "metadata": {
    "id": "69e36fdc"
   },
   "source": [
    "so from above, we see there is no train data for 'atis_day_name'..."
   ]
  },
  {
   "cell_type": "code",
   "execution_count": 14,
   "id": "294c2964",
   "metadata": {
    "colab": {
     "base_uri": "https://localhost:8080/"
    },
    "id": "294c2964",
    "outputId": "784c8d0b-e8cf-4d20-eed0-cb288fcaad0b"
   },
   "outputs": [
    {
     "data": {
      "text/plain": [
       "{'atis_restriction'}"
      ]
     },
     "execution_count": 14,
     "metadata": {},
     "output_type": "execute_result"
    }
   ],
   "source": [
    "set(train_intents).difference(set(test_intents))"
   ]
  },
  {
   "cell_type": "markdown",
   "id": "ce2c2ded",
   "metadata": {
    "id": "ce2c2ded"
   },
   "source": [
    "and also there are no test data for 'atis_cheapest' & 'atis_restriction'..."
   ]
  },
  {
   "cell_type": "code",
   "execution_count": 15,
   "id": "b7b9d6c3",
   "metadata": {
    "colab": {
     "base_uri": "https://localhost:8080/"
    },
    "id": "b7b9d6c3",
    "outputId": "88128ab9-c477-42af-c015-71417825fe44"
   },
   "outputs": [
    {
     "data": {
      "text/plain": [
       "{'B-booking_class',\n",
       " 'B-compartment',\n",
       " 'B-flight',\n",
       " 'B-stoploc.airport_code',\n",
       " 'I-flight_number',\n",
       " 'I-state_name'}"
      ]
     },
     "execution_count": 15,
     "metadata": {},
     "output_type": "execute_result"
    }
   ],
   "source": [
    "set(test_tags_freq.keys()).difference(set(train_tags_freq.keys()))"
   ]
  },
  {
   "cell_type": "markdown",
   "id": "237d0e8b",
   "metadata": {
    "id": "237d0e8b"
   },
   "source": [
    "also we see there are no train data with 'B-stoploc.airport_code' or 'B-booking_class' or 'I-flight_number' or 'I-state_name' or 'B-flight' or 'B-compartment' tag..."
   ]
  },
  {
   "cell_type": "code",
   "execution_count": 16,
   "id": "200b2854",
   "metadata": {
    "colab": {
     "base_uri": "https://localhost:8080/"
    },
    "id": "200b2854",
    "outputId": "2e1f5060-baef-42ad-8c2e-ecced3062071"
   },
   "outputs": [
    {
     "data": {
      "text/plain": [
       "{'B-arrive_date.today_relative',\n",
       " 'B-arrive_time.period_mod',\n",
       " 'B-day_number',\n",
       " 'B-month_name',\n",
       " 'B-return_date.day_number',\n",
       " 'B-return_date.month_name',\n",
       " 'B-return_date.today_relative',\n",
       " 'B-return_time.period_mod',\n",
       " 'B-return_time.period_of_day',\n",
       " 'B-stoploc.airport_name',\n",
       " 'B-stoploc.state_code',\n",
       " 'B-time',\n",
       " 'B-time_relative',\n",
       " 'B-today_relative',\n",
       " 'I-arrive_date.day_number',\n",
       " 'I-arrive_time.period_of_day',\n",
       " 'I-depart_date.today_relative',\n",
       " 'I-economy',\n",
       " 'I-fare_basis_code',\n",
       " 'I-flight_stop',\n",
       " 'I-meal_code',\n",
       " 'I-meal_description',\n",
       " 'I-return_date.day_number',\n",
       " 'I-return_date.today_relative',\n",
       " 'I-time',\n",
       " 'I-today_relative'}"
      ]
     },
     "execution_count": 16,
     "metadata": {},
     "output_type": "execute_result"
    }
   ],
   "source": [
    "set(train_tags_freq.keys()).difference(set(test_tags_freq.keys()))"
   ]
  },
  {
   "cell_type": "markdown",
   "id": "528d2520",
   "metadata": {
    "id": "528d2520"
   },
   "source": [
    "and finally there are no train data with 'I-return_date.day_number' or 'B-return_time.period_mod' or ... tag."
   ]
  },
  {
   "cell_type": "markdown",
   "id": "0ef6de9b",
   "metadata": {
    "id": "0ef6de9b"
   },
   "source": [
    "to handle imbalanced data first we try to find and remove duplicates:"
   ]
  },
  {
   "cell_type": "code",
   "execution_count": 17,
   "id": "58e96b8f",
   "metadata": {
    "colab": {
     "base_uri": "https://localhost:8080/"
    },
    "id": "58e96b8f",
    "outputId": "8796564e-0534-4004-9b31-9b7ca7b71bed"
   },
   "outputs": [
    {
     "name": "stdout",
     "output_type": "stream",
     "text": [
      "# of duplicate sentences in train data: 4977 - 4733 = 244\n"
     ]
    }
   ],
   "source": [
    "#removing duplicate train data with 'atis_flight' intent\n",
    "\n",
    "train_words_dup_free = list()\n",
    "train_tags_dup_free = list()\n",
    "train_intents_dup_free = list()\n",
    "train_data_dup_free = list()\n",
    "for i in range(len(train_words)):\n",
    "    words = train_words[i]\n",
    "    tags = train_tags[i]\n",
    "    intent = train_intents[i]\n",
    "    if (intent != 'atis_flight' or (intent == 'atis_flight' and words not in train_words_dup_free)):\n",
    "        train_words_dup_free.append(words)\n",
    "        train_tags_dup_free.append(tags)\n",
    "        train_intents_dup_free.append(intent)\n",
    "        train_data_dup_free.append({\n",
    "            'words': words,\n",
    "            'iob_tags': tags,\n",
    "            #             'length': len(words),\n",
    "            'intent': intent})\n",
    "\n",
    "print('# of duplicate sentences in train data: %d - %d = %d' % (len(train_words), len(train_words_dup_free), len(train_words) - len(train_words_dup_free)))"
   ]
  },
  {
   "cell_type": "code",
   "execution_count": 18,
   "id": "0dd0cb94",
   "metadata": {
    "colab": {
     "base_uri": "https://localhost:8080/"
    },
    "id": "0dd0cb94",
    "outputId": "21c3b55e-2daf-4444-a531-d16c889fc293"
   },
   "outputs": [
    {
     "name": "stdout",
     "output_type": "stream",
     "text": [
      "atis_flight: 3443 (72.74%),\n",
      "atis_airfare: 424 (8.96%),\n",
      "atis_airline: 159 (3.36%),\n",
      "atis_ground_service: 256 (5.41%),\n",
      "atis_quantity: 51 (1.08%),\n",
      "atis_city: 19 (0.40%),\n",
      "atis_abbreviation: 147 (3.11%),\n",
      "atis_aircraft: 82 (1.73%),\n",
      "atis_distance: 20 (0.42%),\n",
      "atis_ground_fare: 18 (0.38%),\n",
      "atis_capacity: 16 (0.34%),\n",
      "atis_flight_time: 54 (1.14%),\n",
      "atis_meal: 6 (0.13%),\n",
      "atis_flight_no: 12 (0.25%),\n",
      "atis_restriction: 6 (0.13%),\n",
      "atis_airport: 20 (0.42%),\n"
     ]
    }
   ],
   "source": [
    "train_intents_dup_free_freq = dict()\n",
    "for intent in train_intents_dup_free:\n",
    "    train_intents_dup_free_freq[intent] = train_intents_dup_free.count(intent)\n",
    "\n",
    "for key in train_intents_dup_free_freq:\n",
    "    value = train_intents_dup_free_freq[key]\n",
    "    print('%s: %d (%.2f%%),' % (key, value, value / len(train_intents_dup_free) * 100))"
   ]
  },
  {
   "cell_type": "code",
   "execution_count": 19,
   "id": "9d8f2933",
   "metadata": {
    "colab": {
     "base_uri": "https://localhost:8080/",
     "height": 407
    },
    "id": "9d8f2933",
    "outputId": "19356d14-4b7b-4a70-c1b0-8d491d8f0690"
   },
   "outputs": [
    {
     "data": {
      "image/png": "[encoded data removed]",
      "text/plain": [
       "<Figure size 1728x576 with 1 Axes>"
      ]
     },
     "metadata": {},
     "output_type": "display_data"
    }
   ],
   "source": [
    "plt.figure(figsize=(24, 8))\n",
    "plt.bar(list(train_intents_dup_free_freq.keys()),train_intents_dup_free_freq.values())\n",
    "plt.show()"
   ]
  },
  {
   "cell_type": "code",
   "execution_count": 20,
   "id": "f7d2f377",
   "metadata": {
    "colab": {
     "base_uri": "https://localhost:8080/"
    },
    "id": "f7d2f377",
    "outputId": "d9ac55ec-0dda-4870-bdcb-923874a4543c"
   },
   "outputs": [
    {
     "name": "stdout",
     "output_type": "stream",
     "text": [
      "# of duplicate sentences in test data: 893 - 874 = 19\n"
     ]
    }
   ],
   "source": [
    "##removing duplicate test data with 'atis_flight' intent\n",
    "\n",
    "test_words_dup_free = list()\n",
    "test_tags_dup_free = list()\n",
    "test_intents_dup_free = list()\n",
    "test_data_dup_free = list()\n",
    "for i in range(len(test_words)):\n",
    "    words = test_words[i]\n",
    "    tags = test_tags[i]\n",
    "    intent = test_intents[i]\n",
    "    if (intent != 'atis_flight' or (intent == 'atis_flight' and words not in test_words_dup_free)):\n",
    "        test_words_dup_free.append(words)\n",
    "        test_tags_dup_free.append(tags)\n",
    "        test_intents_dup_free.append(intent)\n",
    "        test_data.append({\n",
    "            'words': words,\n",
    "            'iob_tags': tags,\n",
    "#             'length': len(words),\n",
    "            'intent': intent})\n",
    "\n",
    "\n",
    "print('# of duplicate sentences in test data: %d - %d = %d' % (len(test_words), len(test_words_dup_free),  len(test_words) - len(test_words_dup_free)))"
   ]
  },
  {
   "cell_type": "code",
   "execution_count": 21,
   "id": "34ea87fa",
   "metadata": {
    "colab": {
     "base_uri": "https://localhost:8080/"
    },
    "id": "34ea87fa",
    "outputId": "4e77ef3e-541a-4bac-e28f-e11abfefd6cb"
   },
   "outputs": [
    {
     "name": "stdout",
     "output_type": "stream",
     "text": [
      "atis_flight: 626 (71.62%),\n",
      "atis_airfare: 49 (5.61%),\n",
      "atis_ground_service: 36 (4.12%),\n",
      "atis_day_name: 2 (0.23%),\n",
      "atis_meal: 6 (0.69%),\n",
      "atis_airport: 18 (2.06%),\n",
      "atis_airline: 38 (4.35%),\n",
      "atis_flight_time: 1 (0.11%),\n",
      "atis_city: 6 (0.69%),\n",
      "atis_ground_fare: 7 (0.80%),\n",
      "atis_quantity: 3 (0.34%),\n",
      "atis_abbreviation: 33 (3.78%),\n",
      "atis_distance: 10 (1.14%),\n",
      "atis_aircraft: 9 (1.03%),\n",
      "atis_capacity: 21 (2.40%),\n",
      "atis_flight_no: 9 (1.03%),\n"
     ]
    }
   ],
   "source": [
    "test_intents_dup_free_freq = dict()\n",
    "for intent in test_intents_dup_free:\n",
    "    test_intents_dup_free_freq[intent] = test_intents_dup_free.count(intent)\n",
    "\n",
    "for key in test_intents_dup_free_freq:\n",
    "    value = test_intents_dup_free_freq[key]\n",
    "    print('%s: %d (%.2f%%),' % (key, value, value / len(test_intents_dup_free) * 100))"
   ]
  },
  {
   "cell_type": "code",
   "execution_count": 22,
   "id": "ce4a0fb9",
   "metadata": {
    "colab": {
     "base_uri": "https://localhost:8080/",
     "height": 409
    },
    "id": "ce4a0fb9",
    "outputId": "987bbc89-b511-49f7-b03e-5f95d28a98da",
    "scrolled": false
   },
   "outputs": [
    {
     "data": {
      "image/png": "[encoded data removed]",
      "text/plain": [
       "<Figure size 1728x576 with 1 Axes>"
      ]
     },
     "metadata": {},
     "output_type": "display_data"
    }
   ],
   "source": [
    "plt.figure(figsize=(24, 8))\n",
    "plt.bar(list(test_intents_dup_free_freq.keys()),test_intents_dup_free_freq.values())\n",
    "plt.show()"
   ]
  },
  {
   "cell_type": "markdown",
   "id": "a03fe17f",
   "metadata": {
    "id": "a03fe17f"
   },
   "source": [
    "so we can see that unfortunately removing duplicates didn't have any noticable improvment on balancing the dataset."
   ]
  },
  {
   "cell_type": "code",
   "execution_count": 23,
   "id": "83d177c5",
   "metadata": {
    "id": "83d177c5"
   },
   "outputs": [],
   "source": [
    "#in progress! --> finding other techniques for imbalance data handling"
   ]
  },
  {
   "cell_type": "code",
   "execution_count": 24,
   "id": "7898bc3c",
   "metadata": {
    "colab": {
     "base_uri": "https://localhost:8080/"
    },
    "id": "7898bc3c",
    "outputId": "b3e6a629-3e27-4517-e5c0-182c081a24a4"
   },
   "outputs": [
    {
     "name": "stdout",
     "output_type": "stream",
     "text": [
      "['atis_abbreviation' 'atis_aircraft' 'atis_airfare' 'atis_airline'\n",
      " 'atis_airport' 'atis_capacity' 'atis_city' 'atis_distance' 'atis_flight'\n",
      " 'atis_flight_no' 'atis_flight_time' 'atis_ground_fare'\n",
      " 'atis_ground_service' 'atis_meal' 'atis_quantity' 'atis_restriction']\n",
      "(4977, 895) (4977, 16)\n"
     ]
    }
   ],
   "source": [
    "from sklearn.utils import class_weight\n",
    "# from keras.preprocessing.text import Tokenizer\n",
    "# from keras.preprocessing.sequence import pad_sequences\n",
    "from sklearn.preprocessing import LabelBinarizer\n",
    "from sklearn.feature_extraction.text import TfidfVectorizer\n",
    "import numpy as np\n",
    "\n",
    "\n",
    "def identity_tokenizer(text):\n",
    "    return text\n",
    "# define Tokenizer with Vocab Size\n",
    "# tokenizer = Tokenizer(num_words=len(train_vocabs))\n",
    "# tokenizer.fit_on_texts(train_words)\n",
    "vectorizer = TfidfVectorizer(tokenizer=identity_tokenizer,lowercase=False)\n",
    "x_train = vectorizer.fit_transform(train_words)\n",
    "x_test = vectorizer.fit_transform(test_words)\n",
    "# x_train = tokenizer.texts_to_matrix(train_words, mode='tfidf')\n",
    "# x_test = tokenizer.texts_to_matrix(test_words, mode='tfidf')\n",
    "\n",
    "encoder = LabelBinarizer()\n",
    "encoder.fit(train_intents)\n",
    "y_train = encoder.transform(train_intents)\n",
    "y_test = encoder.transform(test_intents)\n",
    "print(encoder.classes_)\n",
    "print(x_train.shape, y_train.shape)\n",
    "#class_weight.compute_class_weight('balanced',np.unique(train_intents) ,train_intents)"
   ]
  },
  {
   "cell_type": "code",
   "execution_count": 25,
   "id": "l6mN3nyTIZGz",
   "metadata": {
    "id": "l6mN3nyTIZGz"
   },
   "outputs": [],
   "source": [
    "desired_count = 500\n",
    "strategy = {0: desired_count, 15: desired_count}# setting atis_restriction and atis_abbreviation classes count just as an example"
   ]
  },
  {
   "cell_type": "code",
   "execution_count": 26,
   "id": "aZnOPubKCSy6",
   "metadata": {
    "colab": {
     "base_uri": "https://localhost:8080/"
    },
    "id": "aZnOPubKCSy6",
    "outputId": "aa958174-e05b-4629-e968-c90825581cff"
   },
   "outputs": [
    {
     "name": "stdout",
     "output_type": "stream",
     "text": [
      "(5811, 895) (5811, 16)\n"
     ]
    },
    {
     "name": "stderr",
     "output_type": "stream",
     "text": [
      "D:\\Anaconda3\\lib\\site-packages\\sklearn\\utils\\validation.py:72: FutureWarning: Pass classes=[ 0  1  2  3  4  5  6  7  8  9 10 11 12 13 14 15] as keyword args. From version 1.0 (renaming of 0.25) passing these as positional arguments will result in an error\n",
      "  \"will result in an error\", FutureWarning)\n"
     ]
    }
   ],
   "source": [
    "from imblearn.over_sampling import SMOTE, ADASYN\n",
    "smote = ADASYN(sampling_strategy=strategy, n_neighbors=5) #SMOTE(sampling_strategy='minority', k_neighbors=5)\n",
    "X_sm, y_sm = smote.fit_resample(x_train, y_train)\n",
    "print(X_sm.shape, y_sm.shape)"
   ]
  },
  {
   "cell_type": "code",
   "execution_count": 27,
   "id": "of5AfVgdHlQQ",
   "metadata": {
    "colab": {
     "base_uri": "https://localhost:8080/"
    },
    "id": "of5AfVgdHlQQ",
    "outputId": "8ce9961a-3304-4604-d328-bdedcb036161"
   },
   "outputs": [
    {
     "name": "stdout",
     "output_type": "stream",
     "text": [
      "atis_flight: 3687 (63.45%),\n",
      "atis_airfare: 424 (7.30%),\n",
      "atis_airline: 159 (2.74%),\n",
      "atis_ground_service: 256 (4.41%),\n",
      "atis_quantity: 51 (0.88%),\n",
      "atis_city: 19 (0.33%),\n",
      "atis_abbreviation: 488 (8.40%),\n",
      "atis_aircraft: 82 (1.41%),\n",
      "atis_distance: 20 (0.34%),\n",
      "atis_ground_fare: 18 (0.31%),\n",
      "atis_capacity: 16 (0.28%),\n",
      "atis_flight_time: 54 (0.93%),\n",
      "atis_meal: 6 (0.10%),\n",
      "atis_flight_no: 12 (0.21%),\n",
      "atis_restriction: 499 (8.59%),\n",
      "atis_airport: 20 (0.34%),\n"
     ]
    }
   ],
   "source": [
    "y_temp = list(encoder.inverse_transform(y_sm))\n",
    "temp_freq = dict()\n",
    "for intent in y_temp:\n",
    "    temp_freq[intent] = y_temp.count(intent)\n",
    "\n",
    "for key in temp_freq:\n",
    "    value = temp_freq[key]\n",
    "    print('%s: %d (%.2f%%),' % (key, value, value / len(y_temp) * 100))\n"
   ]
  },
  {
   "cell_type": "code",
   "execution_count": 28,
   "id": "PPbHNay0RDXc",
   "metadata": {
    "id": "PPbHNay0RDXc"
   },
   "outputs": [],
   "source": [
    "# Function for augmenting data using langauge translation\n",
    "\n",
    "from textblob import TextBlob\n",
    "from textblob.translate import NotTranslated\n",
    "import random\n",
    "sr = random.SystemRandom()\n",
    "\n",
    "language = [\"es\", \"de\", \"fr\", \"ar\", \"te\", \"hi\", \"ja\", \"fa\", \"sq\", \"bg\", \"nl\", \"gu\", \"ig\", \"kk\", \"mt\", \"ps\"]\n",
    "\n",
    "def data_augmentation(message, language, aug_range=1):\n",
    "    augmented_messages = []\n",
    "    if hasattr(message, \"decode\"):\n",
    "        message = message.decode(\"utf-8\")\n",
    "\n",
    "    for j in range(0,aug_range) :\n",
    "        new_message = \"\"\n",
    "        text = TextBlob(message)\n",
    "        try:\n",
    "            text = text.translate(to=sr.choice(language))   ## Converting to random langauge for meaningful variation\n",
    "            print('converted to random lang:',text)\n",
    "            text = text.translate(to=\"en\")\n",
    "        except NotTranslated:\n",
    "            pass\n",
    "        augmented_messages.append(str(text))\n",
    "\n",
    "    return augmented_messages"
   ]
  },
  {
   "cell_type": "code",
   "execution_count": 29,
   "id": "py23AvosRhpR",
   "metadata": {
    "colab": {
     "base_uri": "https://localhost:8080/"
    },
    "id": "py23AvosRhpR",
    "outputId": "d46d1bb3-2208-48e8-bdde-6dd041cd00dd",
    "scrolled": true
   },
   "outputs": [
    {
     "name": "stdout",
     "output_type": "stream",
     "text": [
      "converted to random lang: искам да летя от Балтимор до Далас и обратно\n"
     ]
    },
    {
     "data": {
      "text/plain": [
       "['I want to fly from Baltimore to Dallas and back']"
      ]
     },
     "execution_count": 29,
     "metadata": {},
     "output_type": "execute_result"
    }
   ],
   "source": [
    "data_augmentation('i want to fly from baltimore to dallas round trip', language)"
   ]
  },
  {
   "cell_type": "code",
   "execution_count": 30,
   "id": "mhXB_XzvS7g0",
   "metadata": {
    "id": "mhXB_XzvS7g0"
   },
   "outputs": [],
   "source": [
    "#TO-DO: code cleaning & augmenting data using langauge translation (above function) & word embeddings & more\n",
    "# also data undersampling by removing similar samples from major class (atis_flight)"
   ]
  }
 ],
 "metadata": {
  "colab": {
   "collapsed_sections": [],
   "name": "Pre-Processing.ipynb",
   "provenance": []
  },
  "kernelspec": {
   "display_name": "Python 3",
   "language": "python",
   "name": "python3"
  },
  "language_info": {
   "codemirror_mode": {
    "name": "ipython",
    "version": 3
   },
   "file_extension": ".py",
   "mimetype": "text/x-python",
   "name": "python",
   "nbconvert_exporter": "python",
   "pygments_lexer": "ipython3",
   "version": "3.7.10"
  }
 },
 "nbformat": 4,
 "nbformat_minor": 5
}

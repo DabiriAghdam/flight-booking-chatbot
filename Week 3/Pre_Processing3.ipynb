{
 "cells": [
  {
   "cell_type": "markdown",
   "id": "53a639b1",
   "metadata": {
    "id": "53a639b1"
   },
   "source": [
    "<h3 align=center> In His Name, the Most High </h3>"
   ]
  },
  {
   "cell_type": "code",
   "execution_count": 1,
   "id": "27a0482d",
   "metadata": {
    "id": "27a0482d"
   },
   "outputs": [],
   "source": [
    "#importing libraries\n",
    "import re\n",
    "import matplotlib.pyplot as plt\n",
    "plt.style.use('seaborn') # beautiful plots :O"
   ]
  },
  {
   "cell_type": "markdown",
   "id": "c37bfe7d",
   "metadata": {
    "id": "c37bfe7d"
   },
   "source": [
    "## ATIS Dataset EDA"
   ]
  },
  {
   "cell_type": "markdown",
   "id": "27e084e7",
   "metadata": {
    "id": "27e084e7"
   },
   "source": [
    "The ATIS dataset is a standard benchmark dataset widely used for intent classification and slot filling.\n",
    "here we obtained the dataset from https://github.com/yvchen/JointSLU."
   ]
  },
  {
   "cell_type": "code",
   "execution_count": 2,
   "id": "7e4240b2",
   "metadata": {
    "colab": {
     "base_uri": "https://localhost:8080/"
    },
    "id": "7e4240b2",
    "outputId": "813635d0-cf69-46ff-f2f4-be796d88b6bd",
    "scrolled": true
   },
   "outputs": [
    {
     "name": "stdout",
     "output_type": "stream",
     "text": [
      "train dataset vocab size: 895\n",
      "# of train dataset rows: 4977\n",
      "# of train dataset unique intents: 16\n",
      "# of train dataset unique IOB tags: 121\n"
     ]
    }
   ],
   "source": [
    "#importing train data\n",
    "\n",
    "train_words = list() # a list of list of words for every sentence in train dataset\n",
    "train_tags = list() # a list of list of IOB tags for every sentence in train dataset\n",
    "train_intents = list() # a list of intent for every sentence in train dataset\n",
    "train_data = list() # a list of dicts contaiting above data in a more structured form\n",
    "train_vocabs = set() # a set containing whole train dataset words\n",
    "\n",
    "with open('atis-2.train+dev.w-intent.iob') as f:\n",
    "    for line in f.readlines():\n",
    "        line = line.strip().split()\n",
    "        \n",
    "        index = 0\n",
    "        words = list()\n",
    "        for i, word in enumerate(line[:-1]):\n",
    "            if (word == 'EOS'):\n",
    "                index = i\n",
    "                break\n",
    "            if (word != 'BOS'): \n",
    "                # what to do if not word.isalpha()??\n",
    "                word = re.sub(r'[^\\w\\s]', '', word.lower()) # removing punctuations & lowerizing word\n",
    "                words.append(word) \n",
    "                train_vocabs.add(word)\n",
    "        \n",
    "        tags = list()\n",
    "        for tag in line[index + 2:-1]:\n",
    "            tags.append(tag)\n",
    "                    \n",
    "        # handling entries with multiple intents\n",
    "        intent = \"\"\n",
    "        if ('#' in line[-1]): \n",
    "            for item in line[-1].split('#'):\n",
    "                intent = item\n",
    "                break\n",
    "        else: intent = line[-1]\n",
    "\n",
    "        if (intent != 'atis_cheapest'): #droping 'atis_cheapest' because it has only 1 sample!\n",
    "          train_words.append(words)\n",
    "          train_tags.append(tags)\n",
    "          train_intents.append(intent)\n",
    "          train_data.append({\n",
    "              'words': words,\n",
    "              'iob_tags': tags,\n",
    "              #             'length': len(words),\n",
    "              'intent': intent})\n",
    "\n",
    "print('train dataset vocab size:', len(train_vocabs))\n",
    "print('# of train dataset rows:', len(train_data))\n",
    "print('# of train dataset unique intents:', len(set(train_intents)))\n",
    "print('# of train dataset unique IOB tags:', len(set([tag for item in train_tags for tag in item])))"
   ]
  },
  {
   "cell_type": "code",
   "execution_count": 3,
   "id": "Ba-fpvjQ5_qt",
   "metadata": {
    "colab": {
     "base_uri": "https://localhost:8080/"
    },
    "id": "Ba-fpvjQ5_qt",
    "outputId": "d1356ec9-a7c2-4dfc-bf12-a87b23baf4be"
   },
   "outputs": [
    {
     "data": {
      "text/plain": [
       "{'intent': 'atis_flight',\n",
       " 'iob_tags': ['O',\n",
       "  'O',\n",
       "  'O',\n",
       "  'O',\n",
       "  'O',\n",
       "  'B-fromloc.city_name',\n",
       "  'O',\n",
       "  'B-toloc.city_name',\n",
       "  'B-round_trip',\n",
       "  'I-round_trip'],\n",
       " 'words': ['i',\n",
       "  'want',\n",
       "  'to',\n",
       "  'fly',\n",
       "  'from',\n",
       "  'baltimore',\n",
       "  'to',\n",
       "  'dallas',\n",
       "  'round',\n",
       "  'trip']}"
      ]
     },
     "execution_count": 3,
     "metadata": {
      "tags": []
     },
     "output_type": "execute_result"
    }
   ],
   "source": [
    "ind = 0\n",
    "train_data[ind]"
   ]
  },
  {
   "cell_type": "code",
   "execution_count": 4,
   "id": "d79fb14f",
   "metadata": {
    "colab": {
     "base_uri": "https://localhost:8080/"
    },
    "id": "d79fb14f",
    "outputId": "7a86405d-d5c6-4084-c837-bb2ff9d1bbb0"
   },
   "outputs": [
    {
     "name": "stdout",
     "output_type": "stream",
     "text": [
      "tokenized words: ['i', 'want', 'to', 'fly', 'from', 'baltimore', 'to', 'dallas', 'round', 'trip']\n",
      "IOB tags: ['O', 'O', 'O', 'O', 'O', 'B-fromloc.city_name', 'O', 'B-toloc.city_name', 'B-round_trip', 'I-round_trip']\n",
      "intent: atis_flight\n"
     ]
    }
   ],
   "source": [
    "print('tokenized words:', train_data[ind]['words'])\n",
    "print('IOB tags:', train_data[ind]['iob_tags'])\n",
    "print('intent:', train_data[ind]['intent'])"
   ]
  },
  {
   "cell_type": "code",
   "execution_count": 5,
   "id": "5f7371a7",
   "metadata": {
    "colab": {
     "base_uri": "https://localhost:8080/"
    },
    "id": "5f7371a7",
    "outputId": "d2ba6605-85ba-4b59-a0f4-3abe82643eac"
   },
   "outputs": [
    {
     "name": "stdout",
     "output_type": "stream",
     "text": [
      "atis_flight_time: 54 (1.08%),\n",
      "atis_airfare: 424 (8.52%),\n",
      "atis_distance: 20 (0.40%),\n",
      "atis_flight: 3687 (74.08%),\n",
      "atis_restriction: 6 (0.12%),\n",
      "atis_ground_service: 256 (5.14%),\n",
      "atis_city: 19 (0.38%),\n",
      "atis_aircraft: 82 (1.65%),\n",
      "atis_airline: 159 (3.19%),\n",
      "atis_ground_fare: 18 (0.36%),\n",
      "atis_flight_no: 12 (0.24%),\n",
      "atis_capacity: 16 (0.32%),\n",
      "atis_quantity: 51 (1.02%),\n",
      "atis_airport: 20 (0.40%),\n",
      "atis_abbreviation: 147 (2.95%),\n",
      "atis_meal: 6 (0.12%),\n"
     ]
    }
   ],
   "source": [
    "train_intents_freq = dict()\n",
    "for intent in set(train_intents):\n",
    "    train_intents_freq[intent] = train_intents.count(intent)\n",
    "    \n",
    "for key in train_intents_freq:\n",
    "    value = train_intents_freq[key]\n",
    "    print('%s: %d (%.2f%%),' % (key, value, value / len(train_intents) * 100))"
   ]
  },
  {
   "cell_type": "code",
   "execution_count": 6,
   "id": "3a1c887a",
   "metadata": {
    "colab": {
     "base_uri": "https://localhost:8080/",
     "height": 483
    },
    "id": "3a1c887a",
    "outputId": "76b41a68-cbb7-476a-d994-f5f151157cad"
   },
   "outputs": [
    {
     "data": {
      "image/png": "[encoded data removed]",
      "text/plain": [
       "<Figure size 1728x576 with 1 Axes>"
      ]
     },
     "metadata": {
      "needs_background": "light",
      "tags": []
     },
     "output_type": "display_data"
    }
   ],
   "source": [
    "plt.figure(figsize=(24, 8))\n",
    "plt.bar(list(train_intents_freq.keys()),train_intents_freq.values())\n",
    "plt.show()"
   ]
  },
  {
   "cell_type": "code",
   "execution_count": 7,
   "id": "e38c53fa",
   "metadata": {
    "colab": {
     "base_uri": "https://localhost:8080/"
    },
    "id": "e38c53fa",
    "outputId": "e2ad21ac-2e54-4c3f-8334-b291dcbb9126"
   },
   "outputs": [
    {
     "name": "stdout",
     "output_type": "stream",
     "text": [
      "O: 35662 (63.46%),\n",
      "B-fromloc.city_name: 4326 (7.70%),\n",
      "B-toloc.city_name: 4343 (7.73%),\n",
      "B-round_trip: 348 (0.62%),\n",
      "I-round_trip: 339 (0.60%),\n",
      "B-cost_relative: 343 (0.61%),\n",
      "B-fare_amount: 53 (0.09%),\n",
      "I-fare_amount: 51 (0.09%),\n",
      "B-arrive_date.month_name: 47 (0.08%),\n",
      "B-arrive_date.day_number: 47 (0.08%),\n",
      "I-fromloc.city_name: 691 (1.23%),\n",
      "B-stoploc.city_name: 239 (0.43%),\n",
      "B-arrive_time.time_relative: 187 (0.33%),\n",
      "B-arrive_time.time: 208 (0.37%),\n",
      "I-arrive_time.time: 161 (0.29%),\n",
      "B-toloc.state_code: 86 (0.15%),\n",
      "I-toloc.city_name: 1099 (1.96%),\n",
      "I-stoploc.city_name: 47 (0.08%),\n",
      "B-meal_description: 57 (0.10%),\n",
      "B-depart_date.month_name: 379 (0.67%),\n",
      "B-depart_date.day_number: 395 (0.70%),\n",
      "B-airline_name: 701 (1.25%),\n",
      "I-airline_name: 421 (0.75%),\n",
      "B-depart_time.period_of_day: 593 (1.06%),\n",
      "B-depart_date.day_name: 889 (1.58%),\n",
      "B-toloc.state_name: 77 (0.14%),\n",
      "B-depart_time.time_relative: 323 (0.57%),\n",
      "B-depart_time.time: 369 (0.66%),\n",
      "B-toloc.airport_name: 39 (0.07%),\n",
      "I-toloc.airport_name: 49 (0.09%),\n",
      "B-depart_date.date_relative: 82 (0.15%),\n",
      "B-or: 66 (0.12%),\n",
      "B-airline_code: 136 (0.24%),\n",
      "B-class_type: 217 (0.39%),\n",
      "I-class_type: 183 (0.33%),\n",
      "I-cost_relative: 55 (0.10%),\n",
      "I-depart_time.time: 299 (0.53%),\n",
      "B-fromloc.airport_name: 89 (0.16%),\n",
      "I-fromloc.airport_name: 119 (0.21%),\n",
      "B-city_name: 227 (0.40%),\n",
      "B-flight_mod: 329 (0.59%),\n",
      "B-meal: 46 (0.08%),\n",
      "B-economy: 36 (0.06%),\n",
      "B-fare_basis_code: 76 (0.14%),\n",
      "I-depart_date.day_number: 120 (0.21%),\n",
      "B-depart_date.today_relative: 84 (0.15%),\n",
      "B-flight_stop: 168 (0.30%),\n",
      "B-airport_code: 29 (0.05%),\n",
      "B-fromloc.state_name: 39 (0.07%),\n",
      "I-fromloc.state_name: 9 (0.02%),\n",
      "I-city_name: 49 (0.09%),\n",
      "B-connect: 40 (0.07%),\n",
      "B-arrive_date.day_name: 88 (0.16%),\n",
      "B-fromloc.state_code: 46 (0.08%),\n",
      "B-arrive_date.today_relative: 2 (0.00%),\n",
      "B-depart_date.year: 25 (0.04%),\n",
      "B-depart_time.start_time: 25 (0.04%),\n",
      "I-depart_time.start_time: 13 (0.02%),\n",
      "B-depart_time.end_time: 25 (0.04%),\n",
      "I-depart_time.end_time: 18 (0.03%),\n",
      "B-arrive_time.start_time: 21 (0.04%),\n",
      "B-arrive_time.end_time: 20 (0.04%),\n",
      "I-arrive_time.end_time: 19 (0.03%),\n",
      "I-flight_mod: 11 (0.02%),\n",
      "B-flight_days: 39 (0.07%),\n",
      "B-mod: 30 (0.05%),\n",
      "B-flight_number: 84 (0.15%),\n",
      "I-toloc.state_name: 13 (0.02%),\n",
      "B-meal_code: 6 (0.01%),\n",
      "I-meal_code: 4 (0.01%),\n",
      "B-airport_name: 38 (0.07%),\n",
      "I-airport_name: 54 (0.10%),\n",
      "I-flight_stop: 17 (0.03%),\n",
      "B-transport_type: 48 (0.09%),\n",
      "I-transport_type: 23 (0.04%),\n",
      "B-state_code: 8 (0.01%),\n",
      "B-aircraft_code: 31 (0.06%),\n",
      "B-toloc.country_name: 3 (0.01%),\n",
      "I-arrive_date.day_number: 6 (0.01%),\n",
      "B-toloc.airport_code: 20 (0.04%),\n",
      "B-return_date.date_relative: 10 (0.02%),\n",
      "I-return_date.date_relative: 2 (0.00%),\n",
      "B-flight_time: 71 (0.13%),\n",
      "I-economy: 10 (0.02%),\n",
      "B-fromloc.airport_code: 15 (0.03%),\n",
      "B-arrive_time.period_of_day: 64 (0.11%),\n",
      "B-depart_time.period_mod: 44 (0.08%),\n",
      "I-flight_time: 32 (0.06%),\n",
      "B-return_date.day_name: 1 (0.00%),\n",
      "B-arrive_date.date_relative: 11 (0.02%),\n",
      "B-restriction_code: 23 (0.04%),\n",
      "I-restriction_code: 14 (0.02%),\n",
      "B-arrive_time.period_mod: 4 (0.01%),\n",
      "I-arrive_time.period_of_day: 3 (0.01%),\n",
      "B-period_of_day: 5 (0.01%),\n",
      "B-stoploc.state_code: 5 (0.01%),\n",
      "I-depart_date.today_relative: 12 (0.02%),\n",
      "I-fare_basis_code: 2 (0.00%),\n",
      "I-arrive_time.start_time: 8 (0.01%),\n",
      "B-time: 2 (0.00%),\n",
      "B-today_relative: 2 (0.00%),\n",
      "I-today_relative: 3 (0.01%),\n",
      "B-state_name: 2 (0.00%),\n",
      "B-days_code: 3 (0.01%),\n",
      "I-depart_time.period_of_day: 6 (0.01%),\n",
      "I-arrive_time.time_relative: 2 (0.00%),\n",
      "B-time_relative: 1 (0.00%),\n",
      "I-time: 1 (0.00%),\n",
      "B-return_date.month_name: 4 (0.01%),\n",
      "B-return_date.day_number: 4 (0.01%),\n",
      "I-depart_time.time_relative: 2 (0.00%),\n",
      "B-stoploc.airport_name: 1 (0.00%),\n",
      "B-day_name: 5 (0.01%),\n",
      "B-month_name: 2 (0.00%),\n",
      "B-day_number: 2 (0.00%),\n",
      "B-return_time.period_mod: 2 (0.00%),\n",
      "B-return_time.period_of_day: 3 (0.01%),\n",
      "B-return_date.today_relative: 1 (0.00%),\n",
      "I-return_date.today_relative: 2 (0.00%),\n",
      "I-meal_description: 1 (0.00%),\n",
      "I-return_date.day_number: 1 (0.00%),\n"
     ]
    }
   ],
   "source": [
    "train_tags_freq = dict()\n",
    "count = 0\n",
    "for item in train_tags:\n",
    "    for tag in item:\n",
    "        if (tag in train_tags_freq): train_tags_freq[tag] += 1 #item.count(tag)\n",
    "        else: train_tags_freq[tag] = 1 #item.count(tag)\n",
    "        count += 1\n",
    "\n",
    "for key in train_tags_freq:\n",
    "    value = train_tags_freq[key]\n",
    "    print('%s: %d (%.2f%%),' % (key, value, value / count * 100))"
   ]
  },
  {
   "cell_type": "code",
   "execution_count": 8,
   "id": "1dde0a8c",
   "metadata": {
    "colab": {
     "base_uri": "https://localhost:8080/"
    },
    "id": "1dde0a8c",
    "outputId": "08a8dc6f-e768-4e38-99d4-2ae7a1428ad5"
   },
   "outputs": [
    {
     "name": "stdout",
     "output_type": "stream",
     "text": [
      "train dataset vocab size: 0\n",
      "# of test dataset rows: 893\n",
      "# of test dataset unique intents: 16\n",
      "# of test dataset unique IOB tags: 101\n"
     ]
    }
   ],
   "source": [
    "#importing test data\n",
    "\n",
    "test_words = list()  # a list of list of words for every sentence in test dataset\n",
    "test_tags = list() # a list of list of IOB tags for every sentence in test dataset\n",
    "test_intents = list() # a list of intent for every sentence in test dataset\n",
    "test_vocabs = set() # a list of dicts contaiting above data in a more structured form\n",
    "test_data = list() # a set containing whole test dataset words\n",
    "\n",
    "with open('atis.test.w-intent.iob') as f:\n",
    "    for line in f.readlines():\n",
    "        line = line.strip().split()\n",
    "        \n",
    "        index = 0\n",
    "        words = list()\n",
    "        for i, word in enumerate(line[:-1]):\n",
    "            if (word == 'EOS'):\n",
    "                index = i\n",
    "                break\n",
    "            if (word != 'BOS'): \n",
    "                word = re.sub(r'[^\\w\\s]', '', word.lower()) # removing punctuations & lowerizing word\n",
    "                words.append(word) \n",
    "                train_vocabs.add(word)\n",
    "        test_words.append(words)\n",
    "        \n",
    "        tags = list()\n",
    "        for tag in line[index + 2:-1]:\n",
    "            tags.append(tag)\n",
    "        test_tags.append(tags)\n",
    "                    \n",
    "        #handling entries with multiple intents\n",
    "        intent = \"\"\n",
    "        if ('#' in line[-1]): \n",
    "            for item in line[-1].split('#'):\n",
    "                intent = item\n",
    "                break\n",
    "        else: intent = line[-1]\n",
    "        test_intents.append(intent)\n",
    "        \n",
    "        test_data.append({\n",
    "            'words': words,\n",
    "            'iob_tags': tags,\n",
    "            #             'length': len(words),\n",
    "            'intent': intent})\n",
    "\n",
    "print('train dataset vocab size:', len(test_vocabs))\n",
    "print('# of test dataset rows:', len(test_data))\n",
    "print('# of test dataset unique intents:', len(set(test_intents)))\n",
    "print('# of test dataset unique IOB tags:', len(set([tag for item in test_tags for tag in item])))"
   ]
  },
  {
   "cell_type": "code",
   "execution_count": 9,
   "id": "ad36435a",
   "metadata": {
    "colab": {
     "base_uri": "https://localhost:8080/"
    },
    "id": "ad36435a",
    "outputId": "b309f3b5-a0d6-4ce0-cc8d-777b795de0f8",
    "scrolled": true
   },
   "outputs": [
    {
     "name": "stdout",
     "output_type": "stream",
     "text": [
      "tokenized words: ['i', 'would', 'like', 'to', 'find', 'a', 'flight', 'from', 'charlotte', 'to', 'las', 'vegas', 'that', 'makes', 'a', 'stop', 'in', 'st', 'louis']\n",
      "IOB tags: ['O', 'O', 'O', 'O', 'O', 'O', 'O', 'O', 'B-fromloc.city_name', 'O', 'B-toloc.city_name', 'I-toloc.city_name', 'O', 'O', 'O', 'O', 'O', 'B-stoploc.city_name', 'I-stoploc.city_name']\n",
      "intent: atis_flight\n"
     ]
    }
   ],
   "source": [
    "ind = 0\n",
    "print('tokenized words:', test_data[ind]['words'])\n",
    "print('IOB tags:', test_data[ind]['iob_tags'])\n",
    "print('intent:', test_data[ind]['intent'])"
   ]
  },
  {
   "cell_type": "code",
   "execution_count": 10,
   "id": "9220a160",
   "metadata": {
    "colab": {
     "base_uri": "https://localhost:8080/"
    },
    "id": "9220a160",
    "outputId": "f6282459-8d2a-4787-efa4-e81c8503a7a7",
    "scrolled": true
   },
   "outputs": [
    {
     "name": "stdout",
     "output_type": "stream",
     "text": [
      "atis_day_name: 2 (0.22%) ,\n",
      "atis_flight_time: 1 (0.11%) ,\n",
      "atis_airfare: 49 (5.49%) ,\n",
      "atis_distance: 10 (1.12%) ,\n",
      "atis_flight: 645 (72.23%) ,\n",
      "atis_ground_service: 36 (4.03%) ,\n",
      "atis_city: 6 (0.67%) ,\n",
      "atis_aircraft: 9 (1.01%) ,\n",
      "atis_airport: 18 (2.02%) ,\n",
      "atis_airline: 38 (4.26%) ,\n",
      "atis_ground_fare: 7 (0.78%) ,\n",
      "atis_capacity: 21 (2.35%) ,\n",
      "atis_quantity: 3 (0.34%) ,\n",
      "atis_flight_no: 9 (1.01%) ,\n",
      "atis_abbreviation: 33 (3.70%) ,\n",
      "atis_meal: 6 (0.67%) ,\n"
     ]
    }
   ],
   "source": [
    "test_intents_freq = dict()\n",
    "for intent in set(test_intents):\n",
    "    test_intents_freq[intent] = test_intents.count(intent)\n",
    "    \n",
    "for key in test_intents_freq:\n",
    "    value = test_intents_freq[key]\n",
    "    print('%s: %d (%.2f%%) ,' % (key, value, value / len(test_intents) * 100))"
   ]
  },
  {
   "cell_type": "code",
   "execution_count": 11,
   "id": "796b9c50",
   "metadata": {
    "colab": {
     "base_uri": "https://localhost:8080/",
     "height": 483
    },
    "id": "796b9c50",
    "outputId": "22041da4-4986-4c5a-c6b3-dc8928fae4cc",
    "scrolled": true
   },
   "outputs": [
    {
     "data": {
      "image/png": "[encoded data removed]",
      "text/plain": [
       "<Figure size 1728x576 with 1 Axes>"
      ]
     },
     "metadata": {
      "needs_background": "light",
      "tags": []
     },
     "output_type": "display_data"
    }
   ],
   "source": [
    "plt.figure(figsize=(24, 8))\n",
    "plt.bar(list(test_intents_freq.keys()),test_intents_freq.values())\n",
    "plt.show()"
   ]
  },
  {
   "cell_type": "code",
   "execution_count": 12,
   "id": "71092fa3",
   "metadata": {
    "colab": {
     "base_uri": "https://localhost:8080/"
    },
    "id": "71092fa3",
    "outputId": "b7a85469-dc37-422a-b979-0d3cec550740",
    "scrolled": true
   },
   "outputs": [
    {
     "name": "stdout",
     "output_type": "stream",
     "text": [
      "O: 5501 (60.03%),\n",
      "B-fromloc.city_name: 704 (7.68%),\n",
      "B-toloc.city_name: 716 (7.81%),\n",
      "I-toloc.city_name: 265 (2.89%),\n",
      "B-stoploc.city_name: 20 (0.22%),\n",
      "I-stoploc.city_name: 10 (0.11%),\n",
      "B-depart_date.month_name: 56 (0.61%),\n",
      "B-depart_date.day_number: 55 (0.60%),\n",
      "B-depart_time.time_relative: 65 (0.71%),\n",
      "B-depart_time.time: 57 (0.62%),\n",
      "I-depart_time.time: 52 (0.57%),\n",
      "B-round_trip: 73 (0.80%),\n",
      "I-round_trip: 71 (0.77%),\n",
      "B-airline_name: 101 (1.10%),\n",
      "I-airline_name: 65 (0.71%),\n",
      "B-depart_date.day_name: 212 (2.31%),\n",
      "B-depart_time.period_of_day: 130 (1.42%),\n",
      "I-fromloc.city_name: 177 (1.93%),\n",
      "B-meal_description: 10 (0.11%),\n",
      "B-depart_date.date_relative: 17 (0.19%),\n",
      "B-arrive_time.time_relative: 31 (0.34%),\n",
      "B-arrive_time.time: 34 (0.37%),\n",
      "I-arrive_time.time: 35 (0.38%),\n",
      "B-return_date.day_name: 2 (0.02%),\n",
      "B-arrive_date.date_relative: 2 (0.02%),\n",
      "B-arrive_date.day_name: 11 (0.12%),\n",
      "B-flight_stop: 21 (0.23%),\n",
      "B-depart_date.today_relative: 9 (0.10%),\n",
      "B-toloc.state_name: 28 (0.31%),\n",
      "B-arrive_date.month_name: 6 (0.07%),\n",
      "B-arrive_date.day_number: 6 (0.07%),\n",
      "B-arrive_time.start_time: 8 (0.09%),\n",
      "B-arrive_time.end_time: 8 (0.09%),\n",
      "I-arrive_time.end_time: 8 (0.09%),\n",
      "B-airport_name: 21 (0.23%),\n",
      "I-airport_name: 29 (0.32%),\n",
      "B-connect: 6 (0.07%),\n",
      "B-fromloc.airport_name: 12 (0.13%),\n",
      "I-fromloc.airport_name: 15 (0.16%),\n",
      "B-meal: 16 (0.17%),\n",
      "B-flight_number: 11 (0.12%),\n",
      "I-flight_number: 1 (0.01%),\n",
      "B-return_date.date_relative: 3 (0.03%),\n",
      "I-return_date.date_relative: 3 (0.03%),\n",
      "B-arrive_time.period_of_day: 6 (0.07%),\n",
      "B-fromloc.state_name: 17 (0.19%),\n",
      "B-city_name: 57 (0.62%),\n",
      "I-city_name: 30 (0.33%),\n",
      "I-depart_date.day_number: 15 (0.16%),\n",
      "I-depart_time.period_of_day: 1 (0.01%),\n",
      "B-cost_relative: 37 (0.40%),\n",
      "I-cost_relative: 3 (0.03%),\n",
      "B-flight_time: 1 (0.01%),\n",
      "I-flight_time: 1 (0.01%),\n",
      "B-flight_mod: 24 (0.26%),\n",
      "B-class_type: 24 (0.26%),\n",
      "I-class_type: 17 (0.19%),\n",
      "B-airline_code: 34 (0.37%),\n",
      "B-toloc.airport_code: 4 (0.04%),\n",
      "B-transport_type: 10 (0.11%),\n",
      "B-depart_time.start_time: 3 (0.03%),\n",
      "B-depart_time.end_time: 3 (0.03%),\n",
      "I-depart_time.end_time: 3 (0.03%),\n",
      "B-toloc.airport_name: 3 (0.03%),\n",
      "I-toloc.airport_name: 3 (0.03%),\n",
      "B-aircraft_code: 33 (0.36%),\n",
      "B-toloc.country_name: 1 (0.01%),\n",
      "B-mod: 2 (0.02%),\n",
      "B-state_name: 9 (0.10%),\n",
      "B-compartment: 1 (0.01%),\n",
      "B-meal_code: 1 (0.01%),\n",
      "B-day_name: 2 (0.02%),\n",
      "B-toloc.state_code: 18 (0.20%),\n",
      "B-fromloc.state_code: 23 (0.25%),\n",
      "B-depart_time.period_mod: 5 (0.05%),\n",
      "B-fromloc.airport_code: 5 (0.05%),\n",
      "B-fare_basis_code: 17 (0.19%),\n",
      "B-flight_days: 10 (0.11%),\n",
      "B-depart_date.year: 3 (0.03%),\n",
      "B-period_of_day: 4 (0.04%),\n",
      "I-flight_mod: 6 (0.07%),\n",
      "B-state_code: 1 (0.01%),\n",
      "B-restriction_code: 4 (0.04%),\n",
      "I-restriction_code: 3 (0.03%),\n",
      "B-airport_code: 9 (0.10%),\n",
      "B-days_code: 1 (0.01%),\n",
      "I-arrive_time.time_relative: 4 (0.04%),\n",
      "B-or: 3 (0.03%),\n",
      "B-stoploc.airport_code: 1 (0.01%),\n",
      "I-depart_time.time_relative: 1 (0.01%),\n",
      "I-state_name: 1 (0.01%),\n",
      "B-economy: 6 (0.07%),\n",
      "B-booking_class: 1 (0.01%),\n",
      "B-fare_amount: 2 (0.02%),\n",
      "I-fare_amount: 2 (0.02%),\n",
      "B-flight: 1 (0.01%),\n",
      "I-depart_time.start_time: 1 (0.01%),\n",
      "I-arrive_time.start_time: 1 (0.01%),\n",
      "I-transport_type: 1 (0.01%),\n",
      "I-fromloc.state_name: 1 (0.01%),\n",
      "I-toloc.state_name: 1 (0.01%),\n"
     ]
    }
   ],
   "source": [
    "test_tags_freq = dict()\n",
    "count = 0\n",
    "for item in test_tags:\n",
    "    for tag in item:\n",
    "        if (tag in test_tags_freq): test_tags_freq[tag] += 1 #item.count(tag)\n",
    "        else: test_tags_freq[tag] = 1 #item.count(tag)\n",
    "        count += 1\n",
    "\n",
    "for key in test_tags_freq:\n",
    "    value = test_tags_freq[key]\n",
    "    print('%s: %d (%.2f%%),' % (key, value, value / count * 100))"
   ]
  },
  {
   "cell_type": "markdown",
   "id": "ac5a6d17",
   "metadata": {
    "id": "ac5a6d17"
   },
   "source": [
    "##### comparing train & test dataset tags & intents:"
   ]
  },
  {
   "cell_type": "code",
   "execution_count": 13,
   "id": "daa709ab",
   "metadata": {
    "colab": {
     "base_uri": "https://localhost:8080/"
    },
    "id": "daa709ab",
    "outputId": "eb254dd5-b1e2-4490-8246-1f7eab123d6c"
   },
   "outputs": [
    {
     "name": "stdout",
     "output_type": "stream",
     "text": [
      "set()\n"
     ]
    }
   ],
   "source": [
    "print(test_vocabs.difference(train_vocabs))"
   ]
  },
  {
   "cell_type": "code",
   "execution_count": 14,
   "id": "21bf7e45",
   "metadata": {
    "colab": {
     "base_uri": "https://localhost:8080/"
    },
    "id": "21bf7e45",
    "outputId": "3e6e4a77-be76-4205-c7ed-b2c7981e0e10"
   },
   "outputs": [
    {
     "data": {
      "text/plain": [
       "{'atis_day_name'}"
      ]
     },
     "execution_count": 14,
     "metadata": {
      "tags": []
     },
     "output_type": "execute_result"
    }
   ],
   "source": [
    "set(test_intents).difference(set(train_intents))"
   ]
  },
  {
   "cell_type": "markdown",
   "id": "69e36fdc",
   "metadata": {
    "id": "69e36fdc"
   },
   "source": [
    "so from above, we see there is no train data for 'atis_day_name'..."
   ]
  },
  {
   "cell_type": "code",
   "execution_count": 15,
   "id": "294c2964",
   "metadata": {
    "colab": {
     "base_uri": "https://localhost:8080/"
    },
    "id": "294c2964",
    "outputId": "da28fdb4-3532-47df-a3a1-71d745d625f3"
   },
   "outputs": [
    {
     "data": {
      "text/plain": [
       "{'atis_restriction'}"
      ]
     },
     "execution_count": 15,
     "metadata": {
      "tags": []
     },
     "output_type": "execute_result"
    }
   ],
   "source": [
    "set(train_intents).difference(set(test_intents))"
   ]
  },
  {
   "cell_type": "markdown",
   "id": "ce2c2ded",
   "metadata": {
    "id": "ce2c2ded"
   },
   "source": [
    "and also there are no test data for 'atis_cheapest' & 'atis_restriction'..."
   ]
  },
  {
   "cell_type": "code",
   "execution_count": 16,
   "id": "b7b9d6c3",
   "metadata": {
    "colab": {
     "base_uri": "https://localhost:8080/"
    },
    "id": "b7b9d6c3",
    "outputId": "604cbfea-09f9-4e67-8cdc-33818cd9eb5c"
   },
   "outputs": [
    {
     "data": {
      "text/plain": [
       "{'B-booking_class',\n",
       " 'B-compartment',\n",
       " 'B-flight',\n",
       " 'B-stoploc.airport_code',\n",
       " 'I-flight_number',\n",
       " 'I-state_name'}"
      ]
     },
     "execution_count": 16,
     "metadata": {
      "tags": []
     },
     "output_type": "execute_result"
    }
   ],
   "source": [
    "set(test_tags_freq.keys()).difference(set(train_tags_freq.keys()))"
   ]
  },
  {
   "cell_type": "markdown",
   "id": "237d0e8b",
   "metadata": {
    "id": "237d0e8b"
   },
   "source": [
    "also we see there are no train data with 'B-stoploc.airport_code' or 'B-booking_class' or 'I-flight_number' or 'I-state_name' or 'B-flight' or 'B-compartment' tag..."
   ]
  },
  {
   "cell_type": "code",
   "execution_count": 17,
   "id": "200b2854",
   "metadata": {
    "colab": {
     "base_uri": "https://localhost:8080/"
    },
    "id": "200b2854",
    "outputId": "07ab7af4-4fff-4ba0-ca9d-ab7200c34fe0"
   },
   "outputs": [
    {
     "data": {
      "text/plain": [
       "{'B-arrive_date.today_relative',\n",
       " 'B-arrive_time.period_mod',\n",
       " 'B-day_number',\n",
       " 'B-month_name',\n",
       " 'B-return_date.day_number',\n",
       " 'B-return_date.month_name',\n",
       " 'B-return_date.today_relative',\n",
       " 'B-return_time.period_mod',\n",
       " 'B-return_time.period_of_day',\n",
       " 'B-stoploc.airport_name',\n",
       " 'B-stoploc.state_code',\n",
       " 'B-time',\n",
       " 'B-time_relative',\n",
       " 'B-today_relative',\n",
       " 'I-arrive_date.day_number',\n",
       " 'I-arrive_time.period_of_day',\n",
       " 'I-depart_date.today_relative',\n",
       " 'I-economy',\n",
       " 'I-fare_basis_code',\n",
       " 'I-flight_stop',\n",
       " 'I-meal_code',\n",
       " 'I-meal_description',\n",
       " 'I-return_date.day_number',\n",
       " 'I-return_date.today_relative',\n",
       " 'I-time',\n",
       " 'I-today_relative'}"
      ]
     },
     "execution_count": 17,
     "metadata": {
      "tags": []
     },
     "output_type": "execute_result"
    }
   ],
   "source": [
    "set(train_tags_freq.keys()).difference(set(test_tags_freq.keys()))"
   ]
  },
  {
   "cell_type": "markdown",
   "id": "528d2520",
   "metadata": {
    "id": "528d2520"
   },
   "source": [
    "and finally there are no train data with 'I-return_date.day_number' or 'B-return_time.period_mod' or ... tag."
   ]
  },
  {
   "cell_type": "markdown",
   "id": "0ef6de9b",
   "metadata": {
    "id": "0ef6de9b"
   },
   "source": [
    "to handle imbalanced data first we try to find and remove duplicates:"
   ]
  },
  {
   "cell_type": "code",
   "execution_count": 18,
   "id": "58e96b8f",
   "metadata": {
    "colab": {
     "base_uri": "https://localhost:8080/"
    },
    "id": "58e96b8f",
    "outputId": "4b7c78e8-a831-45b8-eafb-05e0a151e323"
   },
   "outputs": [
    {
     "name": "stdout",
     "output_type": "stream",
     "text": [
      "# of duplicate sentences in train data: 4977 - 4733 = 244\n"
     ]
    }
   ],
   "source": [
    "#removing duplicate train data with 'atis_flight' intent\n",
    "\n",
    "train_words_dup_free = list()\n",
    "train_tags_dup_free = list()\n",
    "train_intents_dup_free = list()\n",
    "train_data_dup_free = list()\n",
    "for i in range(len(train_words)):\n",
    "    words = train_words[i]\n",
    "    tags = train_tags[i]\n",
    "    intent = train_intents[i]\n",
    "    if (intent != 'atis_flight' or (intent == 'atis_flight' and words not in train_words_dup_free)):\n",
    "        train_words_dup_free.append(words)\n",
    "        train_tags_dup_free.append(tags)\n",
    "        train_intents_dup_free.append(intent)\n",
    "        train_data_dup_free.append({\n",
    "            'words': words,\n",
    "            'iob_tags': tags,\n",
    "            #             'length': len(words),\n",
    "            'intent': intent})\n",
    "\n",
    "print('# of duplicate sentences in train data: %d - %d = %d' % (len(train_words), len(train_words_dup_free), len(train_words) - len(train_words_dup_free)))"
   ]
  },
  {
   "cell_type": "code",
   "execution_count": 19,
   "id": "0dd0cb94",
   "metadata": {
    "colab": {
     "base_uri": "https://localhost:8080/"
    },
    "id": "0dd0cb94",
    "outputId": "be59813f-0360-4950-a1ef-d55399ec0c5f"
   },
   "outputs": [
    {
     "name": "stdout",
     "output_type": "stream",
     "text": [
      "atis_flight: 3443 (72.74%),\n",
      "atis_airfare: 424 (8.96%),\n",
      "atis_airline: 159 (3.36%),\n",
      "atis_ground_service: 256 (5.41%),\n",
      "atis_quantity: 51 (1.08%),\n",
      "atis_city: 19 (0.40%),\n",
      "atis_abbreviation: 147 (3.11%),\n",
      "atis_aircraft: 82 (1.73%),\n",
      "atis_distance: 20 (0.42%),\n",
      "atis_ground_fare: 18 (0.38%),\n",
      "atis_capacity: 16 (0.34%),\n",
      "atis_flight_time: 54 (1.14%),\n",
      "atis_meal: 6 (0.13%),\n",
      "atis_flight_no: 12 (0.25%),\n",
      "atis_restriction: 6 (0.13%),\n",
      "atis_airport: 20 (0.42%),\n"
     ]
    }
   ],
   "source": [
    "train_intents_dup_free_freq = dict()\n",
    "for intent in train_intents_dup_free:\n",
    "    train_intents_dup_free_freq[intent] = train_intents_dup_free.count(intent)\n",
    "\n",
    "for key in train_intents_dup_free_freq:\n",
    "    value = train_intents_dup_free_freq[key]\n",
    "    print('%s: %d (%.2f%%),' % (key, value, value / len(train_intents_dup_free) * 100))"
   ]
  },
  {
   "cell_type": "code",
   "execution_count": 20,
   "id": "9d8f2933",
   "metadata": {
    "colab": {
     "base_uri": "https://localhost:8080/",
     "height": 483
    },
    "id": "9d8f2933",
    "outputId": "5da1d94f-f93f-423e-b3d1-2c60304ba684"
   },
   "outputs": [
    {
     "data": {
      "image/png": "[encoded data removed]",
      "text/plain": [
       "<Figure size 1728x576 with 1 Axes>"
      ]
     },
     "metadata": {
      "needs_background": "light",
      "tags": []
     },
     "output_type": "display_data"
    }
   ],
   "source": [
    "plt.figure(figsize=(24, 8))\n",
    "plt.bar(list(train_intents_dup_free_freq.keys()),train_intents_dup_free_freq.values())\n",
    "plt.show()"
   ]
  },
  {
   "cell_type": "code",
   "execution_count": 21,
   "id": "f7d2f377",
   "metadata": {
    "colab": {
     "base_uri": "https://localhost:8080/"
    },
    "id": "f7d2f377",
    "outputId": "f0ba31ec-bc91-47a1-8e36-6d941bd27af9"
   },
   "outputs": [
    {
     "name": "stdout",
     "output_type": "stream",
     "text": [
      "# of duplicate sentences in test data: 893 - 874 = 19\n"
     ]
    }
   ],
   "source": [
    "##removing duplicate test data with 'atis_flight' intent\n",
    "\n",
    "test_words_dup_free = list()\n",
    "test_tags_dup_free = list()\n",
    "test_intents_dup_free = list()\n",
    "test_data_dup_free = list()\n",
    "for i in range(len(test_words)):\n",
    "    words = test_words[i]\n",
    "    tags = test_tags[i]\n",
    "    intent = test_intents[i]\n",
    "    if (intent != 'atis_flight' or (intent == 'atis_flight' and words not in test_words_dup_free)):\n",
    "        test_words_dup_free.append(words)\n",
    "        test_tags_dup_free.append(tags)\n",
    "        test_intents_dup_free.append(intent)\n",
    "        test_data.append({\n",
    "            'words': words,\n",
    "            'iob_tags': tags,\n",
    "#             'length': len(words),\n",
    "            'intent': intent})\n",
    "\n",
    "\n",
    "print('# of duplicate sentences in test data: %d - %d = %d' % (len(test_words), len(test_words_dup_free),  len(test_words) - len(test_words_dup_free)))"
   ]
  },
  {
   "cell_type": "code",
   "execution_count": 22,
   "id": "34ea87fa",
   "metadata": {
    "colab": {
     "base_uri": "https://localhost:8080/"
    },
    "id": "34ea87fa",
    "outputId": "d5125ba6-9fa4-4642-dc37-79dacd0b988a"
   },
   "outputs": [
    {
     "name": "stdout",
     "output_type": "stream",
     "text": [
      "atis_day_name: 2 (0.23%),\n",
      "atis_flight_time: 1 (0.11%),\n",
      "atis_airfare: 49 (5.61%),\n",
      "atis_distance: 10 (1.14%),\n",
      "atis_flight: 626 (71.62%),\n",
      "atis_ground_service: 36 (4.12%),\n",
      "atis_city: 6 (0.69%),\n",
      "atis_aircraft: 9 (1.03%),\n",
      "atis_airport: 18 (2.06%),\n",
      "atis_airline: 38 (4.35%),\n",
      "atis_ground_fare: 7 (0.80%),\n",
      "atis_capacity: 21 (2.40%),\n",
      "atis_quantity: 3 (0.34%),\n",
      "atis_flight_no: 9 (1.03%),\n",
      "atis_abbreviation: 33 (3.78%),\n",
      "atis_meal: 6 (0.69%),\n"
     ]
    }
   ],
   "source": [
    "test_intents_dup_free_freq = dict()\n",
    "for intent in set(test_intents_dup_free):\n",
    "    test_intents_dup_free_freq[intent] = test_intents_dup_free.count(intent)\n",
    "\n",
    "for key in test_intents_dup_free_freq:\n",
    "    value = test_intents_dup_free_freq[key]\n",
    "    print('%s: %d (%.2f%%),' % (key, value, value / len(test_intents_dup_free) * 100))"
   ]
  },
  {
   "cell_type": "code",
   "execution_count": 23,
   "id": "ce4a0fb9",
   "metadata": {
    "colab": {
     "base_uri": "https://localhost:8080/",
     "height": 483
    },
    "id": "ce4a0fb9",
    "outputId": "139890d6-e50b-4ff1-ba81-73efb1827909",
    "scrolled": false
   },
   "outputs": [
    {
     "data": {
      "image/png": "[encoded data removed]",
      "text/plain": [
       "<Figure size 1728x576 with 1 Axes>"
      ]
     },
     "metadata": {
      "needs_background": "light",
      "tags": []
     },
     "output_type": "display_data"
    }
   ],
   "source": [
    "plt.figure(figsize=(24, 8))\n",
    "plt.bar(list(test_intents_dup_free_freq.keys()),test_intents_dup_free_freq.values())\n",
    "plt.show()"
   ]
  },
  {
   "cell_type": "markdown",
   "id": "a03fe17f",
   "metadata": {
    "id": "a03fe17f"
   },
   "source": [
    "so we can see that unfortunately removing duplicates didn't have any noticable improvment on balancing the dataset."
   ]
  },
  {
   "cell_type": "code",
   "execution_count": 25,
   "id": "7898bc3c",
   "metadata": {
    "colab": {
     "base_uri": "https://localhost:8080/"
    },
    "id": "7898bc3c",
    "outputId": "327602a2-b21f-44dd-8724-7a3dfa24f477"
   },
   "outputs": [
    {
     "name": "stdout",
     "output_type": "stream",
     "text": [
      "['atis_abbreviation' 'atis_aircraft' 'atis_airfare' 'atis_airline'\n",
      " 'atis_airport' 'atis_capacity' 'atis_city' 'atis_distance' 'atis_flight'\n",
      " 'atis_flight_no' 'atis_flight_time' 'atis_ground_fare'\n",
      " 'atis_ground_service' 'atis_meal' 'atis_quantity' 'atis_restriction']\n",
      "(4977, 895) (4977, 16)\n"
     ]
    }
   ],
   "source": [
    "from sklearn.utils import class_weight\n",
    "# from keras.preprocessing.text import Tokenizer\n",
    "# from keras.preprocessing.sequence import pad_sequences\n",
    "from sklearn.preprocessing import LabelBinarizer\n",
    "from sklearn.feature_extraction.text import TfidfVectorizer\n",
    "import numpy as np\n",
    "\n",
    "\n",
    "def identity_tokenizer(text):\n",
    "    return text\n",
    "# define Tokenizer with Vocab Size\n",
    "# tokenizer = Tokenizer(num_words=len(train_vocabs))\n",
    "# tokenizer.fit_on_texts(train_words)\n",
    "vectorizer = TfidfVectorizer(tokenizer=identity_tokenizer,lowercase=False)\n",
    "x_train = vectorizer.fit_transform(train_words)\n",
    "x_test = vectorizer.fit_transform(test_words)\n",
    "# x_train = tokenizer.texts_to_matrix(train_words, mode='tfidf')\n",
    "# x_test = tokenizer.texts_to_matrix(test_words, mode='tfidf')\n",
    "\n",
    "encoder = LabelBinarizer()\n",
    "encoder.fit(train_intents)\n",
    "y_train = encoder.transform(train_intents)\n",
    "y_test = encoder.transform(test_intents)\n",
    "print(encoder.classes_)\n",
    "print(x_train.shape, y_train.shape)\n",
    "#class_weight.compute_class_weight('balanced',np.unique(train_intents) ,train_intents)"
   ]
  },
  {
   "cell_type": "code",
   "execution_count": 26,
   "id": "l6mN3nyTIZGz",
   "metadata": {
    "id": "l6mN3nyTIZGz"
   },
   "outputs": [],
   "source": [
    "desired_count = 500\n",
    "strategy = {0: desired_count, 15: desired_count}# setting atis_restriction and atis_abbreviation classes count just as an example"
   ]
  },
  {
   "cell_type": "code",
   "execution_count": 27,
   "id": "aZnOPubKCSy6",
   "metadata": {
    "colab": {
     "base_uri": "https://localhost:8080/"
    },
    "id": "aZnOPubKCSy6",
    "outputId": "7e5feb37-2354-4a07-ae83-ef63c2a9bba5"
   },
   "outputs": [
    {
     "name": "stderr",
     "output_type": "stream",
     "text": [
      "/usr/local/lib/python3.7/dist-packages/sklearn/externals/six.py:31: FutureWarning: The module is deprecated in version 0.21 and will be removed in version 0.23 since we've dropped support for Python 2.7. Please rely on the official version of six (https://pypi.org/project/six/).\n",
      "  \"(https://pypi.org/project/six/).\", FutureWarning)\n",
      "/usr/local/lib/python3.7/dist-packages/sklearn/utils/deprecation.py:144: FutureWarning: The sklearn.neighbors.base module is  deprecated in version 0.22 and will be removed in version 0.24. The corresponding classes / functions should instead be imported from sklearn.neighbors. Anything that cannot be imported from sklearn.neighbors is now part of the private API.\n",
      "  warnings.warn(message, FutureWarning)\n",
      "/usr/local/lib/python3.7/dist-packages/sklearn/utils/deprecation.py:87: FutureWarning: Function safe_indexing is deprecated; safe_indexing is deprecated in version 0.22 and will be removed in version 0.24.\n",
      "  warnings.warn(msg, category=FutureWarning)\n"
     ]
    },
    {
     "name": "stdout",
     "output_type": "stream",
     "text": [
      "(5811, 895) (5811, 16)\n"
     ]
    }
   ],
   "source": [
    "from imblearn.over_sampling import SMOTE, ADASYN\n",
    "smote = ADASYN(sampling_strategy=strategy, n_neighbors=5) #SMOTE(sampling_strategy='minority', k_neighbors=5)\n",
    "X_sm, y_sm = smote.fit_resample(x_train, y_train)\n",
    "print(X_sm.shape, y_sm.shape)"
   ]
  },
  {
   "cell_type": "code",
   "execution_count": 28,
   "id": "of5AfVgdHlQQ",
   "metadata": {
    "colab": {
     "base_uri": "https://localhost:8080/"
    },
    "id": "of5AfVgdHlQQ",
    "outputId": "5126f648-a805-44ac-be24-743ce5b8546e"
   },
   "outputs": [
    {
     "name": "stdout",
     "output_type": "stream",
     "text": [
      "atis_flight: 3687 (63.45%),\n",
      "atis_airfare: 424 (7.30%),\n",
      "atis_airline: 159 (2.74%),\n",
      "atis_ground_service: 256 (4.41%),\n",
      "atis_quantity: 51 (0.88%),\n",
      "atis_city: 19 (0.33%),\n",
      "atis_abbreviation: 488 (8.40%),\n",
      "atis_aircraft: 82 (1.41%),\n",
      "atis_distance: 20 (0.34%),\n",
      "atis_ground_fare: 18 (0.31%),\n",
      "atis_capacity: 16 (0.28%),\n",
      "atis_flight_time: 54 (0.93%),\n",
      "atis_meal: 6 (0.10%),\n",
      "atis_flight_no: 12 (0.21%),\n",
      "atis_restriction: 499 (8.59%),\n",
      "atis_airport: 20 (0.34%),\n"
     ]
    }
   ],
   "source": [
    "y_temp = list(encoder.inverse_transform(y_sm))\n",
    "temp_freq = dict()\n",
    "for intent in y_temp:\n",
    "    temp_freq[intent] = y_temp.count(intent)\n",
    "\n",
    "for key in temp_freq:\n",
    "    value = temp_freq[key]\n",
    "    print('%s: %d (%.2f%%),' % (key, value, value / len(y_temp) * 100))\n"
   ]
  },
  {
   "cell_type": "code",
   "execution_count": 29,
   "id": "PPbHNay0RDXc",
   "metadata": {
    "id": "PPbHNay0RDXc"
   },
   "outputs": [],
   "source": [
    "from textblob import TextBlob\n",
    "from textblob.translate import NotTranslated\n",
    "import random\n",
    "sr = random.SystemRandom()\n",
    "\n",
    "language = [\"es\", \"de\", \"fr\", \"ar\", \"te\", \"hi\", \"ja\", \"fa\", \"sq\", \"bg\", \"nl\", \"gu\", \"ig\", \"kk\", \"mt\", \"ps\"]\n",
    "\n",
    "def data_augmentation(message, language, aug_range=1):\n",
    "    augmented_messages = []\n",
    "    if hasattr(message, \"decode\"):\n",
    "        message = message.decode(\"utf-8\")\n",
    "\n",
    "    for j in range(0,aug_range) :\n",
    "        new_message = \"\"\n",
    "        text = TextBlob(message)\n",
    "        try:\n",
    "            text = text.translate(to=sr.choice(language))   ## Converting to random langauge for meaningful variation\n",
    "            print('converted to random lang:',text)\n",
    "            text = text.translate(to=\"en\")\n",
    "        except NotTranslated:\n",
    "            pass\n",
    "        augmented_messages.append(str(text))\n",
    "\n",
    "    return augmented_messages"
   ]
  },
  {
   "cell_type": "code",
   "execution_count": 30,
   "id": "py23AvosRhpR",
   "metadata": {
    "colab": {
     "base_uri": "https://localhost:8080/"
    },
    "id": "py23AvosRhpR",
    "outputId": "4467b05d-0979-4ab2-f9b6-cbb925c2d03e"
   },
   "outputs": [
    {
     "name": "stdout",
     "output_type": "stream",
     "text": [
      "converted to random lang: من می خواهم از بالتیمور به دالاس سفر کنم\n"
     ]
    },
    {
     "data": {
      "text/plain": [
       "['I want to travel from Baltimore to Dallas']"
      ]
     },
     "execution_count": 30,
     "metadata": {
      "tags": []
     },
     "output_type": "execute_result"
    }
   ],
   "source": [
    "data_augmentation('i want to fly from baltimore to dallas round trip', language)"
   ]
  },
  {
   "cell_type": "code",
   "execution_count": 31,
   "id": "mhXB_XzvS7g0",
   "metadata": {
    "id": "mhXB_XzvS7g0"
   },
   "outputs": [],
   "source": [
    "#TO-DO: code cleaning & augmenting data using langauge translation (above function) & word embeddings \n",
    "# also data undersampling by removing similar samples from major class (atis_flight)"
   ]
  },
  {
   "cell_type": "code",
   "execution_count": null,
   "id": "n8QrZY_vTTfJ",
   "metadata": {
    "id": "n8QrZY_vTTfJ"
   },
   "outputs": [],
   "source": [
    "# !pip install numpy requests nlpaug transformers"
   ]
  },
  {
   "cell_type": "code",
   "execution_count": 33,
   "id": "LOc66TPuUZ_f",
   "metadata": {
    "colab": {
     "base_uri": "https://localhost:8080/"
    },
    "id": "LOc66TPuUZ_f",
    "outputId": "57cc75b4-f5f6-4e69-f248-540a3fc90842"
   },
   "outputs": [
    {
     "name": "stdout",
     "output_type": "stream",
     "text": [
      "[nltk_data] Downloading package punkt to /root/nltk_data...\n",
      "[nltk_data]   Unzipping tokenizers/punkt.zip.\n",
      "[nltk_data] Downloading package averaged_perceptron_tagger to\n",
      "[nltk_data]     /root/nltk_data...\n",
      "[nltk_data]   Unzipping taggers/averaged_perceptron_tagger.zip.\n",
      "[nltk_data] Downloading package universal_tagset to /root/nltk_data...\n",
      "[nltk_data]   Unzipping taggers/universal_tagset.zip.\n",
      "[nltk_data] Downloading package stopwords to /root/nltk_data...\n",
      "[nltk_data]   Unzipping corpora/stopwords.zip.\n",
      "[nltk_data] Downloading package wordnet to /root/nltk_data...\n",
      "[nltk_data]   Unzipping corpora/wordnet.zip.\n"
     ]
    }
   ],
   "source": [
    "import nlpaug.augmenter.word as naw\n",
    "import nltk\n",
    "nltk.download('punkt')\n",
    "nltk.download('averaged_perceptron_tagger')\n",
    "nltk.download('universal_tagset')\n",
    "nltk.download('stopwords')\n",
    "nltk.download('wordnet')\n",
    "stop = nltk.corpus.stopwords.words('english')"
   ]
  },
  {
   "cell_type": "code",
   "execution_count": 34,
   "id": "t_1G-LgiZ7a9",
   "metadata": {
    "id": "t_1G-LgiZ7a9"
   },
   "outputs": [],
   "source": [
    "# import gensim\n",
    "# from gensim.models import Word2Vec\n",
    "# # Create CBOW model\n",
    "# model1 = gensim.models.Word2Vec(train_words, min_count = 1, \n",
    "#                               size = 100, window = 5)\n",
    "# aug = naw.WordEmbsAug(model_type='word2vec', model=model1) #not working"
   ]
  },
  {
   "cell_type": "code",
   "execution_count": 35,
   "id": "EGWMUGYoTZBO",
   "metadata": {
    "colab": {
     "base_uri": "https://localhost:8080/"
    },
    "id": "EGWMUGYoTZBO",
    "outputId": "1ec76154-b79b-48ab-eb58-2f733bb32cbf"
   },
   "outputs": [
    {
     "data": {
      "text/plain": [
       "['which airlines fly from boston to washington dc via other city',\n",
       " 'which airlines fly from boston to washington direct current via other cities',\n",
       " 'which air hose fly from capital of massachusetts to washington dc via other cities',\n",
       " 'which airlines fly from capital of massachusetts to washington dc via other cities',\n",
       " 'which airlines fly from boston to washington direct electric current via other cities']"
      ]
     },
     "execution_count": 35,
     "metadata": {
      "tags": []
     },
     "output_type": "execute_result"
    }
   ],
   "source": [
    "aug = naw.SynonymAug(aug_p=0.25,stopwords=stop,aug_src='wordnet',aug_max=3)\n",
    "# aug = naw.ContextualWordEmbsAug(aug_p=0.25,stopwords=stop,aug_max=3)\n",
    "augmented_data = aug.augment('which airlines fly from boston to washington dc via other cities', n = 5)\n",
    "augmented_data"
   ]
  }
 ],
 "metadata": {
  "colab": {
   "collapsed_sections": [],
   "name": "Pre-Processing.ipynb",
   "provenance": []
  },
  "kernelspec": {
   "display_name": "Python 3",
   "language": "python",
   "name": "python3"
  },
  "language_info": {
   "codemirror_mode": {
    "name": "ipython",
    "version": 3
   },
   "file_extension": ".py",
   "mimetype": "text/x-python",
   "name": "python",
   "nbconvert_exporter": "python",
   "pygments_lexer": "ipython3",
   "version": "3.7.10"
  }
 },
 "nbformat": 4,
 "nbformat_minor": 5
}

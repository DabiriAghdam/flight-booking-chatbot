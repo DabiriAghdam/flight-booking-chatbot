{
 "cells": [
  {
   "attachments": {},
   "cell_type": "markdown",
   "id": "6b364b5d",
   "metadata": {},
   "source": [
    "<h3 align=center> In His Name, the Most High </h3>"
   ]
  },
  {
   "cell_type": "code",
   "execution_count": 1,
   "id": "862568a6",
   "metadata": {},
   "outputs": [],
   "source": [
    "#importing libraries\n",
    "import matplotlib.pyplot as plt\n",
    "plt.style.use('seaborn') # beautiful plots :O"
   ]
  },
  {
   "cell_type": "markdown",
   "id": "9ff7c554",
   "metadata": {},
   "source": [
    "## ATIS Dataset EDA"
   ]
  },
  {
   "cell_type": "markdown",
   "id": "2c1d7c3c",
   "metadata": {},
   "source": [
    "The ATIS dataset is a standard benchmark dataset widely used for intent classification and slot filling.\n",
    "here we obtained the dataset from https://github.com/yvchen/JointSLU."
   ]
  },
  {
   "cell_type": "code",
   "execution_count": 2,
   "id": "7e4240b2",
   "metadata": {},
   "outputs": [
    {
     "name": "stdout",
     "output_type": "stream",
     "text": [
      "# of train dataset rows: 4978\n",
      "# of train dataset unique intents: 17\n",
      "# of train dataset unique IOB tags: 121\n"
     ]
    }
   ],
   "source": [
    "#importing train data\n",
    "train_tokens = list()\n",
    "train_tags = list()\n",
    "train_intents = list()\n",
    "with open('atis-2.train+dev.w-intent.iob') as f:\n",
    "    for line in f.readlines():\n",
    "        line = line.strip().split()\n",
    "        \n",
    "        index = 0\n",
    "        words = list()\n",
    "        for i, word in enumerate(line[:-1]):\n",
    "            if (word == 'EOS'):\n",
    "                index = i\n",
    "                break\n",
    "            if (word != 'BOS'): words.append(word.lower()) #lowerizing tokens\n",
    "        train_tokens.append(words)\n",
    "        \n",
    "        tokens = list()\n",
    "        for token in line[index + 2:-1]:\n",
    "            tokens.append(token)\n",
    "        train_tags.append(tokens)\n",
    "                    \n",
    "        #handling entries with multiple intent\n",
    "        if ('#' in line[-1]): \n",
    "            for item in line[-1].split('#'):\n",
    "                train_intents.append(item)\n",
    "                break\n",
    "        else:\n",
    "            train_intents.append(line[-1])\n",
    "            \n",
    "print('# of train dataset rows:', len(train_tokens))\n",
    "print('# of train dataset unique intents:', len(set(train_intents)))\n",
    "print('# of train dataset unique IOB tags:', len(set([tag for item in train_tags for tag in item])))"
   ]
  },
  {
   "cell_type": "code",
   "execution_count": 3,
   "id": "d79fb14f",
   "metadata": {},
   "outputs": [
    {
     "name": "stdout",
     "output_type": "stream",
     "text": [
      "tokens: ['i', 'want', 'to', 'fly', 'from', 'baltimore', 'to', 'dallas', 'round', 'trip']\n",
      "IOB tags: ['O', 'O', 'O', 'O', 'O', 'B-fromloc.city_name', 'O', 'B-toloc.city_name', 'B-round_trip', 'I-round_trip']\n",
      "intent: atis_flight\n"
     ]
    }
   ],
   "source": [
    "ind = 0\n",
    "print('tokens:', train_tokens[ind])\n",
    "print('IOB tags:', train_tags[ind])\n",
    "print('intent:', train_intents[ind])"
   ]
  },
  {
   "cell_type": "code",
   "execution_count": 4,
   "id": "1ca6a39d",
   "metadata": {},
   "outputs": [
    {
     "data": {
      "text/plain": [
       "{'atis_flight': 3687,\n",
       " 'atis_airfare': 424,\n",
       " 'atis_airline': 159,\n",
       " 'atis_ground_service': 256,\n",
       " 'atis_quantity': 51,\n",
       " 'atis_city': 19,\n",
       " 'atis_abbreviation': 147,\n",
       " 'atis_aircraft': 82,\n",
       " 'atis_distance': 20,\n",
       " 'atis_ground_fare': 18,\n",
       " 'atis_capacity': 16,\n",
       " 'atis_flight_time': 54,\n",
       " 'atis_meal': 6,\n",
       " 'atis_flight_no': 12,\n",
       " 'atis_restriction': 6,\n",
       " 'atis_airport': 20,\n",
       " 'atis_cheapest': 1}"
      ]
     },
     "execution_count": 4,
     "metadata": {},
     "output_type": "execute_result"
    }
   ],
   "source": [
    "train_intents_freq = dict()\n",
    "for intent in train_intents:\n",
    "    train_intents_freq[intent] = train_intents.count(intent)\n",
    "train_intents_freq"
   ]
  },
  {
   "cell_type": "code",
   "execution_count": 5,
   "id": "65c40a90",
   "metadata": {},
   "outputs": [
    {
     "data": {
      "image/png": "[encoded data removed]",
      "text/plain": [
       "<Figure size 1728x576 with 1 Axes>"
      ]
     },
     "metadata": {},
     "output_type": "display_data"
    }
   ],
   "source": [
    "plt.figure(figsize=(24, 8))\n",
    "plt.bar(list(train_intents_freq.keys()),train_intents_freq.values())\n",
    "plt.show()"
   ]
  },
  {
   "cell_type": "code",
   "execution_count": 6,
   "id": "9bbcd20e",
   "metadata": {},
   "outputs": [
    {
     "data": {
      "text/plain": [
       "{'O': 304501,\n",
       " 'B-fromloc.city_name': 4670,\n",
       " 'B-toloc.city_name': 4777,\n",
       " 'B-round_trip': 374,\n",
       " 'I-round_trip': 361,\n",
       " 'B-cost_relative': 366,\n",
       " 'B-fare_amount': 73,\n",
       " 'I-fare_amount': 71,\n",
       " 'B-arrive_date.month_name': 47,\n",
       " 'B-arrive_date.day_number': 47,\n",
       " 'I-fromloc.city_name': 841,\n",
       " 'B-stoploc.city_name': 243,\n",
       " 'B-arrive_time.time_relative': 203,\n",
       " 'B-arrive_time.time': 224,\n",
       " 'I-arrive_time.time': 191,\n",
       " 'B-toloc.state_code': 86,\n",
       " 'I-toloc.city_name': 1289,\n",
       " 'I-stoploc.city_name': 75,\n",
       " 'B-meal_description': 57,\n",
       " 'B-depart_date.month_name': 387,\n",
       " 'B-depart_date.day_number': 413,\n",
       " 'B-airline_name': 743,\n",
       " 'I-airline_name': 449,\n",
       " 'B-depart_time.period_of_day': 707,\n",
       " 'B-depart_date.day_name': 1001,\n",
       " 'B-toloc.state_name': 77,\n",
       " 'B-depart_time.time_relative': 343,\n",
       " 'B-depart_time.time': 391,\n",
       " 'B-toloc.airport_name': 39,\n",
       " 'I-toloc.airport_name': 77,\n",
       " 'B-depart_date.date_relative': 82,\n",
       " 'B-or': 84,\n",
       " 'B-airline_code': 148,\n",
       " 'B-class_type': 225,\n",
       " 'I-class_type': 189,\n",
       " 'I-cost_relative': 55,\n",
       " 'I-depart_time.time': 383,\n",
       " 'B-fromloc.airport_name': 89,\n",
       " 'I-fromloc.airport_name': 209,\n",
       " 'B-city_name': 231,\n",
       " 'B-flight_mod': 345,\n",
       " 'B-meal': 46,\n",
       " 'B-economy': 36,\n",
       " 'B-fare_basis_code': 86,\n",
       " 'I-depart_date.day_number': 132,\n",
       " 'B-depart_date.today_relative': 86,\n",
       " 'B-flight_stop': 172,\n",
       " 'B-airport_code': 29,\n",
       " 'B-fromloc.state_name': 39,\n",
       " 'I-fromloc.state_name': 9,\n",
       " 'I-city_name': 63,\n",
       " 'B-connect': 40,\n",
       " 'B-arrive_date.day_name': 92,\n",
       " 'B-fromloc.state_code': 48,\n",
       " 'B-arrive_date.today_relative': 2,\n",
       " 'B-depart_date.year': 25,\n",
       " 'B-depart_time.start_time': 25,\n",
       " 'I-depart_time.start_time': 13,\n",
       " 'B-depart_time.end_time': 25,\n",
       " 'I-depart_time.end_time': 18,\n",
       " 'B-arrive_time.start_time': 21,\n",
       " 'B-arrive_time.end_time': 20,\n",
       " 'I-arrive_time.end_time': 19,\n",
       " 'I-flight_mod': 19,\n",
       " 'B-flight_days': 39,\n",
       " 'B-mod': 30,\n",
       " 'B-flight_number': 100,\n",
       " 'I-toloc.state_name': 13,\n",
       " 'B-meal_code': 6,\n",
       " 'I-meal_code': 6,\n",
       " 'B-airport_name': 38,\n",
       " 'I-airport_name': 90,\n",
       " 'I-flight_stop': 23,\n",
       " 'B-transport_type': 50,\n",
       " 'I-transport_type': 25,\n",
       " 'B-state_code': 8,\n",
       " 'B-aircraft_code': 31,\n",
       " 'B-toloc.country_name': 3,\n",
       " 'I-arrive_date.day_number': 6,\n",
       " 'B-toloc.airport_code': 20,\n",
       " 'B-return_date.date_relative': 10,\n",
       " 'I-return_date.date_relative': 4,\n",
       " 'B-flight_time': 71,\n",
       " 'I-economy': 10,\n",
       " 'B-fromloc.airport_code': 15,\n",
       " 'B-arrive_time.period_of_day': 68,\n",
       " 'B-depart_time.period_mod': 48,\n",
       " 'I-flight_time': 44,\n",
       " 'B-return_date.day_name': 1,\n",
       " 'B-arrive_date.date_relative': 11,\n",
       " 'B-restriction_code': 23,\n",
       " 'I-restriction_code': 14,\n",
       " 'B-arrive_time.period_mod': 4,\n",
       " 'I-arrive_time.period_of_day': 3,\n",
       " 'B-period_of_day': 5,\n",
       " 'B-stoploc.state_code': 5,\n",
       " 'I-depart_date.today_relative': 36,\n",
       " 'I-fare_basis_code': 2,\n",
       " 'I-arrive_time.start_time': 8,\n",
       " 'B-time': 2,\n",
       " 'B-today_relative': 2,\n",
       " 'I-today_relative': 9,\n",
       " 'B-state_name': 2,\n",
       " 'B-days_code': 3,\n",
       " 'I-depart_time.period_of_day': 6,\n",
       " 'I-arrive_time.time_relative': 4,\n",
       " 'B-time_relative': 1,\n",
       " 'I-time': 1,\n",
       " 'B-return_date.month_name': 4,\n",
       " 'B-return_date.day_number': 4,\n",
       " 'I-depart_time.time_relative': 4,\n",
       " 'B-stoploc.airport_name': 1,\n",
       " 'B-day_name': 7,\n",
       " 'B-month_name': 4,\n",
       " 'B-day_number': 4,\n",
       " 'B-return_time.period_mod': 2,\n",
       " 'B-return_time.period_of_day': 3,\n",
       " 'B-return_date.today_relative': 1,\n",
       " 'I-return_date.today_relative': 4,\n",
       " 'I-meal_description': 1,\n",
       " 'I-return_date.day_number': 1}"
      ]
     },
     "execution_count": 6,
     "metadata": {},
     "output_type": "execute_result"
    }
   ],
   "source": [
    "train_tags_freq = dict()\n",
    "for item in train_tags:\n",
    "    for tag in item:\n",
    "        if (tag in train_tags_freq): train_tags_freq[tag] += item.count(tag)\n",
    "        else: train_tags_freq[tag] = item.count(tag)\n",
    "train_tags_freq"
   ]
  },
  {
   "cell_type": "code",
   "execution_count": 7,
   "id": "58f321bb",
   "metadata": {},
   "outputs": [
    {
     "name": "stdout",
     "output_type": "stream",
     "text": [
      "# of test dataset rows: 893\n",
      "# of test dataset unique intents: 16\n",
      "# of test dataset unique IOB tags: 101\n"
     ]
    }
   ],
   "source": [
    "#importing test data\n",
    "test_tokens = list()\n",
    "test_tags = list()\n",
    "test_intents = list()\n",
    "with open('atis.test.w-intent.iob') as f:\n",
    "    for line in f.readlines():\n",
    "        line = line.strip().split()\n",
    "        \n",
    "        index = 0\n",
    "        words = list()\n",
    "        for i, word in enumerate(line[:-1]):\n",
    "            if (word == 'EOS'):\n",
    "                index = i\n",
    "                break\n",
    "            if (word != 'BOS'): words.append(word.lower()) #lowerizing tokens\n",
    "        \n",
    "        test_tokens.append(words)\n",
    "        \n",
    "        tokens = list()\n",
    "        for token in line[index + 2:-1]:\n",
    "            tokens.append(token)\n",
    "        test_tags.append(tokens)\n",
    "                    \n",
    "        #handling entries with multiple intent\n",
    "        if ('#' in line[-1]): \n",
    "            for item in line[-1].split('#'):\n",
    "                test_intents.append(item)\n",
    "                break\n",
    "        else:\n",
    "            test_intents.append(line[-1])\n",
    "            \n",
    "print('# of test dataset rows:', len(test_tokens))\n",
    "print('# of test dataset unique intents:', len(set(test_intents)))\n",
    "print('# of test dataset unique IOB tags:', len(set([tag for item in test_tags for tag in item])))"
   ]
  },
  {
   "cell_type": "code",
   "execution_count": 8,
   "id": "e444d78c",
   "metadata": {
    "scrolled": true
   },
   "outputs": [
    {
     "name": "stdout",
     "output_type": "stream",
     "text": [
      "tokens: ['i', 'would', 'like', 'to', 'find', 'a', 'flight', 'from', 'charlotte', 'to', 'las', 'vegas', 'that', 'makes', 'a', 'stop', 'in', 'st.', 'louis']\n",
      "IOB tags: ['O', 'O', 'O', 'O', 'O', 'O', 'O', 'O', 'B-fromloc.city_name', 'O', 'B-toloc.city_name', 'I-toloc.city_name', 'O', 'O', 'O', 'O', 'O', 'B-stoploc.city_name', 'I-stoploc.city_name']\n",
      "intent: atis_flight\n"
     ]
    }
   ],
   "source": [
    "ind = 0\n",
    "print('tokens:', test_tokens[ind])\n",
    "print('IOB tags:', test_tags[ind])\n",
    "print('intent:', test_intents[ind])"
   ]
  },
  {
   "cell_type": "code",
   "execution_count": 9,
   "id": "80ca335e",
   "metadata": {
    "scrolled": true
   },
   "outputs": [
    {
     "data": {
      "text/plain": [
       "{'atis_flight': 645,\n",
       " 'atis_airfare': 49,\n",
       " 'atis_ground_service': 36,\n",
       " 'atis_day_name': 2,\n",
       " 'atis_meal': 6,\n",
       " 'atis_airport': 18,\n",
       " 'atis_airline': 38,\n",
       " 'atis_flight_time': 1,\n",
       " 'atis_city': 6,\n",
       " 'atis_ground_fare': 7,\n",
       " 'atis_quantity': 3,\n",
       " 'atis_abbreviation': 33,\n",
       " 'atis_distance': 10,\n",
       " 'atis_aircraft': 9,\n",
       " 'atis_capacity': 21,\n",
       " 'atis_flight_no': 9}"
      ]
     },
     "execution_count": 9,
     "metadata": {},
     "output_type": "execute_result"
    }
   ],
   "source": [
    "test_intents_freq = dict()\n",
    "for intent in test_intents:\n",
    "    test_intents_freq[intent] = test_intents.count(intent)\n",
    "test_intents_freq"
   ]
  },
  {
   "cell_type": "code",
   "execution_count": 10,
   "id": "d6dcff75",
   "metadata": {
    "scrolled": true
   },
   "outputs": [
    {
     "data": {
      "image/png": "[encoded data removed]",
      "text/plain": [
       "<Figure size 1728x576 with 1 Axes>"
      ]
     },
     "metadata": {},
     "output_type": "display_data"
    }
   ],
   "source": [
    "plt.figure(figsize=(24, 8))\n",
    "plt.bar(list(test_intents_freq.keys()),test_intents_freq.values())\n",
    "plt.show()"
   ]
  },
  {
   "cell_type": "code",
   "execution_count": 11,
   "id": "b0004e1c",
   "metadata": {
    "scrolled": true
   },
   "outputs": [
    {
     "data": {
      "text/plain": [
       "{'O': 39659,\n",
       " 'B-fromloc.city_name': 730,\n",
       " 'B-toloc.city_name': 764,\n",
       " 'I-toloc.city_name': 369,\n",
       " 'B-stoploc.city_name': 20,\n",
       " 'I-stoploc.city_name': 10,\n",
       " 'B-depart_date.month_name': 56,\n",
       " 'B-depart_date.day_number': 55,\n",
       " 'B-depart_time.time_relative': 65,\n",
       " 'B-depart_time.time': 57,\n",
       " 'I-depart_time.time': 52,\n",
       " 'B-round_trip': 73,\n",
       " 'I-round_trip': 71,\n",
       " 'B-airline_name': 125,\n",
       " 'I-airline_name': 75,\n",
       " 'B-depart_date.day_name': 222,\n",
       " 'B-depart_time.period_of_day': 142,\n",
       " 'I-fromloc.city_name': 203,\n",
       " 'B-meal_description': 10,\n",
       " 'B-depart_date.date_relative': 17,\n",
       " 'B-arrive_time.time_relative': 33,\n",
       " 'B-arrive_time.time': 34,\n",
       " 'I-arrive_time.time': 37,\n",
       " 'B-return_date.day_name': 2,\n",
       " 'B-arrive_date.date_relative': 2,\n",
       " 'B-arrive_date.day_name': 11,\n",
       " 'B-flight_stop': 21,\n",
       " 'B-depart_date.today_relative': 9,\n",
       " 'B-toloc.state_name': 28,\n",
       " 'B-arrive_date.month_name': 6,\n",
       " 'B-arrive_date.day_number': 6,\n",
       " 'B-arrive_time.start_time': 8,\n",
       " 'B-arrive_time.end_time': 8,\n",
       " 'I-arrive_time.end_time': 8,\n",
       " 'B-airport_name': 21,\n",
       " 'I-airport_name': 49,\n",
       " 'B-connect': 6,\n",
       " 'B-fromloc.airport_name': 12,\n",
       " 'I-fromloc.airport_name': 25,\n",
       " 'B-meal': 16,\n",
       " 'B-flight_number': 17,\n",
       " 'I-flight_number': 1,\n",
       " 'B-return_date.date_relative': 3,\n",
       " 'I-return_date.date_relative': 5,\n",
       " 'B-arrive_time.period_of_day': 6,\n",
       " 'B-fromloc.state_name': 17,\n",
       " 'B-city_name': 59,\n",
       " 'I-city_name': 44,\n",
       " 'I-depart_date.day_number': 15,\n",
       " 'I-depart_time.period_of_day': 1,\n",
       " 'B-cost_relative': 37,\n",
       " 'I-cost_relative': 3,\n",
       " 'B-flight_time': 1,\n",
       " 'I-flight_time': 1,\n",
       " 'B-flight_mod': 26,\n",
       " 'B-class_type': 30,\n",
       " 'I-class_type': 17,\n",
       " 'B-airline_code': 36,\n",
       " 'B-toloc.airport_code': 4,\n",
       " 'B-transport_type': 10,\n",
       " 'B-depart_time.start_time': 3,\n",
       " 'B-depart_time.end_time': 3,\n",
       " 'I-depart_time.end_time': 3,\n",
       " 'B-toloc.airport_name': 3,\n",
       " 'I-toloc.airport_name': 3,\n",
       " 'B-aircraft_code': 33,\n",
       " 'B-toloc.country_name': 1,\n",
       " 'B-mod': 2,\n",
       " 'B-state_name': 17,\n",
       " 'B-compartment': 1,\n",
       " 'B-meal_code': 1,\n",
       " 'B-day_name': 2,\n",
       " 'B-toloc.state_code': 18,\n",
       " 'B-fromloc.state_code': 23,\n",
       " 'B-depart_time.period_mod': 5,\n",
       " 'B-fromloc.airport_code': 5,\n",
       " 'B-fare_basis_code': 17,\n",
       " 'B-flight_days': 10,\n",
       " 'B-depart_date.year': 3,\n",
       " 'B-period_of_day': 6,\n",
       " 'I-flight_mod': 6,\n",
       " 'B-state_code': 1,\n",
       " 'B-restriction_code': 4,\n",
       " 'I-restriction_code': 3,\n",
       " 'B-airport_code': 9,\n",
       " 'B-days_code': 1,\n",
       " 'I-arrive_time.time_relative': 8,\n",
       " 'B-or': 3,\n",
       " 'B-stoploc.airport_code': 1,\n",
       " 'I-depart_time.time_relative': 1,\n",
       " 'I-state_name': 1,\n",
       " 'B-economy': 6,\n",
       " 'B-booking_class': 1,\n",
       " 'B-fare_amount': 2,\n",
       " 'I-fare_amount': 2,\n",
       " 'B-flight': 1,\n",
       " 'I-depart_time.start_time': 1,\n",
       " 'I-arrive_time.start_time': 1,\n",
       " 'I-transport_type': 1,\n",
       " 'I-fromloc.state_name': 1,\n",
       " 'I-toloc.state_name': 1}"
      ]
     },
     "execution_count": 11,
     "metadata": {},
     "output_type": "execute_result"
    }
   ],
   "source": [
    "test_tags_freq = dict()\n",
    "for item in test_tags:\n",
    "    for tag in item:\n",
    "        if (tag in test_tags_freq): test_tags_freq[tag] += item.count(tag)\n",
    "        else: test_tags_freq[tag] = item.count(tag)\n",
    "test_tags_freq"
   ]
  },
  {
   "cell_type": "code",
   "execution_count": 12,
   "id": "d1d1dd6f",
   "metadata": {},
   "outputs": [
    {
     "data": {
      "text/plain": [
       "{'atis_day_name'}"
      ]
     },
     "execution_count": 12,
     "metadata": {},
     "output_type": "execute_result"
    }
   ],
   "source": [
    "set(test_intents).difference(set(train_intents))"
   ]
  },
  {
   "cell_type": "markdown",
   "id": "7d2bd21e",
   "metadata": {},
   "source": [
    "so from above, we see there are no train data for 'atis_day_name'..."
   ]
  },
  {
   "cell_type": "code",
   "execution_count": 13,
   "id": "a0fe48b0",
   "metadata": {},
   "outputs": [
    {
     "data": {
      "text/plain": [
       "{'atis_cheapest', 'atis_restriction'}"
      ]
     },
     "execution_count": 13,
     "metadata": {},
     "output_type": "execute_result"
    }
   ],
   "source": [
    "set(train_intents).difference(set(test_intents))"
   ]
  },
  {
   "cell_type": "markdown",
   "id": "e1e17cd3",
   "metadata": {},
   "source": [
    "and there are no test data for 'atis_cheapest' & 'atis_restriction'..."
   ]
  },
  {
   "cell_type": "code",
   "execution_count": 14,
   "id": "cd22f79f",
   "metadata": {},
   "outputs": [
    {
     "data": {
      "text/plain": [
       "{'B-booking_class',\n",
       " 'B-compartment',\n",
       " 'B-flight',\n",
       " 'B-stoploc.airport_code',\n",
       " 'I-flight_number',\n",
       " 'I-state_name'}"
      ]
     },
     "execution_count": 14,
     "metadata": {},
     "output_type": "execute_result"
    }
   ],
   "source": [
    "set(test_tags_freq.keys()).difference(set(train_tags_freq.keys()))"
   ]
  },
  {
   "cell_type": "markdown",
   "id": "51dcf4ac",
   "metadata": {},
   "source": [
    "also we see there are no train data with 'B-stoploc.airport_code' or 'B-booking_class' or 'I-flight_number' or 'I-state_name' or 'B-flight' or 'B-compartment' tag..."
   ]
  },
  {
   "cell_type": "code",
   "execution_count": 15,
   "id": "2ede1f12",
   "metadata": {},
   "outputs": [
    {
     "data": {
      "text/plain": [
       "{'B-arrive_date.today_relative',\n",
       " 'B-arrive_time.period_mod',\n",
       " 'B-day_number',\n",
       " 'B-month_name',\n",
       " 'B-return_date.day_number',\n",
       " 'B-return_date.month_name',\n",
       " 'B-return_date.today_relative',\n",
       " 'B-return_time.period_mod',\n",
       " 'B-return_time.period_of_day',\n",
       " 'B-stoploc.airport_name',\n",
       " 'B-stoploc.state_code',\n",
       " 'B-time',\n",
       " 'B-time_relative',\n",
       " 'B-today_relative',\n",
       " 'I-arrive_date.day_number',\n",
       " 'I-arrive_time.period_of_day',\n",
       " 'I-depart_date.today_relative',\n",
       " 'I-economy',\n",
       " 'I-fare_basis_code',\n",
       " 'I-flight_stop',\n",
       " 'I-meal_code',\n",
       " 'I-meal_description',\n",
       " 'I-return_date.day_number',\n",
       " 'I-return_date.today_relative',\n",
       " 'I-time',\n",
       " 'I-today_relative'}"
      ]
     },
     "execution_count": 15,
     "metadata": {},
     "output_type": "execute_result"
    }
   ],
   "source": [
    "set(train_tags_freq.keys()).difference(set(test_tags_freq.keys()))"
   ]
  },
  {
   "cell_type": "markdown",
   "id": "6ecba92b",
   "metadata": {},
   "source": [
    "and finally there are no train data with 'I-return_date.day_number' or 'B-return_time.period_mod' or ... tag."
   ]
  },
  {
   "cell_type": "code",
   "execution_count": 16,
   "id": "7aac8ad0",
   "metadata": {},
   "outputs": [],
   "source": [
    "#TO-DO: find and remove duplicates if exists in train dataset?\n",
    "#TO-DO: research on imbalance data handling techniques"
   ]
  }
 ],
 "metadata": {
  "kernelspec": {
   "display_name": "Python 3",
   "language": "python",
   "name": "python3"
  },
  "language_info": {
   "codemirror_mode": {
    "name": "ipython",
    "version": 3
   },
   "file_extension": ".py",
   "mimetype": "text/x-python",
   "name": "python",
   "nbconvert_exporter": "python",
   "pygments_lexer": "ipython3",
   "version": "3.7.10"
  }
 },
 "nbformat": 4,
 "nbformat_minor": 5
}

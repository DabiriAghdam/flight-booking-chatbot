{
  "nbformat": 4,
  "nbformat_minor": 5,
  "metadata": {
    "colab": {
      "name": "Pre-Processing.ipynb",
      "provenance": [],
      "collapsed_sections": []
    },
    "kernelspec": {
      "display_name": "Python 3",
      "language": "python",
      "name": "python3"
    },
    "language_info": {
      "codemirror_mode": {
        "name": "ipython",
        "version": 3
      },
      "file_extension": ".py",
      "mimetype": "text/x-python",
      "name": "python",
      "nbconvert_exporter": "python",
      "pygments_lexer": "ipython3",
      "version": "3.7.10"
    },
    "widgets": {
      "application/vnd.jupyter.widget-state+json": {
        "54ae5eabd2e341bfae6f838c40878bf8": {
          "model_module": "@jupyter-widgets/controls",
          "model_name": "HBoxModel",
          "model_module_version": "1.5.0",
          "state": {
            "_view_name": "HBoxView",
            "_dom_classes": [],
            "_model_name": "HBoxModel",
            "_view_module": "@jupyter-widgets/controls",
            "_model_module_version": "1.5.0",
            "_view_count": null,
            "_view_module_version": "1.5.0",
            "box_style": "",
            "layout": "IPY_MODEL_34cbb0a03d4b40aea1ffeaa8a55fa5e1",
            "_model_module": "@jupyter-widgets/controls",
            "children": [
              "IPY_MODEL_e64559d213e14c1684b6024bc17822ce",
              "IPY_MODEL_d39b47c26f3f41deb43e3853231c7af6",
              "IPY_MODEL_973a1be199544a92a59f64364b354ab5"
            ]
          }
        },
        "34cbb0a03d4b40aea1ffeaa8a55fa5e1": {
          "model_module": "@jupyter-widgets/base",
          "model_name": "LayoutModel",
          "model_module_version": "1.2.0",
          "state": {
            "_view_name": "LayoutView",
            "grid_template_rows": null,
            "right": null,
            "justify_content": null,
            "_view_module": "@jupyter-widgets/base",
            "overflow": null,
            "_model_module_version": "1.2.0",
            "_view_count": null,
            "flex_flow": null,
            "width": null,
            "min_width": null,
            "border": null,
            "align_items": null,
            "bottom": null,
            "_model_module": "@jupyter-widgets/base",
            "top": null,
            "grid_column": null,
            "overflow_y": null,
            "overflow_x": null,
            "grid_auto_flow": null,
            "grid_area": null,
            "grid_template_columns": null,
            "flex": null,
            "_model_name": "LayoutModel",
            "justify_items": null,
            "grid_row": null,
            "max_height": null,
            "align_content": null,
            "visibility": null,
            "align_self": null,
            "height": null,
            "min_height": null,
            "padding": null,
            "grid_auto_rows": null,
            "grid_gap": null,
            "max_width": null,
            "order": null,
            "_view_module_version": "1.2.0",
            "grid_template_areas": null,
            "object_position": null,
            "object_fit": null,
            "grid_auto_columns": null,
            "margin": null,
            "display": null,
            "left": null
          }
        },
        "e64559d213e14c1684b6024bc17822ce": {
          "model_module": "@jupyter-widgets/controls",
          "model_name": "HTMLModel",
          "model_module_version": "1.5.0",
          "state": {
            "_view_name": "HTMLView",
            "style": "IPY_MODEL_069614b07b424d7a8c04af784d2e5b4e",
            "_dom_classes": [],
            "description": "",
            "_model_name": "HTMLModel",
            "placeholder": "​",
            "_view_module": "@jupyter-widgets/controls",
            "_model_module_version": "1.5.0",
            "value": "Downloading: 100%",
            "_view_count": null,
            "_view_module_version": "1.5.0",
            "description_tooltip": null,
            "_model_module": "@jupyter-widgets/controls",
            "layout": "IPY_MODEL_9b23109dc9aa4e8694a4814b8001525f"
          }
        },
        "d39b47c26f3f41deb43e3853231c7af6": {
          "model_module": "@jupyter-widgets/controls",
          "model_name": "FloatProgressModel",
          "model_module_version": "1.5.0",
          "state": {
            "_view_name": "ProgressView",
            "style": "IPY_MODEL_c8cbacffac1340deb5ef94c45bb6afcd",
            "_dom_classes": [],
            "description": "",
            "_model_name": "FloatProgressModel",
            "bar_style": "success",
            "max": 690,
            "_view_module": "@jupyter-widgets/controls",
            "_model_module_version": "1.5.0",
            "value": 690,
            "_view_count": null,
            "_view_module_version": "1.5.0",
            "orientation": "horizontal",
            "min": 0,
            "description_tooltip": null,
            "_model_module": "@jupyter-widgets/controls",
            "layout": "IPY_MODEL_35d8c7e3534f4c3b83f5898bd71c21c3"
          }
        },
        "973a1be199544a92a59f64364b354ab5": {
          "model_module": "@jupyter-widgets/controls",
          "model_name": "HTMLModel",
          "model_module_version": "1.5.0",
          "state": {
            "_view_name": "HTMLView",
            "style": "IPY_MODEL_03889366e67444058078c0761efc8e7a",
            "_dom_classes": [],
            "description": "",
            "_model_name": "HTMLModel",
            "placeholder": "​",
            "_view_module": "@jupyter-widgets/controls",
            "_model_module_version": "1.5.0",
            "value": " 690/690 [00:00&lt;00:00, 14.4kB/s]",
            "_view_count": null,
            "_view_module_version": "1.5.0",
            "description_tooltip": null,
            "_model_module": "@jupyter-widgets/controls",
            "layout": "IPY_MODEL_251b77d364a840b0bf7007cab74938fa"
          }
        },
        "069614b07b424d7a8c04af784d2e5b4e": {
          "model_module": "@jupyter-widgets/controls",
          "model_name": "DescriptionStyleModel",
          "model_module_version": "1.5.0",
          "state": {
            "_view_name": "StyleView",
            "_model_name": "DescriptionStyleModel",
            "description_width": "",
            "_view_module": "@jupyter-widgets/base",
            "_model_module_version": "1.5.0",
            "_view_count": null,
            "_view_module_version": "1.2.0",
            "_model_module": "@jupyter-widgets/controls"
          }
        },
        "9b23109dc9aa4e8694a4814b8001525f": {
          "model_module": "@jupyter-widgets/base",
          "model_name": "LayoutModel",
          "model_module_version": "1.2.0",
          "state": {
            "_view_name": "LayoutView",
            "grid_template_rows": null,
            "right": null,
            "justify_content": null,
            "_view_module": "@jupyter-widgets/base",
            "overflow": null,
            "_model_module_version": "1.2.0",
            "_view_count": null,
            "flex_flow": null,
            "width": null,
            "min_width": null,
            "border": null,
            "align_items": null,
            "bottom": null,
            "_model_module": "@jupyter-widgets/base",
            "top": null,
            "grid_column": null,
            "overflow_y": null,
            "overflow_x": null,
            "grid_auto_flow": null,
            "grid_area": null,
            "grid_template_columns": null,
            "flex": null,
            "_model_name": "LayoutModel",
            "justify_items": null,
            "grid_row": null,
            "max_height": null,
            "align_content": null,
            "visibility": null,
            "align_self": null,
            "height": null,
            "min_height": null,
            "padding": null,
            "grid_auto_rows": null,
            "grid_gap": null,
            "max_width": null,
            "order": null,
            "_view_module_version": "1.2.0",
            "grid_template_areas": null,
            "object_position": null,
            "object_fit": null,
            "grid_auto_columns": null,
            "margin": null,
            "display": null,
            "left": null
          }
        },
        "c8cbacffac1340deb5ef94c45bb6afcd": {
          "model_module": "@jupyter-widgets/controls",
          "model_name": "ProgressStyleModel",
          "model_module_version": "1.5.0",
          "state": {
            "_view_name": "StyleView",
            "_model_name": "ProgressStyleModel",
            "description_width": "",
            "_view_module": "@jupyter-widgets/base",
            "_model_module_version": "1.5.0",
            "_view_count": null,
            "_view_module_version": "1.2.0",
            "bar_color": null,
            "_model_module": "@jupyter-widgets/controls"
          }
        },
        "35d8c7e3534f4c3b83f5898bd71c21c3": {
          "model_module": "@jupyter-widgets/base",
          "model_name": "LayoutModel",
          "model_module_version": "1.2.0",
          "state": {
            "_view_name": "LayoutView",
            "grid_template_rows": null,
            "right": null,
            "justify_content": null,
            "_view_module": "@jupyter-widgets/base",
            "overflow": null,
            "_model_module_version": "1.2.0",
            "_view_count": null,
            "flex_flow": null,
            "width": null,
            "min_width": null,
            "border": null,
            "align_items": null,
            "bottom": null,
            "_model_module": "@jupyter-widgets/base",
            "top": null,
            "grid_column": null,
            "overflow_y": null,
            "overflow_x": null,
            "grid_auto_flow": null,
            "grid_area": null,
            "grid_template_columns": null,
            "flex": null,
            "_model_name": "LayoutModel",
            "justify_items": null,
            "grid_row": null,
            "max_height": null,
            "align_content": null,
            "visibility": null,
            "align_self": null,
            "height": null,
            "min_height": null,
            "padding": null,
            "grid_auto_rows": null,
            "grid_gap": null,
            "max_width": null,
            "order": null,
            "_view_module_version": "1.2.0",
            "grid_template_areas": null,
            "object_position": null,
            "object_fit": null,
            "grid_auto_columns": null,
            "margin": null,
            "display": null,
            "left": null
          }
        },
        "03889366e67444058078c0761efc8e7a": {
          "model_module": "@jupyter-widgets/controls",
          "model_name": "DescriptionStyleModel",
          "model_module_version": "1.5.0",
          "state": {
            "_view_name": "StyleView",
            "_model_name": "DescriptionStyleModel",
            "description_width": "",
            "_view_module": "@jupyter-widgets/base",
            "_model_module_version": "1.5.0",
            "_view_count": null,
            "_view_module_version": "1.2.0",
            "_model_module": "@jupyter-widgets/controls"
          }
        },
        "251b77d364a840b0bf7007cab74938fa": {
          "model_module": "@jupyter-widgets/base",
          "model_name": "LayoutModel",
          "model_module_version": "1.2.0",
          "state": {
            "_view_name": "LayoutView",
            "grid_template_rows": null,
            "right": null,
            "justify_content": null,
            "_view_module": "@jupyter-widgets/base",
            "overflow": null,
            "_model_module_version": "1.2.0",
            "_view_count": null,
            "flex_flow": null,
            "width": null,
            "min_width": null,
            "border": null,
            "align_items": null,
            "bottom": null,
            "_model_module": "@jupyter-widgets/base",
            "top": null,
            "grid_column": null,
            "overflow_y": null,
            "overflow_x": null,
            "grid_auto_flow": null,
            "grid_area": null,
            "grid_template_columns": null,
            "flex": null,
            "_model_name": "LayoutModel",
            "justify_items": null,
            "grid_row": null,
            "max_height": null,
            "align_content": null,
            "visibility": null,
            "align_self": null,
            "height": null,
            "min_height": null,
            "padding": null,
            "grid_auto_rows": null,
            "grid_gap": null,
            "max_width": null,
            "order": null,
            "_view_module_version": "1.2.0",
            "grid_template_areas": null,
            "object_position": null,
            "object_fit": null,
            "grid_auto_columns": null,
            "margin": null,
            "display": null,
            "left": null
          }
        },
        "ed4bcec53aa8483aa204ca177f22c0b6": {
          "model_module": "@jupyter-widgets/controls",
          "model_name": "HBoxModel",
          "model_module_version": "1.5.0",
          "state": {
            "_view_name": "HBoxView",
            "_dom_classes": [],
            "_model_name": "HBoxModel",
            "_view_module": "@jupyter-widgets/controls",
            "_model_module_version": "1.5.0",
            "_view_count": null,
            "_view_module_version": "1.5.0",
            "box_style": "",
            "layout": "IPY_MODEL_4e365b7a9b1048cf904dbecdd445848c",
            "_model_module": "@jupyter-widgets/controls",
            "children": [
              "IPY_MODEL_30b98985215a4af5ae78865290cf057b",
              "IPY_MODEL_735140af4ed04422ba4fcee18158030b",
              "IPY_MODEL_13d1701237904f5995e46b4da7dcb7f6"
            ]
          }
        },
        "4e365b7a9b1048cf904dbecdd445848c": {
          "model_module": "@jupyter-widgets/base",
          "model_name": "LayoutModel",
          "model_module_version": "1.2.0",
          "state": {
            "_view_name": "LayoutView",
            "grid_template_rows": null,
            "right": null,
            "justify_content": null,
            "_view_module": "@jupyter-widgets/base",
            "overflow": null,
            "_model_module_version": "1.2.0",
            "_view_count": null,
            "flex_flow": null,
            "width": null,
            "min_width": null,
            "border": null,
            "align_items": null,
            "bottom": null,
            "_model_module": "@jupyter-widgets/base",
            "top": null,
            "grid_column": null,
            "overflow_y": null,
            "overflow_x": null,
            "grid_auto_flow": null,
            "grid_area": null,
            "grid_template_columns": null,
            "flex": null,
            "_model_name": "LayoutModel",
            "justify_items": null,
            "grid_row": null,
            "max_height": null,
            "align_content": null,
            "visibility": null,
            "align_self": null,
            "height": null,
            "min_height": null,
            "padding": null,
            "grid_auto_rows": null,
            "grid_gap": null,
            "max_width": null,
            "order": null,
            "_view_module_version": "1.2.0",
            "grid_template_areas": null,
            "object_position": null,
            "object_fit": null,
            "grid_auto_columns": null,
            "margin": null,
            "display": null,
            "left": null
          }
        },
        "30b98985215a4af5ae78865290cf057b": {
          "model_module": "@jupyter-widgets/controls",
          "model_name": "HTMLModel",
          "model_module_version": "1.5.0",
          "state": {
            "_view_name": "HTMLView",
            "style": "IPY_MODEL_cceeec805de249788cb76a9194630479",
            "_dom_classes": [],
            "description": "",
            "_model_name": "HTMLModel",
            "placeholder": "​",
            "_view_module": "@jupyter-widgets/controls",
            "_model_module_version": "1.5.0",
            "value": "Downloading: 100%",
            "_view_count": null,
            "_view_module_version": "1.5.0",
            "description_tooltip": null,
            "_model_module": "@jupyter-widgets/controls",
            "layout": "IPY_MODEL_919b1b1f6564450a830791c7d3edbd6d"
          }
        },
        "735140af4ed04422ba4fcee18158030b": {
          "model_module": "@jupyter-widgets/controls",
          "model_name": "FloatProgressModel",
          "model_module_version": "1.5.0",
          "state": {
            "_view_name": "ProgressView",
            "style": "IPY_MODEL_ed544ba82f2c493aa011489b57efbdae",
            "_dom_classes": [],
            "description": "",
            "_model_name": "FloatProgressModel",
            "bar_style": "success",
            "max": 3699,
            "_view_module": "@jupyter-widgets/controls",
            "_model_module_version": "1.5.0",
            "value": 3699,
            "_view_count": null,
            "_view_module_version": "1.5.0",
            "orientation": "horizontal",
            "min": 0,
            "description_tooltip": null,
            "_model_module": "@jupyter-widgets/controls",
            "layout": "IPY_MODEL_bf1e22fd5ddf4c0c8cf4fce973d13d23"
          }
        },
        "13d1701237904f5995e46b4da7dcb7f6": {
          "model_module": "@jupyter-widgets/controls",
          "model_name": "HTMLModel",
          "model_module_version": "1.5.0",
          "state": {
            "_view_name": "HTMLView",
            "style": "IPY_MODEL_f0df66be59de4bbc8e5453665151c56f",
            "_dom_classes": [],
            "description": "",
            "_model_name": "HTMLModel",
            "placeholder": "​",
            "_view_module": "@jupyter-widgets/controls",
            "_model_module_version": "1.5.0",
            "value": " 3.70k/3.70k [00:00&lt;00:00, 107kB/s]",
            "_view_count": null,
            "_view_module_version": "1.5.0",
            "description_tooltip": null,
            "_model_module": "@jupyter-widgets/controls",
            "layout": "IPY_MODEL_15083cd06c9347eb8e7581d017b1064b"
          }
        },
        "cceeec805de249788cb76a9194630479": {
          "model_module": "@jupyter-widgets/controls",
          "model_name": "DescriptionStyleModel",
          "model_module_version": "1.5.0",
          "state": {
            "_view_name": "StyleView",
            "_model_name": "DescriptionStyleModel",
            "description_width": "",
            "_view_module": "@jupyter-widgets/base",
            "_model_module_version": "1.5.0",
            "_view_count": null,
            "_view_module_version": "1.2.0",
            "_model_module": "@jupyter-widgets/controls"
          }
        },
        "919b1b1f6564450a830791c7d3edbd6d": {
          "model_module": "@jupyter-widgets/base",
          "model_name": "LayoutModel",
          "model_module_version": "1.2.0",
          "state": {
            "_view_name": "LayoutView",
            "grid_template_rows": null,
            "right": null,
            "justify_content": null,
            "_view_module": "@jupyter-widgets/base",
            "overflow": null,
            "_model_module_version": "1.2.0",
            "_view_count": null,
            "flex_flow": null,
            "width": null,
            "min_width": null,
            "border": null,
            "align_items": null,
            "bottom": null,
            "_model_module": "@jupyter-widgets/base",
            "top": null,
            "grid_column": null,
            "overflow_y": null,
            "overflow_x": null,
            "grid_auto_flow": null,
            "grid_area": null,
            "grid_template_columns": null,
            "flex": null,
            "_model_name": "LayoutModel",
            "justify_items": null,
            "grid_row": null,
            "max_height": null,
            "align_content": null,
            "visibility": null,
            "align_self": null,
            "height": null,
            "min_height": null,
            "padding": null,
            "grid_auto_rows": null,
            "grid_gap": null,
            "max_width": null,
            "order": null,
            "_view_module_version": "1.2.0",
            "grid_template_areas": null,
            "object_position": null,
            "object_fit": null,
            "grid_auto_columns": null,
            "margin": null,
            "display": null,
            "left": null
          }
        },
        "ed544ba82f2c493aa011489b57efbdae": {
          "model_module": "@jupyter-widgets/controls",
          "model_name": "ProgressStyleModel",
          "model_module_version": "1.5.0",
          "state": {
            "_view_name": "StyleView",
            "_model_name": "ProgressStyleModel",
            "description_width": "",
            "_view_module": "@jupyter-widgets/base",
            "_model_module_version": "1.5.0",
            "_view_count": null,
            "_view_module_version": "1.2.0",
            "bar_color": null,
            "_model_module": "@jupyter-widgets/controls"
          }
        },
        "bf1e22fd5ddf4c0c8cf4fce973d13d23": {
          "model_module": "@jupyter-widgets/base",
          "model_name": "LayoutModel",
          "model_module_version": "1.2.0",
          "state": {
            "_view_name": "LayoutView",
            "grid_template_rows": null,
            "right": null,
            "justify_content": null,
            "_view_module": "@jupyter-widgets/base",
            "overflow": null,
            "_model_module_version": "1.2.0",
            "_view_count": null,
            "flex_flow": null,
            "width": null,
            "min_width": null,
            "border": null,
            "align_items": null,
            "bottom": null,
            "_model_module": "@jupyter-widgets/base",
            "top": null,
            "grid_column": null,
            "overflow_y": null,
            "overflow_x": null,
            "grid_auto_flow": null,
            "grid_area": null,
            "grid_template_columns": null,
            "flex": null,
            "_model_name": "LayoutModel",
            "justify_items": null,
            "grid_row": null,
            "max_height": null,
            "align_content": null,
            "visibility": null,
            "align_self": null,
            "height": null,
            "min_height": null,
            "padding": null,
            "grid_auto_rows": null,
            "grid_gap": null,
            "max_width": null,
            "order": null,
            "_view_module_version": "1.2.0",
            "grid_template_areas": null,
            "object_position": null,
            "object_fit": null,
            "grid_auto_columns": null,
            "margin": null,
            "display": null,
            "left": null
          }
        },
        "f0df66be59de4bbc8e5453665151c56f": {
          "model_module": "@jupyter-widgets/controls",
          "model_name": "DescriptionStyleModel",
          "model_module_version": "1.5.0",
          "state": {
            "_view_name": "StyleView",
            "_model_name": "DescriptionStyleModel",
            "description_width": "",
            "_view_module": "@jupyter-widgets/base",
            "_model_module_version": "1.5.0",
            "_view_count": null,
            "_view_module_version": "1.2.0",
            "_model_module": "@jupyter-widgets/controls"
          }
        },
        "15083cd06c9347eb8e7581d017b1064b": {
          "model_module": "@jupyter-widgets/base",
          "model_name": "LayoutModel",
          "model_module_version": "1.2.0",
          "state": {
            "_view_name": "LayoutView",
            "grid_template_rows": null,
            "right": null,
            "justify_content": null,
            "_view_module": "@jupyter-widgets/base",
            "overflow": null,
            "_model_module_version": "1.2.0",
            "_view_count": null,
            "flex_flow": null,
            "width": null,
            "min_width": null,
            "border": null,
            "align_items": null,
            "bottom": null,
            "_model_module": "@jupyter-widgets/base",
            "top": null,
            "grid_column": null,
            "overflow_y": null,
            "overflow_x": null,
            "grid_auto_flow": null,
            "grid_area": null,
            "grid_template_columns": null,
            "flex": null,
            "_model_name": "LayoutModel",
            "justify_items": null,
            "grid_row": null,
            "max_height": null,
            "align_content": null,
            "visibility": null,
            "align_self": null,
            "height": null,
            "min_height": null,
            "padding": null,
            "grid_auto_rows": null,
            "grid_gap": null,
            "max_width": null,
            "order": null,
            "_view_module_version": "1.2.0",
            "grid_template_areas": null,
            "object_position": null,
            "object_fit": null,
            "grid_auto_columns": null,
            "margin": null,
            "display": null,
            "left": null
          }
        },
        "3346e4ad63af430b8487562e5c063404": {
          "model_module": "@jupyter-widgets/controls",
          "model_name": "HBoxModel",
          "model_module_version": "1.5.0",
          "state": {
            "_view_name": "HBoxView",
            "_dom_classes": [],
            "_model_name": "HBoxModel",
            "_view_module": "@jupyter-widgets/controls",
            "_model_module_version": "1.5.0",
            "_view_count": null,
            "_view_module_version": "1.5.0",
            "box_style": "",
            "layout": "IPY_MODEL_f7eb37865b8e450c98fef69493c81960",
            "_model_module": "@jupyter-widgets/controls",
            "children": [
              "IPY_MODEL_abef938ba23749a5b9152dee0c3f2265",
              "IPY_MODEL_f245327fe091474585d9974bcfb3590c",
              "IPY_MODEL_b9d92d6c88df4d6ca294005492172520"
            ]
          }
        },
        "f7eb37865b8e450c98fef69493c81960": {
          "model_module": "@jupyter-widgets/base",
          "model_name": "LayoutModel",
          "model_module_version": "1.2.0",
          "state": {
            "_view_name": "LayoutView",
            "grid_template_rows": null,
            "right": null,
            "justify_content": null,
            "_view_module": "@jupyter-widgets/base",
            "overflow": null,
            "_model_module_version": "1.2.0",
            "_view_count": null,
            "flex_flow": null,
            "width": null,
            "min_width": null,
            "border": null,
            "align_items": null,
            "bottom": null,
            "_model_module": "@jupyter-widgets/base",
            "top": null,
            "grid_column": null,
            "overflow_y": null,
            "overflow_x": null,
            "grid_auto_flow": null,
            "grid_area": null,
            "grid_template_columns": null,
            "flex": null,
            "_model_name": "LayoutModel",
            "justify_items": null,
            "grid_row": null,
            "max_height": null,
            "align_content": null,
            "visibility": null,
            "align_self": null,
            "height": null,
            "min_height": null,
            "padding": null,
            "grid_auto_rows": null,
            "grid_gap": null,
            "max_width": null,
            "order": null,
            "_view_module_version": "1.2.0",
            "grid_template_areas": null,
            "object_position": null,
            "object_fit": null,
            "grid_auto_columns": null,
            "margin": null,
            "display": null,
            "left": null
          }
        },
        "abef938ba23749a5b9152dee0c3f2265": {
          "model_module": "@jupyter-widgets/controls",
          "model_name": "HTMLModel",
          "model_module_version": "1.5.0",
          "state": {
            "_view_name": "HTMLView",
            "style": "IPY_MODEL_5b8279a0a4d240e7a1c2cc088cdb29bf",
            "_dom_classes": [],
            "description": "",
            "_model_name": "HTMLModel",
            "placeholder": "​",
            "_view_module": "@jupyter-widgets/controls",
            "_model_module_version": "1.5.0",
            "value": "Downloading: 100%",
            "_view_count": null,
            "_view_module_version": "1.5.0",
            "description_tooltip": null,
            "_model_module": "@jupyter-widgets/controls",
            "layout": "IPY_MODEL_001e22778d25473aadc30ea19b680edf"
          }
        },
        "f245327fe091474585d9974bcfb3590c": {
          "model_module": "@jupyter-widgets/controls",
          "model_name": "FloatProgressModel",
          "model_module_version": "1.5.0",
          "state": {
            "_view_name": "ProgressView",
            "style": "IPY_MODEL_193e5305e09f4182970d2523c1e7caa8",
            "_dom_classes": [],
            "description": "",
            "_model_name": "FloatProgressModel",
            "bar_style": "success",
            "max": 594,
            "_view_module": "@jupyter-widgets/controls",
            "_model_module_version": "1.5.0",
            "value": 594,
            "_view_count": null,
            "_view_module_version": "1.5.0",
            "orientation": "horizontal",
            "min": 0,
            "description_tooltip": null,
            "_model_module": "@jupyter-widgets/controls",
            "layout": "IPY_MODEL_62f0e1d253744fd286445c7888542aeb"
          }
        },
        "b9d92d6c88df4d6ca294005492172520": {
          "model_module": "@jupyter-widgets/controls",
          "model_name": "HTMLModel",
          "model_module_version": "1.5.0",
          "state": {
            "_view_name": "HTMLView",
            "style": "IPY_MODEL_984fc7dfcfef453580df42185d036f8a",
            "_dom_classes": [],
            "description": "",
            "_model_name": "HTMLModel",
            "placeholder": "​",
            "_view_module": "@jupyter-widgets/controls",
            "_model_module_version": "1.5.0",
            "value": " 594/594 [00:00&lt;00:00, 15.0kB/s]",
            "_view_count": null,
            "_view_module_version": "1.5.0",
            "description_tooltip": null,
            "_model_module": "@jupyter-widgets/controls",
            "layout": "IPY_MODEL_1ec14edc1f374c10888fa0f68e6f7186"
          }
        },
        "5b8279a0a4d240e7a1c2cc088cdb29bf": {
          "model_module": "@jupyter-widgets/controls",
          "model_name": "DescriptionStyleModel",
          "model_module_version": "1.5.0",
          "state": {
            "_view_name": "StyleView",
            "_model_name": "DescriptionStyleModel",
            "description_width": "",
            "_view_module": "@jupyter-widgets/base",
            "_model_module_version": "1.5.0",
            "_view_count": null,
            "_view_module_version": "1.2.0",
            "_model_module": "@jupyter-widgets/controls"
          }
        },
        "001e22778d25473aadc30ea19b680edf": {
          "model_module": "@jupyter-widgets/base",
          "model_name": "LayoutModel",
          "model_module_version": "1.2.0",
          "state": {
            "_view_name": "LayoutView",
            "grid_template_rows": null,
            "right": null,
            "justify_content": null,
            "_view_module": "@jupyter-widgets/base",
            "overflow": null,
            "_model_module_version": "1.2.0",
            "_view_count": null,
            "flex_flow": null,
            "width": null,
            "min_width": null,
            "border": null,
            "align_items": null,
            "bottom": null,
            "_model_module": "@jupyter-widgets/base",
            "top": null,
            "grid_column": null,
            "overflow_y": null,
            "overflow_x": null,
            "grid_auto_flow": null,
            "grid_area": null,
            "grid_template_columns": null,
            "flex": null,
            "_model_name": "LayoutModel",
            "justify_items": null,
            "grid_row": null,
            "max_height": null,
            "align_content": null,
            "visibility": null,
            "align_self": null,
            "height": null,
            "min_height": null,
            "padding": null,
            "grid_auto_rows": null,
            "grid_gap": null,
            "max_width": null,
            "order": null,
            "_view_module_version": "1.2.0",
            "grid_template_areas": null,
            "object_position": null,
            "object_fit": null,
            "grid_auto_columns": null,
            "margin": null,
            "display": null,
            "left": null
          }
        },
        "193e5305e09f4182970d2523c1e7caa8": {
          "model_module": "@jupyter-widgets/controls",
          "model_name": "ProgressStyleModel",
          "model_module_version": "1.5.0",
          "state": {
            "_view_name": "StyleView",
            "_model_name": "ProgressStyleModel",
            "description_width": "",
            "_view_module": "@jupyter-widgets/base",
            "_model_module_version": "1.5.0",
            "_view_count": null,
            "_view_module_version": "1.2.0",
            "bar_color": null,
            "_model_module": "@jupyter-widgets/controls"
          }
        },
        "62f0e1d253744fd286445c7888542aeb": {
          "model_module": "@jupyter-widgets/base",
          "model_name": "LayoutModel",
          "model_module_version": "1.2.0",
          "state": {
            "_view_name": "LayoutView",
            "grid_template_rows": null,
            "right": null,
            "justify_content": null,
            "_view_module": "@jupyter-widgets/base",
            "overflow": null,
            "_model_module_version": "1.2.0",
            "_view_count": null,
            "flex_flow": null,
            "width": null,
            "min_width": null,
            "border": null,
            "align_items": null,
            "bottom": null,
            "_model_module": "@jupyter-widgets/base",
            "top": null,
            "grid_column": null,
            "overflow_y": null,
            "overflow_x": null,
            "grid_auto_flow": null,
            "grid_area": null,
            "grid_template_columns": null,
            "flex": null,
            "_model_name": "LayoutModel",
            "justify_items": null,
            "grid_row": null,
            "max_height": null,
            "align_content": null,
            "visibility": null,
            "align_self": null,
            "height": null,
            "min_height": null,
            "padding": null,
            "grid_auto_rows": null,
            "grid_gap": null,
            "max_width": null,
            "order": null,
            "_view_module_version": "1.2.0",
            "grid_template_areas": null,
            "object_position": null,
            "object_fit": null,
            "grid_auto_columns": null,
            "margin": null,
            "display": null,
            "left": null
          }
        },
        "984fc7dfcfef453580df42185d036f8a": {
          "model_module": "@jupyter-widgets/controls",
          "model_name": "DescriptionStyleModel",
          "model_module_version": "1.5.0",
          "state": {
            "_view_name": "StyleView",
            "_model_name": "DescriptionStyleModel",
            "description_width": "",
            "_view_module": "@jupyter-widgets/base",
            "_model_module_version": "1.5.0",
            "_view_count": null,
            "_view_module_version": "1.2.0",
            "_model_module": "@jupyter-widgets/controls"
          }
        },
        "1ec14edc1f374c10888fa0f68e6f7186": {
          "model_module": "@jupyter-widgets/base",
          "model_name": "LayoutModel",
          "model_module_version": "1.2.0",
          "state": {
            "_view_name": "LayoutView",
            "grid_template_rows": null,
            "right": null,
            "justify_content": null,
            "_view_module": "@jupyter-widgets/base",
            "overflow": null,
            "_model_module_version": "1.2.0",
            "_view_count": null,
            "flex_flow": null,
            "width": null,
            "min_width": null,
            "border": null,
            "align_items": null,
            "bottom": null,
            "_model_module": "@jupyter-widgets/base",
            "top": null,
            "grid_column": null,
            "overflow_y": null,
            "overflow_x": null,
            "grid_auto_flow": null,
            "grid_area": null,
            "grid_template_columns": null,
            "flex": null,
            "_model_name": "LayoutModel",
            "justify_items": null,
            "grid_row": null,
            "max_height": null,
            "align_content": null,
            "visibility": null,
            "align_self": null,
            "height": null,
            "min_height": null,
            "padding": null,
            "grid_auto_rows": null,
            "grid_gap": null,
            "max_width": null,
            "order": null,
            "_view_module_version": "1.2.0",
            "grid_template_areas": null,
            "object_position": null,
            "object_fit": null,
            "grid_auto_columns": null,
            "margin": null,
            "display": null,
            "left": null
          }
        },
        "19b4a21b84e74e0b9261565889f55fee": {
          "model_module": "@jupyter-widgets/controls",
          "model_name": "HBoxModel",
          "model_module_version": "1.5.0",
          "state": {
            "_view_name": "HBoxView",
            "_dom_classes": [],
            "_model_name": "HBoxModel",
            "_view_module": "@jupyter-widgets/controls",
            "_model_module_version": "1.5.0",
            "_view_count": null,
            "_view_module_version": "1.5.0",
            "box_style": "",
            "layout": "IPY_MODEL_f187b42342e9488eaa608750de9aaec3",
            "_model_module": "@jupyter-widgets/controls",
            "children": [
              "IPY_MODEL_3d624eaa25884620b439c2ef785fff8f",
              "IPY_MODEL_981f7da8233c4b078e332ce3e1a50b96",
              "IPY_MODEL_0c43a514713646908bb84fa5e7dcc46e"
            ]
          }
        },
        "f187b42342e9488eaa608750de9aaec3": {
          "model_module": "@jupyter-widgets/base",
          "model_name": "LayoutModel",
          "model_module_version": "1.2.0",
          "state": {
            "_view_name": "LayoutView",
            "grid_template_rows": null,
            "right": null,
            "justify_content": null,
            "_view_module": "@jupyter-widgets/base",
            "overflow": null,
            "_model_module_version": "1.2.0",
            "_view_count": null,
            "flex_flow": null,
            "width": null,
            "min_width": null,
            "border": null,
            "align_items": null,
            "bottom": null,
            "_model_module": "@jupyter-widgets/base",
            "top": null,
            "grid_column": null,
            "overflow_y": null,
            "overflow_x": null,
            "grid_auto_flow": null,
            "grid_area": null,
            "grid_template_columns": null,
            "flex": null,
            "_model_name": "LayoutModel",
            "justify_items": null,
            "grid_row": null,
            "max_height": null,
            "align_content": null,
            "visibility": null,
            "align_self": null,
            "height": null,
            "min_height": null,
            "padding": null,
            "grid_auto_rows": null,
            "grid_gap": null,
            "max_width": null,
            "order": null,
            "_view_module_version": "1.2.0",
            "grid_template_areas": null,
            "object_position": null,
            "object_fit": null,
            "grid_auto_columns": null,
            "margin": null,
            "display": null,
            "left": null
          }
        },
        "3d624eaa25884620b439c2ef785fff8f": {
          "model_module": "@jupyter-widgets/controls",
          "model_name": "HTMLModel",
          "model_module_version": "1.5.0",
          "state": {
            "_view_name": "HTMLView",
            "style": "IPY_MODEL_c2145bc8d36541d6a9ae2b23269a4dd1",
            "_dom_classes": [],
            "description": "",
            "_model_name": "HTMLModel",
            "placeholder": "​",
            "_view_module": "@jupyter-widgets/controls",
            "_model_module_version": "1.5.0",
            "value": "Downloading: 100%",
            "_view_count": null,
            "_view_module_version": "1.5.0",
            "description_tooltip": null,
            "_model_module": "@jupyter-widgets/controls",
            "layout": "IPY_MODEL_9a817deb28e942b59fd0fa5808ba4069"
          }
        },
        "981f7da8233c4b078e332ce3e1a50b96": {
          "model_module": "@jupyter-widgets/controls",
          "model_name": "FloatProgressModel",
          "model_module_version": "1.5.0",
          "state": {
            "_view_name": "ProgressView",
            "style": "IPY_MODEL_fbc003fee5ed4c348e4389a53f188aa0",
            "_dom_classes": [],
            "description": "",
            "_model_name": "FloatProgressModel",
            "bar_style": "success",
            "max": 122,
            "_view_module": "@jupyter-widgets/controls",
            "_model_module_version": "1.5.0",
            "value": 122,
            "_view_count": null,
            "_view_module_version": "1.5.0",
            "orientation": "horizontal",
            "min": 0,
            "description_tooltip": null,
            "_model_module": "@jupyter-widgets/controls",
            "layout": "IPY_MODEL_d994dcb924904e609f1344b658da65db"
          }
        },
        "0c43a514713646908bb84fa5e7dcc46e": {
          "model_module": "@jupyter-widgets/controls",
          "model_name": "HTMLModel",
          "model_module_version": "1.5.0",
          "state": {
            "_view_name": "HTMLView",
            "style": "IPY_MODEL_077a1fabe4174a2da0e82031c1c6dd9c",
            "_dom_classes": [],
            "description": "",
            "_model_name": "HTMLModel",
            "placeholder": "​",
            "_view_module": "@jupyter-widgets/controls",
            "_model_module_version": "1.5.0",
            "value": " 122/122 [00:00&lt;00:00, 3.29kB/s]",
            "_view_count": null,
            "_view_module_version": "1.5.0",
            "description_tooltip": null,
            "_model_module": "@jupyter-widgets/controls",
            "layout": "IPY_MODEL_f717e22a35bf462484dcd90c049ff71e"
          }
        },
        "c2145bc8d36541d6a9ae2b23269a4dd1": {
          "model_module": "@jupyter-widgets/controls",
          "model_name": "DescriptionStyleModel",
          "model_module_version": "1.5.0",
          "state": {
            "_view_name": "StyleView",
            "_model_name": "DescriptionStyleModel",
            "description_width": "",
            "_view_module": "@jupyter-widgets/base",
            "_model_module_version": "1.5.0",
            "_view_count": null,
            "_view_module_version": "1.2.0",
            "_model_module": "@jupyter-widgets/controls"
          }
        },
        "9a817deb28e942b59fd0fa5808ba4069": {
          "model_module": "@jupyter-widgets/base",
          "model_name": "LayoutModel",
          "model_module_version": "1.2.0",
          "state": {
            "_view_name": "LayoutView",
            "grid_template_rows": null,
            "right": null,
            "justify_content": null,
            "_view_module": "@jupyter-widgets/base",
            "overflow": null,
            "_model_module_version": "1.2.0",
            "_view_count": null,
            "flex_flow": null,
            "width": null,
            "min_width": null,
            "border": null,
            "align_items": null,
            "bottom": null,
            "_model_module": "@jupyter-widgets/base",
            "top": null,
            "grid_column": null,
            "overflow_y": null,
            "overflow_x": null,
            "grid_auto_flow": null,
            "grid_area": null,
            "grid_template_columns": null,
            "flex": null,
            "_model_name": "LayoutModel",
            "justify_items": null,
            "grid_row": null,
            "max_height": null,
            "align_content": null,
            "visibility": null,
            "align_self": null,
            "height": null,
            "min_height": null,
            "padding": null,
            "grid_auto_rows": null,
            "grid_gap": null,
            "max_width": null,
            "order": null,
            "_view_module_version": "1.2.0",
            "grid_template_areas": null,
            "object_position": null,
            "object_fit": null,
            "grid_auto_columns": null,
            "margin": null,
            "display": null,
            "left": null
          }
        },
        "fbc003fee5ed4c348e4389a53f188aa0": {
          "model_module": "@jupyter-widgets/controls",
          "model_name": "ProgressStyleModel",
          "model_module_version": "1.5.0",
          "state": {
            "_view_name": "StyleView",
            "_model_name": "ProgressStyleModel",
            "description_width": "",
            "_view_module": "@jupyter-widgets/base",
            "_model_module_version": "1.5.0",
            "_view_count": null,
            "_view_module_version": "1.2.0",
            "bar_color": null,
            "_model_module": "@jupyter-widgets/controls"
          }
        },
        "d994dcb924904e609f1344b658da65db": {
          "model_module": "@jupyter-widgets/base",
          "model_name": "LayoutModel",
          "model_module_version": "1.2.0",
          "state": {
            "_view_name": "LayoutView",
            "grid_template_rows": null,
            "right": null,
            "justify_content": null,
            "_view_module": "@jupyter-widgets/base",
            "overflow": null,
            "_model_module_version": "1.2.0",
            "_view_count": null,
            "flex_flow": null,
            "width": null,
            "min_width": null,
            "border": null,
            "align_items": null,
            "bottom": null,
            "_model_module": "@jupyter-widgets/base",
            "top": null,
            "grid_column": null,
            "overflow_y": null,
            "overflow_x": null,
            "grid_auto_flow": null,
            "grid_area": null,
            "grid_template_columns": null,
            "flex": null,
            "_model_name": "LayoutModel",
            "justify_items": null,
            "grid_row": null,
            "max_height": null,
            "align_content": null,
            "visibility": null,
            "align_self": null,
            "height": null,
            "min_height": null,
            "padding": null,
            "grid_auto_rows": null,
            "grid_gap": null,
            "max_width": null,
            "order": null,
            "_view_module_version": "1.2.0",
            "grid_template_areas": null,
            "object_position": null,
            "object_fit": null,
            "grid_auto_columns": null,
            "margin": null,
            "display": null,
            "left": null
          }
        },
        "077a1fabe4174a2da0e82031c1c6dd9c": {
          "model_module": "@jupyter-widgets/controls",
          "model_name": "DescriptionStyleModel",
          "model_module_version": "1.5.0",
          "state": {
            "_view_name": "StyleView",
            "_model_name": "DescriptionStyleModel",
            "description_width": "",
            "_view_module": "@jupyter-widgets/base",
            "_model_module_version": "1.5.0",
            "_view_count": null,
            "_view_module_version": "1.2.0",
            "_model_module": "@jupyter-widgets/controls"
          }
        },
        "f717e22a35bf462484dcd90c049ff71e": {
          "model_module": "@jupyter-widgets/base",
          "model_name": "LayoutModel",
          "model_module_version": "1.2.0",
          "state": {
            "_view_name": "LayoutView",
            "grid_template_rows": null,
            "right": null,
            "justify_content": null,
            "_view_module": "@jupyter-widgets/base",
            "overflow": null,
            "_model_module_version": "1.2.0",
            "_view_count": null,
            "flex_flow": null,
            "width": null,
            "min_width": null,
            "border": null,
            "align_items": null,
            "bottom": null,
            "_model_module": "@jupyter-widgets/base",
            "top": null,
            "grid_column": null,
            "overflow_y": null,
            "overflow_x": null,
            "grid_auto_flow": null,
            "grid_area": null,
            "grid_template_columns": null,
            "flex": null,
            "_model_name": "LayoutModel",
            "justify_items": null,
            "grid_row": null,
            "max_height": null,
            "align_content": null,
            "visibility": null,
            "align_self": null,
            "height": null,
            "min_height": null,
            "padding": null,
            "grid_auto_rows": null,
            "grid_gap": null,
            "max_width": null,
            "order": null,
            "_view_module_version": "1.2.0",
            "grid_template_areas": null,
            "object_position": null,
            "object_fit": null,
            "grid_auto_columns": null,
            "margin": null,
            "display": null,
            "left": null
          }
        },
        "25aa6fce785e4d3081339021f6f6b705": {
          "model_module": "@jupyter-widgets/controls",
          "model_name": "HBoxModel",
          "model_module_version": "1.5.0",
          "state": {
            "_view_name": "HBoxView",
            "_dom_classes": [],
            "_model_name": "HBoxModel",
            "_view_module": "@jupyter-widgets/controls",
            "_model_module_version": "1.5.0",
            "_view_count": null,
            "_view_module_version": "1.5.0",
            "box_style": "",
            "layout": "IPY_MODEL_b1df325ece854bce9f00b0c961225f3a",
            "_model_module": "@jupyter-widgets/controls",
            "children": [
              "IPY_MODEL_037251cb2de447d08b3c5ad94e29fc35",
              "IPY_MODEL_2ae1fe031bdd467cb8e6de9f9b12c44f",
              "IPY_MODEL_d160fc4a42864dbba493f997d91dced8"
            ]
          }
        },
        "b1df325ece854bce9f00b0c961225f3a": {
          "model_module": "@jupyter-widgets/base",
          "model_name": "LayoutModel",
          "model_module_version": "1.2.0",
          "state": {
            "_view_name": "LayoutView",
            "grid_template_rows": null,
            "right": null,
            "justify_content": null,
            "_view_module": "@jupyter-widgets/base",
            "overflow": null,
            "_model_module_version": "1.2.0",
            "_view_count": null,
            "flex_flow": null,
            "width": null,
            "min_width": null,
            "border": null,
            "align_items": null,
            "bottom": null,
            "_model_module": "@jupyter-widgets/base",
            "top": null,
            "grid_column": null,
            "overflow_y": null,
            "overflow_x": null,
            "grid_auto_flow": null,
            "grid_area": null,
            "grid_template_columns": null,
            "flex": null,
            "_model_name": "LayoutModel",
            "justify_items": null,
            "grid_row": null,
            "max_height": null,
            "align_content": null,
            "visibility": null,
            "align_self": null,
            "height": null,
            "min_height": null,
            "padding": null,
            "grid_auto_rows": null,
            "grid_gap": null,
            "max_width": null,
            "order": null,
            "_view_module_version": "1.2.0",
            "grid_template_areas": null,
            "object_position": null,
            "object_fit": null,
            "grid_auto_columns": null,
            "margin": null,
            "display": null,
            "left": null
          }
        },
        "037251cb2de447d08b3c5ad94e29fc35": {
          "model_module": "@jupyter-widgets/controls",
          "model_name": "HTMLModel",
          "model_module_version": "1.5.0",
          "state": {
            "_view_name": "HTMLView",
            "style": "IPY_MODEL_314b6187f86a431e99edfefcae424b16",
            "_dom_classes": [],
            "description": "",
            "_model_name": "HTMLModel",
            "placeholder": "​",
            "_view_module": "@jupyter-widgets/controls",
            "_model_module_version": "1.5.0",
            "value": "Downloading: 100%",
            "_view_count": null,
            "_view_module_version": "1.5.0",
            "description_tooltip": null,
            "_model_module": "@jupyter-widgets/controls",
            "layout": "IPY_MODEL_6d3dd53fcdf34b93a42c246aa0f06fd6"
          }
        },
        "2ae1fe031bdd467cb8e6de9f9b12c44f": {
          "model_module": "@jupyter-widgets/controls",
          "model_name": "FloatProgressModel",
          "model_module_version": "1.5.0",
          "state": {
            "_view_name": "ProgressView",
            "style": "IPY_MODEL_17f729dc49494a18b602c2047e8c1dc5",
            "_dom_classes": [],
            "description": "",
            "_model_name": "FloatProgressModel",
            "bar_style": "success",
            "max": 229,
            "_view_module": "@jupyter-widgets/controls",
            "_model_module_version": "1.5.0",
            "value": 229,
            "_view_count": null,
            "_view_module_version": "1.5.0",
            "orientation": "horizontal",
            "min": 0,
            "description_tooltip": null,
            "_model_module": "@jupyter-widgets/controls",
            "layout": "IPY_MODEL_dac9ea3ded184f94b77d76e76d1d8714"
          }
        },
        "d160fc4a42864dbba493f997d91dced8": {
          "model_module": "@jupyter-widgets/controls",
          "model_name": "HTMLModel",
          "model_module_version": "1.5.0",
          "state": {
            "_view_name": "HTMLView",
            "style": "IPY_MODEL_4e78cb17081345528fdd3bdc04b63701",
            "_dom_classes": [],
            "description": "",
            "_model_name": "HTMLModel",
            "placeholder": "​",
            "_view_module": "@jupyter-widgets/controls",
            "_model_module_version": "1.5.0",
            "value": " 229/229 [00:00&lt;00:00, 3.66kB/s]",
            "_view_count": null,
            "_view_module_version": "1.5.0",
            "description_tooltip": null,
            "_model_module": "@jupyter-widgets/controls",
            "layout": "IPY_MODEL_34f9511756d8430b905a084849696eed"
          }
        },
        "314b6187f86a431e99edfefcae424b16": {
          "model_module": "@jupyter-widgets/controls",
          "model_name": "DescriptionStyleModel",
          "model_module_version": "1.5.0",
          "state": {
            "_view_name": "StyleView",
            "_model_name": "DescriptionStyleModel",
            "description_width": "",
            "_view_module": "@jupyter-widgets/base",
            "_model_module_version": "1.5.0",
            "_view_count": null,
            "_view_module_version": "1.2.0",
            "_model_module": "@jupyter-widgets/controls"
          }
        },
        "6d3dd53fcdf34b93a42c246aa0f06fd6": {
          "model_module": "@jupyter-widgets/base",
          "model_name": "LayoutModel",
          "model_module_version": "1.2.0",
          "state": {
            "_view_name": "LayoutView",
            "grid_template_rows": null,
            "right": null,
            "justify_content": null,
            "_view_module": "@jupyter-widgets/base",
            "overflow": null,
            "_model_module_version": "1.2.0",
            "_view_count": null,
            "flex_flow": null,
            "width": null,
            "min_width": null,
            "border": null,
            "align_items": null,
            "bottom": null,
            "_model_module": "@jupyter-widgets/base",
            "top": null,
            "grid_column": null,
            "overflow_y": null,
            "overflow_x": null,
            "grid_auto_flow": null,
            "grid_area": null,
            "grid_template_columns": null,
            "flex": null,
            "_model_name": "LayoutModel",
            "justify_items": null,
            "grid_row": null,
            "max_height": null,
            "align_content": null,
            "visibility": null,
            "align_self": null,
            "height": null,
            "min_height": null,
            "padding": null,
            "grid_auto_rows": null,
            "grid_gap": null,
            "max_width": null,
            "order": null,
            "_view_module_version": "1.2.0",
            "grid_template_areas": null,
            "object_position": null,
            "object_fit": null,
            "grid_auto_columns": null,
            "margin": null,
            "display": null,
            "left": null
          }
        },
        "17f729dc49494a18b602c2047e8c1dc5": {
          "model_module": "@jupyter-widgets/controls",
          "model_name": "ProgressStyleModel",
          "model_module_version": "1.5.0",
          "state": {
            "_view_name": "StyleView",
            "_model_name": "ProgressStyleModel",
            "description_width": "",
            "_view_module": "@jupyter-widgets/base",
            "_model_module_version": "1.5.0",
            "_view_count": null,
            "_view_module_version": "1.2.0",
            "bar_color": null,
            "_model_module": "@jupyter-widgets/controls"
          }
        },
        "dac9ea3ded184f94b77d76e76d1d8714": {
          "model_module": "@jupyter-widgets/base",
          "model_name": "LayoutModel",
          "model_module_version": "1.2.0",
          "state": {
            "_view_name": "LayoutView",
            "grid_template_rows": null,
            "right": null,
            "justify_content": null,
            "_view_module": "@jupyter-widgets/base",
            "overflow": null,
            "_model_module_version": "1.2.0",
            "_view_count": null,
            "flex_flow": null,
            "width": null,
            "min_width": null,
            "border": null,
            "align_items": null,
            "bottom": null,
            "_model_module": "@jupyter-widgets/base",
            "top": null,
            "grid_column": null,
            "overflow_y": null,
            "overflow_x": null,
            "grid_auto_flow": null,
            "grid_area": null,
            "grid_template_columns": null,
            "flex": null,
            "_model_name": "LayoutModel",
            "justify_items": null,
            "grid_row": null,
            "max_height": null,
            "align_content": null,
            "visibility": null,
            "align_self": null,
            "height": null,
            "min_height": null,
            "padding": null,
            "grid_auto_rows": null,
            "grid_gap": null,
            "max_width": null,
            "order": null,
            "_view_module_version": "1.2.0",
            "grid_template_areas": null,
            "object_position": null,
            "object_fit": null,
            "grid_auto_columns": null,
            "margin": null,
            "display": null,
            "left": null
          }
        },
        "4e78cb17081345528fdd3bdc04b63701": {
          "model_module": "@jupyter-widgets/controls",
          "model_name": "DescriptionStyleModel",
          "model_module_version": "1.5.0",
          "state": {
            "_view_name": "StyleView",
            "_model_name": "DescriptionStyleModel",
            "description_width": "",
            "_view_module": "@jupyter-widgets/base",
            "_model_module_version": "1.5.0",
            "_view_count": null,
            "_view_module_version": "1.2.0",
            "_model_module": "@jupyter-widgets/controls"
          }
        },
        "34f9511756d8430b905a084849696eed": {
          "model_module": "@jupyter-widgets/base",
          "model_name": "LayoutModel",
          "model_module_version": "1.2.0",
          "state": {
            "_view_name": "LayoutView",
            "grid_template_rows": null,
            "right": null,
            "justify_content": null,
            "_view_module": "@jupyter-widgets/base",
            "overflow": null,
            "_model_module_version": "1.2.0",
            "_view_count": null,
            "flex_flow": null,
            "width": null,
            "min_width": null,
            "border": null,
            "align_items": null,
            "bottom": null,
            "_model_module": "@jupyter-widgets/base",
            "top": null,
            "grid_column": null,
            "overflow_y": null,
            "overflow_x": null,
            "grid_auto_flow": null,
            "grid_area": null,
            "grid_template_columns": null,
            "flex": null,
            "_model_name": "LayoutModel",
            "justify_items": null,
            "grid_row": null,
            "max_height": null,
            "align_content": null,
            "visibility": null,
            "align_self": null,
            "height": null,
            "min_height": null,
            "padding": null,
            "grid_auto_rows": null,
            "grid_gap": null,
            "max_width": null,
            "order": null,
            "_view_module_version": "1.2.0",
            "grid_template_areas": null,
            "object_position": null,
            "object_fit": null,
            "grid_auto_columns": null,
            "margin": null,
            "display": null,
            "left": null
          }
        },
        "c3c3e6d25f644351bd9ed08dcc2763e3": {
          "model_module": "@jupyter-widgets/controls",
          "model_name": "HBoxModel",
          "model_module_version": "1.5.0",
          "state": {
            "_view_name": "HBoxView",
            "_dom_classes": [],
            "_model_name": "HBoxModel",
            "_view_module": "@jupyter-widgets/controls",
            "_model_module_version": "1.5.0",
            "_view_count": null,
            "_view_module_version": "1.5.0",
            "box_style": "",
            "layout": "IPY_MODEL_ae03ea14394a4fbc8f519193c342d814",
            "_model_module": "@jupyter-widgets/controls",
            "children": [
              "IPY_MODEL_e7cd0954fdad4f76ad0fdb3d731ae0fe",
              "IPY_MODEL_20e54a485bb84952a5f40c974501fbdb",
              "IPY_MODEL_5639908d999a46e4a46b1b5455e2e8f1"
            ]
          }
        },
        "ae03ea14394a4fbc8f519193c342d814": {
          "model_module": "@jupyter-widgets/base",
          "model_name": "LayoutModel",
          "model_module_version": "1.2.0",
          "state": {
            "_view_name": "LayoutView",
            "grid_template_rows": null,
            "right": null,
            "justify_content": null,
            "_view_module": "@jupyter-widgets/base",
            "overflow": null,
            "_model_module_version": "1.2.0",
            "_view_count": null,
            "flex_flow": null,
            "width": null,
            "min_width": null,
            "border": null,
            "align_items": null,
            "bottom": null,
            "_model_module": "@jupyter-widgets/base",
            "top": null,
            "grid_column": null,
            "overflow_y": null,
            "overflow_x": null,
            "grid_auto_flow": null,
            "grid_area": null,
            "grid_template_columns": null,
            "flex": null,
            "_model_name": "LayoutModel",
            "justify_items": null,
            "grid_row": null,
            "max_height": null,
            "align_content": null,
            "visibility": null,
            "align_self": null,
            "height": null,
            "min_height": null,
            "padding": null,
            "grid_auto_rows": null,
            "grid_gap": null,
            "max_width": null,
            "order": null,
            "_view_module_version": "1.2.0",
            "grid_template_areas": null,
            "object_position": null,
            "object_fit": null,
            "grid_auto_columns": null,
            "margin": null,
            "display": null,
            "left": null
          }
        },
        "e7cd0954fdad4f76ad0fdb3d731ae0fe": {
          "model_module": "@jupyter-widgets/controls",
          "model_name": "HTMLModel",
          "model_module_version": "1.5.0",
          "state": {
            "_view_name": "HTMLView",
            "style": "IPY_MODEL_0ea8810c467948fd8e09e1e31f19e176",
            "_dom_classes": [],
            "description": "",
            "_model_name": "HTMLModel",
            "placeholder": "​",
            "_view_module": "@jupyter-widgets/controls",
            "_model_module_version": "1.5.0",
            "value": "Downloading: 100%",
            "_view_count": null,
            "_view_module_version": "1.5.0",
            "description_tooltip": null,
            "_model_module": "@jupyter-widgets/controls",
            "layout": "IPY_MODEL_960ce1ecad794ac6bbdee12063dd1547"
          }
        },
        "20e54a485bb84952a5f40c974501fbdb": {
          "model_module": "@jupyter-widgets/controls",
          "model_name": "FloatProgressModel",
          "model_module_version": "1.5.0",
          "state": {
            "_view_name": "ProgressView",
            "style": "IPY_MODEL_5ee43b10336d4b1faf8bcc09a06452b2",
            "_dom_classes": [],
            "description": "",
            "_model_name": "FloatProgressModel",
            "bar_style": "success",
            "max": 438022897,
            "_view_module": "@jupyter-widgets/controls",
            "_model_module_version": "1.5.0",
            "value": 438022897,
            "_view_count": null,
            "_view_module_version": "1.5.0",
            "orientation": "horizontal",
            "min": 0,
            "description_tooltip": null,
            "_model_module": "@jupyter-widgets/controls",
            "layout": "IPY_MODEL_ed4eb204255a4e74b7cb36285058e74e"
          }
        },
        "5639908d999a46e4a46b1b5455e2e8f1": {
          "model_module": "@jupyter-widgets/controls",
          "model_name": "HTMLModel",
          "model_module_version": "1.5.0",
          "state": {
            "_view_name": "HTMLView",
            "style": "IPY_MODEL_fa32df0c128d483ba3b6da699000ae92",
            "_dom_classes": [],
            "description": "",
            "_model_name": "HTMLModel",
            "placeholder": "​",
            "_view_module": "@jupyter-widgets/controls",
            "_model_module_version": "1.5.0",
            "value": " 438M/438M [00:11&lt;00:00, 43.3MB/s]",
            "_view_count": null,
            "_view_module_version": "1.5.0",
            "description_tooltip": null,
            "_model_module": "@jupyter-widgets/controls",
            "layout": "IPY_MODEL_32bca08f884844608327305bde9bd53b"
          }
        },
        "0ea8810c467948fd8e09e1e31f19e176": {
          "model_module": "@jupyter-widgets/controls",
          "model_name": "DescriptionStyleModel",
          "model_module_version": "1.5.0",
          "state": {
            "_view_name": "StyleView",
            "_model_name": "DescriptionStyleModel",
            "description_width": "",
            "_view_module": "@jupyter-widgets/base",
            "_model_module_version": "1.5.0",
            "_view_count": null,
            "_view_module_version": "1.2.0",
            "_model_module": "@jupyter-widgets/controls"
          }
        },
        "960ce1ecad794ac6bbdee12063dd1547": {
          "model_module": "@jupyter-widgets/base",
          "model_name": "LayoutModel",
          "model_module_version": "1.2.0",
          "state": {
            "_view_name": "LayoutView",
            "grid_template_rows": null,
            "right": null,
            "justify_content": null,
            "_view_module": "@jupyter-widgets/base",
            "overflow": null,
            "_model_module_version": "1.2.0",
            "_view_count": null,
            "flex_flow": null,
            "width": null,
            "min_width": null,
            "border": null,
            "align_items": null,
            "bottom": null,
            "_model_module": "@jupyter-widgets/base",
            "top": null,
            "grid_column": null,
            "overflow_y": null,
            "overflow_x": null,
            "grid_auto_flow": null,
            "grid_area": null,
            "grid_template_columns": null,
            "flex": null,
            "_model_name": "LayoutModel",
            "justify_items": null,
            "grid_row": null,
            "max_height": null,
            "align_content": null,
            "visibility": null,
            "align_self": null,
            "height": null,
            "min_height": null,
            "padding": null,
            "grid_auto_rows": null,
            "grid_gap": null,
            "max_width": null,
            "order": null,
            "_view_module_version": "1.2.0",
            "grid_template_areas": null,
            "object_position": null,
            "object_fit": null,
            "grid_auto_columns": null,
            "margin": null,
            "display": null,
            "left": null
          }
        },
        "5ee43b10336d4b1faf8bcc09a06452b2": {
          "model_module": "@jupyter-widgets/controls",
          "model_name": "ProgressStyleModel",
          "model_module_version": "1.5.0",
          "state": {
            "_view_name": "StyleView",
            "_model_name": "ProgressStyleModel",
            "description_width": "",
            "_view_module": "@jupyter-widgets/base",
            "_model_module_version": "1.5.0",
            "_view_count": null,
            "_view_module_version": "1.2.0",
            "bar_color": null,
            "_model_module": "@jupyter-widgets/controls"
          }
        },
        "ed4eb204255a4e74b7cb36285058e74e": {
          "model_module": "@jupyter-widgets/base",
          "model_name": "LayoutModel",
          "model_module_version": "1.2.0",
          "state": {
            "_view_name": "LayoutView",
            "grid_template_rows": null,
            "right": null,
            "justify_content": null,
            "_view_module": "@jupyter-widgets/base",
            "overflow": null,
            "_model_module_version": "1.2.0",
            "_view_count": null,
            "flex_flow": null,
            "width": null,
            "min_width": null,
            "border": null,
            "align_items": null,
            "bottom": null,
            "_model_module": "@jupyter-widgets/base",
            "top": null,
            "grid_column": null,
            "overflow_y": null,
            "overflow_x": null,
            "grid_auto_flow": null,
            "grid_area": null,
            "grid_template_columns": null,
            "flex": null,
            "_model_name": "LayoutModel",
            "justify_items": null,
            "grid_row": null,
            "max_height": null,
            "align_content": null,
            "visibility": null,
            "align_self": null,
            "height": null,
            "min_height": null,
            "padding": null,
            "grid_auto_rows": null,
            "grid_gap": null,
            "max_width": null,
            "order": null,
            "_view_module_version": "1.2.0",
            "grid_template_areas": null,
            "object_position": null,
            "object_fit": null,
            "grid_auto_columns": null,
            "margin": null,
            "display": null,
            "left": null
          }
        },
        "fa32df0c128d483ba3b6da699000ae92": {
          "model_module": "@jupyter-widgets/controls",
          "model_name": "DescriptionStyleModel",
          "model_module_version": "1.5.0",
          "state": {
            "_view_name": "StyleView",
            "_model_name": "DescriptionStyleModel",
            "description_width": "",
            "_view_module": "@jupyter-widgets/base",
            "_model_module_version": "1.5.0",
            "_view_count": null,
            "_view_module_version": "1.2.0",
            "_model_module": "@jupyter-widgets/controls"
          }
        },
        "32bca08f884844608327305bde9bd53b": {
          "model_module": "@jupyter-widgets/base",
          "model_name": "LayoutModel",
          "model_module_version": "1.2.0",
          "state": {
            "_view_name": "LayoutView",
            "grid_template_rows": null,
            "right": null,
            "justify_content": null,
            "_view_module": "@jupyter-widgets/base",
            "overflow": null,
            "_model_module_version": "1.2.0",
            "_view_count": null,
            "flex_flow": null,
            "width": null,
            "min_width": null,
            "border": null,
            "align_items": null,
            "bottom": null,
            "_model_module": "@jupyter-widgets/base",
            "top": null,
            "grid_column": null,
            "overflow_y": null,
            "overflow_x": null,
            "grid_auto_flow": null,
            "grid_area": null,
            "grid_template_columns": null,
            "flex": null,
            "_model_name": "LayoutModel",
            "justify_items": null,
            "grid_row": null,
            "max_height": null,
            "align_content": null,
            "visibility": null,
            "align_self": null,
            "height": null,
            "min_height": null,
            "padding": null,
            "grid_auto_rows": null,
            "grid_gap": null,
            "max_width": null,
            "order": null,
            "_view_module_version": "1.2.0",
            "grid_template_areas": null,
            "object_position": null,
            "object_fit": null,
            "grid_auto_columns": null,
            "margin": null,
            "display": null,
            "left": null
          }
        },
        "64c9dca29c284c20a760fa4c54a021e3": {
          "model_module": "@jupyter-widgets/controls",
          "model_name": "HBoxModel",
          "model_module_version": "1.5.0",
          "state": {
            "_view_name": "HBoxView",
            "_dom_classes": [],
            "_model_name": "HBoxModel",
            "_view_module": "@jupyter-widgets/controls",
            "_model_module_version": "1.5.0",
            "_view_count": null,
            "_view_module_version": "1.5.0",
            "box_style": "",
            "layout": "IPY_MODEL_33b05b9727414e3099b61c791419f25c",
            "_model_module": "@jupyter-widgets/controls",
            "children": [
              "IPY_MODEL_c09e160f749244d0b362c0c0289eb5bb",
              "IPY_MODEL_ae76cec13f684fad8de69201e4660c0c",
              "IPY_MODEL_ae9798a27dd940afaa380f23e0096009"
            ]
          }
        },
        "33b05b9727414e3099b61c791419f25c": {
          "model_module": "@jupyter-widgets/base",
          "model_name": "LayoutModel",
          "model_module_version": "1.2.0",
          "state": {
            "_view_name": "LayoutView",
            "grid_template_rows": null,
            "right": null,
            "justify_content": null,
            "_view_module": "@jupyter-widgets/base",
            "overflow": null,
            "_model_module_version": "1.2.0",
            "_view_count": null,
            "flex_flow": null,
            "width": null,
            "min_width": null,
            "border": null,
            "align_items": null,
            "bottom": null,
            "_model_module": "@jupyter-widgets/base",
            "top": null,
            "grid_column": null,
            "overflow_y": null,
            "overflow_x": null,
            "grid_auto_flow": null,
            "grid_area": null,
            "grid_template_columns": null,
            "flex": null,
            "_model_name": "LayoutModel",
            "justify_items": null,
            "grid_row": null,
            "max_height": null,
            "align_content": null,
            "visibility": null,
            "align_self": null,
            "height": null,
            "min_height": null,
            "padding": null,
            "grid_auto_rows": null,
            "grid_gap": null,
            "max_width": null,
            "order": null,
            "_view_module_version": "1.2.0",
            "grid_template_areas": null,
            "object_position": null,
            "object_fit": null,
            "grid_auto_columns": null,
            "margin": null,
            "display": null,
            "left": null
          }
        },
        "c09e160f749244d0b362c0c0289eb5bb": {
          "model_module": "@jupyter-widgets/controls",
          "model_name": "HTMLModel",
          "model_module_version": "1.5.0",
          "state": {
            "_view_name": "HTMLView",
            "style": "IPY_MODEL_d64086814c73443398d1e7cc2b63d4a6",
            "_dom_classes": [],
            "description": "",
            "_model_name": "HTMLModel",
            "placeholder": "​",
            "_view_module": "@jupyter-widgets/controls",
            "_model_module_version": "1.5.0",
            "value": "Downloading: 100%",
            "_view_count": null,
            "_view_module_version": "1.5.0",
            "description_tooltip": null,
            "_model_module": "@jupyter-widgets/controls",
            "layout": "IPY_MODEL_2d1d100a6e9f42359bfd06e5675d7cf8"
          }
        },
        "ae76cec13f684fad8de69201e4660c0c": {
          "model_module": "@jupyter-widgets/controls",
          "model_name": "FloatProgressModel",
          "model_module_version": "1.5.0",
          "state": {
            "_view_name": "ProgressView",
            "style": "IPY_MODEL_0dcc5f6d8df74336a8ae4ac3a421575a",
            "_dom_classes": [],
            "description": "",
            "_model_name": "FloatProgressModel",
            "bar_style": "success",
            "max": 53,
            "_view_module": "@jupyter-widgets/controls",
            "_model_module_version": "1.5.0",
            "value": 53,
            "_view_count": null,
            "_view_module_version": "1.5.0",
            "orientation": "horizontal",
            "min": 0,
            "description_tooltip": null,
            "_model_module": "@jupyter-widgets/controls",
            "layout": "IPY_MODEL_39161e96a164456987271506485a32d9"
          }
        },
        "ae9798a27dd940afaa380f23e0096009": {
          "model_module": "@jupyter-widgets/controls",
          "model_name": "HTMLModel",
          "model_module_version": "1.5.0",
          "state": {
            "_view_name": "HTMLView",
            "style": "IPY_MODEL_779091341a944f5bbc2540f2bb98b52b",
            "_dom_classes": [],
            "description": "",
            "_model_name": "HTMLModel",
            "placeholder": "​",
            "_view_module": "@jupyter-widgets/controls",
            "_model_module_version": "1.5.0",
            "value": " 53.0/53.0 [00:00&lt;00:00, 1.25kB/s]",
            "_view_count": null,
            "_view_module_version": "1.5.0",
            "description_tooltip": null,
            "_model_module": "@jupyter-widgets/controls",
            "layout": "IPY_MODEL_010b27cf68394860a90822c49767f1dc"
          }
        },
        "d64086814c73443398d1e7cc2b63d4a6": {
          "model_module": "@jupyter-widgets/controls",
          "model_name": "DescriptionStyleModel",
          "model_module_version": "1.5.0",
          "state": {
            "_view_name": "StyleView",
            "_model_name": "DescriptionStyleModel",
            "description_width": "",
            "_view_module": "@jupyter-widgets/base",
            "_model_module_version": "1.5.0",
            "_view_count": null,
            "_view_module_version": "1.2.0",
            "_model_module": "@jupyter-widgets/controls"
          }
        },
        "2d1d100a6e9f42359bfd06e5675d7cf8": {
          "model_module": "@jupyter-widgets/base",
          "model_name": "LayoutModel",
          "model_module_version": "1.2.0",
          "state": {
            "_view_name": "LayoutView",
            "grid_template_rows": null,
            "right": null,
            "justify_content": null,
            "_view_module": "@jupyter-widgets/base",
            "overflow": null,
            "_model_module_version": "1.2.0",
            "_view_count": null,
            "flex_flow": null,
            "width": null,
            "min_width": null,
            "border": null,
            "align_items": null,
            "bottom": null,
            "_model_module": "@jupyter-widgets/base",
            "top": null,
            "grid_column": null,
            "overflow_y": null,
            "overflow_x": null,
            "grid_auto_flow": null,
            "grid_area": null,
            "grid_template_columns": null,
            "flex": null,
            "_model_name": "LayoutModel",
            "justify_items": null,
            "grid_row": null,
            "max_height": null,
            "align_content": null,
            "visibility": null,
            "align_self": null,
            "height": null,
            "min_height": null,
            "padding": null,
            "grid_auto_rows": null,
            "grid_gap": null,
            "max_width": null,
            "order": null,
            "_view_module_version": "1.2.0",
            "grid_template_areas": null,
            "object_position": null,
            "object_fit": null,
            "grid_auto_columns": null,
            "margin": null,
            "display": null,
            "left": null
          }
        },
        "0dcc5f6d8df74336a8ae4ac3a421575a": {
          "model_module": "@jupyter-widgets/controls",
          "model_name": "ProgressStyleModel",
          "model_module_version": "1.5.0",
          "state": {
            "_view_name": "StyleView",
            "_model_name": "ProgressStyleModel",
            "description_width": "",
            "_view_module": "@jupyter-widgets/base",
            "_model_module_version": "1.5.0",
            "_view_count": null,
            "_view_module_version": "1.2.0",
            "bar_color": null,
            "_model_module": "@jupyter-widgets/controls"
          }
        },
        "39161e96a164456987271506485a32d9": {
          "model_module": "@jupyter-widgets/base",
          "model_name": "LayoutModel",
          "model_module_version": "1.2.0",
          "state": {
            "_view_name": "LayoutView",
            "grid_template_rows": null,
            "right": null,
            "justify_content": null,
            "_view_module": "@jupyter-widgets/base",
            "overflow": null,
            "_model_module_version": "1.2.0",
            "_view_count": null,
            "flex_flow": null,
            "width": null,
            "min_width": null,
            "border": null,
            "align_items": null,
            "bottom": null,
            "_model_module": "@jupyter-widgets/base",
            "top": null,
            "grid_column": null,
            "overflow_y": null,
            "overflow_x": null,
            "grid_auto_flow": null,
            "grid_area": null,
            "grid_template_columns": null,
            "flex": null,
            "_model_name": "LayoutModel",
            "justify_items": null,
            "grid_row": null,
            "max_height": null,
            "align_content": null,
            "visibility": null,
            "align_self": null,
            "height": null,
            "min_height": null,
            "padding": null,
            "grid_auto_rows": null,
            "grid_gap": null,
            "max_width": null,
            "order": null,
            "_view_module_version": "1.2.0",
            "grid_template_areas": null,
            "object_position": null,
            "object_fit": null,
            "grid_auto_columns": null,
            "margin": null,
            "display": null,
            "left": null
          }
        },
        "779091341a944f5bbc2540f2bb98b52b": {
          "model_module": "@jupyter-widgets/controls",
          "model_name": "DescriptionStyleModel",
          "model_module_version": "1.5.0",
          "state": {
            "_view_name": "StyleView",
            "_model_name": "DescriptionStyleModel",
            "description_width": "",
            "_view_module": "@jupyter-widgets/base",
            "_model_module_version": "1.5.0",
            "_view_count": null,
            "_view_module_version": "1.2.0",
            "_model_module": "@jupyter-widgets/controls"
          }
        },
        "010b27cf68394860a90822c49767f1dc": {
          "model_module": "@jupyter-widgets/base",
          "model_name": "LayoutModel",
          "model_module_version": "1.2.0",
          "state": {
            "_view_name": "LayoutView",
            "grid_template_rows": null,
            "right": null,
            "justify_content": null,
            "_view_module": "@jupyter-widgets/base",
            "overflow": null,
            "_model_module_version": "1.2.0",
            "_view_count": null,
            "flex_flow": null,
            "width": null,
            "min_width": null,
            "border": null,
            "align_items": null,
            "bottom": null,
            "_model_module": "@jupyter-widgets/base",
            "top": null,
            "grid_column": null,
            "overflow_y": null,
            "overflow_x": null,
            "grid_auto_flow": null,
            "grid_area": null,
            "grid_template_columns": null,
            "flex": null,
            "_model_name": "LayoutModel",
            "justify_items": null,
            "grid_row": null,
            "max_height": null,
            "align_content": null,
            "visibility": null,
            "align_self": null,
            "height": null,
            "min_height": null,
            "padding": null,
            "grid_auto_rows": null,
            "grid_gap": null,
            "max_width": null,
            "order": null,
            "_view_module_version": "1.2.0",
            "grid_template_areas": null,
            "object_position": null,
            "object_fit": null,
            "grid_auto_columns": null,
            "margin": null,
            "display": null,
            "left": null
          }
        },
        "a6c7d0d36d64412a9818471812bc5def": {
          "model_module": "@jupyter-widgets/controls",
          "model_name": "HBoxModel",
          "model_module_version": "1.5.0",
          "state": {
            "_view_name": "HBoxView",
            "_dom_classes": [],
            "_model_name": "HBoxModel",
            "_view_module": "@jupyter-widgets/controls",
            "_model_module_version": "1.5.0",
            "_view_count": null,
            "_view_module_version": "1.5.0",
            "box_style": "",
            "layout": "IPY_MODEL_f1acac648db0446584f5df28a1b0aa6a",
            "_model_module": "@jupyter-widgets/controls",
            "children": [
              "IPY_MODEL_a68cd0db2a554d8f8aab0c7953597797",
              "IPY_MODEL_a4a62a39faf249a39f9245ed8f0e671f",
              "IPY_MODEL_8f076f39bd2442b1b4293ad818fe9447"
            ]
          }
        },
        "f1acac648db0446584f5df28a1b0aa6a": {
          "model_module": "@jupyter-widgets/base",
          "model_name": "LayoutModel",
          "model_module_version": "1.2.0",
          "state": {
            "_view_name": "LayoutView",
            "grid_template_rows": null,
            "right": null,
            "justify_content": null,
            "_view_module": "@jupyter-widgets/base",
            "overflow": null,
            "_model_module_version": "1.2.0",
            "_view_count": null,
            "flex_flow": null,
            "width": null,
            "min_width": null,
            "border": null,
            "align_items": null,
            "bottom": null,
            "_model_module": "@jupyter-widgets/base",
            "top": null,
            "grid_column": null,
            "overflow_y": null,
            "overflow_x": null,
            "grid_auto_flow": null,
            "grid_area": null,
            "grid_template_columns": null,
            "flex": null,
            "_model_name": "LayoutModel",
            "justify_items": null,
            "grid_row": null,
            "max_height": null,
            "align_content": null,
            "visibility": null,
            "align_self": null,
            "height": null,
            "min_height": null,
            "padding": null,
            "grid_auto_rows": null,
            "grid_gap": null,
            "max_width": null,
            "order": null,
            "_view_module_version": "1.2.0",
            "grid_template_areas": null,
            "object_position": null,
            "object_fit": null,
            "grid_auto_columns": null,
            "margin": null,
            "display": null,
            "left": null
          }
        },
        "a68cd0db2a554d8f8aab0c7953597797": {
          "model_module": "@jupyter-widgets/controls",
          "model_name": "HTMLModel",
          "model_module_version": "1.5.0",
          "state": {
            "_view_name": "HTMLView",
            "style": "IPY_MODEL_14f59fb943f144499a0d51e05a405f09",
            "_dom_classes": [],
            "description": "",
            "_model_name": "HTMLModel",
            "placeholder": "​",
            "_view_module": "@jupyter-widgets/controls",
            "_model_module_version": "1.5.0",
            "value": "Downloading: 100%",
            "_view_count": null,
            "_view_module_version": "1.5.0",
            "description_tooltip": null,
            "_model_module": "@jupyter-widgets/controls",
            "layout": "IPY_MODEL_8da6c2a8b8d845689aaaa495da0eaaca"
          }
        },
        "a4a62a39faf249a39f9245ed8f0e671f": {
          "model_module": "@jupyter-widgets/controls",
          "model_name": "FloatProgressModel",
          "model_module_version": "1.5.0",
          "state": {
            "_view_name": "ProgressView",
            "style": "IPY_MODEL_bb45029897744e34af3e69c6f91b96a2",
            "_dom_classes": [],
            "description": "",
            "_model_name": "FloatProgressModel",
            "bar_style": "success",
            "max": 239,
            "_view_module": "@jupyter-widgets/controls",
            "_model_module_version": "1.5.0",
            "value": 239,
            "_view_count": null,
            "_view_module_version": "1.5.0",
            "orientation": "horizontal",
            "min": 0,
            "description_tooltip": null,
            "_model_module": "@jupyter-widgets/controls",
            "layout": "IPY_MODEL_69643bb68e2f4dc09d7c1ceea12fecd0"
          }
        },
        "8f076f39bd2442b1b4293ad818fe9447": {
          "model_module": "@jupyter-widgets/controls",
          "model_name": "HTMLModel",
          "model_module_version": "1.5.0",
          "state": {
            "_view_name": "HTMLView",
            "style": "IPY_MODEL_c8d6d9a497634c56b1c2596cf682463d",
            "_dom_classes": [],
            "description": "",
            "_model_name": "HTMLModel",
            "placeholder": "​",
            "_view_module": "@jupyter-widgets/controls",
            "_model_module_version": "1.5.0",
            "value": " 239/239 [00:00&lt;00:00, 5.23kB/s]",
            "_view_count": null,
            "_view_module_version": "1.5.0",
            "description_tooltip": null,
            "_model_module": "@jupyter-widgets/controls",
            "layout": "IPY_MODEL_8b43870f43e3445a8cbe9735088b832d"
          }
        },
        "14f59fb943f144499a0d51e05a405f09": {
          "model_module": "@jupyter-widgets/controls",
          "model_name": "DescriptionStyleModel",
          "model_module_version": "1.5.0",
          "state": {
            "_view_name": "StyleView",
            "_model_name": "DescriptionStyleModel",
            "description_width": "",
            "_view_module": "@jupyter-widgets/base",
            "_model_module_version": "1.5.0",
            "_view_count": null,
            "_view_module_version": "1.2.0",
            "_model_module": "@jupyter-widgets/controls"
          }
        },
        "8da6c2a8b8d845689aaaa495da0eaaca": {
          "model_module": "@jupyter-widgets/base",
          "model_name": "LayoutModel",
          "model_module_version": "1.2.0",
          "state": {
            "_view_name": "LayoutView",
            "grid_template_rows": null,
            "right": null,
            "justify_content": null,
            "_view_module": "@jupyter-widgets/base",
            "overflow": null,
            "_model_module_version": "1.2.0",
            "_view_count": null,
            "flex_flow": null,
            "width": null,
            "min_width": null,
            "border": null,
            "align_items": null,
            "bottom": null,
            "_model_module": "@jupyter-widgets/base",
            "top": null,
            "grid_column": null,
            "overflow_y": null,
            "overflow_x": null,
            "grid_auto_flow": null,
            "grid_area": null,
            "grid_template_columns": null,
            "flex": null,
            "_model_name": "LayoutModel",
            "justify_items": null,
            "grid_row": null,
            "max_height": null,
            "align_content": null,
            "visibility": null,
            "align_self": null,
            "height": null,
            "min_height": null,
            "padding": null,
            "grid_auto_rows": null,
            "grid_gap": null,
            "max_width": null,
            "order": null,
            "_view_module_version": "1.2.0",
            "grid_template_areas": null,
            "object_position": null,
            "object_fit": null,
            "grid_auto_columns": null,
            "margin": null,
            "display": null,
            "left": null
          }
        },
        "bb45029897744e34af3e69c6f91b96a2": {
          "model_module": "@jupyter-widgets/controls",
          "model_name": "ProgressStyleModel",
          "model_module_version": "1.5.0",
          "state": {
            "_view_name": "StyleView",
            "_model_name": "ProgressStyleModel",
            "description_width": "",
            "_view_module": "@jupyter-widgets/base",
            "_model_module_version": "1.5.0",
            "_view_count": null,
            "_view_module_version": "1.2.0",
            "bar_color": null,
            "_model_module": "@jupyter-widgets/controls"
          }
        },
        "69643bb68e2f4dc09d7c1ceea12fecd0": {
          "model_module": "@jupyter-widgets/base",
          "model_name": "LayoutModel",
          "model_module_version": "1.2.0",
          "state": {
            "_view_name": "LayoutView",
            "grid_template_rows": null,
            "right": null,
            "justify_content": null,
            "_view_module": "@jupyter-widgets/base",
            "overflow": null,
            "_model_module_version": "1.2.0",
            "_view_count": null,
            "flex_flow": null,
            "width": null,
            "min_width": null,
            "border": null,
            "align_items": null,
            "bottom": null,
            "_model_module": "@jupyter-widgets/base",
            "top": null,
            "grid_column": null,
            "overflow_y": null,
            "overflow_x": null,
            "grid_auto_flow": null,
            "grid_area": null,
            "grid_template_columns": null,
            "flex": null,
            "_model_name": "LayoutModel",
            "justify_items": null,
            "grid_row": null,
            "max_height": null,
            "align_content": null,
            "visibility": null,
            "align_self": null,
            "height": null,
            "min_height": null,
            "padding": null,
            "grid_auto_rows": null,
            "grid_gap": null,
            "max_width": null,
            "order": null,
            "_view_module_version": "1.2.0",
            "grid_template_areas": null,
            "object_position": null,
            "object_fit": null,
            "grid_auto_columns": null,
            "margin": null,
            "display": null,
            "left": null
          }
        },
        "c8d6d9a497634c56b1c2596cf682463d": {
          "model_module": "@jupyter-widgets/controls",
          "model_name": "DescriptionStyleModel",
          "model_module_version": "1.5.0",
          "state": {
            "_view_name": "StyleView",
            "_model_name": "DescriptionStyleModel",
            "description_width": "",
            "_view_module": "@jupyter-widgets/base",
            "_model_module_version": "1.5.0",
            "_view_count": null,
            "_view_module_version": "1.2.0",
            "_model_module": "@jupyter-widgets/controls"
          }
        },
        "8b43870f43e3445a8cbe9735088b832d": {
          "model_module": "@jupyter-widgets/base",
          "model_name": "LayoutModel",
          "model_module_version": "1.2.0",
          "state": {
            "_view_name": "LayoutView",
            "grid_template_rows": null,
            "right": null,
            "justify_content": null,
            "_view_module": "@jupyter-widgets/base",
            "overflow": null,
            "_model_module_version": "1.2.0",
            "_view_count": null,
            "flex_flow": null,
            "width": null,
            "min_width": null,
            "border": null,
            "align_items": null,
            "bottom": null,
            "_model_module": "@jupyter-widgets/base",
            "top": null,
            "grid_column": null,
            "overflow_y": null,
            "overflow_x": null,
            "grid_auto_flow": null,
            "grid_area": null,
            "grid_template_columns": null,
            "flex": null,
            "_model_name": "LayoutModel",
            "justify_items": null,
            "grid_row": null,
            "max_height": null,
            "align_content": null,
            "visibility": null,
            "align_self": null,
            "height": null,
            "min_height": null,
            "padding": null,
            "grid_auto_rows": null,
            "grid_gap": null,
            "max_width": null,
            "order": null,
            "_view_module_version": "1.2.0",
            "grid_template_areas": null,
            "object_position": null,
            "object_fit": null,
            "grid_auto_columns": null,
            "margin": null,
            "display": null,
            "left": null
          }
        },
        "521e3288f71247d48b89b5cfc946a1ed": {
          "model_module": "@jupyter-widgets/controls",
          "model_name": "HBoxModel",
          "model_module_version": "1.5.0",
          "state": {
            "_view_name": "HBoxView",
            "_dom_classes": [],
            "_model_name": "HBoxModel",
            "_view_module": "@jupyter-widgets/controls",
            "_model_module_version": "1.5.0",
            "_view_count": null,
            "_view_module_version": "1.5.0",
            "box_style": "",
            "layout": "IPY_MODEL_e69c1ff47b4f45ca8724b18102283d58",
            "_model_module": "@jupyter-widgets/controls",
            "children": [
              "IPY_MODEL_148490cfb772499bb702d752212945f7",
              "IPY_MODEL_f60e0421e048472bb5f5ec95dabeb31b",
              "IPY_MODEL_509565e292c1465ba78aa8189e63c320"
            ]
          }
        },
        "e69c1ff47b4f45ca8724b18102283d58": {
          "model_module": "@jupyter-widgets/base",
          "model_name": "LayoutModel",
          "model_module_version": "1.2.0",
          "state": {
            "_view_name": "LayoutView",
            "grid_template_rows": null,
            "right": null,
            "justify_content": null,
            "_view_module": "@jupyter-widgets/base",
            "overflow": null,
            "_model_module_version": "1.2.0",
            "_view_count": null,
            "flex_flow": null,
            "width": null,
            "min_width": null,
            "border": null,
            "align_items": null,
            "bottom": null,
            "_model_module": "@jupyter-widgets/base",
            "top": null,
            "grid_column": null,
            "overflow_y": null,
            "overflow_x": null,
            "grid_auto_flow": null,
            "grid_area": null,
            "grid_template_columns": null,
            "flex": null,
            "_model_name": "LayoutModel",
            "justify_items": null,
            "grid_row": null,
            "max_height": null,
            "align_content": null,
            "visibility": null,
            "align_self": null,
            "height": null,
            "min_height": null,
            "padding": null,
            "grid_auto_rows": null,
            "grid_gap": null,
            "max_width": null,
            "order": null,
            "_view_module_version": "1.2.0",
            "grid_template_areas": null,
            "object_position": null,
            "object_fit": null,
            "grid_auto_columns": null,
            "margin": null,
            "display": null,
            "left": null
          }
        },
        "148490cfb772499bb702d752212945f7": {
          "model_module": "@jupyter-widgets/controls",
          "model_name": "HTMLModel",
          "model_module_version": "1.5.0",
          "state": {
            "_view_name": "HTMLView",
            "style": "IPY_MODEL_054507bb9ca546cf9f535067f0268c63",
            "_dom_classes": [],
            "description": "",
            "_model_name": "HTMLModel",
            "placeholder": "​",
            "_view_module": "@jupyter-widgets/controls",
            "_model_module_version": "1.5.0",
            "value": "Downloading: 100%",
            "_view_count": null,
            "_view_module_version": "1.5.0",
            "description_tooltip": null,
            "_model_module": "@jupyter-widgets/controls",
            "layout": "IPY_MODEL_39870f7bf2bf4864b4d1e0d59ee070f0"
          }
        },
        "f60e0421e048472bb5f5ec95dabeb31b": {
          "model_module": "@jupyter-widgets/controls",
          "model_name": "FloatProgressModel",
          "model_module_version": "1.5.0",
          "state": {
            "_view_name": "ProgressView",
            "style": "IPY_MODEL_724d7d545462477dbad3a5a4575d2b09",
            "_dom_classes": [],
            "description": "",
            "_model_name": "FloatProgressModel",
            "bar_style": "success",
            "max": 466166,
            "_view_module": "@jupyter-widgets/controls",
            "_model_module_version": "1.5.0",
            "value": 466166,
            "_view_count": null,
            "_view_module_version": "1.5.0",
            "orientation": "horizontal",
            "min": 0,
            "description_tooltip": null,
            "_model_module": "@jupyter-widgets/controls",
            "layout": "IPY_MODEL_07c42a0e257f403883e0e71e45972306"
          }
        },
        "509565e292c1465ba78aa8189e63c320": {
          "model_module": "@jupyter-widgets/controls",
          "model_name": "HTMLModel",
          "model_module_version": "1.5.0",
          "state": {
            "_view_name": "HTMLView",
            "style": "IPY_MODEL_cd790e24aedd49718b81b3c823ae86a5",
            "_dom_classes": [],
            "description": "",
            "_model_name": "HTMLModel",
            "placeholder": "​",
            "_view_module": "@jupyter-widgets/controls",
            "_model_module_version": "1.5.0",
            "value": " 466k/466k [00:00&lt;00:00, 1.53MB/s]",
            "_view_count": null,
            "_view_module_version": "1.5.0",
            "description_tooltip": null,
            "_model_module": "@jupyter-widgets/controls",
            "layout": "IPY_MODEL_19697c13f87747019bae3021d759edef"
          }
        },
        "054507bb9ca546cf9f535067f0268c63": {
          "model_module": "@jupyter-widgets/controls",
          "model_name": "DescriptionStyleModel",
          "model_module_version": "1.5.0",
          "state": {
            "_view_name": "StyleView",
            "_model_name": "DescriptionStyleModel",
            "description_width": "",
            "_view_module": "@jupyter-widgets/base",
            "_model_module_version": "1.5.0",
            "_view_count": null,
            "_view_module_version": "1.2.0",
            "_model_module": "@jupyter-widgets/controls"
          }
        },
        "39870f7bf2bf4864b4d1e0d59ee070f0": {
          "model_module": "@jupyter-widgets/base",
          "model_name": "LayoutModel",
          "model_module_version": "1.2.0",
          "state": {
            "_view_name": "LayoutView",
            "grid_template_rows": null,
            "right": null,
            "justify_content": null,
            "_view_module": "@jupyter-widgets/base",
            "overflow": null,
            "_model_module_version": "1.2.0",
            "_view_count": null,
            "flex_flow": null,
            "width": null,
            "min_width": null,
            "border": null,
            "align_items": null,
            "bottom": null,
            "_model_module": "@jupyter-widgets/base",
            "top": null,
            "grid_column": null,
            "overflow_y": null,
            "overflow_x": null,
            "grid_auto_flow": null,
            "grid_area": null,
            "grid_template_columns": null,
            "flex": null,
            "_model_name": "LayoutModel",
            "justify_items": null,
            "grid_row": null,
            "max_height": null,
            "align_content": null,
            "visibility": null,
            "align_self": null,
            "height": null,
            "min_height": null,
            "padding": null,
            "grid_auto_rows": null,
            "grid_gap": null,
            "max_width": null,
            "order": null,
            "_view_module_version": "1.2.0",
            "grid_template_areas": null,
            "object_position": null,
            "object_fit": null,
            "grid_auto_columns": null,
            "margin": null,
            "display": null,
            "left": null
          }
        },
        "724d7d545462477dbad3a5a4575d2b09": {
          "model_module": "@jupyter-widgets/controls",
          "model_name": "ProgressStyleModel",
          "model_module_version": "1.5.0",
          "state": {
            "_view_name": "StyleView",
            "_model_name": "ProgressStyleModel",
            "description_width": "",
            "_view_module": "@jupyter-widgets/base",
            "_model_module_version": "1.5.0",
            "_view_count": null,
            "_view_module_version": "1.2.0",
            "bar_color": null,
            "_model_module": "@jupyter-widgets/controls"
          }
        },
        "07c42a0e257f403883e0e71e45972306": {
          "model_module": "@jupyter-widgets/base",
          "model_name": "LayoutModel",
          "model_module_version": "1.2.0",
          "state": {
            "_view_name": "LayoutView",
            "grid_template_rows": null,
            "right": null,
            "justify_content": null,
            "_view_module": "@jupyter-widgets/base",
            "overflow": null,
            "_model_module_version": "1.2.0",
            "_view_count": null,
            "flex_flow": null,
            "width": null,
            "min_width": null,
            "border": null,
            "align_items": null,
            "bottom": null,
            "_model_module": "@jupyter-widgets/base",
            "top": null,
            "grid_column": null,
            "overflow_y": null,
            "overflow_x": null,
            "grid_auto_flow": null,
            "grid_area": null,
            "grid_template_columns": null,
            "flex": null,
            "_model_name": "LayoutModel",
            "justify_items": null,
            "grid_row": null,
            "max_height": null,
            "align_content": null,
            "visibility": null,
            "align_self": null,
            "height": null,
            "min_height": null,
            "padding": null,
            "grid_auto_rows": null,
            "grid_gap": null,
            "max_width": null,
            "order": null,
            "_view_module_version": "1.2.0",
            "grid_template_areas": null,
            "object_position": null,
            "object_fit": null,
            "grid_auto_columns": null,
            "margin": null,
            "display": null,
            "left": null
          }
        },
        "cd790e24aedd49718b81b3c823ae86a5": {
          "model_module": "@jupyter-widgets/controls",
          "model_name": "DescriptionStyleModel",
          "model_module_version": "1.5.0",
          "state": {
            "_view_name": "StyleView",
            "_model_name": "DescriptionStyleModel",
            "description_width": "",
            "_view_module": "@jupyter-widgets/base",
            "_model_module_version": "1.5.0",
            "_view_count": null,
            "_view_module_version": "1.2.0",
            "_model_module": "@jupyter-widgets/controls"
          }
        },
        "19697c13f87747019bae3021d759edef": {
          "model_module": "@jupyter-widgets/base",
          "model_name": "LayoutModel",
          "model_module_version": "1.2.0",
          "state": {
            "_view_name": "LayoutView",
            "grid_template_rows": null,
            "right": null,
            "justify_content": null,
            "_view_module": "@jupyter-widgets/base",
            "overflow": null,
            "_model_module_version": "1.2.0",
            "_view_count": null,
            "flex_flow": null,
            "width": null,
            "min_width": null,
            "border": null,
            "align_items": null,
            "bottom": null,
            "_model_module": "@jupyter-widgets/base",
            "top": null,
            "grid_column": null,
            "overflow_y": null,
            "overflow_x": null,
            "grid_auto_flow": null,
            "grid_area": null,
            "grid_template_columns": null,
            "flex": null,
            "_model_name": "LayoutModel",
            "justify_items": null,
            "grid_row": null,
            "max_height": null,
            "align_content": null,
            "visibility": null,
            "align_self": null,
            "height": null,
            "min_height": null,
            "padding": null,
            "grid_auto_rows": null,
            "grid_gap": null,
            "max_width": null,
            "order": null,
            "_view_module_version": "1.2.0",
            "grid_template_areas": null,
            "object_position": null,
            "object_fit": null,
            "grid_auto_columns": null,
            "margin": null,
            "display": null,
            "left": null
          }
        },
        "0bb5175b49a54594ba434d8a16ec114e": {
          "model_module": "@jupyter-widgets/controls",
          "model_name": "HBoxModel",
          "model_module_version": "1.5.0",
          "state": {
            "_view_name": "HBoxView",
            "_dom_classes": [],
            "_model_name": "HBoxModel",
            "_view_module": "@jupyter-widgets/controls",
            "_model_module_version": "1.5.0",
            "_view_count": null,
            "_view_module_version": "1.5.0",
            "box_style": "",
            "layout": "IPY_MODEL_e58e11eafb464eada9b42031352b4194",
            "_model_module": "@jupyter-widgets/controls",
            "children": [
              "IPY_MODEL_9907412dfbe54ac1b2744f3439a185be",
              "IPY_MODEL_7b47cde775df4ee3b151d353059bd90d",
              "IPY_MODEL_51e9652b56df47199040525124626971"
            ]
          }
        },
        "e58e11eafb464eada9b42031352b4194": {
          "model_module": "@jupyter-widgets/base",
          "model_name": "LayoutModel",
          "model_module_version": "1.2.0",
          "state": {
            "_view_name": "LayoutView",
            "grid_template_rows": null,
            "right": null,
            "justify_content": null,
            "_view_module": "@jupyter-widgets/base",
            "overflow": null,
            "_model_module_version": "1.2.0",
            "_view_count": null,
            "flex_flow": null,
            "width": null,
            "min_width": null,
            "border": null,
            "align_items": null,
            "bottom": null,
            "_model_module": "@jupyter-widgets/base",
            "top": null,
            "grid_column": null,
            "overflow_y": null,
            "overflow_x": null,
            "grid_auto_flow": null,
            "grid_area": null,
            "grid_template_columns": null,
            "flex": null,
            "_model_name": "LayoutModel",
            "justify_items": null,
            "grid_row": null,
            "max_height": null,
            "align_content": null,
            "visibility": null,
            "align_self": null,
            "height": null,
            "min_height": null,
            "padding": null,
            "grid_auto_rows": null,
            "grid_gap": null,
            "max_width": null,
            "order": null,
            "_view_module_version": "1.2.0",
            "grid_template_areas": null,
            "object_position": null,
            "object_fit": null,
            "grid_auto_columns": null,
            "margin": null,
            "display": null,
            "left": null
          }
        },
        "9907412dfbe54ac1b2744f3439a185be": {
          "model_module": "@jupyter-widgets/controls",
          "model_name": "HTMLModel",
          "model_module_version": "1.5.0",
          "state": {
            "_view_name": "HTMLView",
            "style": "IPY_MODEL_20c1d59b513542f99ebca9c19e4c29b0",
            "_dom_classes": [],
            "description": "",
            "_model_name": "HTMLModel",
            "placeholder": "​",
            "_view_module": "@jupyter-widgets/controls",
            "_model_module_version": "1.5.0",
            "value": "Downloading: 100%",
            "_view_count": null,
            "_view_module_version": "1.5.0",
            "description_tooltip": null,
            "_model_module": "@jupyter-widgets/controls",
            "layout": "IPY_MODEL_25f5b2ba84304dbc96d7b43da1c9f507"
          }
        },
        "7b47cde775df4ee3b151d353059bd90d": {
          "model_module": "@jupyter-widgets/controls",
          "model_name": "FloatProgressModel",
          "model_module_version": "1.5.0",
          "state": {
            "_view_name": "ProgressView",
            "style": "IPY_MODEL_94ee33dfefea4fa0b8fa6e2cdd4dd70b",
            "_dom_classes": [],
            "description": "",
            "_model_name": "FloatProgressModel",
            "bar_style": "success",
            "max": 1193,
            "_view_module": "@jupyter-widgets/controls",
            "_model_module_version": "1.5.0",
            "value": 1193,
            "_view_count": null,
            "_view_module_version": "1.5.0",
            "orientation": "horizontal",
            "min": 0,
            "description_tooltip": null,
            "_model_module": "@jupyter-widgets/controls",
            "layout": "IPY_MODEL_8761cf2b46a44a448898a9163f35fba2"
          }
        },
        "51e9652b56df47199040525124626971": {
          "model_module": "@jupyter-widgets/controls",
          "model_name": "HTMLModel",
          "model_module_version": "1.5.0",
          "state": {
            "_view_name": "HTMLView",
            "style": "IPY_MODEL_94acc9a75fb24c2daf8cb750903f8880",
            "_dom_classes": [],
            "description": "",
            "_model_name": "HTMLModel",
            "placeholder": "​",
            "_view_module": "@jupyter-widgets/controls",
            "_model_module_version": "1.5.0",
            "value": " 1.19k/1.19k [00:00&lt;00:00, 25.9kB/s]",
            "_view_count": null,
            "_view_module_version": "1.5.0",
            "description_tooltip": null,
            "_model_module": "@jupyter-widgets/controls",
            "layout": "IPY_MODEL_13dccc21c4194b7cae874ac212cd89e7"
          }
        },
        "20c1d59b513542f99ebca9c19e4c29b0": {
          "model_module": "@jupyter-widgets/controls",
          "model_name": "DescriptionStyleModel",
          "model_module_version": "1.5.0",
          "state": {
            "_view_name": "StyleView",
            "_model_name": "DescriptionStyleModel",
            "description_width": "",
            "_view_module": "@jupyter-widgets/base",
            "_model_module_version": "1.5.0",
            "_view_count": null,
            "_view_module_version": "1.2.0",
            "_model_module": "@jupyter-widgets/controls"
          }
        },
        "25f5b2ba84304dbc96d7b43da1c9f507": {
          "model_module": "@jupyter-widgets/base",
          "model_name": "LayoutModel",
          "model_module_version": "1.2.0",
          "state": {
            "_view_name": "LayoutView",
            "grid_template_rows": null,
            "right": null,
            "justify_content": null,
            "_view_module": "@jupyter-widgets/base",
            "overflow": null,
            "_model_module_version": "1.2.0",
            "_view_count": null,
            "flex_flow": null,
            "width": null,
            "min_width": null,
            "border": null,
            "align_items": null,
            "bottom": null,
            "_model_module": "@jupyter-widgets/base",
            "top": null,
            "grid_column": null,
            "overflow_y": null,
            "overflow_x": null,
            "grid_auto_flow": null,
            "grid_area": null,
            "grid_template_columns": null,
            "flex": null,
            "_model_name": "LayoutModel",
            "justify_items": null,
            "grid_row": null,
            "max_height": null,
            "align_content": null,
            "visibility": null,
            "align_self": null,
            "height": null,
            "min_height": null,
            "padding": null,
            "grid_auto_rows": null,
            "grid_gap": null,
            "max_width": null,
            "order": null,
            "_view_module_version": "1.2.0",
            "grid_template_areas": null,
            "object_position": null,
            "object_fit": null,
            "grid_auto_columns": null,
            "margin": null,
            "display": null,
            "left": null
          }
        },
        "94ee33dfefea4fa0b8fa6e2cdd4dd70b": {
          "model_module": "@jupyter-widgets/controls",
          "model_name": "ProgressStyleModel",
          "model_module_version": "1.5.0",
          "state": {
            "_view_name": "StyleView",
            "_model_name": "ProgressStyleModel",
            "description_width": "",
            "_view_module": "@jupyter-widgets/base",
            "_model_module_version": "1.5.0",
            "_view_count": null,
            "_view_module_version": "1.2.0",
            "bar_color": null,
            "_model_module": "@jupyter-widgets/controls"
          }
        },
        "8761cf2b46a44a448898a9163f35fba2": {
          "model_module": "@jupyter-widgets/base",
          "model_name": "LayoutModel",
          "model_module_version": "1.2.0",
          "state": {
            "_view_name": "LayoutView",
            "grid_template_rows": null,
            "right": null,
            "justify_content": null,
            "_view_module": "@jupyter-widgets/base",
            "overflow": null,
            "_model_module_version": "1.2.0",
            "_view_count": null,
            "flex_flow": null,
            "width": null,
            "min_width": null,
            "border": null,
            "align_items": null,
            "bottom": null,
            "_model_module": "@jupyter-widgets/base",
            "top": null,
            "grid_column": null,
            "overflow_y": null,
            "overflow_x": null,
            "grid_auto_flow": null,
            "grid_area": null,
            "grid_template_columns": null,
            "flex": null,
            "_model_name": "LayoutModel",
            "justify_items": null,
            "grid_row": null,
            "max_height": null,
            "align_content": null,
            "visibility": null,
            "align_self": null,
            "height": null,
            "min_height": null,
            "padding": null,
            "grid_auto_rows": null,
            "grid_gap": null,
            "max_width": null,
            "order": null,
            "_view_module_version": "1.2.0",
            "grid_template_areas": null,
            "object_position": null,
            "object_fit": null,
            "grid_auto_columns": null,
            "margin": null,
            "display": null,
            "left": null
          }
        },
        "94acc9a75fb24c2daf8cb750903f8880": {
          "model_module": "@jupyter-widgets/controls",
          "model_name": "DescriptionStyleModel",
          "model_module_version": "1.5.0",
          "state": {
            "_view_name": "StyleView",
            "_model_name": "DescriptionStyleModel",
            "description_width": "",
            "_view_module": "@jupyter-widgets/base",
            "_model_module_version": "1.5.0",
            "_view_count": null,
            "_view_module_version": "1.2.0",
            "_model_module": "@jupyter-widgets/controls"
          }
        },
        "13dccc21c4194b7cae874ac212cd89e7": {
          "model_module": "@jupyter-widgets/base",
          "model_name": "LayoutModel",
          "model_module_version": "1.2.0",
          "state": {
            "_view_name": "LayoutView",
            "grid_template_rows": null,
            "right": null,
            "justify_content": null,
            "_view_module": "@jupyter-widgets/base",
            "overflow": null,
            "_model_module_version": "1.2.0",
            "_view_count": null,
            "flex_flow": null,
            "width": null,
            "min_width": null,
            "border": null,
            "align_items": null,
            "bottom": null,
            "_model_module": "@jupyter-widgets/base",
            "top": null,
            "grid_column": null,
            "overflow_y": null,
            "overflow_x": null,
            "grid_auto_flow": null,
            "grid_area": null,
            "grid_template_columns": null,
            "flex": null,
            "_model_name": "LayoutModel",
            "justify_items": null,
            "grid_row": null,
            "max_height": null,
            "align_content": null,
            "visibility": null,
            "align_self": null,
            "height": null,
            "min_height": null,
            "padding": null,
            "grid_auto_rows": null,
            "grid_gap": null,
            "max_width": null,
            "order": null,
            "_view_module_version": "1.2.0",
            "grid_template_areas": null,
            "object_position": null,
            "object_fit": null,
            "grid_auto_columns": null,
            "margin": null,
            "display": null,
            "left": null
          }
        },
        "5ec51fd167fd4dd7a7343218f3b8dc41": {
          "model_module": "@jupyter-widgets/controls",
          "model_name": "HBoxModel",
          "model_module_version": "1.5.0",
          "state": {
            "_view_name": "HBoxView",
            "_dom_classes": [],
            "_model_name": "HBoxModel",
            "_view_module": "@jupyter-widgets/controls",
            "_model_module_version": "1.5.0",
            "_view_count": null,
            "_view_module_version": "1.5.0",
            "box_style": "",
            "layout": "IPY_MODEL_443f5790777e41d3af48af6574756ce2",
            "_model_module": "@jupyter-widgets/controls",
            "children": [
              "IPY_MODEL_ec56f3fe08e240dfb235d308ecb4a924",
              "IPY_MODEL_b3d01c51688a49bea993f2b6fa6cdc52",
              "IPY_MODEL_74e1835a62ec4a04b4db8811ac892222"
            ]
          }
        },
        "443f5790777e41d3af48af6574756ce2": {
          "model_module": "@jupyter-widgets/base",
          "model_name": "LayoutModel",
          "model_module_version": "1.2.0",
          "state": {
            "_view_name": "LayoutView",
            "grid_template_rows": null,
            "right": null,
            "justify_content": null,
            "_view_module": "@jupyter-widgets/base",
            "overflow": null,
            "_model_module_version": "1.2.0",
            "_view_count": null,
            "flex_flow": null,
            "width": null,
            "min_width": null,
            "border": null,
            "align_items": null,
            "bottom": null,
            "_model_module": "@jupyter-widgets/base",
            "top": null,
            "grid_column": null,
            "overflow_y": null,
            "overflow_x": null,
            "grid_auto_flow": null,
            "grid_area": null,
            "grid_template_columns": null,
            "flex": null,
            "_model_name": "LayoutModel",
            "justify_items": null,
            "grid_row": null,
            "max_height": null,
            "align_content": null,
            "visibility": null,
            "align_self": null,
            "height": null,
            "min_height": null,
            "padding": null,
            "grid_auto_rows": null,
            "grid_gap": null,
            "max_width": null,
            "order": null,
            "_view_module_version": "1.2.0",
            "grid_template_areas": null,
            "object_position": null,
            "object_fit": null,
            "grid_auto_columns": null,
            "margin": null,
            "display": null,
            "left": null
          }
        },
        "ec56f3fe08e240dfb235d308ecb4a924": {
          "model_module": "@jupyter-widgets/controls",
          "model_name": "HTMLModel",
          "model_module_version": "1.5.0",
          "state": {
            "_view_name": "HTMLView",
            "style": "IPY_MODEL_3e6890d1b4c64ecbb2cfadaca8056ebb",
            "_dom_classes": [],
            "description": "",
            "_model_name": "HTMLModel",
            "placeholder": "​",
            "_view_module": "@jupyter-widgets/controls",
            "_model_module_version": "1.5.0",
            "value": "Downloading: 100%",
            "_view_count": null,
            "_view_module_version": "1.5.0",
            "description_tooltip": null,
            "_model_module": "@jupyter-widgets/controls",
            "layout": "IPY_MODEL_5f98603248fb464eaaa1dd0849f8d8e1"
          }
        },
        "b3d01c51688a49bea993f2b6fa6cdc52": {
          "model_module": "@jupyter-widgets/controls",
          "model_name": "FloatProgressModel",
          "model_module_version": "1.5.0",
          "state": {
            "_view_name": "ProgressView",
            "style": "IPY_MODEL_c185bd1e63bd43aa86655bab2752b6b7",
            "_dom_classes": [],
            "description": "",
            "_model_name": "FloatProgressModel",
            "bar_style": "success",
            "max": 231536,
            "_view_module": "@jupyter-widgets/controls",
            "_model_module_version": "1.5.0",
            "value": 231536,
            "_view_count": null,
            "_view_module_version": "1.5.0",
            "orientation": "horizontal",
            "min": 0,
            "description_tooltip": null,
            "_model_module": "@jupyter-widgets/controls",
            "layout": "IPY_MODEL_9716e84c25df4223b8e2075466bbb5b6"
          }
        },
        "74e1835a62ec4a04b4db8811ac892222": {
          "model_module": "@jupyter-widgets/controls",
          "model_name": "HTMLModel",
          "model_module_version": "1.5.0",
          "state": {
            "_view_name": "HTMLView",
            "style": "IPY_MODEL_7eb68a868cde47f9a73945111f228b54",
            "_dom_classes": [],
            "description": "",
            "_model_name": "HTMLModel",
            "placeholder": "​",
            "_view_module": "@jupyter-widgets/controls",
            "_model_module_version": "1.5.0",
            "value": " 232k/232k [00:00&lt;00:00, 1.68MB/s]",
            "_view_count": null,
            "_view_module_version": "1.5.0",
            "description_tooltip": null,
            "_model_module": "@jupyter-widgets/controls",
            "layout": "IPY_MODEL_c8781eabe0e34ee38cfb86c471a6022e"
          }
        },
        "3e6890d1b4c64ecbb2cfadaca8056ebb": {
          "model_module": "@jupyter-widgets/controls",
          "model_name": "DescriptionStyleModel",
          "model_module_version": "1.5.0",
          "state": {
            "_view_name": "StyleView",
            "_model_name": "DescriptionStyleModel",
            "description_width": "",
            "_view_module": "@jupyter-widgets/base",
            "_model_module_version": "1.5.0",
            "_view_count": null,
            "_view_module_version": "1.2.0",
            "_model_module": "@jupyter-widgets/controls"
          }
        },
        "5f98603248fb464eaaa1dd0849f8d8e1": {
          "model_module": "@jupyter-widgets/base",
          "model_name": "LayoutModel",
          "model_module_version": "1.2.0",
          "state": {
            "_view_name": "LayoutView",
            "grid_template_rows": null,
            "right": null,
            "justify_content": null,
            "_view_module": "@jupyter-widgets/base",
            "overflow": null,
            "_model_module_version": "1.2.0",
            "_view_count": null,
            "flex_flow": null,
            "width": null,
            "min_width": null,
            "border": null,
            "align_items": null,
            "bottom": null,
            "_model_module": "@jupyter-widgets/base",
            "top": null,
            "grid_column": null,
            "overflow_y": null,
            "overflow_x": null,
            "grid_auto_flow": null,
            "grid_area": null,
            "grid_template_columns": null,
            "flex": null,
            "_model_name": "LayoutModel",
            "justify_items": null,
            "grid_row": null,
            "max_height": null,
            "align_content": null,
            "visibility": null,
            "align_self": null,
            "height": null,
            "min_height": null,
            "padding": null,
            "grid_auto_rows": null,
            "grid_gap": null,
            "max_width": null,
            "order": null,
            "_view_module_version": "1.2.0",
            "grid_template_areas": null,
            "object_position": null,
            "object_fit": null,
            "grid_auto_columns": null,
            "margin": null,
            "display": null,
            "left": null
          }
        },
        "c185bd1e63bd43aa86655bab2752b6b7": {
          "model_module": "@jupyter-widgets/controls",
          "model_name": "ProgressStyleModel",
          "model_module_version": "1.5.0",
          "state": {
            "_view_name": "StyleView",
            "_model_name": "ProgressStyleModel",
            "description_width": "",
            "_view_module": "@jupyter-widgets/base",
            "_model_module_version": "1.5.0",
            "_view_count": null,
            "_view_module_version": "1.2.0",
            "bar_color": null,
            "_model_module": "@jupyter-widgets/controls"
          }
        },
        "9716e84c25df4223b8e2075466bbb5b6": {
          "model_module": "@jupyter-widgets/base",
          "model_name": "LayoutModel",
          "model_module_version": "1.2.0",
          "state": {
            "_view_name": "LayoutView",
            "grid_template_rows": null,
            "right": null,
            "justify_content": null,
            "_view_module": "@jupyter-widgets/base",
            "overflow": null,
            "_model_module_version": "1.2.0",
            "_view_count": null,
            "flex_flow": null,
            "width": null,
            "min_width": null,
            "border": null,
            "align_items": null,
            "bottom": null,
            "_model_module": "@jupyter-widgets/base",
            "top": null,
            "grid_column": null,
            "overflow_y": null,
            "overflow_x": null,
            "grid_auto_flow": null,
            "grid_area": null,
            "grid_template_columns": null,
            "flex": null,
            "_model_name": "LayoutModel",
            "justify_items": null,
            "grid_row": null,
            "max_height": null,
            "align_content": null,
            "visibility": null,
            "align_self": null,
            "height": null,
            "min_height": null,
            "padding": null,
            "grid_auto_rows": null,
            "grid_gap": null,
            "max_width": null,
            "order": null,
            "_view_module_version": "1.2.0",
            "grid_template_areas": null,
            "object_position": null,
            "object_fit": null,
            "grid_auto_columns": null,
            "margin": null,
            "display": null,
            "left": null
          }
        },
        "7eb68a868cde47f9a73945111f228b54": {
          "model_module": "@jupyter-widgets/controls",
          "model_name": "DescriptionStyleModel",
          "model_module_version": "1.5.0",
          "state": {
            "_view_name": "StyleView",
            "_model_name": "DescriptionStyleModel",
            "description_width": "",
            "_view_module": "@jupyter-widgets/base",
            "_model_module_version": "1.5.0",
            "_view_count": null,
            "_view_module_version": "1.2.0",
            "_model_module": "@jupyter-widgets/controls"
          }
        },
        "c8781eabe0e34ee38cfb86c471a6022e": {
          "model_module": "@jupyter-widgets/base",
          "model_name": "LayoutModel",
          "model_module_version": "1.2.0",
          "state": {
            "_view_name": "LayoutView",
            "grid_template_rows": null,
            "right": null,
            "justify_content": null,
            "_view_module": "@jupyter-widgets/base",
            "overflow": null,
            "_model_module_version": "1.2.0",
            "_view_count": null,
            "flex_flow": null,
            "width": null,
            "min_width": null,
            "border": null,
            "align_items": null,
            "bottom": null,
            "_model_module": "@jupyter-widgets/base",
            "top": null,
            "grid_column": null,
            "overflow_y": null,
            "overflow_x": null,
            "grid_auto_flow": null,
            "grid_area": null,
            "grid_template_columns": null,
            "flex": null,
            "_model_name": "LayoutModel",
            "justify_items": null,
            "grid_row": null,
            "max_height": null,
            "align_content": null,
            "visibility": null,
            "align_self": null,
            "height": null,
            "min_height": null,
            "padding": null,
            "grid_auto_rows": null,
            "grid_gap": null,
            "max_width": null,
            "order": null,
            "_view_module_version": "1.2.0",
            "grid_template_areas": null,
            "object_position": null,
            "object_fit": null,
            "grid_auto_columns": null,
            "margin": null,
            "display": null,
            "left": null
          }
        },
        "42afed6c6a8b48f6bac13ee068233b87": {
          "model_module": "@jupyter-widgets/controls",
          "model_name": "HBoxModel",
          "model_module_version": "1.5.0",
          "state": {
            "_view_name": "HBoxView",
            "_dom_classes": [],
            "_model_name": "HBoxModel",
            "_view_module": "@jupyter-widgets/controls",
            "_model_module_version": "1.5.0",
            "_view_count": null,
            "_view_module_version": "1.5.0",
            "box_style": "",
            "layout": "IPY_MODEL_0dccfb47a804490ab26e20c2502151d1",
            "_model_module": "@jupyter-widgets/controls",
            "children": [
              "IPY_MODEL_17a15c4048b5480db0eda803d7112471",
              "IPY_MODEL_c941467c0bc34563b6f6adbb3afc7ba7",
              "IPY_MODEL_feb66bdcb5804fcd9476ac2921a67de7"
            ]
          }
        },
        "0dccfb47a804490ab26e20c2502151d1": {
          "model_module": "@jupyter-widgets/base",
          "model_name": "LayoutModel",
          "model_module_version": "1.2.0",
          "state": {
            "_view_name": "LayoutView",
            "grid_template_rows": null,
            "right": null,
            "justify_content": null,
            "_view_module": "@jupyter-widgets/base",
            "overflow": null,
            "_model_module_version": "1.2.0",
            "_view_count": null,
            "flex_flow": null,
            "width": null,
            "min_width": null,
            "border": null,
            "align_items": null,
            "bottom": null,
            "_model_module": "@jupyter-widgets/base",
            "top": null,
            "grid_column": null,
            "overflow_y": null,
            "overflow_x": null,
            "grid_auto_flow": null,
            "grid_area": null,
            "grid_template_columns": null,
            "flex": null,
            "_model_name": "LayoutModel",
            "justify_items": null,
            "grid_row": null,
            "max_height": null,
            "align_content": null,
            "visibility": null,
            "align_self": null,
            "height": null,
            "min_height": null,
            "padding": null,
            "grid_auto_rows": null,
            "grid_gap": null,
            "max_width": null,
            "order": null,
            "_view_module_version": "1.2.0",
            "grid_template_areas": null,
            "object_position": null,
            "object_fit": null,
            "grid_auto_columns": null,
            "margin": null,
            "display": null,
            "left": null
          }
        },
        "17a15c4048b5480db0eda803d7112471": {
          "model_module": "@jupyter-widgets/controls",
          "model_name": "HTMLModel",
          "model_module_version": "1.5.0",
          "state": {
            "_view_name": "HTMLView",
            "style": "IPY_MODEL_129a346987764f72bc2f896ccadef144",
            "_dom_classes": [],
            "description": "",
            "_model_name": "HTMLModel",
            "placeholder": "​",
            "_view_module": "@jupyter-widgets/controls",
            "_model_module_version": "1.5.0",
            "value": "Downloading: 100%",
            "_view_count": null,
            "_view_module_version": "1.5.0",
            "description_tooltip": null,
            "_model_module": "@jupyter-widgets/controls",
            "layout": "IPY_MODEL_1afac06a66714f74a8892d7897221f13"
          }
        },
        "c941467c0bc34563b6f6adbb3afc7ba7": {
          "model_module": "@jupyter-widgets/controls",
          "model_name": "FloatProgressModel",
          "model_module_version": "1.5.0",
          "state": {
            "_view_name": "ProgressView",
            "style": "IPY_MODEL_1beff6d7411948359b8fa2b1cdb411ca",
            "_dom_classes": [],
            "description": "",
            "_model_name": "FloatProgressModel",
            "bar_style": "success",
            "max": 190,
            "_view_module": "@jupyter-widgets/controls",
            "_model_module_version": "1.5.0",
            "value": 190,
            "_view_count": null,
            "_view_module_version": "1.5.0",
            "orientation": "horizontal",
            "min": 0,
            "description_tooltip": null,
            "_model_module": "@jupyter-widgets/controls",
            "layout": "IPY_MODEL_02e69f24bfab48c9a7a9b203820a2e45"
          }
        },
        "feb66bdcb5804fcd9476ac2921a67de7": {
          "model_module": "@jupyter-widgets/controls",
          "model_name": "HTMLModel",
          "model_module_version": "1.5.0",
          "state": {
            "_view_name": "HTMLView",
            "style": "IPY_MODEL_49af59ce13b54070b056fd945df6a4f4",
            "_dom_classes": [],
            "description": "",
            "_model_name": "HTMLModel",
            "placeholder": "​",
            "_view_module": "@jupyter-widgets/controls",
            "_model_module_version": "1.5.0",
            "value": " 190/190 [00:00&lt;00:00, 3.51kB/s]",
            "_view_count": null,
            "_view_module_version": "1.5.0",
            "description_tooltip": null,
            "_model_module": "@jupyter-widgets/controls",
            "layout": "IPY_MODEL_3d46e652a4ad45b88c96b5d8765f0b71"
          }
        },
        "129a346987764f72bc2f896ccadef144": {
          "model_module": "@jupyter-widgets/controls",
          "model_name": "DescriptionStyleModel",
          "model_module_version": "1.5.0",
          "state": {
            "_view_name": "StyleView",
            "_model_name": "DescriptionStyleModel",
            "description_width": "",
            "_view_module": "@jupyter-widgets/base",
            "_model_module_version": "1.5.0",
            "_view_count": null,
            "_view_module_version": "1.2.0",
            "_model_module": "@jupyter-widgets/controls"
          }
        },
        "1afac06a66714f74a8892d7897221f13": {
          "model_module": "@jupyter-widgets/base",
          "model_name": "LayoutModel",
          "model_module_version": "1.2.0",
          "state": {
            "_view_name": "LayoutView",
            "grid_template_rows": null,
            "right": null,
            "justify_content": null,
            "_view_module": "@jupyter-widgets/base",
            "overflow": null,
            "_model_module_version": "1.2.0",
            "_view_count": null,
            "flex_flow": null,
            "width": null,
            "min_width": null,
            "border": null,
            "align_items": null,
            "bottom": null,
            "_model_module": "@jupyter-widgets/base",
            "top": null,
            "grid_column": null,
            "overflow_y": null,
            "overflow_x": null,
            "grid_auto_flow": null,
            "grid_area": null,
            "grid_template_columns": null,
            "flex": null,
            "_model_name": "LayoutModel",
            "justify_items": null,
            "grid_row": null,
            "max_height": null,
            "align_content": null,
            "visibility": null,
            "align_self": null,
            "height": null,
            "min_height": null,
            "padding": null,
            "grid_auto_rows": null,
            "grid_gap": null,
            "max_width": null,
            "order": null,
            "_view_module_version": "1.2.0",
            "grid_template_areas": null,
            "object_position": null,
            "object_fit": null,
            "grid_auto_columns": null,
            "margin": null,
            "display": null,
            "left": null
          }
        },
        "1beff6d7411948359b8fa2b1cdb411ca": {
          "model_module": "@jupyter-widgets/controls",
          "model_name": "ProgressStyleModel",
          "model_module_version": "1.5.0",
          "state": {
            "_view_name": "StyleView",
            "_model_name": "ProgressStyleModel",
            "description_width": "",
            "_view_module": "@jupyter-widgets/base",
            "_model_module_version": "1.5.0",
            "_view_count": null,
            "_view_module_version": "1.2.0",
            "bar_color": null,
            "_model_module": "@jupyter-widgets/controls"
          }
        },
        "02e69f24bfab48c9a7a9b203820a2e45": {
          "model_module": "@jupyter-widgets/base",
          "model_name": "LayoutModel",
          "model_module_version": "1.2.0",
          "state": {
            "_view_name": "LayoutView",
            "grid_template_rows": null,
            "right": null,
            "justify_content": null,
            "_view_module": "@jupyter-widgets/base",
            "overflow": null,
            "_model_module_version": "1.2.0",
            "_view_count": null,
            "flex_flow": null,
            "width": null,
            "min_width": null,
            "border": null,
            "align_items": null,
            "bottom": null,
            "_model_module": "@jupyter-widgets/base",
            "top": null,
            "grid_column": null,
            "overflow_y": null,
            "overflow_x": null,
            "grid_auto_flow": null,
            "grid_area": null,
            "grid_template_columns": null,
            "flex": null,
            "_model_name": "LayoutModel",
            "justify_items": null,
            "grid_row": null,
            "max_height": null,
            "align_content": null,
            "visibility": null,
            "align_self": null,
            "height": null,
            "min_height": null,
            "padding": null,
            "grid_auto_rows": null,
            "grid_gap": null,
            "max_width": null,
            "order": null,
            "_view_module_version": "1.2.0",
            "grid_template_areas": null,
            "object_position": null,
            "object_fit": null,
            "grid_auto_columns": null,
            "margin": null,
            "display": null,
            "left": null
          }
        },
        "49af59ce13b54070b056fd945df6a4f4": {
          "model_module": "@jupyter-widgets/controls",
          "model_name": "DescriptionStyleModel",
          "model_module_version": "1.5.0",
          "state": {
            "_view_name": "StyleView",
            "_model_name": "DescriptionStyleModel",
            "description_width": "",
            "_view_module": "@jupyter-widgets/base",
            "_model_module_version": "1.5.0",
            "_view_count": null,
            "_view_module_version": "1.2.0",
            "_model_module": "@jupyter-widgets/controls"
          }
        },
        "3d46e652a4ad45b88c96b5d8765f0b71": {
          "model_module": "@jupyter-widgets/base",
          "model_name": "LayoutModel",
          "model_module_version": "1.2.0",
          "state": {
            "_view_name": "LayoutView",
            "grid_template_rows": null,
            "right": null,
            "justify_content": null,
            "_view_module": "@jupyter-widgets/base",
            "overflow": null,
            "_model_module_version": "1.2.0",
            "_view_count": null,
            "flex_flow": null,
            "width": null,
            "min_width": null,
            "border": null,
            "align_items": null,
            "bottom": null,
            "_model_module": "@jupyter-widgets/base",
            "top": null,
            "grid_column": null,
            "overflow_y": null,
            "overflow_x": null,
            "grid_auto_flow": null,
            "grid_area": null,
            "grid_template_columns": null,
            "flex": null,
            "_model_name": "LayoutModel",
            "justify_items": null,
            "grid_row": null,
            "max_height": null,
            "align_content": null,
            "visibility": null,
            "align_self": null,
            "height": null,
            "min_height": null,
            "padding": null,
            "grid_auto_rows": null,
            "grid_gap": null,
            "max_width": null,
            "order": null,
            "_view_module_version": "1.2.0",
            "grid_template_areas": null,
            "object_position": null,
            "object_fit": null,
            "grid_auto_columns": null,
            "margin": null,
            "display": null,
            "left": null
          }
        },
        "69be3f1dc71e4b038ae6921daa00909e": {
          "model_module": "@jupyter-widgets/controls",
          "model_name": "HBoxModel",
          "model_module_version": "1.5.0",
          "state": {
            "_view_name": "HBoxView",
            "_dom_classes": [],
            "_model_name": "HBoxModel",
            "_view_module": "@jupyter-widgets/controls",
            "_model_module_version": "1.5.0",
            "_view_count": null,
            "_view_module_version": "1.5.0",
            "box_style": "",
            "layout": "IPY_MODEL_cadf4ae6dab9492084e2c68a9348a47a",
            "_model_module": "@jupyter-widgets/controls",
            "children": [
              "IPY_MODEL_f2f5091c979d40a281c55937ac119a3e",
              "IPY_MODEL_347be3aeb0aa41c780a3b995f9d05b7a",
              "IPY_MODEL_4ac977fb6ec54672bd798f31f171c430"
            ]
          }
        },
        "cadf4ae6dab9492084e2c68a9348a47a": {
          "model_module": "@jupyter-widgets/base",
          "model_name": "LayoutModel",
          "model_module_version": "1.2.0",
          "state": {
            "_view_name": "LayoutView",
            "grid_template_rows": null,
            "right": null,
            "justify_content": null,
            "_view_module": "@jupyter-widgets/base",
            "overflow": null,
            "_model_module_version": "1.2.0",
            "_view_count": null,
            "flex_flow": null,
            "width": null,
            "min_width": null,
            "border": null,
            "align_items": null,
            "bottom": null,
            "_model_module": "@jupyter-widgets/base",
            "top": null,
            "grid_column": null,
            "overflow_y": null,
            "overflow_x": null,
            "grid_auto_flow": null,
            "grid_area": null,
            "grid_template_columns": null,
            "flex": null,
            "_model_name": "LayoutModel",
            "justify_items": null,
            "grid_row": null,
            "max_height": null,
            "align_content": null,
            "visibility": null,
            "align_self": null,
            "height": null,
            "min_height": null,
            "padding": null,
            "grid_auto_rows": null,
            "grid_gap": null,
            "max_width": null,
            "order": null,
            "_view_module_version": "1.2.0",
            "grid_template_areas": null,
            "object_position": null,
            "object_fit": null,
            "grid_auto_columns": null,
            "margin": null,
            "display": null,
            "left": null
          }
        },
        "f2f5091c979d40a281c55937ac119a3e": {
          "model_module": "@jupyter-widgets/controls",
          "model_name": "HTMLModel",
          "model_module_version": "1.5.0",
          "state": {
            "_view_name": "HTMLView",
            "style": "IPY_MODEL_cefc42a2397b403ca8241d5825276353",
            "_dom_classes": [],
            "description": "",
            "_model_name": "HTMLModel",
            "placeholder": "​",
            "_view_module": "@jupyter-widgets/controls",
            "_model_module_version": "1.5.0",
            "value": "Batches: 100%",
            "_view_count": null,
            "_view_module_version": "1.5.0",
            "description_tooltip": null,
            "_model_module": "@jupyter-widgets/controls",
            "layout": "IPY_MODEL_83106812f7474ae7b6698afbbbee6d64"
          }
        },
        "347be3aeb0aa41c780a3b995f9d05b7a": {
          "model_module": "@jupyter-widgets/controls",
          "model_name": "FloatProgressModel",
          "model_module_version": "1.5.0",
          "state": {
            "_view_name": "ProgressView",
            "style": "IPY_MODEL_35c482843fcb41f086131485cf301e70",
            "_dom_classes": [],
            "description": "",
            "_model_name": "FloatProgressModel",
            "bar_style": "success",
            "max": 108,
            "_view_module": "@jupyter-widgets/controls",
            "_model_module_version": "1.5.0",
            "value": 108,
            "_view_count": null,
            "_view_module_version": "1.5.0",
            "orientation": "horizontal",
            "min": 0,
            "description_tooltip": null,
            "_model_module": "@jupyter-widgets/controls",
            "layout": "IPY_MODEL_0aff8e8cd0c1411ebce52744a02673d8"
          }
        },
        "4ac977fb6ec54672bd798f31f171c430": {
          "model_module": "@jupyter-widgets/controls",
          "model_name": "HTMLModel",
          "model_module_version": "1.5.0",
          "state": {
            "_view_name": "HTMLView",
            "style": "IPY_MODEL_899f60f001114d60aa20e7b51d4b4dca",
            "_dom_classes": [],
            "description": "",
            "_model_name": "HTMLModel",
            "placeholder": "​",
            "_view_module": "@jupyter-widgets/controls",
            "_model_module_version": "1.5.0",
            "value": " 108/108 [03:06&lt;00:00,  1.14it/s]",
            "_view_count": null,
            "_view_module_version": "1.5.0",
            "description_tooltip": null,
            "_model_module": "@jupyter-widgets/controls",
            "layout": "IPY_MODEL_3ce90abf17a54426b471d40e6daaf34e"
          }
        },
        "cefc42a2397b403ca8241d5825276353": {
          "model_module": "@jupyter-widgets/controls",
          "model_name": "DescriptionStyleModel",
          "model_module_version": "1.5.0",
          "state": {
            "_view_name": "StyleView",
            "_model_name": "DescriptionStyleModel",
            "description_width": "",
            "_view_module": "@jupyter-widgets/base",
            "_model_module_version": "1.5.0",
            "_view_count": null,
            "_view_module_version": "1.2.0",
            "_model_module": "@jupyter-widgets/controls"
          }
        },
        "83106812f7474ae7b6698afbbbee6d64": {
          "model_module": "@jupyter-widgets/base",
          "model_name": "LayoutModel",
          "model_module_version": "1.2.0",
          "state": {
            "_view_name": "LayoutView",
            "grid_template_rows": null,
            "right": null,
            "justify_content": null,
            "_view_module": "@jupyter-widgets/base",
            "overflow": null,
            "_model_module_version": "1.2.0",
            "_view_count": null,
            "flex_flow": null,
            "width": null,
            "min_width": null,
            "border": null,
            "align_items": null,
            "bottom": null,
            "_model_module": "@jupyter-widgets/base",
            "top": null,
            "grid_column": null,
            "overflow_y": null,
            "overflow_x": null,
            "grid_auto_flow": null,
            "grid_area": null,
            "grid_template_columns": null,
            "flex": null,
            "_model_name": "LayoutModel",
            "justify_items": null,
            "grid_row": null,
            "max_height": null,
            "align_content": null,
            "visibility": null,
            "align_self": null,
            "height": null,
            "min_height": null,
            "padding": null,
            "grid_auto_rows": null,
            "grid_gap": null,
            "max_width": null,
            "order": null,
            "_view_module_version": "1.2.0",
            "grid_template_areas": null,
            "object_position": null,
            "object_fit": null,
            "grid_auto_columns": null,
            "margin": null,
            "display": null,
            "left": null
          }
        },
        "35c482843fcb41f086131485cf301e70": {
          "model_module": "@jupyter-widgets/controls",
          "model_name": "ProgressStyleModel",
          "model_module_version": "1.5.0",
          "state": {
            "_view_name": "StyleView",
            "_model_name": "ProgressStyleModel",
            "description_width": "",
            "_view_module": "@jupyter-widgets/base",
            "_model_module_version": "1.5.0",
            "_view_count": null,
            "_view_module_version": "1.2.0",
            "bar_color": null,
            "_model_module": "@jupyter-widgets/controls"
          }
        },
        "0aff8e8cd0c1411ebce52744a02673d8": {
          "model_module": "@jupyter-widgets/base",
          "model_name": "LayoutModel",
          "model_module_version": "1.2.0",
          "state": {
            "_view_name": "LayoutView",
            "grid_template_rows": null,
            "right": null,
            "justify_content": null,
            "_view_module": "@jupyter-widgets/base",
            "overflow": null,
            "_model_module_version": "1.2.0",
            "_view_count": null,
            "flex_flow": null,
            "width": null,
            "min_width": null,
            "border": null,
            "align_items": null,
            "bottom": null,
            "_model_module": "@jupyter-widgets/base",
            "top": null,
            "grid_column": null,
            "overflow_y": null,
            "overflow_x": null,
            "grid_auto_flow": null,
            "grid_area": null,
            "grid_template_columns": null,
            "flex": null,
            "_model_name": "LayoutModel",
            "justify_items": null,
            "grid_row": null,
            "max_height": null,
            "align_content": null,
            "visibility": null,
            "align_self": null,
            "height": null,
            "min_height": null,
            "padding": null,
            "grid_auto_rows": null,
            "grid_gap": null,
            "max_width": null,
            "order": null,
            "_view_module_version": "1.2.0",
            "grid_template_areas": null,
            "object_position": null,
            "object_fit": null,
            "grid_auto_columns": null,
            "margin": null,
            "display": null,
            "left": null
          }
        },
        "899f60f001114d60aa20e7b51d4b4dca": {
          "model_module": "@jupyter-widgets/controls",
          "model_name": "DescriptionStyleModel",
          "model_module_version": "1.5.0",
          "state": {
            "_view_name": "StyleView",
            "_model_name": "DescriptionStyleModel",
            "description_width": "",
            "_view_module": "@jupyter-widgets/base",
            "_model_module_version": "1.5.0",
            "_view_count": null,
            "_view_module_version": "1.2.0",
            "_model_module": "@jupyter-widgets/controls"
          }
        },
        "3ce90abf17a54426b471d40e6daaf34e": {
          "model_module": "@jupyter-widgets/base",
          "model_name": "LayoutModel",
          "model_module_version": "1.2.0",
          "state": {
            "_view_name": "LayoutView",
            "grid_template_rows": null,
            "right": null,
            "justify_content": null,
            "_view_module": "@jupyter-widgets/base",
            "overflow": null,
            "_model_module_version": "1.2.0",
            "_view_count": null,
            "flex_flow": null,
            "width": null,
            "min_width": null,
            "border": null,
            "align_items": null,
            "bottom": null,
            "_model_module": "@jupyter-widgets/base",
            "top": null,
            "grid_column": null,
            "overflow_y": null,
            "overflow_x": null,
            "grid_auto_flow": null,
            "grid_area": null,
            "grid_template_columns": null,
            "flex": null,
            "_model_name": "LayoutModel",
            "justify_items": null,
            "grid_row": null,
            "max_height": null,
            "align_content": null,
            "visibility": null,
            "align_self": null,
            "height": null,
            "min_height": null,
            "padding": null,
            "grid_auto_rows": null,
            "grid_gap": null,
            "max_width": null,
            "order": null,
            "_view_module_version": "1.2.0",
            "grid_template_areas": null,
            "object_position": null,
            "object_fit": null,
            "grid_auto_columns": null,
            "margin": null,
            "display": null,
            "left": null
          }
        }
      }
    }
  },
  "cells": [
    {
      "cell_type": "markdown",
      "metadata": {
        "id": "53a639b1"
      },
      "source": [
        "<h3 align=center> In His Name, the Most High </h3>"
      ],
      "id": "53a639b1"
    },
    {
      "cell_type": "code",
      "metadata": {
        "id": "27a0482d"
      },
      "source": [
        "#importing libraries\n",
        "import re\n",
        "import matplotlib.pyplot as plt\n",
        "plt.style.use('seaborn') # beautiful plots :O"
      ],
      "id": "27a0482d",
      "execution_count": null,
      "outputs": []
    },
    {
      "cell_type": "markdown",
      "metadata": {
        "id": "c37bfe7d"
      },
      "source": [
        "## ATIS Dataset EDA"
      ],
      "id": "c37bfe7d"
    },
    {
      "cell_type": "markdown",
      "metadata": {
        "id": "27e084e7"
      },
      "source": [
        "The ATIS dataset is a standard benchmark dataset widely used for intent classification and slot filling.\n",
        "here we obtained the dataset from https://github.com/yvchen/JointSLU."
      ],
      "id": "27e084e7"
    },
    {
      "cell_type": "code",
      "metadata": {
        "colab": {
          "base_uri": "https://localhost:8080/"
        },
        "id": "7e4240b2",
        "scrolled": true,
        "outputId": "4c5bb4da-4588-4a7f-87df-534af428e0e8"
      },
      "source": [
        "#importing train data\n",
        "\n",
        "train_words = list() # a list of list of words for every sentence in train dataset\n",
        "train_tags = list() # a list of list of IOB tags for every sentence in train dataset\n",
        "train_intents = list() # a list of intent for every sentence in train dataset\n",
        "train_data = list() # a list of dicts contaiting above data in a more structured form\n",
        "train_vocabs = set() # a set containing whole train dataset words\n",
        "\n",
        "with open('atis-2.train+dev.w-intent.iob') as f:\n",
        "    for line in f.readlines():\n",
        "        line = line.strip().split()\n",
        "        \n",
        "        index = 0\n",
        "        words = list()\n",
        "        for i, word in enumerate(line[:-1]):\n",
        "            if (word == 'EOS'):\n",
        "                index = i\n",
        "                break\n",
        "            if (word != 'BOS'): \n",
        "                # what to do if not word.isalpha()??\n",
        "                # word = re.sub(r'[^\\w\\s]', '', word) # removing punctuations\n",
        "                word = word.lower() # lowerizing word\n",
        "                words.append(word) \n",
        "                train_vocabs.add(word)\n",
        "        \n",
        "        tags = list()\n",
        "        for tag in line[index + 2:-1]:\n",
        "            tags.append(tag)\n",
        "                    \n",
        "        # handling entries with multiple intents\n",
        "        intent = \"\"\n",
        "        if ('#' in line[-1]): \n",
        "            for item in line[-1].split('#'):\n",
        "                intent = item\n",
        "                break\n",
        "        else: intent = line[-1]\n",
        "\n",
        "        if (intent != 'atis_cheapest'): #droping 'atis_cheapest' because it has only 1 sample!\n",
        "          train_words.append(words)\n",
        "          train_tags.append(tags)\n",
        "          train_intents.append(intent)\n",
        "          train_data.append({\n",
        "              'words': words,\n",
        "              'iob_tags': tags,\n",
        "              #             'length': len(words),\n",
        "              'intent': intent})\n",
        "\n",
        "print('train dataset vocab size:', len(train_vocabs))\n",
        "print('# of train dataset rows:', len(train_data))\n",
        "print('# of train dataset unique intents:', len(set(train_intents)))\n",
        "print('# of train dataset unique IOB tags:', len(set([tag for item in train_tags for tag in item])))"
      ],
      "id": "7e4240b2",
      "execution_count": null,
      "outputs": [
        {
          "output_type": "stream",
          "text": [
            "train dataset vocab size: 898\n",
            "# of train dataset rows: 4977\n",
            "# of train dataset unique intents: 16\n",
            "# of train dataset unique IOB tags: 121\n"
          ],
          "name": "stdout"
        }
      ]
    },
    {
      "cell_type": "code",
      "metadata": {
        "colab": {
          "base_uri": "https://localhost:8080/"
        },
        "id": "Ba-fpvjQ5_qt",
        "outputId": "27eb593d-af09-4a0f-d3e3-ffe8ea68575e"
      },
      "source": [
        "ind = 0\n",
        "train_data[ind]"
      ],
      "id": "Ba-fpvjQ5_qt",
      "execution_count": null,
      "outputs": [
        {
          "output_type": "execute_result",
          "data": {
            "text/plain": [
              "{'intent': 'atis_flight',\n",
              " 'iob_tags': ['O',\n",
              "  'O',\n",
              "  'O',\n",
              "  'O',\n",
              "  'O',\n",
              "  'B-fromloc.city_name',\n",
              "  'O',\n",
              "  'B-toloc.city_name',\n",
              "  'B-round_trip',\n",
              "  'I-round_trip'],\n",
              " 'words': ['i',\n",
              "  'want',\n",
              "  'to',\n",
              "  'fly',\n",
              "  'from',\n",
              "  'baltimore',\n",
              "  'to',\n",
              "  'dallas',\n",
              "  'round',\n",
              "  'trip']}"
            ]
          },
          "metadata": {},
          "execution_count": 4
        }
      ]
    },
    {
      "cell_type": "code",
      "metadata": {
        "colab": {
          "base_uri": "https://localhost:8080/"
        },
        "id": "d79fb14f",
        "outputId": "33b1a57a-9880-4b70-cfa1-fa0126a7835a"
      },
      "source": [
        "print('tokenized words:', train_data[ind]['words'])\n",
        "print('IOB tags:', train_data[ind]['iob_tags'])\n",
        "print('intent:', train_data[ind]['intent'])"
      ],
      "id": "d79fb14f",
      "execution_count": null,
      "outputs": [
        {
          "output_type": "stream",
          "text": [
            "tokenized words: ['i', 'want', 'to', 'fly', 'from', 'baltimore', 'to', 'dallas', 'round', 'trip']\n",
            "IOB tags: ['O', 'O', 'O', 'O', 'O', 'B-fromloc.city_name', 'O', 'B-toloc.city_name', 'B-round_trip', 'I-round_trip']\n",
            "intent: atis_flight\n"
          ],
          "name": "stdout"
        }
      ]
    },
    {
      "cell_type": "code",
      "metadata": {
        "colab": {
          "base_uri": "https://localhost:8080/"
        },
        "id": "5f7371a7",
        "outputId": "ae8a4e6d-e797-40cf-dfae-eea32aea7ae0"
      },
      "source": [
        "train_intents_freq = dict()\n",
        "for intent in set(train_intents):\n",
        "    train_intents_freq[intent] = train_intents.count(intent)\n",
        "    \n",
        "for key in train_intents_freq:\n",
        "    value = train_intents_freq[key]\n",
        "    print('%s: %d (%.2f%%),' % (key, value, value / len(train_intents) * 100))"
      ],
      "id": "5f7371a7",
      "execution_count": null,
      "outputs": [
        {
          "output_type": "stream",
          "text": [
            "atis_flight_no: 12 (0.24%),\n",
            "atis_restriction: 6 (0.12%),\n",
            "atis_aircraft: 82 (1.65%),\n",
            "atis_airline: 159 (3.19%),\n",
            "atis_meal: 6 (0.12%),\n",
            "atis_quantity: 51 (1.02%),\n",
            "atis_airfare: 424 (8.52%),\n",
            "atis_city: 19 (0.38%),\n",
            "atis_abbreviation: 147 (2.95%),\n",
            "atis_capacity: 16 (0.32%),\n",
            "atis_flight_time: 54 (1.08%),\n",
            "atis_airport: 20 (0.40%),\n",
            "atis_flight: 3687 (74.08%),\n",
            "atis_distance: 20 (0.40%),\n",
            "atis_ground_fare: 18 (0.36%),\n",
            "atis_ground_service: 256 (5.14%),\n"
          ],
          "name": "stdout"
        }
      ]
    },
    {
      "cell_type": "code",
      "metadata": {
        "colab": {
          "base_uri": "https://localhost:8080/",
          "height": 407
        },
        "id": "3a1c887a",
        "outputId": "e617006b-59c4-4687-ad46-f4f23300cf52"
      },
      "source": [
        "plt.figure(figsize=(24, 8))\n",
        "plt.bar(list(train_intents_freq.keys()),train_intents_freq.values())\n",
        "plt.show()"
      ],
      "id": "3a1c887a",
      "execution_count": null,
      "outputs": [
        {
          "output_type": "display_data",
          "data": {
            "image/png": "[encoded data removed]",
            "text/plain": [
              "<Figure size 1728x576 with 1 Axes>"
            ]
          },
          "metadata": {}
        }
      ]
    },
    {
      "cell_type": "code",
      "metadata": {
        "colab": {
          "base_uri": "https://localhost:8080/"
        },
        "id": "e38c53fa",
        "outputId": "192cd327-78a2-469d-9f89-aab4c678675f"
      },
      "source": [
        "train_tags_freq = dict()\n",
        "count = 0\n",
        "for item in train_tags:\n",
        "    for tag in item:\n",
        "        if (tag in train_tags_freq): train_tags_freq[tag] += 1 #item.count(tag)\n",
        "        else: train_tags_freq[tag] = 1 #item.count(tag)\n",
        "        count += 1\n",
        "\n",
        "for key in train_tags_freq:\n",
        "    value = train_tags_freq[key]\n",
        "    print('%s: %d (%.2f%%),' % (key, value, value / count * 100))"
      ],
      "id": "e38c53fa",
      "execution_count": null,
      "outputs": [
        {
          "output_type": "stream",
          "text": [
            "O: 35662 (63.46%),\n",
            "B-fromloc.city_name: 4326 (7.70%),\n",
            "B-toloc.city_name: 4343 (7.73%),\n",
            "B-round_trip: 348 (0.62%),\n",
            "I-round_trip: 339 (0.60%),\n",
            "B-cost_relative: 343 (0.61%),\n",
            "B-fare_amount: 53 (0.09%),\n",
            "I-fare_amount: 51 (0.09%),\n",
            "B-arrive_date.month_name: 47 (0.08%),\n",
            "B-arrive_date.day_number: 47 (0.08%),\n",
            "I-fromloc.city_name: 691 (1.23%),\n",
            "B-stoploc.city_name: 239 (0.43%),\n",
            "B-arrive_time.time_relative: 187 (0.33%),\n",
            "B-arrive_time.time: 208 (0.37%),\n",
            "I-arrive_time.time: 161 (0.29%),\n",
            "B-toloc.state_code: 86 (0.15%),\n",
            "I-toloc.city_name: 1099 (1.96%),\n",
            "I-stoploc.city_name: 47 (0.08%),\n",
            "B-meal_description: 57 (0.10%),\n",
            "B-depart_date.month_name: 379 (0.67%),\n",
            "B-depart_date.day_number: 395 (0.70%),\n",
            "B-airline_name: 701 (1.25%),\n",
            "I-airline_name: 421 (0.75%),\n",
            "B-depart_time.period_of_day: 593 (1.06%),\n",
            "B-depart_date.day_name: 889 (1.58%),\n",
            "B-toloc.state_name: 77 (0.14%),\n",
            "B-depart_time.time_relative: 323 (0.57%),\n",
            "B-depart_time.time: 369 (0.66%),\n",
            "B-toloc.airport_name: 39 (0.07%),\n",
            "I-toloc.airport_name: 49 (0.09%),\n",
            "B-depart_date.date_relative: 82 (0.15%),\n",
            "B-or: 66 (0.12%),\n",
            "B-airline_code: 136 (0.24%),\n",
            "B-class_type: 217 (0.39%),\n",
            "I-class_type: 183 (0.33%),\n",
            "I-cost_relative: 55 (0.10%),\n",
            "I-depart_time.time: 299 (0.53%),\n",
            "B-fromloc.airport_name: 89 (0.16%),\n",
            "I-fromloc.airport_name: 119 (0.21%),\n",
            "B-city_name: 227 (0.40%),\n",
            "B-flight_mod: 329 (0.59%),\n",
            "B-meal: 46 (0.08%),\n",
            "B-economy: 36 (0.06%),\n",
            "B-fare_basis_code: 76 (0.14%),\n",
            "I-depart_date.day_number: 120 (0.21%),\n",
            "B-depart_date.today_relative: 84 (0.15%),\n",
            "B-flight_stop: 168 (0.30%),\n",
            "B-airport_code: 29 (0.05%),\n",
            "B-fromloc.state_name: 39 (0.07%),\n",
            "I-fromloc.state_name: 9 (0.02%),\n",
            "I-city_name: 49 (0.09%),\n",
            "B-connect: 40 (0.07%),\n",
            "B-arrive_date.day_name: 88 (0.16%),\n",
            "B-fromloc.state_code: 46 (0.08%),\n",
            "B-arrive_date.today_relative: 2 (0.00%),\n",
            "B-depart_date.year: 25 (0.04%),\n",
            "B-depart_time.start_time: 25 (0.04%),\n",
            "I-depart_time.start_time: 13 (0.02%),\n",
            "B-depart_time.end_time: 25 (0.04%),\n",
            "I-depart_time.end_time: 18 (0.03%),\n",
            "B-arrive_time.start_time: 21 (0.04%),\n",
            "B-arrive_time.end_time: 20 (0.04%),\n",
            "I-arrive_time.end_time: 19 (0.03%),\n",
            "I-flight_mod: 11 (0.02%),\n",
            "B-flight_days: 39 (0.07%),\n",
            "B-mod: 30 (0.05%),\n",
            "B-flight_number: 84 (0.15%),\n",
            "I-toloc.state_name: 13 (0.02%),\n",
            "B-meal_code: 6 (0.01%),\n",
            "I-meal_code: 4 (0.01%),\n",
            "B-airport_name: 38 (0.07%),\n",
            "I-airport_name: 54 (0.10%),\n",
            "I-flight_stop: 17 (0.03%),\n",
            "B-transport_type: 48 (0.09%),\n",
            "I-transport_type: 23 (0.04%),\n",
            "B-state_code: 8 (0.01%),\n",
            "B-aircraft_code: 31 (0.06%),\n",
            "B-toloc.country_name: 3 (0.01%),\n",
            "I-arrive_date.day_number: 6 (0.01%),\n",
            "B-toloc.airport_code: 20 (0.04%),\n",
            "B-return_date.date_relative: 10 (0.02%),\n",
            "I-return_date.date_relative: 2 (0.00%),\n",
            "B-flight_time: 71 (0.13%),\n",
            "I-economy: 10 (0.02%),\n",
            "B-fromloc.airport_code: 15 (0.03%),\n",
            "B-arrive_time.period_of_day: 64 (0.11%),\n",
            "B-depart_time.period_mod: 44 (0.08%),\n",
            "I-flight_time: 32 (0.06%),\n",
            "B-return_date.day_name: 1 (0.00%),\n",
            "B-arrive_date.date_relative: 11 (0.02%),\n",
            "B-restriction_code: 23 (0.04%),\n",
            "I-restriction_code: 14 (0.02%),\n",
            "B-arrive_time.period_mod: 4 (0.01%),\n",
            "I-arrive_time.period_of_day: 3 (0.01%),\n",
            "B-period_of_day: 5 (0.01%),\n",
            "B-stoploc.state_code: 5 (0.01%),\n",
            "I-depart_date.today_relative: 12 (0.02%),\n",
            "I-fare_basis_code: 2 (0.00%),\n",
            "I-arrive_time.start_time: 8 (0.01%),\n",
            "B-time: 2 (0.00%),\n",
            "B-today_relative: 2 (0.00%),\n",
            "I-today_relative: 3 (0.01%),\n",
            "B-state_name: 2 (0.00%),\n",
            "B-days_code: 3 (0.01%),\n",
            "I-depart_time.period_of_day: 6 (0.01%),\n",
            "I-arrive_time.time_relative: 2 (0.00%),\n",
            "B-time_relative: 1 (0.00%),\n",
            "I-time: 1 (0.00%),\n",
            "B-return_date.month_name: 4 (0.01%),\n",
            "B-return_date.day_number: 4 (0.01%),\n",
            "I-depart_time.time_relative: 2 (0.00%),\n",
            "B-stoploc.airport_name: 1 (0.00%),\n",
            "B-day_name: 5 (0.01%),\n",
            "B-month_name: 2 (0.00%),\n",
            "B-day_number: 2 (0.00%),\n",
            "B-return_time.period_mod: 2 (0.00%),\n",
            "B-return_time.period_of_day: 3 (0.01%),\n",
            "B-return_date.today_relative: 1 (0.00%),\n",
            "I-return_date.today_relative: 2 (0.00%),\n",
            "I-meal_description: 1 (0.00%),\n",
            "I-return_date.day_number: 1 (0.00%),\n"
          ],
          "name": "stdout"
        }
      ]
    },
    {
      "cell_type": "code",
      "metadata": {
        "colab": {
          "base_uri": "https://localhost:8080/"
        },
        "id": "1dde0a8c",
        "outputId": "9f373bb0-f785-4972-b2ef-683320bc153f"
      },
      "source": [
        "#importing test data\n",
        "\n",
        "test_words = list()  # a list of list of words for every sentence in test dataset\n",
        "test_tags = list() # a list of list of IOB tags for every sentence in test dataset\n",
        "test_intents = list() # a list of intent for every sentence in test dataset\n",
        "test_vocabs = set() # a list of dicts contaiting above data in a more structured form\n",
        "test_data = list() # a set containing whole test dataset words\n",
        "\n",
        "with open('atis.test.w-intent.iob') as f:\n",
        "    for line in f.readlines():\n",
        "        line = line.strip().split()\n",
        "        \n",
        "        index = 0\n",
        "        words = list()\n",
        "        for i, word in enumerate(line[:-1]):\n",
        "            if (word == 'EOS'):\n",
        "                index = i\n",
        "                break\n",
        "            if (word != 'BOS'): \n",
        "                word = re.sub(r'[^\\w\\s]', '', word.lower()) # removing punctuations & lowerizing word\n",
        "                words.append(word) \n",
        "                train_vocabs.add(word)\n",
        "        test_words.append(words)\n",
        "        \n",
        "        tags = list()\n",
        "        for tag in line[index + 2:-1]:\n",
        "            tags.append(tag)\n",
        "        test_tags.append(tags)\n",
        "                    \n",
        "        #handling entries with multiple intents\n",
        "        intent = \"\"\n",
        "        if ('#' in line[-1]): \n",
        "            for item in line[-1].split('#'):\n",
        "                intent = item\n",
        "                break\n",
        "        else: intent = line[-1]\n",
        "        test_intents.append(intent)\n",
        "        \n",
        "        test_data.append({\n",
        "            'words': words,\n",
        "            'iob_tags': tags,\n",
        "            #             'length': len(words),\n",
        "            'intent': intent})\n",
        "\n",
        "print('train dataset vocab size:', len(test_vocabs))\n",
        "print('# of test dataset rows:', len(test_data))\n",
        "print('# of test dataset unique intents:', len(set(test_intents)))\n",
        "print('# of test dataset unique IOB tags:', len(set([tag for item in test_tags for tag in item])))"
      ],
      "id": "1dde0a8c",
      "execution_count": null,
      "outputs": [
        {
          "output_type": "stream",
          "text": [
            "train dataset vocab size: 0\n",
            "# of test dataset rows: 893\n",
            "# of test dataset unique intents: 16\n",
            "# of test dataset unique IOB tags: 101\n"
          ],
          "name": "stdout"
        }
      ]
    },
    {
      "cell_type": "code",
      "metadata": {
        "colab": {
          "base_uri": "https://localhost:8080/"
        },
        "id": "ad36435a",
        "scrolled": true,
        "outputId": "839b9213-8c94-4544-93dd-0867af6877f3"
      },
      "source": [
        "ind = 0\n",
        "print('tokenized words:', test_data[ind]['words'])\n",
        "print('IOB tags:', test_data[ind]['iob_tags'])\n",
        "print('intent:', test_data[ind]['intent'])"
      ],
      "id": "ad36435a",
      "execution_count": null,
      "outputs": [
        {
          "output_type": "stream",
          "text": [
            "tokenized words: ['i', 'would', 'like', 'to', 'find', 'a', 'flight', 'from', 'charlotte', 'to', 'las', 'vegas', 'that', 'makes', 'a', 'stop', 'in', 'st', 'louis']\n",
            "IOB tags: ['O', 'O', 'O', 'O', 'O', 'O', 'O', 'O', 'B-fromloc.city_name', 'O', 'B-toloc.city_name', 'I-toloc.city_name', 'O', 'O', 'O', 'O', 'O', 'B-stoploc.city_name', 'I-stoploc.city_name']\n",
            "intent: atis_flight\n"
          ],
          "name": "stdout"
        }
      ]
    },
    {
      "cell_type": "code",
      "metadata": {
        "colab": {
          "base_uri": "https://localhost:8080/"
        },
        "id": "9220a160",
        "scrolled": true,
        "outputId": "9365b3be-b753-4b65-edcb-ce7ff79c77a5"
      },
      "source": [
        "test_intents_freq = dict()\n",
        "for intent in set(test_intents):\n",
        "    test_intents_freq[intent] = test_intents.count(intent)\n",
        "    \n",
        "for key in test_intents_freq:\n",
        "    value = test_intents_freq[key]\n",
        "    print('%s: %d (%.2f%%) ,' % (key, value, value / len(test_intents) * 100))"
      ],
      "id": "9220a160",
      "execution_count": null,
      "outputs": [
        {
          "output_type": "stream",
          "text": [
            "atis_flight_no: 9 (1.01%) ,\n",
            "atis_day_name: 2 (0.22%) ,\n",
            "atis_airline: 38 (4.26%) ,\n",
            "atis_meal: 6 (0.67%) ,\n",
            "atis_city: 6 (0.67%) ,\n",
            "atis_airfare: 49 (5.49%) ,\n",
            "atis_quantity: 3 (0.34%) ,\n",
            "atis_airport: 18 (2.02%) ,\n",
            "atis_flight_time: 1 (0.11%) ,\n",
            "atis_abbreviation: 33 (3.70%) ,\n",
            "atis_aircraft: 9 (1.01%) ,\n",
            "atis_flight: 645 (72.23%) ,\n",
            "atis_capacity: 21 (2.35%) ,\n",
            "atis_distance: 10 (1.12%) ,\n",
            "atis_ground_fare: 7 (0.78%) ,\n",
            "atis_ground_service: 36 (4.03%) ,\n"
          ],
          "name": "stdout"
        }
      ]
    },
    {
      "cell_type": "code",
      "metadata": {
        "colab": {
          "base_uri": "https://localhost:8080/",
          "height": 483
        },
        "id": "796b9c50",
        "scrolled": true,
        "outputId": "8272536f-61cd-421c-91c7-b9d6c77fac5b"
      },
      "source": [
        "plt.figure(figsize=(24, 8))\n",
        "plt.bar(list(test_intents_freq.keys()),test_intents_freq.values())\n",
        "plt.show()"
      ],
      "id": "796b9c50",
      "execution_count": null,
      "outputs": [
        {
          "output_type": "display_data",
          "data": {
            "image/png": "[encoded data removed]",
            "text/plain": [
              "<Figure size 1728x576 with 1 Axes>"
            ]
          },
          "metadata": {}
        }
      ]
    },
    {
      "cell_type": "code",
      "metadata": {
        "colab": {
          "base_uri": "https://localhost:8080/"
        },
        "id": "71092fa3",
        "scrolled": true,
        "outputId": "2120755e-f5dc-45a9-cf5b-12ffa7611ffe"
      },
      "source": [
        "test_tags_freq = dict()\n",
        "count = 0\n",
        "for item in test_tags:\n",
        "    for tag in item:\n",
        "        if (tag in test_tags_freq): test_tags_freq[tag] += 1 #item.count(tag)\n",
        "        else: test_tags_freq[tag] = 1 #item.count(tag)\n",
        "        count += 1\n",
        "\n",
        "for key in test_tags_freq:\n",
        "    value = test_tags_freq[key]\n",
        "    print('%s: %d (%.2f%%),' % (key, value, value / count * 100))"
      ],
      "id": "71092fa3",
      "execution_count": null,
      "outputs": [
        {
          "output_type": "stream",
          "text": [
            "O: 5501 (60.03%),\n",
            "B-fromloc.city_name: 704 (7.68%),\n",
            "B-toloc.city_name: 716 (7.81%),\n",
            "I-toloc.city_name: 265 (2.89%),\n",
            "B-stoploc.city_name: 20 (0.22%),\n",
            "I-stoploc.city_name: 10 (0.11%),\n",
            "B-depart_date.month_name: 56 (0.61%),\n",
            "B-depart_date.day_number: 55 (0.60%),\n",
            "B-depart_time.time_relative: 65 (0.71%),\n",
            "B-depart_time.time: 57 (0.62%),\n",
            "I-depart_time.time: 52 (0.57%),\n",
            "B-round_trip: 73 (0.80%),\n",
            "I-round_trip: 71 (0.77%),\n",
            "B-airline_name: 101 (1.10%),\n",
            "I-airline_name: 65 (0.71%),\n",
            "B-depart_date.day_name: 212 (2.31%),\n",
            "B-depart_time.period_of_day: 130 (1.42%),\n",
            "I-fromloc.city_name: 177 (1.93%),\n",
            "B-meal_description: 10 (0.11%),\n",
            "B-depart_date.date_relative: 17 (0.19%),\n",
            "B-arrive_time.time_relative: 31 (0.34%),\n",
            "B-arrive_time.time: 34 (0.37%),\n",
            "I-arrive_time.time: 35 (0.38%),\n",
            "B-return_date.day_name: 2 (0.02%),\n",
            "B-arrive_date.date_relative: 2 (0.02%),\n",
            "B-arrive_date.day_name: 11 (0.12%),\n",
            "B-flight_stop: 21 (0.23%),\n",
            "B-depart_date.today_relative: 9 (0.10%),\n",
            "B-toloc.state_name: 28 (0.31%),\n",
            "B-arrive_date.month_name: 6 (0.07%),\n",
            "B-arrive_date.day_number: 6 (0.07%),\n",
            "B-arrive_time.start_time: 8 (0.09%),\n",
            "B-arrive_time.end_time: 8 (0.09%),\n",
            "I-arrive_time.end_time: 8 (0.09%),\n",
            "B-airport_name: 21 (0.23%),\n",
            "I-airport_name: 29 (0.32%),\n",
            "B-connect: 6 (0.07%),\n",
            "B-fromloc.airport_name: 12 (0.13%),\n",
            "I-fromloc.airport_name: 15 (0.16%),\n",
            "B-meal: 16 (0.17%),\n",
            "B-flight_number: 11 (0.12%),\n",
            "I-flight_number: 1 (0.01%),\n",
            "B-return_date.date_relative: 3 (0.03%),\n",
            "I-return_date.date_relative: 3 (0.03%),\n",
            "B-arrive_time.period_of_day: 6 (0.07%),\n",
            "B-fromloc.state_name: 17 (0.19%),\n",
            "B-city_name: 57 (0.62%),\n",
            "I-city_name: 30 (0.33%),\n",
            "I-depart_date.day_number: 15 (0.16%),\n",
            "I-depart_time.period_of_day: 1 (0.01%),\n",
            "B-cost_relative: 37 (0.40%),\n",
            "I-cost_relative: 3 (0.03%),\n",
            "B-flight_time: 1 (0.01%),\n",
            "I-flight_time: 1 (0.01%),\n",
            "B-flight_mod: 24 (0.26%),\n",
            "B-class_type: 24 (0.26%),\n",
            "I-class_type: 17 (0.19%),\n",
            "B-airline_code: 34 (0.37%),\n",
            "B-toloc.airport_code: 4 (0.04%),\n",
            "B-transport_type: 10 (0.11%),\n",
            "B-depart_time.start_time: 3 (0.03%),\n",
            "B-depart_time.end_time: 3 (0.03%),\n",
            "I-depart_time.end_time: 3 (0.03%),\n",
            "B-toloc.airport_name: 3 (0.03%),\n",
            "I-toloc.airport_name: 3 (0.03%),\n",
            "B-aircraft_code: 33 (0.36%),\n",
            "B-toloc.country_name: 1 (0.01%),\n",
            "B-mod: 2 (0.02%),\n",
            "B-state_name: 9 (0.10%),\n",
            "B-compartment: 1 (0.01%),\n",
            "B-meal_code: 1 (0.01%),\n",
            "B-day_name: 2 (0.02%),\n",
            "B-toloc.state_code: 18 (0.20%),\n",
            "B-fromloc.state_code: 23 (0.25%),\n",
            "B-depart_time.period_mod: 5 (0.05%),\n",
            "B-fromloc.airport_code: 5 (0.05%),\n",
            "B-fare_basis_code: 17 (0.19%),\n",
            "B-flight_days: 10 (0.11%),\n",
            "B-depart_date.year: 3 (0.03%),\n",
            "B-period_of_day: 4 (0.04%),\n",
            "I-flight_mod: 6 (0.07%),\n",
            "B-state_code: 1 (0.01%),\n",
            "B-restriction_code: 4 (0.04%),\n",
            "I-restriction_code: 3 (0.03%),\n",
            "B-airport_code: 9 (0.10%),\n",
            "B-days_code: 1 (0.01%),\n",
            "I-arrive_time.time_relative: 4 (0.04%),\n",
            "B-or: 3 (0.03%),\n",
            "B-stoploc.airport_code: 1 (0.01%),\n",
            "I-depart_time.time_relative: 1 (0.01%),\n",
            "I-state_name: 1 (0.01%),\n",
            "B-economy: 6 (0.07%),\n",
            "B-booking_class: 1 (0.01%),\n",
            "B-fare_amount: 2 (0.02%),\n",
            "I-fare_amount: 2 (0.02%),\n",
            "B-flight: 1 (0.01%),\n",
            "I-depart_time.start_time: 1 (0.01%),\n",
            "I-arrive_time.start_time: 1 (0.01%),\n",
            "I-transport_type: 1 (0.01%),\n",
            "I-fromloc.state_name: 1 (0.01%),\n",
            "I-toloc.state_name: 1 (0.01%),\n"
          ],
          "name": "stdout"
        }
      ]
    },
    {
      "cell_type": "markdown",
      "metadata": {
        "id": "ac5a6d17"
      },
      "source": [
        "##### comparing train & test dataset tags & intents:"
      ],
      "id": "ac5a6d17"
    },
    {
      "cell_type": "code",
      "metadata": {
        "colab": {
          "base_uri": "https://localhost:8080/"
        },
        "id": "daa709ab",
        "outputId": "0a9dc8c4-4035-4df6-db3a-18b2038a332a"
      },
      "source": [
        "print(test_vocabs.difference(train_vocabs))"
      ],
      "id": "daa709ab",
      "execution_count": null,
      "outputs": [
        {
          "output_type": "stream",
          "text": [
            "set()\n"
          ],
          "name": "stdout"
        }
      ]
    },
    {
      "cell_type": "code",
      "metadata": {
        "colab": {
          "base_uri": "https://localhost:8080/"
        },
        "id": "21bf7e45",
        "outputId": "32bb7910-5639-4560-f799-6c1d80200016"
      },
      "source": [
        "set(test_intents).difference(set(train_intents))"
      ],
      "id": "21bf7e45",
      "execution_count": null,
      "outputs": [
        {
          "output_type": "execute_result",
          "data": {
            "text/plain": [
              "{'atis_day_name'}"
            ]
          },
          "metadata": {},
          "execution_count": 15
        }
      ]
    },
    {
      "cell_type": "markdown",
      "metadata": {
        "id": "69e36fdc"
      },
      "source": [
        "so from above, we see there is no train data for 'atis_day_name'..."
      ],
      "id": "69e36fdc"
    },
    {
      "cell_type": "code",
      "metadata": {
        "colab": {
          "base_uri": "https://localhost:8080/"
        },
        "id": "294c2964",
        "outputId": "4343254a-7a6e-4a9e-ee63-e79c62670d9b"
      },
      "source": [
        "set(train_intents).difference(set(test_intents))"
      ],
      "id": "294c2964",
      "execution_count": null,
      "outputs": [
        {
          "output_type": "execute_result",
          "data": {
            "text/plain": [
              "{'atis_restriction'}"
            ]
          },
          "metadata": {},
          "execution_count": 16
        }
      ]
    },
    {
      "cell_type": "markdown",
      "metadata": {
        "id": "ce2c2ded"
      },
      "source": [
        "and also there are no test data for 'atis_cheapest' & 'atis_restriction'..."
      ],
      "id": "ce2c2ded"
    },
    {
      "cell_type": "code",
      "metadata": {
        "colab": {
          "base_uri": "https://localhost:8080/"
        },
        "id": "b7b9d6c3",
        "outputId": "f84bd8e4-ab33-40e2-dffc-0346133e65ea"
      },
      "source": [
        "set(test_tags_freq.keys()).difference(set(train_tags_freq.keys()))"
      ],
      "id": "b7b9d6c3",
      "execution_count": null,
      "outputs": [
        {
          "output_type": "execute_result",
          "data": {
            "text/plain": [
              "{'B-booking_class',\n",
              " 'B-compartment',\n",
              " 'B-flight',\n",
              " 'B-stoploc.airport_code',\n",
              " 'I-flight_number',\n",
              " 'I-state_name'}"
            ]
          },
          "metadata": {},
          "execution_count": 17
        }
      ]
    },
    {
      "cell_type": "markdown",
      "metadata": {
        "id": "237d0e8b"
      },
      "source": [
        "also we see there are no train data with 'B-stoploc.airport_code' or 'B-booking_class' or 'I-flight_number' or 'I-state_name' or 'B-flight' or 'B-compartment' tag..."
      ],
      "id": "237d0e8b"
    },
    {
      "cell_type": "code",
      "metadata": {
        "colab": {
          "base_uri": "https://localhost:8080/"
        },
        "id": "200b2854",
        "outputId": "e9470de8-eb7c-4d53-9bdc-93a5541fb535"
      },
      "source": [
        "set(train_tags_freq.keys()).difference(set(test_tags_freq.keys()))"
      ],
      "id": "200b2854",
      "execution_count": null,
      "outputs": [
        {
          "output_type": "execute_result",
          "data": {
            "text/plain": [
              "{'B-arrive_date.today_relative',\n",
              " 'B-arrive_time.period_mod',\n",
              " 'B-day_number',\n",
              " 'B-month_name',\n",
              " 'B-return_date.day_number',\n",
              " 'B-return_date.month_name',\n",
              " 'B-return_date.today_relative',\n",
              " 'B-return_time.period_mod',\n",
              " 'B-return_time.period_of_day',\n",
              " 'B-stoploc.airport_name',\n",
              " 'B-stoploc.state_code',\n",
              " 'B-time',\n",
              " 'B-time_relative',\n",
              " 'B-today_relative',\n",
              " 'I-arrive_date.day_number',\n",
              " 'I-arrive_time.period_of_day',\n",
              " 'I-depart_date.today_relative',\n",
              " 'I-economy',\n",
              " 'I-fare_basis_code',\n",
              " 'I-flight_stop',\n",
              " 'I-meal_code',\n",
              " 'I-meal_description',\n",
              " 'I-return_date.day_number',\n",
              " 'I-return_date.today_relative',\n",
              " 'I-time',\n",
              " 'I-today_relative'}"
            ]
          },
          "metadata": {},
          "execution_count": 18
        }
      ]
    },
    {
      "cell_type": "markdown",
      "metadata": {
        "id": "528d2520"
      },
      "source": [
        "and finally there are no train data with 'I-return_date.day_number' or 'B-return_time.period_mod' or ... tag."
      ],
      "id": "528d2520"
    },
    {
      "cell_type": "markdown",
      "metadata": {
        "id": "0ef6de9b"
      },
      "source": [
        "to handle imbalanced data first we try to find and remove duplicates:"
      ],
      "id": "0ef6de9b"
    },
    {
      "cell_type": "code",
      "metadata": {
        "colab": {
          "base_uri": "https://localhost:8080/"
        },
        "id": "58e96b8f",
        "outputId": "a7fcf247-ed40-4462-a17e-acdb25624692"
      },
      "source": [
        "#removing duplicate train data with 'atis_flight' intent\n",
        "\n",
        "train_words_dup_free = list()\n",
        "train_tags_dup_free = list()\n",
        "train_intents_dup_free = list()\n",
        "train_data_dup_free = list()\n",
        "for i in range(len(train_words)):\n",
        "    words = train_words[i]\n",
        "    tags = train_tags[i]\n",
        "    intent = train_intents[i]\n",
        "    if (intent != 'atis_flight' or (intent == 'atis_flight' and words not in train_words_dup_free)):\n",
        "        train_words_dup_free.append(words)\n",
        "        train_tags_dup_free.append(tags)\n",
        "        train_intents_dup_free.append(intent)\n",
        "        train_data_dup_free.append({\n",
        "            'words': words,\n",
        "            'iob_tags': tags,\n",
        "            #             'length': len(words),\n",
        "            'intent': intent})\n",
        "\n",
        "print('# of duplicate sentences in train data: %d - %d = %d' % (len(train_words), len(train_words_dup_free), len(train_words) - len(train_words_dup_free)))"
      ],
      "id": "58e96b8f",
      "execution_count": null,
      "outputs": [
        {
          "output_type": "stream",
          "text": [
            "# of duplicate sentences in train data: 4977 - 4733 = 244\n"
          ],
          "name": "stdout"
        }
      ]
    },
    {
      "cell_type": "code",
      "metadata": {
        "colab": {
          "base_uri": "https://localhost:8080/"
        },
        "id": "0dd0cb94",
        "outputId": "b9d98c15-cb31-4265-82f7-535fa6c5f714"
      },
      "source": [
        "train_intents_dup_free_freq = dict()\n",
        "for intent in train_intents_dup_free:\n",
        "    train_intents_dup_free_freq[intent] = train_intents_dup_free.count(intent)\n",
        "\n",
        "for key in train_intents_dup_free_freq:\n",
        "    value = train_intents_dup_free_freq[key]\n",
        "    print('%s: %d (%.2f%%),' % (key, value, value / len(train_intents_dup_free) * 100))"
      ],
      "id": "0dd0cb94",
      "execution_count": null,
      "outputs": [
        {
          "output_type": "stream",
          "text": [
            "atis_flight: 3443 (72.74%),\n",
            "atis_airfare: 424 (8.96%),\n",
            "atis_airline: 159 (3.36%),\n",
            "atis_ground_service: 256 (5.41%),\n",
            "atis_quantity: 51 (1.08%),\n",
            "atis_city: 19 (0.40%),\n",
            "atis_abbreviation: 147 (3.11%),\n",
            "atis_aircraft: 82 (1.73%),\n",
            "atis_distance: 20 (0.42%),\n",
            "atis_ground_fare: 18 (0.38%),\n",
            "atis_capacity: 16 (0.34%),\n",
            "atis_flight_time: 54 (1.14%),\n",
            "atis_meal: 6 (0.13%),\n",
            "atis_flight_no: 12 (0.25%),\n",
            "atis_restriction: 6 (0.13%),\n",
            "atis_airport: 20 (0.42%),\n"
          ],
          "name": "stdout"
        }
      ]
    },
    {
      "cell_type": "code",
      "metadata": {
        "colab": {
          "base_uri": "https://localhost:8080/",
          "height": 483
        },
        "id": "9d8f2933",
        "outputId": "9d535e22-522d-4d01-99df-bb70614eec73"
      },
      "source": [
        "plt.figure(figsize=(24, 8))\n",
        "plt.bar(list(train_intents_dup_free_freq.keys()),train_intents_dup_free_freq.values())\n",
        "plt.show()"
      ],
      "id": "9d8f2933",
      "execution_count": null,
      "outputs": [
        {
          "output_type": "display_data",
          "data": {
            "image/png": "[encoded data removed]",
            "text/plain": [
              "<Figure size 1728x576 with 1 Axes>"
            ]
          },
          "metadata": {}
        }
      ]
    },
    {
      "cell_type": "code",
      "metadata": {
        "colab": {
          "base_uri": "https://localhost:8080/"
        },
        "id": "f7d2f377",
        "outputId": "8a7ca5e5-1807-41c3-e7fd-5d6d6aa193f9"
      },
      "source": [
        "##removing duplicate test data with 'atis_flight' intent\n",
        "\n",
        "test_words_dup_free = list()\n",
        "test_tags_dup_free = list()\n",
        "test_intents_dup_free = list()\n",
        "test_data_dup_free = list()\n",
        "for i in range(len(test_words)):\n",
        "    words = test_words[i]\n",
        "    tags = test_tags[i]\n",
        "    intent = test_intents[i]\n",
        "    if (intent != 'atis_flight' or (intent == 'atis_flight' and words not in test_words_dup_free)):\n",
        "        test_words_dup_free.append(words)\n",
        "        test_tags_dup_free.append(tags)\n",
        "        test_intents_dup_free.append(intent)\n",
        "        test_data.append({\n",
        "            'words': words,\n",
        "            'iob_tags': tags,\n",
        "#             'length': len(words),\n",
        "            'intent': intent})\n",
        "\n",
        "\n",
        "print('# of duplicate sentences in test data: %d - %d = %d' % (len(test_words), len(test_words_dup_free),  len(test_words) - len(test_words_dup_free)))"
      ],
      "id": "f7d2f377",
      "execution_count": null,
      "outputs": [
        {
          "output_type": "stream",
          "text": [
            "# of duplicate sentences in test data: 893 - 874 = 19\n"
          ],
          "name": "stdout"
        }
      ]
    },
    {
      "cell_type": "code",
      "metadata": {
        "colab": {
          "base_uri": "https://localhost:8080/"
        },
        "id": "34ea87fa",
        "outputId": "f649f8ba-36e9-40e4-8506-022db2eb1e80"
      },
      "source": [
        "test_intents_dup_free_freq = dict()\n",
        "for intent in set(test_intents_dup_free):\n",
        "    test_intents_dup_free_freq[intent] = test_intents_dup_free.count(intent)\n",
        "\n",
        "for key in test_intents_dup_free_freq:\n",
        "    value = test_intents_dup_free_freq[key]\n",
        "    print('%s: %d (%.2f%%),' % (key, value, value / len(test_intents_dup_free) * 100))"
      ],
      "id": "34ea87fa",
      "execution_count": null,
      "outputs": [
        {
          "output_type": "stream",
          "text": [
            "atis_flight_no: 9 (1.03%),\n",
            "atis_day_name: 2 (0.23%),\n",
            "atis_airline: 38 (4.35%),\n",
            "atis_meal: 6 (0.69%),\n",
            "atis_city: 6 (0.69%),\n",
            "atis_airfare: 49 (5.61%),\n",
            "atis_quantity: 3 (0.34%),\n",
            "atis_airport: 18 (2.06%),\n",
            "atis_flight_time: 1 (0.11%),\n",
            "atis_abbreviation: 33 (3.78%),\n",
            "atis_aircraft: 9 (1.03%),\n",
            "atis_flight: 626 (71.62%),\n",
            "atis_capacity: 21 (2.40%),\n",
            "atis_distance: 10 (1.14%),\n",
            "atis_ground_fare: 7 (0.80%),\n",
            "atis_ground_service: 36 (4.12%),\n"
          ],
          "name": "stdout"
        }
      ]
    },
    {
      "cell_type": "code",
      "metadata": {
        "colab": {
          "base_uri": "https://localhost:8080/",
          "height": 483
        },
        "id": "ce4a0fb9",
        "scrolled": false,
        "outputId": "ac2a2c87-37ea-48ce-c73e-644227a65485"
      },
      "source": [
        "plt.figure(figsize=(24, 8))\n",
        "plt.bar(list(test_intents_dup_free_freq.keys()),test_intents_dup_free_freq.values())\n",
        "plt.show()"
      ],
      "id": "ce4a0fb9",
      "execution_count": null,
      "outputs": [
        {
          "output_type": "display_data",
          "data": {
            "image/png": "[encoded data removed]",
            "text/plain": [
              "<Figure size 1728x576 with 1 Axes>"
            ]
          },
          "metadata": {}
        }
      ]
    },
    {
      "cell_type": "markdown",
      "metadata": {
        "id": "a03fe17f"
      },
      "source": [
        "so we can see that unfortunately removing duplicates didn't have any noticable improvment on balancing the dataset."
      ],
      "id": "a03fe17f"
    },
    {
      "cell_type": "code",
      "metadata": {
        "colab": {
          "base_uri": "https://localhost:8080/"
        },
        "id": "7898bc3c",
        "outputId": "3e44eb7e-840c-4961-fb4e-0ad4b00c73fe"
      },
      "source": [
        "from sklearn.utils import class_weight\n",
        "# from keras.preprocessing.text import Tokenizer\n",
        "# from keras.preprocessing.sequence import pad_sequences\n",
        "from sklearn.preprocessing import LabelBinarizer\n",
        "from sklearn.feature_extraction.text import TfidfVectorizer\n",
        "import numpy as np\n",
        "\n",
        "\n",
        "def identity_tokenizer(text):\n",
        "    return text\n",
        "# define Tokenizer with Vocab Size\n",
        "# tokenizer = Tokenizer(num_words=len(train_vocabs))\n",
        "# tokenizer.fit_on_texts(train_words)\n",
        "vectorizer = TfidfVectorizer(tokenizer=identity_tokenizer,lowercase=False)\n",
        "x_train = vectorizer.fit_transform(train_words)\n",
        "x_test = vectorizer.fit_transform(test_words)\n",
        "# x_train = tokenizer.texts_to_matrix(train_words, mode='tfidf')\n",
        "# x_test = tokenizer.texts_to_matrix(test_words, mode='tfidf')\n",
        "\n",
        "encoder = LabelBinarizer()\n",
        "encoder.fit(train_intents)\n",
        "y_train = encoder.transform(train_intents)\n",
        "y_test = encoder.transform(test_intents)\n",
        "print(encoder.classes_)\n",
        "print(x_train.shape, y_train.shape)\n",
        "#class_weight.compute_class_weight('balanced',np.unique(train_intents) ,train_intents)"
      ],
      "id": "7898bc3c",
      "execution_count": null,
      "outputs": [
        {
          "output_type": "stream",
          "text": [
            "['atis_abbreviation' 'atis_aircraft' 'atis_airfare' 'atis_airline'\n",
            " 'atis_airport' 'atis_capacity' 'atis_city' 'atis_distance' 'atis_flight'\n",
            " 'atis_flight_no' 'atis_flight_time' 'atis_ground_fare'\n",
            " 'atis_ground_service' 'atis_meal' 'atis_quantity' 'atis_restriction']\n",
            "(4977, 898) (4977, 16)\n"
          ],
          "name": "stdout"
        }
      ]
    },
    {
      "cell_type": "code",
      "metadata": {
        "id": "l6mN3nyTIZGz"
      },
      "source": [
        "desired_count = 500\n",
        "strategy = {0: desired_count, 15: desired_count}# setting atis_restriction and atis_abbreviation classes count just as an example"
      ],
      "id": "l6mN3nyTIZGz",
      "execution_count": null,
      "outputs": []
    },
    {
      "cell_type": "code",
      "metadata": {
        "colab": {
          "base_uri": "https://localhost:8080/"
        },
        "id": "aZnOPubKCSy6",
        "outputId": "54d242d5-2e14-446a-db05-cfa04f66f69a"
      },
      "source": [
        "from imblearn.over_sampling import SMOTE, ADASYN\n",
        "smote = ADASYN(sampling_strategy=strategy, n_neighbors=5) #SMOTE(sampling_strategy='minority', k_neighbors=5)\n",
        "X_sm, y_sm = smote.fit_resample(x_train, y_train)\n",
        "print(X_sm.shape, y_sm.shape)"
      ],
      "id": "aZnOPubKCSy6",
      "execution_count": null,
      "outputs": [
        {
          "output_type": "stream",
          "text": [
            "/usr/local/lib/python3.7/dist-packages/sklearn/externals/six.py:31: FutureWarning: The module is deprecated in version 0.21 and will be removed in version 0.23 since we've dropped support for Python 2.7. Please rely on the official version of six (https://pypi.org/project/six/).\n",
            "  \"(https://pypi.org/project/six/).\", FutureWarning)\n",
            "/usr/local/lib/python3.7/dist-packages/sklearn/utils/deprecation.py:144: FutureWarning: The sklearn.neighbors.base module is  deprecated in version 0.22 and will be removed in version 0.24. The corresponding classes / functions should instead be imported from sklearn.neighbors. Anything that cannot be imported from sklearn.neighbors is now part of the private API.\n",
            "  warnings.warn(message, FutureWarning)\n",
            "/usr/local/lib/python3.7/dist-packages/sklearn/utils/deprecation.py:87: FutureWarning: Function safe_indexing is deprecated; safe_indexing is deprecated in version 0.22 and will be removed in version 0.24.\n",
            "  warnings.warn(msg, category=FutureWarning)\n"
          ],
          "name": "stderr"
        },
        {
          "output_type": "stream",
          "text": [
            "(5811, 898) (5811, 16)\n"
          ],
          "name": "stdout"
        }
      ]
    },
    {
      "cell_type": "code",
      "metadata": {
        "colab": {
          "base_uri": "https://localhost:8080/"
        },
        "id": "of5AfVgdHlQQ",
        "outputId": "f3eaa977-ecbc-4122-8ed7-a14fbaffb1e4"
      },
      "source": [
        "y_temp = list(encoder.inverse_transform(y_sm))\n",
        "temp_freq = dict()\n",
        "for intent in y_temp:\n",
        "    temp_freq[intent] = y_temp.count(intent)\n",
        "\n",
        "for key in temp_freq:\n",
        "    value = temp_freq[key]\n",
        "    print('%s: %d (%.2f%%),' % (key, value, value / len(y_temp) * 100))"
      ],
      "id": "of5AfVgdHlQQ",
      "execution_count": null,
      "outputs": [
        {
          "output_type": "stream",
          "text": [
            "atis_flight: 3687 (63.45%),\n",
            "atis_airfare: 424 (7.30%),\n",
            "atis_airline: 159 (2.74%),\n",
            "atis_ground_service: 256 (4.41%),\n",
            "atis_quantity: 51 (0.88%),\n",
            "atis_city: 19 (0.33%),\n",
            "atis_abbreviation: 488 (8.40%),\n",
            "atis_aircraft: 82 (1.41%),\n",
            "atis_distance: 20 (0.34%),\n",
            "atis_ground_fare: 18 (0.31%),\n",
            "atis_capacity: 16 (0.28%),\n",
            "atis_flight_time: 54 (0.93%),\n",
            "atis_meal: 6 (0.10%),\n",
            "atis_flight_no: 12 (0.21%),\n",
            "atis_restriction: 499 (8.59%),\n",
            "atis_airport: 20 (0.34%),\n"
          ],
          "name": "stdout"
        }
      ]
    },
    {
      "cell_type": "markdown",
      "metadata": {
        "id": "dl-OSK8KdTDc"
      },
      "source": [
        "#TO-DO: code cleaning\n",
        "\n",
        "> Indented block\n",
        "\n"
      ],
      "id": "dl-OSK8KdTDc"
    },
    {
      "cell_type": "markdown",
      "metadata": {
        "id": "xR7TkN_97kvx"
      },
      "source": [
        "# Synonym replacement"
      ],
      "id": "xR7TkN_97kvx"
    },
    {
      "cell_type": "code",
      "metadata": {
        "id": "n8QrZY_vTTfJ"
      },
      "source": [
        "%%capture\n",
        "!pip install numpy requests nlpaug transformers"
      ],
      "id": "n8QrZY_vTTfJ",
      "execution_count": null,
      "outputs": []
    },
    {
      "cell_type": "code",
      "metadata": {
        "colab": {
          "base_uri": "https://localhost:8080/"
        },
        "id": "LOc66TPuUZ_f",
        "outputId": "fbd8be4f-19a2-48e5-f0c9-41faddbe0f05"
      },
      "source": [
        "# %%capture\n",
        "import nlpaug.augmenter.word as naw\n",
        "import nlpaug.model.word_stats as nmw\n",
        "from nlpaug.util.file.download import DownloadUtil\n",
        "import nltk\n",
        "import gensim.downloader as api\n",
        "\n",
        "nltk.download('punkt')\n",
        "nltk.download('averaged_perceptron_tagger')\n",
        "nltk.download('universal_tagset')\n",
        "nltk.download('stopwords')\n",
        "nltk.download('wordnet')\n",
        "stop = nltk.corpus.stopwords.words('english')\n",
        "\n",
        "# glove = api.load('glove-twitter-25') \n",
        "DownloadUtil.download_glove(model_name='glove.6B', dest_dir='.') # Download GloVe model\n",
        "\n",
        "# Train TF-IDF model\n",
        "# tfidf_model = nmw.TfIdf()\n",
        "# tfidf_model.train(train_words)\n",
        "# tfidf_model.save('.')"
      ],
      "id": "LOc66TPuUZ_f",
      "execution_count": null,
      "outputs": [
        {
          "output_type": "stream",
          "text": [
            "[nltk_data] Downloading package punkt to /root/nltk_data...\n",
            "[nltk_data]   Package punkt is already up-to-date!\n",
            "[nltk_data] Downloading package averaged_perceptron_tagger to\n",
            "[nltk_data]     /root/nltk_data...\n",
            "[nltk_data]   Package averaged_perceptron_tagger is already up-to-\n",
            "[nltk_data]       date!\n",
            "[nltk_data] Downloading package universal_tagset to /root/nltk_data...\n",
            "[nltk_data]   Package universal_tagset is already up-to-date!\n",
            "[nltk_data] Downloading package stopwords to /root/nltk_data...\n",
            "[nltk_data]   Package stopwords is already up-to-date!\n",
            "[nltk_data] Downloading package wordnet to /root/nltk_data...\n",
            "[nltk_data]   Package wordnet is already up-to-date!\n"
          ],
          "name": "stdout"
        }
      ]
    },
    {
      "cell_type": "code",
      "metadata": {
        "id": "EGWMUGYoTZBO"
      },
      "source": [
        "aug_p=0.25\n",
        "aug_max=3\n",
        "aug_min=1\n",
        "syn = naw.SynonymAug(aug_src='wordnet', stopwords=stop, aug_p=aug_p, aug_max=aug_max, aug_min=aug_min)\n",
        "context = naw.ContextualWordEmbsAug(model_path='bert-base-uncased', stopwords=stop, aug_p=aug_p, aug_max=aug_max, aug_min=aug_min,action=\"substitute\")\n",
        "emb = naw.WordEmbsAug(model_type='glove', model_path='glove.6B.300d.txt', stopwords=stop, aug_p=aug_p, aug_max=aug_max, aug_min=aug_min,action=\"substitute\")\n",
        "# tfidf = naw.TfIdfAug(model_path='.',stopwords=stop, aug_p=aug_p, aug_max=aug_max, aug_min=aug_min,action=\"substitute\")"
      ],
      "id": "EGWMUGYoTZBO",
      "execution_count": null,
      "outputs": []
    },
    {
      "cell_type": "code",
      "metadata": {
        "colab": {
          "base_uri": "https://localhost:8080/"
        },
        "id": "54e1OY6qHldS",
        "outputId": "f77f16eb-e7d9-48b9-ec64-e907eb94cf5e"
      },
      "source": [
        "import pickle\n",
        "f = open('train_data_augmented.pkl','wb')\n",
        "train_data_augmented = list()\n",
        "starting_index = 0\n",
        "i = starting_index\n",
        "while (i < len(train_data_dup_free)):\n",
        "# for i in range(starting_index, len(train_data_dup_free)):\n",
        "  if (train_data_dup_free[i]['intent'] != 'atis_flight'):\n",
        "    orig_sentence = \" \".join(train_data_dup_free[i]['words'])\n",
        "    orig_tags = train_data_dup_free[i]['iob_tags']\n",
        "    orig_intent = train_data_dup_free[i]['intent']\n",
        "    print('\\nindex = %d, intent: %s\\noriginal sentence: %s\\n' % (i, orig_intent, orig_sentence))\n",
        "\n",
        "    generated = list()\n",
        "    generated += context.augment(orig_sentence, n = 4)\n",
        "    generated += emb.augment(orig_sentence, n = 3)\n",
        "    generated += syn.augment(orig_sentence, n = 3)\n",
        "    for j in range(len(generated)):\n",
        "      if (j == 4 or j == 7): print()\n",
        "      print('#%d: %s' % (j, generated[j]))\n",
        "    new_sentence = ''\n",
        "    while(True):\n",
        "      inp = input('\\nenter value between 0-9 or n to manually enter new sentence, r to regenerate sentences or b to break : ')\n",
        "      if (inp.isalpha()):\n",
        "        if (inp.lower() == 'n'): new_sentence = input('enter new sentence: ')\n",
        "        elif (inp.lower() == 'r'):\n",
        "          generated = list()\n",
        "          generated += context.augment(orig_sentence, n = 4)\n",
        "          generated += emb.augment(orig_sentence, n = 3)\n",
        "          generated += syn.augment(orig_sentence, n = 3)\n",
        "          print('\\nindex=%d, intent:%s\\noriginal sentence: %s\\n' % (i, orig_intent, orig_sentence))\n",
        "          for j in range(len(generated)):\n",
        "            if (j == 4 or j == 7): print()\n",
        "            print('#%d: %s' % (j, generated[j]))\n",
        "          continue\n",
        "\n",
        "        elif (inp.lower() == 'b'):\n",
        "          print('_' * 80)\n",
        "          print('\\nlast index = %d\\nbreaking...' % (i))\n",
        "          i = len(train_data_dup_free)\n",
        "          pickle.dump(train_data_augmented, f)\n",
        "          break\n",
        "\n",
        "        else: continue\n",
        "\n",
        "      elif (inp.isnumeric()):\n",
        "        inp = int(inp)\n",
        "        if(inp > 9): continue\n",
        "        new_sentence = generated[inp]\n",
        "\n",
        "      else: continue\n",
        "\n",
        "      ans = input('\\noriginal sentence: %s\\nnew sentence: %s\\nis it ok? (y or n) ' %(orig_sentence, new_sentence))\n",
        "      if (ans.lower() == 'y' or ans.lower() == 'yes'): break\n",
        "    \n",
        "    if (new_sentence != ''):\n",
        "      new_words = new_sentence.strip().split()\n",
        "      train_data_augmented.append({\n",
        "              'words': new_words,\n",
        "              'iob_tags': orig_tags,\n",
        "  #             'length': len(new_words),\n",
        "              'intent': orig_intent})     \n",
        "    \n",
        "    pickle.dump(train_data_augmented, f)\n",
        "    print('_' * 80)\n",
        "  i += 1\n",
        "\n",
        "f.close()"
      ],
      "id": "54e1OY6qHldS",
      "execution_count": 116,
      "outputs": [
        {
          "output_type": "stream",
          "text": [
            "\n",
            "index = 1, intent: atis_airfare\n",
            "original sentence: round trip fares from baltimore to philadelphia less than 1000 dollars round trip fares from denver to philadelphia less than 1000 dollars round trip fares from pittsburgh to philadelphia less than 1000 dollars\n",
            "\n",
            "#0: peak trip fares from baltimore to philadelphia less than 1000 dollars round trip fares from denver to philadelphia less than 850 notes round trip fares from pittsburgh to philadelphia less than 1000 dollars\n",
            "#1: round trip fares from portland to philadelphia less than 1000 dollars round service fares from denver to philadelphia less than 1000 dollars round trip fares from pittsburgh to philadelphia less than 1000 dollars\n",
            "#2: round trip fares from baltimore to philadelphia less than 1000 dollars round bus fares from denver to philadelphia less than 1000 dollars same trip travel from pittsburgh to philadelphia less than 1000 dollars\n",
            "#3: round trip fares from baltimore to erie less than 1000 dollars round shuttle fares from denver to philadelphia less than 1000 dollars round trip fares from pittsburgh to philadelphia less than 999 dollars\n",
            "\n",
            "#4: round trip fares from jersey to philadelphia less than 1000 dollars round trip fares from denver to philadelphia less than 1,100 dollars round trip fares from pittsburgh to philadelphia less than 2,000 dollars\n",
            "#5: round trip fares from baltimore to philadelphia equally than 1000 dollars round trip fares from denver to philadelphia less than 1000 1.9 round trip fares from denver to philadelphia less than 1000 dollars\n",
            "#6: round trip fares from baltimore to philadelphia less than 1000 dollars round trip fares from denver to philadelphia less than 1000 dollars 14th arriving fares from pittsburgh to philadelphia less than guineas dollars\n",
            "\n",
            "#7: round trip fares from baltimore to philadelphia less than 1000 clam round trip fares from denver to philadelphia less than 1000 dollars round slip fares from pittsburgh to philadelphia less than yard dollars\n",
            "#8: round trip fares from baltimore to philadelphia less than 1000 dollars round trip fares from denver to philadelphia less than 1000 buck circular trip fares from pittsburgh to philadelphia less than 1000 dollars\n",
            "#9: troll trip fares from baltimore to philadelphia less than thousand dollars round trip fares from denver to philadelphia less than 1000 dollars circular trip fares from pittsburgh to philadelphia less than 1000 dollars\n",
            "\n",
            "enter value between 0-9 or n to manually enter new sentence, r to regenerate sentences or b to break : 1\n",
            "\n",
            "original sentence: round trip fares from baltimore to philadelphia less than 1000 dollars round trip fares from denver to philadelphia less than 1000 dollars round trip fares from pittsburgh to philadelphia less than 1000 dollars\n",
            "new sentence: round trip fares from portland to philadelphia less than 1000 dollars round service fares from denver to philadelphia less than 1000 dollars round trip fares from pittsburgh to philadelphia less than 1000 dollars\n",
            "is it ok? (y or n) y\n",
            "________________________________________________________________________________\n",
            "\n",
            "index = 4, intent: atis_airline\n",
            "original sentence: which airlines fly from boston to washington dc via other cities\n",
            "\n",
            "#0: which might fly from boston to washington ; via other cities\n",
            "#1: which airlines feeder from charleston to washington dc via other cities\n",
            "#2: which airlines fly from milwaukee to washington from via other cities\n",
            "#3: which was fly from detroit to washington dc via other cities\n",
            "\n",
            "#4: which airlines fly from fenway to washington infinite via other cities\n",
            "#5: which airlines fly from montreal to washington dc enable other cities\n",
            "#6: which trans go from boston to washington dc via other cities\n",
            "\n",
            "#7: which airlines fly from boston to washington direct current via other city\n",
            "#8: which airlines fly from boston to washington dc via other city\n",
            "#9: which airline fly from boston to washington direct electric current via other cities\n",
            "\n",
            "enter value between 0-9 or n to manually enter new sentence, r to regenerate sentences or b to break : 1\n",
            "\n",
            "original sentence: which airlines fly from boston to washington dc via other cities\n",
            "new sentence: which airlines feeder from charleston to washington dc via other cities\n",
            "is it ok? (y or n) y\n",
            "________________________________________________________________________________\n",
            "\n",
            "index = 11, intent: atis_ground_service\n",
            "original sentence: what types of ground transportation are there to san francisco airport\n",
            "\n",
            "#0: what facilities of ground transportation are there to hong francisco airport\n",
            "#1: what types of ground connections are there to san francisco n\n",
            "#2: what paths of ground transportation are there to san francisco that\n",
            "#3: what categories of different transportation are there to san francisco airport\n",
            "\n",
            "#4: what types of ground agriculture are there to san obispo airport\n",
            "#5: what applications of ground manufacturing are there to san francisco airport\n",
            "#6: what types of ground energy are there to san francisco port\n",
            "\n",
            "#7: what types of primer coat transportation are there to san francisco airport\n",
            "#8: what types of earth exile are there to san francisco airport\n",
            "#9: what types of ground fare are there to san francisco airport\n",
            "\n",
            "enter value between 0-9 or n to manually enter new sentence, r to regenerate sentences or b to break : b\n",
            "________________________________________________________________________________\n",
            "\n",
            "last index = 11\n",
            "breaking...\n",
            "________________________________________________________________________________\n"
          ],
          "name": "stdout"
        }
      ]
    },
    {
      "cell_type": "code",
      "metadata": {
        "id": "oyxXqxpuuHLk",
        "colab": {
          "base_uri": "https://localhost:8080/"
        },
        "outputId": "a8f8671b-ce15-49bb-9b99-9c2dfa0af70d"
      },
      "source": [
        "f = open('train_data_augmented.pkl','rb')\n",
        "new_dict = pickle.load(f)\n",
        "f.close()\n",
        "len(new_dict)"
      ],
      "id": "oyxXqxpuuHLk",
      "execution_count": 117,
      "outputs": [
        {
          "output_type": "execute_result",
          "data": {
            "text/plain": [
              "1"
            ]
          },
          "metadata": {},
          "execution_count": 117
        }
      ]
    },
    {
      "cell_type": "code",
      "metadata": {
        "id": "wW88OLA5FF21"
      },
      "source": [
        "# %%capture\n",
        "# !pip install textaugment"
      ],
      "id": "wW88OLA5FF21",
      "execution_count": null,
      "outputs": []
    },
    {
      "cell_type": "code",
      "metadata": {
        "colab": {
          "base_uri": "https://localhost:8080/"
        },
        "id": "ICdEFY64YV9x",
        "outputId": "ebf39ea6-3897-4755-d6eb-b96f619f7b2b"
      },
      "source": [
        "# import gensim.downloader as api\n",
        "\n",
        "# # Download the models\n",
        "# # fasttext_model300 = api.load('fasttext-wiki-news-subwords-300')\n",
        "# conceptnet =  api.load('conceptnet-numberbatch-17-06-300')\n",
        "# # word2vec_model300 = api.load('word2vec-google-news-300') # crash!\n",
        "# # glove_model300 = api.load('glove-wiki-gigaword-300')\n",
        "\n",
        "# # Get word embeddings\n",
        "# # word2vec_model300.most_similar('support')"
      ],
      "id": "ICdEFY64YV9x",
      "execution_count": null,
      "outputs": [
        {
          "output_type": "stream",
          "text": [
            "[==================================================] 100.0% 1168.7/1168.7MB downloaded\n"
          ],
          "name": "stdout"
        }
      ]
    },
    {
      "cell_type": "code",
      "metadata": {
        "id": "UyXzu3dRThMz"
      },
      "source": [
        "# from textaugment import Word2vec\n",
        "# t = Word2vec(model=conceptnet)\n",
        "# t.augment('i want to fly from baltimore to dallas round trip')"
      ],
      "id": "UyXzu3dRThMz",
      "execution_count": null,
      "outputs": []
    },
    {
      "cell_type": "markdown",
      "metadata": {
        "id": "bJn8HobH7t6B"
      },
      "source": [
        "#Similar sentences"
      ],
      "id": "bJn8HobH7t6B"
    },
    {
      "cell_type": "code",
      "metadata": {
        "colab": {
          "base_uri": "https://localhost:8080/"
        },
        "id": "Lh4w4U91sIYf",
        "outputId": "54ba0e6f-e7d3-44b9-fac0-8f918c3b5384"
      },
      "source": [
        "train_sentences_dup_free = list()\n",
        "for i in range(len(train_intents_dup_free)):\n",
        "  if (train_intents_dup_free[i] == 'atis_flight'): \n",
        "    item = \" \".join(train_words_dup_free[i]) #stop words?\n",
        "    train_sentences_dup_free.append(item)\n",
        "\n",
        "len(train_sentences_dup_free)"
      ],
      "id": "Lh4w4U91sIYf",
      "execution_count": null,
      "outputs": [
        {
          "output_type": "execute_result",
          "data": {
            "text/plain": [
              "3443"
            ]
          },
          "metadata": {},
          "execution_count": 36
        }
      ]
    },
    {
      "cell_type": "code",
      "metadata": {
        "id": "OveqpNDIPXpW"
      },
      "source": [
        "%%capture\n",
        "!pip install -U sentence-transformers"
      ],
      "id": "OveqpNDIPXpW",
      "execution_count": null,
      "outputs": []
    },
    {
      "cell_type": "code",
      "metadata": {
        "colab": {
          "base_uri": "https://localhost:8080/",
          "height": 401,
          "referenced_widgets": [
            "54ae5eabd2e341bfae6f838c40878bf8",
            "34cbb0a03d4b40aea1ffeaa8a55fa5e1",
            "e64559d213e14c1684b6024bc17822ce",
            "d39b47c26f3f41deb43e3853231c7af6",
            "973a1be199544a92a59f64364b354ab5",
            "069614b07b424d7a8c04af784d2e5b4e",
            "9b23109dc9aa4e8694a4814b8001525f",
            "c8cbacffac1340deb5ef94c45bb6afcd",
            "35d8c7e3534f4c3b83f5898bd71c21c3",
            "03889366e67444058078c0761efc8e7a",
            "251b77d364a840b0bf7007cab74938fa",
            "ed4bcec53aa8483aa204ca177f22c0b6",
            "4e365b7a9b1048cf904dbecdd445848c",
            "30b98985215a4af5ae78865290cf057b",
            "735140af4ed04422ba4fcee18158030b",
            "13d1701237904f5995e46b4da7dcb7f6",
            "cceeec805de249788cb76a9194630479",
            "919b1b1f6564450a830791c7d3edbd6d",
            "ed544ba82f2c493aa011489b57efbdae",
            "bf1e22fd5ddf4c0c8cf4fce973d13d23",
            "f0df66be59de4bbc8e5453665151c56f",
            "15083cd06c9347eb8e7581d017b1064b",
            "3346e4ad63af430b8487562e5c063404",
            "f7eb37865b8e450c98fef69493c81960",
            "abef938ba23749a5b9152dee0c3f2265",
            "f245327fe091474585d9974bcfb3590c",
            "b9d92d6c88df4d6ca294005492172520",
            "5b8279a0a4d240e7a1c2cc088cdb29bf",
            "001e22778d25473aadc30ea19b680edf",
            "193e5305e09f4182970d2523c1e7caa8",
            "62f0e1d253744fd286445c7888542aeb",
            "984fc7dfcfef453580df42185d036f8a",
            "1ec14edc1f374c10888fa0f68e6f7186",
            "19b4a21b84e74e0b9261565889f55fee",
            "f187b42342e9488eaa608750de9aaec3",
            "3d624eaa25884620b439c2ef785fff8f",
            "981f7da8233c4b078e332ce3e1a50b96",
            "0c43a514713646908bb84fa5e7dcc46e",
            "c2145bc8d36541d6a9ae2b23269a4dd1",
            "9a817deb28e942b59fd0fa5808ba4069",
            "fbc003fee5ed4c348e4389a53f188aa0",
            "d994dcb924904e609f1344b658da65db",
            "077a1fabe4174a2da0e82031c1c6dd9c",
            "f717e22a35bf462484dcd90c049ff71e",
            "25aa6fce785e4d3081339021f6f6b705",
            "b1df325ece854bce9f00b0c961225f3a",
            "037251cb2de447d08b3c5ad94e29fc35",
            "2ae1fe031bdd467cb8e6de9f9b12c44f",
            "d160fc4a42864dbba493f997d91dced8",
            "314b6187f86a431e99edfefcae424b16",
            "6d3dd53fcdf34b93a42c246aa0f06fd6",
            "17f729dc49494a18b602c2047e8c1dc5",
            "dac9ea3ded184f94b77d76e76d1d8714",
            "4e78cb17081345528fdd3bdc04b63701",
            "34f9511756d8430b905a084849696eed",
            "c3c3e6d25f644351bd9ed08dcc2763e3",
            "ae03ea14394a4fbc8f519193c342d814",
            "e7cd0954fdad4f76ad0fdb3d731ae0fe",
            "20e54a485bb84952a5f40c974501fbdb",
            "5639908d999a46e4a46b1b5455e2e8f1",
            "0ea8810c467948fd8e09e1e31f19e176",
            "960ce1ecad794ac6bbdee12063dd1547",
            "5ee43b10336d4b1faf8bcc09a06452b2",
            "ed4eb204255a4e74b7cb36285058e74e",
            "fa32df0c128d483ba3b6da699000ae92",
            "32bca08f884844608327305bde9bd53b",
            "64c9dca29c284c20a760fa4c54a021e3",
            "33b05b9727414e3099b61c791419f25c",
            "c09e160f749244d0b362c0c0289eb5bb",
            "ae76cec13f684fad8de69201e4660c0c",
            "ae9798a27dd940afaa380f23e0096009",
            "d64086814c73443398d1e7cc2b63d4a6",
            "2d1d100a6e9f42359bfd06e5675d7cf8",
            "0dcc5f6d8df74336a8ae4ac3a421575a",
            "39161e96a164456987271506485a32d9",
            "779091341a944f5bbc2540f2bb98b52b",
            "010b27cf68394860a90822c49767f1dc",
            "a6c7d0d36d64412a9818471812bc5def",
            "f1acac648db0446584f5df28a1b0aa6a",
            "a68cd0db2a554d8f8aab0c7953597797",
            "a4a62a39faf249a39f9245ed8f0e671f",
            "8f076f39bd2442b1b4293ad818fe9447",
            "14f59fb943f144499a0d51e05a405f09",
            "8da6c2a8b8d845689aaaa495da0eaaca",
            "bb45029897744e34af3e69c6f91b96a2",
            "69643bb68e2f4dc09d7c1ceea12fecd0",
            "c8d6d9a497634c56b1c2596cf682463d",
            "8b43870f43e3445a8cbe9735088b832d",
            "521e3288f71247d48b89b5cfc946a1ed",
            "e69c1ff47b4f45ca8724b18102283d58",
            "148490cfb772499bb702d752212945f7",
            "f60e0421e048472bb5f5ec95dabeb31b",
            "509565e292c1465ba78aa8189e63c320",
            "054507bb9ca546cf9f535067f0268c63",
            "39870f7bf2bf4864b4d1e0d59ee070f0",
            "724d7d545462477dbad3a5a4575d2b09",
            "07c42a0e257f403883e0e71e45972306",
            "cd790e24aedd49718b81b3c823ae86a5",
            "19697c13f87747019bae3021d759edef",
            "0bb5175b49a54594ba434d8a16ec114e",
            "e58e11eafb464eada9b42031352b4194",
            "9907412dfbe54ac1b2744f3439a185be",
            "7b47cde775df4ee3b151d353059bd90d",
            "51e9652b56df47199040525124626971",
            "20c1d59b513542f99ebca9c19e4c29b0",
            "25f5b2ba84304dbc96d7b43da1c9f507",
            "94ee33dfefea4fa0b8fa6e2cdd4dd70b",
            "8761cf2b46a44a448898a9163f35fba2",
            "94acc9a75fb24c2daf8cb750903f8880",
            "13dccc21c4194b7cae874ac212cd89e7",
            "5ec51fd167fd4dd7a7343218f3b8dc41",
            "443f5790777e41d3af48af6574756ce2",
            "ec56f3fe08e240dfb235d308ecb4a924",
            "b3d01c51688a49bea993f2b6fa6cdc52",
            "74e1835a62ec4a04b4db8811ac892222",
            "3e6890d1b4c64ecbb2cfadaca8056ebb",
            "5f98603248fb464eaaa1dd0849f8d8e1",
            "c185bd1e63bd43aa86655bab2752b6b7",
            "9716e84c25df4223b8e2075466bbb5b6",
            "7eb68a868cde47f9a73945111f228b54",
            "c8781eabe0e34ee38cfb86c471a6022e",
            "42afed6c6a8b48f6bac13ee068233b87",
            "0dccfb47a804490ab26e20c2502151d1",
            "17a15c4048b5480db0eda803d7112471",
            "c941467c0bc34563b6f6adbb3afc7ba7",
            "feb66bdcb5804fcd9476ac2921a67de7",
            "129a346987764f72bc2f896ccadef144",
            "1afac06a66714f74a8892d7897221f13",
            "1beff6d7411948359b8fa2b1cdb411ca",
            "02e69f24bfab48c9a7a9b203820a2e45",
            "49af59ce13b54070b056fd945df6a4f4",
            "3d46e652a4ad45b88c96b5d8765f0b71"
          ]
        },
        "id": "e_a20ye7PVE9",
        "outputId": "84e3c237-f450-48a6-e4b5-64c907911540"
      },
      "source": [
        "%%capture\n",
        "from sentence_transformers import SentenceTransformer, util\n",
        "from sklearn.cluster import AgglomerativeClustering, KMeans\n",
        "from sklearn.decomposition import PCA\n",
        "from mpl_toolkits.mplot3d import Axes3D\n",
        "from matplotlib import pyplot as plt\n",
        "from scipy.cluster.hierarchy import dendrogram\n",
        "from scipy.cluster import hierarchy\n",
        "import numpy as np\n",
        "import time  \n",
        "\n",
        "corpus_sentences = train_sentences_dup_free\n",
        "embedder = SentenceTransformer('paraphrase-mpnet-base-v2')"
      ],
      "id": "e_a20ye7PVE9",
      "execution_count": null,
      "outputs": [
        {
          "output_type": "display_data",
          "data": {
            "application/vnd.jupyter.widget-view+json": {
              "model_id": "54ae5eabd2e341bfae6f838c40878bf8",
              "version_minor": 0,
              "version_major": 2
            },
            "text/plain": [
              "Downloading:   0%|          | 0.00/690 [00:00<?, ?B/s]"
            ]
          },
          "metadata": {}
        },
        {
          "output_type": "display_data",
          "data": {
            "application/vnd.jupyter.widget-view+json": {
              "model_id": "ed4bcec53aa8483aa204ca177f22c0b6",
              "version_minor": 0,
              "version_major": 2
            },
            "text/plain": [
              "Downloading:   0%|          | 0.00/3.70k [00:00<?, ?B/s]"
            ]
          },
          "metadata": {}
        },
        {
          "output_type": "display_data",
          "data": {
            "application/vnd.jupyter.widget-view+json": {
              "model_id": "3346e4ad63af430b8487562e5c063404",
              "version_minor": 0,
              "version_major": 2
            },
            "text/plain": [
              "Downloading:   0%|          | 0.00/594 [00:00<?, ?B/s]"
            ]
          },
          "metadata": {}
        },
        {
          "output_type": "display_data",
          "data": {
            "application/vnd.jupyter.widget-view+json": {
              "model_id": "19b4a21b84e74e0b9261565889f55fee",
              "version_minor": 0,
              "version_major": 2
            },
            "text/plain": [
              "Downloading:   0%|          | 0.00/122 [00:00<?, ?B/s]"
            ]
          },
          "metadata": {}
        },
        {
          "output_type": "display_data",
          "data": {
            "application/vnd.jupyter.widget-view+json": {
              "model_id": "25aa6fce785e4d3081339021f6f6b705",
              "version_minor": 0,
              "version_major": 2
            },
            "text/plain": [
              "Downloading:   0%|          | 0.00/229 [00:00<?, ?B/s]"
            ]
          },
          "metadata": {}
        },
        {
          "output_type": "display_data",
          "data": {
            "application/vnd.jupyter.widget-view+json": {
              "model_id": "c3c3e6d25f644351bd9ed08dcc2763e3",
              "version_minor": 0,
              "version_major": 2
            },
            "text/plain": [
              "Downloading:   0%|          | 0.00/438M [00:00<?, ?B/s]"
            ]
          },
          "metadata": {}
        },
        {
          "output_type": "display_data",
          "data": {
            "application/vnd.jupyter.widget-view+json": {
              "model_id": "64c9dca29c284c20a760fa4c54a021e3",
              "version_minor": 0,
              "version_major": 2
            },
            "text/plain": [
              "Downloading:   0%|          | 0.00/53.0 [00:00<?, ?B/s]"
            ]
          },
          "metadata": {}
        },
        {
          "output_type": "display_data",
          "data": {
            "application/vnd.jupyter.widget-view+json": {
              "model_id": "a6c7d0d36d64412a9818471812bc5def",
              "version_minor": 0,
              "version_major": 2
            },
            "text/plain": [
              "Downloading:   0%|          | 0.00/239 [00:00<?, ?B/s]"
            ]
          },
          "metadata": {}
        },
        {
          "output_type": "display_data",
          "data": {
            "application/vnd.jupyter.widget-view+json": {
              "model_id": "521e3288f71247d48b89b5cfc946a1ed",
              "version_minor": 0,
              "version_major": 2
            },
            "text/plain": [
              "Downloading:   0%|          | 0.00/466k [00:00<?, ?B/s]"
            ]
          },
          "metadata": {}
        },
        {
          "output_type": "display_data",
          "data": {
            "application/vnd.jupyter.widget-view+json": {
              "model_id": "0bb5175b49a54594ba434d8a16ec114e",
              "version_minor": 0,
              "version_major": 2
            },
            "text/plain": [
              "Downloading:   0%|          | 0.00/1.19k [00:00<?, ?B/s]"
            ]
          },
          "metadata": {}
        },
        {
          "output_type": "display_data",
          "data": {
            "application/vnd.jupyter.widget-view+json": {
              "model_id": "5ec51fd167fd4dd7a7343218f3b8dc41",
              "version_minor": 0,
              "version_major": 2
            },
            "text/plain": [
              "Downloading:   0%|          | 0.00/232k [00:00<?, ?B/s]"
            ]
          },
          "metadata": {}
        },
        {
          "output_type": "display_data",
          "data": {
            "application/vnd.jupyter.widget-view+json": {
              "model_id": "42afed6c6a8b48f6bac13ee068233b87",
              "version_minor": 0,
              "version_major": 2
            },
            "text/plain": [
              "Downloading:   0%|          | 0.00/190 [00:00<?, ?B/s]"
            ]
          },
          "metadata": {}
        }
      ]
    },
    {
      "cell_type": "code",
      "metadata": {
        "colab": {
          "base_uri": "https://localhost:8080/",
          "height": 49,
          "referenced_widgets": [
            "69be3f1dc71e4b038ae6921daa00909e",
            "cadf4ae6dab9492084e2c68a9348a47a",
            "f2f5091c979d40a281c55937ac119a3e",
            "347be3aeb0aa41c780a3b995f9d05b7a",
            "4ac977fb6ec54672bd798f31f171c430",
            "cefc42a2397b403ca8241d5825276353",
            "83106812f7474ae7b6698afbbbee6d64",
            "35c482843fcb41f086131485cf301e70",
            "0aff8e8cd0c1411ebce52744a02673d8",
            "899f60f001114d60aa20e7b51d4b4dca",
            "3ce90abf17a54426b471d40e6daaf34e"
          ]
        },
        "id": "J5DC0O-pIFcr",
        "outputId": "2466fcb7-58d3-42f7-b9e9-b3b615df3466"
      },
      "source": [
        "# finding similar pairs\n",
        "\n",
        "#Compute embeddings\n",
        "corpus_embeddings = embedder.encode(corpus_sentences,show_progress_bar=True, convert_to_tensor=True)\n",
        "\n",
        "#Compute cosine-similarities for each sentence with each other sentence\n",
        "cosine_scores = util.pytorch_cos_sim(corpus_embeddings, corpus_embeddings)\n",
        "\n",
        "#Find the pairs with the highest cosine similarity scores\n",
        "pairs = []\n",
        "for i in range(len(cosine_scores)-1):\n",
        "    for j in range(i+1, len(cosine_scores)):\n",
        "        pairs.append({'index': [i, j], 'score': cosine_scores[i][j]})\n",
        "\n",
        "#Sort scores in decreasing order\n",
        "pairs = sorted(pairs, key=lambda x: x['score'], reverse=True)\n",
        "\n",
        "for pair in pairs[0:10]:\n",
        "    i, j = pair['index']\n",
        "    print(\"{} \\t\\t {} \\t\\t Score: {:.4f}\".format(corpus_sentences[i], corpus_sentences[j], pair['score']))"
      ],
      "id": "J5DC0O-pIFcr",
      "execution_count": null,
      "outputs": [
        {
          "output_type": "display_data",
          "data": {
            "application/vnd.jupyter.widget-view+json": {
              "model_id": "69be3f1dc71e4b038ae6921daa00909e",
              "version_minor": 0,
              "version_major": 2
            },
            "text/plain": [
              "Batches:   0%|          | 0/108 [00:00<?, ?it/s]"
            ]
          },
          "metadata": {}
        }
      ]
    },
    {
      "cell_type": "code",
      "metadata": {
        "id": "7hIt9RbBIa6_"
      },
      "source": [
        "f = open('similar-pairs.txt', 'w')\n",
        "for pair in pairs:\n",
        "  i, j = pair['index']\n",
        "  f.write(\"{} \\t\\t {} \\t\\t Score: {:.4f}\\n\".format(corpus_sentences[i], corpus_sentences[j], pair['score']))\n",
        "  #print(\"{} \\t\\t {} \\t\\t Score: {:.4f}\".format(sentences[i], sentences[j], pair['score']))\n",
        "  if (pair['score'] < 0.8): break\n",
        "f.close()"
      ],
      "id": "7hIt9RbBIa6_",
      "execution_count": null,
      "outputs": []
    },
    {
      "cell_type": "code",
      "metadata": {
        "id": "9p_tMxBbPSTR"
      },
      "source": [
        "# Corpus with example sentences\n",
        "corpus_sentences = train_sentences_dup_free\n",
        "corpus_embeddings = embedder.encode(corpus_sentences,show_progress_bar=True)\n",
        "\n",
        "# Normalize the embeddings to unit length\n",
        "corpus_embeddings = corpus_embeddings /  np.linalg.norm(corpus_embeddings, axis=1, keepdims=True)"
      ],
      "id": "9p_tMxBbPSTR",
      "execution_count": null,
      "outputs": []
    },
    {
      "cell_type": "code",
      "metadata": {
        "id": "gELPy3KyGLbz"
      },
      "source": [
        "# K-means\n",
        "\n",
        "num_clusters = 2000\n",
        "clustering_model = KMeans(n_clusters=num_clusters)\n",
        "clustering_model.fit(corpus_embeddings)\n",
        "cluster_assignment = clustering_model.labels_\n",
        "\n",
        "clustered_sentences = [[] for i in range(num_clusters)]\n",
        "for sentence_id, cluster_id in enumerate(cluster_assignment):\n",
        "    clustered_sentences[cluster_id].append(corpus_sentences[sentence_id])"
      ],
      "id": "gELPy3KyGLbz",
      "execution_count": null,
      "outputs": []
    },
    {
      "cell_type": "code",
      "metadata": {
        "id": "zBabh_-yNAAZ"
      },
      "source": [
        "reduced_data = PCA(n_components=2).fit_transform(corpus_embeddings)\n",
        "kmeans = KMeans(n_clusters=num_clusters)\n",
        "kmeans.fit(reduced_data)\n",
        "\n",
        "# Step size of the mesh. Decrease to increase the quality of the VQ.\n",
        "h = .01     # point in the mesh [x_min, x_max]x[y_min, y_max].\n",
        "\n",
        "# Plot the decision boundary. For that, we will assign a color to each\n",
        "x_min, x_max = reduced_data[:, 0].min() - 1, reduced_data[:, 0].max() + 1\n",
        "y_min, y_max = reduced_data[:, 1].min() - 1, reduced_data[:, 1].max() + 1\n",
        "xx, yy = np.meshgrid(np.arange(x_min, x_max, h), np.arange(y_min, y_max, h))\n",
        "\n",
        "# Obtain labels for each point in mesh. Use last trained model.\n",
        "Z = kmeans.predict(np.c_[xx.ravel(), yy.ravel()])\n",
        "\n",
        "# Put the result into a color plot\n",
        "Z = Z.reshape(xx.shape)\n",
        "plt.figure(figsize=(24, 12))\n",
        "plt.clf()\n",
        "plt.imshow(Z, interpolation=\"nearest\",\n",
        "           extent=(xx.min(), xx.max(), yy.min(), yy.max()),\n",
        "           cmap=plt.cm.Paired, aspect=\"auto\", origin=\"lower\")\n",
        "\n",
        "plt.plot(reduced_data[:, 0], reduced_data[:, 1], 'k.', markersize=5)\n",
        "# Plot the centroids as a white X\n",
        "# centroids = kmeans.cluster_centers_\n",
        "# plt.scatter(centroids[:, 0], centroids[:, 1], marker=\"x\", s=169, linewidths=3,\n",
        "#             color=\"w\", zorder=10)\n",
        "plt.title(\"K-means clustering (PCA-reduced data)\")\n",
        "          # \"Centroids are marked with white cross\")\n",
        "plt.xlim(x_min, x_max)\n",
        "plt.ylim(y_min, y_max)\n",
        "plt.xticks(())\n",
        "plt.yticks(())\n",
        "plt.show()"
      ],
      "id": "zBabh_-yNAAZ",
      "execution_count": null,
      "outputs": []
    },
    {
      "cell_type": "code",
      "metadata": {
        "id": "0TZj3516_DPT"
      },
      "source": [
        "# To getter a better understanding of interaction of the dimensions\n",
        "# plot the first three PCA dimensions\n",
        "\n",
        "fig = plt.figure(1, figsize=(16, 12))\n",
        "ax = Axes3D(fig, elev=-150, azim=110)\n",
        "X_reduced = PCA(n_components=3).fit_transform(corpus_embeddings)\n",
        "ax.scatter(X_reduced[:, 0], X_reduced[:, 1], X_reduced[:, 2],c=kmeans.labels_,\n",
        "           cmap=plt.cm.Set1, edgecolor='k', s=40)\n",
        "ax.set_title(\"First three PCA directions - Kmeans\")\n",
        "ax.set_xlabel(\"1st eigenvector\")\n",
        "ax.w_xaxis.set_ticklabels([])\n",
        "ax.set_ylabel(\"2nd eigenvector\")\n",
        "ax.w_yaxis.set_ticklabels([])\n",
        "ax.set_zlabel(\"3rd eigenvector\")\n",
        "ax.w_zaxis.set_ticklabels([])\n",
        "\n",
        "plt.show()"
      ],
      "id": "0TZj3516_DPT",
      "execution_count": null,
      "outputs": []
    },
    {
      "cell_type": "code",
      "metadata": {
        "id": "XtjoCQK9E5_1"
      },
      "source": [
        "pca = PCA(n_components=2)\n",
        "X_r = pca.fit(corpus_embeddings).transform(corpus_embeddings)\n",
        "\n",
        "\n",
        "# Percentage of variance explained for each components\n",
        "print('explained variance ratio (first two components): %s'\n",
        "      % str(pca.explained_variance_ratio_))\n",
        "\n",
        "plt.figure(1, figsize=(16, 12))\n",
        "\n",
        "for i, target_name in zip([x for x in range(len(kmeans.labels_))], set(kmeans.labels_)):\n",
        "    plt.scatter(X_r[kmeans.labels_ == i, 0], X_r[ kmeans.labels_ == i, 1], alpha=.8, label=target_name)\n",
        "# plt.legend(loc='best', shadow=False, scatterpoints=1)\n",
        "plt.title('PCA K-means')\n",
        "\n",
        "plt.show()"
      ],
      "id": "XtjoCQK9E5_1",
      "execution_count": null,
      "outputs": []
    },
    {
      "cell_type": "code",
      "metadata": {
        "id": "7_fKhZ2JH1Ju"
      },
      "source": [
        "f = open('Clusters-k-means.txt', 'w')\n",
        "for i, cluster in enumerate(clustered_sentences):\n",
        "    f.write(\"Cluster %d, #%d Elements :\\n\" % (i+1, len(cluster)) + str(cluster) + \"\\n\\n\\n\")\n",
        "    # print(\"Cluster \", i+1)\n",
        "    # print(cluster)\n",
        "    # print(\"\")\n",
        "f.close()"
      ],
      "id": "7_fKhZ2JH1Ju",
      "execution_count": null,
      "outputs": []
    },
    {
      "cell_type": "code",
      "metadata": {
        "id": "FH0-wZTc2HhO"
      },
      "source": [
        "# Agglomerative Clustering\n",
        "\n",
        "clustering_model = AgglomerativeClustering(n_clusters=None, distance_threshold=1) \n",
        "# clustering_model = AgglomerativeClustering(n_clusters=None, affinity='cosine', linkage='average', distance_threshold=0.1)\n",
        "model = clustering_model.fit(corpus_embeddings)\n",
        "cluster_assignment = clustering_model.labels_\n",
        "\n",
        "clustered_sentences = {}\n",
        "for sentence_id, cluster_id in enumerate(cluster_assignment):\n",
        "    if cluster_id not in clustered_sentences: clustered_sentences[cluster_id] = list()\n",
        "    clustered_sentences[cluster_id].append(corpus_sentences[sentence_id])\n",
        "\n",
        "len(clustered_sentences)"
      ],
      "id": "FH0-wZTc2HhO",
      "execution_count": null,
      "outputs": []
    },
    {
      "cell_type": "code",
      "metadata": {
        "id": "MiXhJwzvZZtj"
      },
      "source": [
        "pca = PCA(n_components=2)\n",
        "X_r = pca.fit(corpus_embeddings).transform(corpus_embeddings)\n",
        "\n",
        "\n",
        "# Percentage of variance explained for each components\n",
        "print('explained variance ratio (first two components): %s'\n",
        "      % str(pca.explained_variance_ratio_))\n",
        "\n",
        "plt.figure(1, figsize=(16, 12))\n",
        "\n",
        "for i, target_name in zip([x for x in range(len(clustering_model.labels_))], set(clustering_model.labels_)):\n",
        "    plt.scatter(X_r[clustering_model.labels_ == i, 0], X_r[ clustering_model.labels_ == i, 1], alpha=.8, label=target_name)\n",
        "# plt.legend(loc='best', shadow=False, scatterpoints=1)\n",
        "plt.title('PCA Agglomerative Clustering')\n",
        "\n",
        "plt.show()"
      ],
      "id": "MiXhJwzvZZtj",
      "execution_count": null,
      "outputs": []
    },
    {
      "cell_type": "code",
      "metadata": {
        "id": "cz5BHEcYafiC"
      },
      "source": [
        "# To getter a better understanding of interaction of the dimensions\n",
        "# plot the first three PCA dimensions\n",
        "\n",
        "fig = plt.figure(1, figsize=(16, 12))\n",
        "ax = Axes3D(fig, elev=-150, azim=110)\n",
        "X_reduced = PCA(n_components=3).fit_transform(corpus_embeddings)\n",
        "ax.scatter(X_reduced[:, 0], X_reduced[:, 1], X_reduced[:, 2],c=clustering_model.labels_,\n",
        "           cmap=plt.cm.Set1, edgecolor='k', s=40)\n",
        "ax.set_title(\"First three PCA directions - Agglomerative Clustering\")\n",
        "ax.set_xlabel(\"1st eigenvector\")\n",
        "ax.w_xaxis.set_ticklabels([])\n",
        "ax.set_ylabel(\"2nd eigenvector\")\n",
        "ax.w_yaxis.set_ticklabels([])\n",
        "ax.set_zlabel(\"3rd eigenvector\")\n",
        "ax.w_zaxis.set_ticklabels([])\n",
        "\n",
        "plt.show()"
      ],
      "id": "cz5BHEcYafiC",
      "execution_count": null,
      "outputs": []
    },
    {
      "cell_type": "code",
      "metadata": {
        "id": "uo9BbauTEUKz"
      },
      "source": [
        "def plot_dendrogram(model, **kwargs):\n",
        "    # Create linkage matrix and then plot the dendrogram\n",
        "\n",
        "    # create the counts of samples under each node\n",
        "    counts = np.zeros(model.children_.shape[0])\n",
        "    n_samples = len(model.labels_)\n",
        "    for i, merge in enumerate(model.children_):\n",
        "        current_count = 0\n",
        "        for child_idx in merge:\n",
        "            if child_idx < n_samples:\n",
        "                current_count += 1  # leaf node\n",
        "            else:\n",
        "                current_count += counts[child_idx - n_samples]\n",
        "        counts[i] = current_count\n",
        "\n",
        "    linkage_matrix = np.column_stack([model.children_, model.distances_,\n",
        "                                      counts]).astype(float)\n",
        "\n",
        "    # Plot the corresponding dendrogram\n",
        "    dendrogram(linkage_matrix, **kwargs)\n",
        "  \n",
        "plt.figure(figsize=(24, 10))\n",
        "plt.title('Hierarchical Clustering Dendrogram')\n",
        "# plot the top three levels of the dendrogram\n",
        "plot_dendrogram(model)#, truncate_mode='level', p=7)\n",
        "plt.xlabel(\"Number of points in node (or index of point if no parenthesis).\")\n",
        "plt.show()"
      ],
      "id": "uo9BbauTEUKz",
      "execution_count": null,
      "outputs": []
    },
    {
      "cell_type": "code",
      "metadata": {
        "id": "jPAaJAd_Tkol"
      },
      "source": [
        "f = open('Clusters-Agglomerative.txt', 'w')\n",
        "for i, cluster in clustered_sentences.items():\n",
        "    if (len(cluster) > 1): f.write(\"Cluster %d, #%d Elements :\\n\" % (i+1, len(cluster)) + str(cluster) + \"\\n\\n\\n\")\n",
        "    # print(\"Cluster \", i+1)\n",
        "    # print(cluster)\n",
        "    # print(\"\")\n",
        "f.close()"
      ],
      "id": "jPAaJAd_Tkol",
      "execution_count": null,
      "outputs": []
    },
    {
      "cell_type": "code",
      "metadata": {
        "id": "Rlq4OLWfQyob"
      },
      "source": [
        "# import sys\n",
        "# sys.setrecursionlimit(15000)"
      ],
      "id": "Rlq4OLWfQyob",
      "execution_count": null,
      "outputs": []
    },
    {
      "cell_type": "code",
      "metadata": {
        "id": "qG85YFcuH-9B"
      },
      "source": [
        "Z = hierarchy.linkage(corpus_embeddings, 'ward')\n",
        "plt.figure(figsize=(24, 8))\n",
        "plt.title('Dendrogram')\n",
        "dn = hierarchy.dendrogram(Z)\n",
        "plt.show()"
      ],
      "id": "qG85YFcuH-9B",
      "execution_count": null,
      "outputs": []
    },
    {
      "cell_type": "code",
      "metadata": {
        "id": "pPOsza-HE6Fx"
      },
      "source": [
        "# Fast Clustering\n",
        "\n",
        "corpus_sentences = train_sentences_dup_free\n",
        "print(\"Encode the corpus. This might take a while\")\n",
        "corpus_embeddings = embedder.encode(corpus_sentences, batch_size=64, show_progress_bar=True, convert_to_tensor=True)"
      ],
      "id": "pPOsza-HE6Fx",
      "execution_count": null,
      "outputs": []
    },
    {
      "cell_type": "code",
      "metadata": {
        "id": "KGxEsiEdRnUw"
      },
      "source": [
        "print(\"Start clustering\")\n",
        "start_time = time.time()\n",
        "\n",
        "#Two parameters to tune:\n",
        "#min_cluster_size: Only consider cluster that have at least 1 elements\n",
        "#threshold: Consider sentence pairs with a cosine-similarity larger than threshold as similar\n",
        "clusters = util.community_detection(corpus_embeddings, min_community_size=1, threshold=0.95)\n",
        "\n",
        "print(\"Clustering done after {:.2f} sec\".format(time.time() - start_time))"
      ],
      "id": "KGxEsiEdRnUw",
      "execution_count": null,
      "outputs": []
    },
    {
      "cell_type": "code",
      "metadata": {
        "id": "ebdUMVxcMecc"
      },
      "source": [
        "f = open('Clusters.txt', 'w')\n",
        "#Print for all clusters the top 3 and bottom 3 elements\n",
        "for i, cluster in enumerate(clusters):\n",
        "    #print(\"\\nCluster {}, #{} Elements \".format(i+1, len(cluster)))\n",
        "    data = [corpus_sentences[sentence_id] for sentence_id in cluster]\n",
        "    f.write(\"Cluster {}, #{} Elements \\n\".format(i+1, len(cluster)) + str(data) + \"\\n\\n\\n\")\n",
        "\n",
        "    # for sentence_id in cluster[0:3]:\n",
        "    #     #print(\"\\t\", corpus_sentences[sentence_id])\n",
        "    #     f.write(\"\\t\" + corpus_sentences[sentence_id])\n",
        "    # #print(\"\\t\", \"...\")\n",
        "    # f.write(\"\\t ...\")\n",
        "    # for sentence_id in cluster[-3:]:\n",
        "    #     #print(\"\\t\", corpus_sentences[sentence_id])\n",
        "    #     f.write(\"\\t\" + corpus_sentences[sentence_id])\n",
        "    \n",
        "f.close()"
      ],
      "id": "ebdUMVxcMecc",
      "execution_count": null,
      "outputs": []
    }
  ]
}
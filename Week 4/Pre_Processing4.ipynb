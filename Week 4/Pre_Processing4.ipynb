{
  "nbformat": 4,
  "nbformat_minor": 5,
  "metadata": {
    "colab": {
      "name": "Pre-Processing.ipynb",
      "provenance": [],
      "collapsed_sections": []
    },
    "kernelspec": {
      "display_name": "Python 3",
      "language": "python",
      "name": "python3"
    },
    "language_info": {
      "codemirror_mode": {
        "name": "ipython",
        "version": 3
      },
      "file_extension": ".py",
      "mimetype": "text/x-python",
      "name": "python",
      "nbconvert_exporter": "python",
      "pygments_lexer": "ipython3",
      "version": "3.7.10"
    },
    "widgets": {
      "application/vnd.jupyter.widget-state+json": {
        "9eca027993084044853532b3a614b0a9": {
          "model_module": "@jupyter-widgets/controls",
          "model_name": "HBoxModel",
          "model_module_version": "1.5.0",
          "state": {
            "_view_name": "HBoxView",
            "_dom_classes": [],
            "_model_name": "HBoxModel",
            "_view_module": "@jupyter-widgets/controls",
            "_model_module_version": "1.5.0",
            "_view_count": null,
            "_view_module_version": "1.5.0",
            "box_style": "",
            "layout": "IPY_MODEL_8662b335f80641fd80c64940f97876e8",
            "_model_module": "@jupyter-widgets/controls",
            "children": [
              "IPY_MODEL_346c864c259f42af9227e879b241dbbe",
              "IPY_MODEL_a811eed42c2b45a48c52a91a79b5ec42",
              "IPY_MODEL_0deb80e09b484c528350f28bf0868708"
            ]
          }
        },
        "8662b335f80641fd80c64940f97876e8": {
          "model_module": "@jupyter-widgets/base",
          "model_name": "LayoutModel",
          "model_module_version": "1.2.0",
          "state": {
            "_view_name": "LayoutView",
            "grid_template_rows": null,
            "right": null,
            "justify_content": null,
            "_view_module": "@jupyter-widgets/base",
            "overflow": null,
            "_model_module_version": "1.2.0",
            "_view_count": null,
            "flex_flow": null,
            "width": null,
            "min_width": null,
            "border": null,
            "align_items": null,
            "bottom": null,
            "_model_module": "@jupyter-widgets/base",
            "top": null,
            "grid_column": null,
            "overflow_y": null,
            "overflow_x": null,
            "grid_auto_flow": null,
            "grid_area": null,
            "grid_template_columns": null,
            "flex": null,
            "_model_name": "LayoutModel",
            "justify_items": null,
            "grid_row": null,
            "max_height": null,
            "align_content": null,
            "visibility": null,
            "align_self": null,
            "height": null,
            "min_height": null,
            "padding": null,
            "grid_auto_rows": null,
            "grid_gap": null,
            "max_width": null,
            "order": null,
            "_view_module_version": "1.2.0",
            "grid_template_areas": null,
            "object_position": null,
            "object_fit": null,
            "grid_auto_columns": null,
            "margin": null,
            "display": null,
            "left": null
          }
        },
        "346c864c259f42af9227e879b241dbbe": {
          "model_module": "@jupyter-widgets/controls",
          "model_name": "HTMLModel",
          "model_module_version": "1.5.0",
          "state": {
            "_view_name": "HTMLView",
            "style": "IPY_MODEL_1022a39000aa48b3b814bd04e0884a1a",
            "_dom_classes": [],
            "description": "",
            "_model_name": "HTMLModel",
            "placeholder": "​",
            "_view_module": "@jupyter-widgets/controls",
            "_model_module_version": "1.5.0",
            "value": "Batches: 100%",
            "_view_count": null,
            "_view_module_version": "1.5.0",
            "description_tooltip": null,
            "_model_module": "@jupyter-widgets/controls",
            "layout": "IPY_MODEL_edd93593bfa24460867c6ad72a48df58"
          }
        },
        "a811eed42c2b45a48c52a91a79b5ec42": {
          "model_module": "@jupyter-widgets/controls",
          "model_name": "FloatProgressModel",
          "model_module_version": "1.5.0",
          "state": {
            "_view_name": "ProgressView",
            "style": "IPY_MODEL_73860869b53a44b4ad332ad0eadf8207",
            "_dom_classes": [],
            "description": "",
            "_model_name": "FloatProgressModel",
            "bar_style": "success",
            "max": 54,
            "_view_module": "@jupyter-widgets/controls",
            "_model_module_version": "1.5.0",
            "value": 54,
            "_view_count": null,
            "_view_module_version": "1.5.0",
            "orientation": "horizontal",
            "min": 0,
            "description_tooltip": null,
            "_model_module": "@jupyter-widgets/controls",
            "layout": "IPY_MODEL_a443a146f67042d88cc9f1a88ba47e23"
          }
        },
        "0deb80e09b484c528350f28bf0868708": {
          "model_module": "@jupyter-widgets/controls",
          "model_name": "HTMLModel",
          "model_module_version": "1.5.0",
          "state": {
            "_view_name": "HTMLView",
            "style": "IPY_MODEL_4a5a4c3da74d4dadb989f3b2abe5221c",
            "_dom_classes": [],
            "description": "",
            "_model_name": "HTMLModel",
            "placeholder": "​",
            "_view_module": "@jupyter-widgets/controls",
            "_model_module_version": "1.5.0",
            "value": " 54/54 [03:08&lt;00:00,  2.00s/it]",
            "_view_count": null,
            "_view_module_version": "1.5.0",
            "description_tooltip": null,
            "_model_module": "@jupyter-widgets/controls",
            "layout": "IPY_MODEL_433190d3cbca4fb8a2c1d671f3cc8fc0"
          }
        },
        "1022a39000aa48b3b814bd04e0884a1a": {
          "model_module": "@jupyter-widgets/controls",
          "model_name": "DescriptionStyleModel",
          "model_module_version": "1.5.0",
          "state": {
            "_view_name": "StyleView",
            "_model_name": "DescriptionStyleModel",
            "description_width": "",
            "_view_module": "@jupyter-widgets/base",
            "_model_module_version": "1.5.0",
            "_view_count": null,
            "_view_module_version": "1.2.0",
            "_model_module": "@jupyter-widgets/controls"
          }
        },
        "edd93593bfa24460867c6ad72a48df58": {
          "model_module": "@jupyter-widgets/base",
          "model_name": "LayoutModel",
          "model_module_version": "1.2.0",
          "state": {
            "_view_name": "LayoutView",
            "grid_template_rows": null,
            "right": null,
            "justify_content": null,
            "_view_module": "@jupyter-widgets/base",
            "overflow": null,
            "_model_module_version": "1.2.0",
            "_view_count": null,
            "flex_flow": null,
            "width": null,
            "min_width": null,
            "border": null,
            "align_items": null,
            "bottom": null,
            "_model_module": "@jupyter-widgets/base",
            "top": null,
            "grid_column": null,
            "overflow_y": null,
            "overflow_x": null,
            "grid_auto_flow": null,
            "grid_area": null,
            "grid_template_columns": null,
            "flex": null,
            "_model_name": "LayoutModel",
            "justify_items": null,
            "grid_row": null,
            "max_height": null,
            "align_content": null,
            "visibility": null,
            "align_self": null,
            "height": null,
            "min_height": null,
            "padding": null,
            "grid_auto_rows": null,
            "grid_gap": null,
            "max_width": null,
            "order": null,
            "_view_module_version": "1.2.0",
            "grid_template_areas": null,
            "object_position": null,
            "object_fit": null,
            "grid_auto_columns": null,
            "margin": null,
            "display": null,
            "left": null
          }
        },
        "73860869b53a44b4ad332ad0eadf8207": {
          "model_module": "@jupyter-widgets/controls",
          "model_name": "ProgressStyleModel",
          "model_module_version": "1.5.0",
          "state": {
            "_view_name": "StyleView",
            "_model_name": "ProgressStyleModel",
            "description_width": "",
            "_view_module": "@jupyter-widgets/base",
            "_model_module_version": "1.5.0",
            "_view_count": null,
            "_view_module_version": "1.2.0",
            "bar_color": null,
            "_model_module": "@jupyter-widgets/controls"
          }
        },
        "a443a146f67042d88cc9f1a88ba47e23": {
          "model_module": "@jupyter-widgets/base",
          "model_name": "LayoutModel",
          "model_module_version": "1.2.0",
          "state": {
            "_view_name": "LayoutView",
            "grid_template_rows": null,
            "right": null,
            "justify_content": null,
            "_view_module": "@jupyter-widgets/base",
            "overflow": null,
            "_model_module_version": "1.2.0",
            "_view_count": null,
            "flex_flow": null,
            "width": null,
            "min_width": null,
            "border": null,
            "align_items": null,
            "bottom": null,
            "_model_module": "@jupyter-widgets/base",
            "top": null,
            "grid_column": null,
            "overflow_y": null,
            "overflow_x": null,
            "grid_auto_flow": null,
            "grid_area": null,
            "grid_template_columns": null,
            "flex": null,
            "_model_name": "LayoutModel",
            "justify_items": null,
            "grid_row": null,
            "max_height": null,
            "align_content": null,
            "visibility": null,
            "align_self": null,
            "height": null,
            "min_height": null,
            "padding": null,
            "grid_auto_rows": null,
            "grid_gap": null,
            "max_width": null,
            "order": null,
            "_view_module_version": "1.2.0",
            "grid_template_areas": null,
            "object_position": null,
            "object_fit": null,
            "grid_auto_columns": null,
            "margin": null,
            "display": null,
            "left": null
          }
        },
        "4a5a4c3da74d4dadb989f3b2abe5221c": {
          "model_module": "@jupyter-widgets/controls",
          "model_name": "DescriptionStyleModel",
          "model_module_version": "1.5.0",
          "state": {
            "_view_name": "StyleView",
            "_model_name": "DescriptionStyleModel",
            "description_width": "",
            "_view_module": "@jupyter-widgets/base",
            "_model_module_version": "1.5.0",
            "_view_count": null,
            "_view_module_version": "1.2.0",
            "_model_module": "@jupyter-widgets/controls"
          }
        },
        "433190d3cbca4fb8a2c1d671f3cc8fc0": {
          "model_module": "@jupyter-widgets/base",
          "model_name": "LayoutModel",
          "model_module_version": "1.2.0",
          "state": {
            "_view_name": "LayoutView",
            "grid_template_rows": null,
            "right": null,
            "justify_content": null,
            "_view_module": "@jupyter-widgets/base",
            "overflow": null,
            "_model_module_version": "1.2.0",
            "_view_count": null,
            "flex_flow": null,
            "width": null,
            "min_width": null,
            "border": null,
            "align_items": null,
            "bottom": null,
            "_model_module": "@jupyter-widgets/base",
            "top": null,
            "grid_column": null,
            "overflow_y": null,
            "overflow_x": null,
            "grid_auto_flow": null,
            "grid_area": null,
            "grid_template_columns": null,
            "flex": null,
            "_model_name": "LayoutModel",
            "justify_items": null,
            "grid_row": null,
            "max_height": null,
            "align_content": null,
            "visibility": null,
            "align_self": null,
            "height": null,
            "min_height": null,
            "padding": null,
            "grid_auto_rows": null,
            "grid_gap": null,
            "max_width": null,
            "order": null,
            "_view_module_version": "1.2.0",
            "grid_template_areas": null,
            "object_position": null,
            "object_fit": null,
            "grid_auto_columns": null,
            "margin": null,
            "display": null,
            "left": null
          }
        }
      }
    }
  },
  "cells": [
    {
      "cell_type": "markdown",
      "metadata": {
        "id": "53a639b1"
      },
      "source": [
        "<h3 align=center> In His Name, the Most High </h3>"
      ],
      "id": "53a639b1"
    },
    {
      "cell_type": "code",
      "metadata": {
        "id": "27a0482d"
      },
      "source": [
        "#importing libraries\n",
        "import re\n",
        "import matplotlib.pyplot as plt\n",
        "plt.style.use('seaborn') # beautiful plots :O"
      ],
      "id": "27a0482d",
      "execution_count": 1,
      "outputs": []
    },
    {
      "cell_type": "markdown",
      "metadata": {
        "id": "c37bfe7d"
      },
      "source": [
        "## ATIS Dataset EDA"
      ],
      "id": "c37bfe7d"
    },
    {
      "cell_type": "markdown",
      "metadata": {
        "id": "27e084e7"
      },
      "source": [
        "The ATIS dataset is a standard benchmark dataset widely used for intent classification and slot filling.\n",
        "here we obtained the dataset from https://github.com/yvchen/JointSLU."
      ],
      "id": "27e084e7"
    },
    {
      "cell_type": "code",
      "metadata": {
        "colab": {
          "base_uri": "https://localhost:8080/"
        },
        "id": "7e4240b2",
        "scrolled": true,
        "outputId": "dcdc0cd8-d1ce-4694-c511-33fd6aff261f"
      },
      "source": [
        "#importing train data\n",
        "\n",
        "train_words = list() # a list of list of words for every sentence in train dataset\n",
        "train_tags = list() # a list of list of IOB tags for every sentence in train dataset\n",
        "train_intents = list() # a list of intent for every sentence in train dataset\n",
        "train_data = list() # a list of dicts contaiting above data in a more structured form\n",
        "train_vocabs = set() # a set containing whole train dataset words\n",
        "\n",
        "with open('atis-2.train+dev.w-intent.iob') as f:\n",
        "    for line in f.readlines():\n",
        "        line = line.strip().split()\n",
        "        \n",
        "        index = 0\n",
        "        words = list()\n",
        "        for i, word in enumerate(line[:-1]):\n",
        "            if (word == 'EOS'):\n",
        "                index = i\n",
        "                break\n",
        "            if (word != 'BOS'): \n",
        "                # what to do if not word.isalpha()??\n",
        "                # word = re.sub(r'[^\\w\\s]', '', word) # removing punctuations\n",
        "                word = word.lower() # lowerizing word\n",
        "                words.append(word) \n",
        "                train_vocabs.add(word)\n",
        "        \n",
        "        tags = list()\n",
        "        for tag in line[index + 2:-1]:\n",
        "            tags.append(tag)\n",
        "                    \n",
        "        # handling entries with multiple intents\n",
        "        intent = \"\"\n",
        "        if ('#' in line[-1]): \n",
        "            for item in line[-1].split('#'):\n",
        "                intent = item\n",
        "                break\n",
        "        else: intent = line[-1]\n",
        "\n",
        "        if (intent != 'atis_cheapest'): #droping 'atis_cheapest' because it has only 1 sample!\n",
        "          train_words.append(words)\n",
        "          train_tags.append(tags)\n",
        "          train_intents.append(intent)\n",
        "          train_data.append({\n",
        "              'words': words,\n",
        "              'iob_tags': tags,\n",
        "              #             'length': len(words),\n",
        "              'intent': intent})\n",
        "\n",
        "print('train dataset vocab size:', len(train_vocabs))\n",
        "print('# of train dataset rows:', len(train_data))\n",
        "print('# of train dataset unique intents:', len(set(train_intents)))\n",
        "print('# of train dataset unique IOB tags:', len(set([tag for item in train_tags for tag in item])))"
      ],
      "id": "7e4240b2",
      "execution_count": 2,
      "outputs": [
        {
          "output_type": "stream",
          "text": [
            "train dataset vocab size: 898\n",
            "# of train dataset rows: 4977\n",
            "# of train dataset unique intents: 16\n",
            "# of train dataset unique IOB tags: 121\n"
          ],
          "name": "stdout"
        }
      ]
    },
    {
      "cell_type": "code",
      "metadata": {
        "colab": {
          "base_uri": "https://localhost:8080/"
        },
        "id": "Ba-fpvjQ5_qt",
        "outputId": "f258ffda-70db-44b8-a294-37261865c300"
      },
      "source": [
        "ind = 0\n",
        "train_data[ind]"
      ],
      "id": "Ba-fpvjQ5_qt",
      "execution_count": 3,
      "outputs": [
        {
          "output_type": "execute_result",
          "data": {
            "text/plain": [
              "{'intent': 'atis_flight',\n",
              " 'iob_tags': ['O',\n",
              "  'O',\n",
              "  'O',\n",
              "  'O',\n",
              "  'O',\n",
              "  'B-fromloc.city_name',\n",
              "  'O',\n",
              "  'B-toloc.city_name',\n",
              "  'B-round_trip',\n",
              "  'I-round_trip'],\n",
              " 'words': ['i',\n",
              "  'want',\n",
              "  'to',\n",
              "  'fly',\n",
              "  'from',\n",
              "  'baltimore',\n",
              "  'to',\n",
              "  'dallas',\n",
              "  'round',\n",
              "  'trip']}"
            ]
          },
          "metadata": {},
          "execution_count": 3
        }
      ]
    },
    {
      "cell_type": "code",
      "metadata": {
        "colab": {
          "base_uri": "https://localhost:8080/"
        },
        "id": "d79fb14f",
        "outputId": "15221c53-8d19-4958-9a99-38e9df436c89"
      },
      "source": [
        "print('tokenized words:', train_data[ind]['words'])\n",
        "print('IOB tags:', train_data[ind]['iob_tags'])\n",
        "print('intent:', train_data[ind]['intent'])"
      ],
      "id": "d79fb14f",
      "execution_count": 4,
      "outputs": [
        {
          "output_type": "stream",
          "text": [
            "tokenized words: ['i', 'want', 'to', 'fly', 'from', 'baltimore', 'to', 'dallas', 'round', 'trip']\n",
            "IOB tags: ['O', 'O', 'O', 'O', 'O', 'B-fromloc.city_name', 'O', 'B-toloc.city_name', 'B-round_trip', 'I-round_trip']\n",
            "intent: atis_flight\n"
          ],
          "name": "stdout"
        }
      ]
    },
    {
      "cell_type": "code",
      "metadata": {
        "colab": {
          "base_uri": "https://localhost:8080/"
        },
        "id": "5f7371a7",
        "outputId": "5f3f6e44-7c04-499f-a7c1-bab5899c2e2a"
      },
      "source": [
        "train_intents_freq = dict()\n",
        "for intent in set(train_intents):\n",
        "    train_intents_freq[intent] = train_intents.count(intent)\n",
        "    \n",
        "for key in train_intents_freq:\n",
        "    value = train_intents_freq[key]\n",
        "    print('%s: %d (%.2f%%),' % (key, value, value / len(train_intents) * 100))"
      ],
      "id": "5f7371a7",
      "execution_count": 5,
      "outputs": [
        {
          "output_type": "stream",
          "text": [
            "atis_abbreviation: 147 (2.95%),\n",
            "atis_flight_time: 54 (1.08%),\n",
            "atis_restriction: 6 (0.12%),\n",
            "atis_city: 19 (0.38%),\n",
            "atis_meal: 6 (0.12%),\n",
            "atis_aircraft: 82 (1.65%),\n",
            "atis_ground_service: 256 (5.14%),\n",
            "atis_ground_fare: 18 (0.36%),\n",
            "atis_flight: 3687 (74.08%),\n",
            "atis_distance: 20 (0.40%),\n",
            "atis_airfare: 424 (8.52%),\n",
            "atis_airport: 20 (0.40%),\n",
            "atis_flight_no: 12 (0.24%),\n",
            "atis_airline: 159 (3.19%),\n",
            "atis_quantity: 51 (1.02%),\n",
            "atis_capacity: 16 (0.32%),\n"
          ],
          "name": "stdout"
        }
      ]
    },
    {
      "cell_type": "code",
      "metadata": {
        "colab": {
          "base_uri": "https://localhost:8080/",
          "height": 483
        },
        "id": "3a1c887a",
        "outputId": "0919fef2-d1ab-4a61-e522-8a174b7c16b9"
      },
      "source": [
        "plt.figure(figsize=(24, 8))\n",
        "plt.bar(list(train_intents_freq.keys()),train_intents_freq.values())\n",
        "plt.show()"
      ],
      "id": "3a1c887a",
      "execution_count": 6,
      "outputs": [
        {
          "output_type": "display_data",
          "data": {
            "image/png": "[encoded data removed]",
            "text/plain": [
              "<Figure size 1728x576 with 1 Axes>"
            ]
          },
          "metadata": {
            "needs_background": "light"
          }
        }
      ]
    },
    {
      "cell_type": "code",
      "metadata": {
        "colab": {
          "base_uri": "https://localhost:8080/"
        },
        "id": "e38c53fa",
        "outputId": "c0a6239e-bc22-492d-c670-304a32b432f6"
      },
      "source": [
        "train_tags_freq = dict()\n",
        "count = 0\n",
        "for item in train_tags:\n",
        "    for tag in item:\n",
        "        if (tag in train_tags_freq): train_tags_freq[tag] += 1 #item.count(tag)\n",
        "        else: train_tags_freq[tag] = 1 #item.count(tag)\n",
        "        count += 1\n",
        "\n",
        "for key in train_tags_freq:\n",
        "    value = train_tags_freq[key]\n",
        "    print('%s: %d (%.2f%%),' % (key, value, value / count * 100))"
      ],
      "id": "e38c53fa",
      "execution_count": 7,
      "outputs": [
        {
          "output_type": "stream",
          "text": [
            "O: 35662 (63.46%),\n",
            "B-fromloc.city_name: 4326 (7.70%),\n",
            "B-toloc.city_name: 4343 (7.73%),\n",
            "B-round_trip: 348 (0.62%),\n",
            "I-round_trip: 339 (0.60%),\n",
            "B-cost_relative: 343 (0.61%),\n",
            "B-fare_amount: 53 (0.09%),\n",
            "I-fare_amount: 51 (0.09%),\n",
            "B-arrive_date.month_name: 47 (0.08%),\n",
            "B-arrive_date.day_number: 47 (0.08%),\n",
            "I-fromloc.city_name: 691 (1.23%),\n",
            "B-stoploc.city_name: 239 (0.43%),\n",
            "B-arrive_time.time_relative: 187 (0.33%),\n",
            "B-arrive_time.time: 208 (0.37%),\n",
            "I-arrive_time.time: 161 (0.29%),\n",
            "B-toloc.state_code: 86 (0.15%),\n",
            "I-toloc.city_name: 1099 (1.96%),\n",
            "I-stoploc.city_name: 47 (0.08%),\n",
            "B-meal_description: 57 (0.10%),\n",
            "B-depart_date.month_name: 379 (0.67%),\n",
            "B-depart_date.day_number: 395 (0.70%),\n",
            "B-airline_name: 701 (1.25%),\n",
            "I-airline_name: 421 (0.75%),\n",
            "B-depart_time.period_of_day: 593 (1.06%),\n",
            "B-depart_date.day_name: 889 (1.58%),\n",
            "B-toloc.state_name: 77 (0.14%),\n",
            "B-depart_time.time_relative: 323 (0.57%),\n",
            "B-depart_time.time: 369 (0.66%),\n",
            "B-toloc.airport_name: 39 (0.07%),\n",
            "I-toloc.airport_name: 49 (0.09%),\n",
            "B-depart_date.date_relative: 82 (0.15%),\n",
            "B-or: 66 (0.12%),\n",
            "B-airline_code: 136 (0.24%),\n",
            "B-class_type: 217 (0.39%),\n",
            "I-class_type: 183 (0.33%),\n",
            "I-cost_relative: 55 (0.10%),\n",
            "I-depart_time.time: 299 (0.53%),\n",
            "B-fromloc.airport_name: 89 (0.16%),\n",
            "I-fromloc.airport_name: 119 (0.21%),\n",
            "B-city_name: 227 (0.40%),\n",
            "B-flight_mod: 329 (0.59%),\n",
            "B-meal: 46 (0.08%),\n",
            "B-economy: 36 (0.06%),\n",
            "B-fare_basis_code: 76 (0.14%),\n",
            "I-depart_date.day_number: 120 (0.21%),\n",
            "B-depart_date.today_relative: 84 (0.15%),\n",
            "B-flight_stop: 168 (0.30%),\n",
            "B-airport_code: 29 (0.05%),\n",
            "B-fromloc.state_name: 39 (0.07%),\n",
            "I-fromloc.state_name: 9 (0.02%),\n",
            "I-city_name: 49 (0.09%),\n",
            "B-connect: 40 (0.07%),\n",
            "B-arrive_date.day_name: 88 (0.16%),\n",
            "B-fromloc.state_code: 46 (0.08%),\n",
            "B-arrive_date.today_relative: 2 (0.00%),\n",
            "B-depart_date.year: 25 (0.04%),\n",
            "B-depart_time.start_time: 25 (0.04%),\n",
            "I-depart_time.start_time: 13 (0.02%),\n",
            "B-depart_time.end_time: 25 (0.04%),\n",
            "I-depart_time.end_time: 18 (0.03%),\n",
            "B-arrive_time.start_time: 21 (0.04%),\n",
            "B-arrive_time.end_time: 20 (0.04%),\n",
            "I-arrive_time.end_time: 19 (0.03%),\n",
            "I-flight_mod: 11 (0.02%),\n",
            "B-flight_days: 39 (0.07%),\n",
            "B-mod: 30 (0.05%),\n",
            "B-flight_number: 84 (0.15%),\n",
            "I-toloc.state_name: 13 (0.02%),\n",
            "B-meal_code: 6 (0.01%),\n",
            "I-meal_code: 4 (0.01%),\n",
            "B-airport_name: 38 (0.07%),\n",
            "I-airport_name: 54 (0.10%),\n",
            "I-flight_stop: 17 (0.03%),\n",
            "B-transport_type: 48 (0.09%),\n",
            "I-transport_type: 23 (0.04%),\n",
            "B-state_code: 8 (0.01%),\n",
            "B-aircraft_code: 31 (0.06%),\n",
            "B-toloc.country_name: 3 (0.01%),\n",
            "I-arrive_date.day_number: 6 (0.01%),\n",
            "B-toloc.airport_code: 20 (0.04%),\n",
            "B-return_date.date_relative: 10 (0.02%),\n",
            "I-return_date.date_relative: 2 (0.00%),\n",
            "B-flight_time: 71 (0.13%),\n",
            "I-economy: 10 (0.02%),\n",
            "B-fromloc.airport_code: 15 (0.03%),\n",
            "B-arrive_time.period_of_day: 64 (0.11%),\n",
            "B-depart_time.period_mod: 44 (0.08%),\n",
            "I-flight_time: 32 (0.06%),\n",
            "B-return_date.day_name: 1 (0.00%),\n",
            "B-arrive_date.date_relative: 11 (0.02%),\n",
            "B-restriction_code: 23 (0.04%),\n",
            "I-restriction_code: 14 (0.02%),\n",
            "B-arrive_time.period_mod: 4 (0.01%),\n",
            "I-arrive_time.period_of_day: 3 (0.01%),\n",
            "B-period_of_day: 5 (0.01%),\n",
            "B-stoploc.state_code: 5 (0.01%),\n",
            "I-depart_date.today_relative: 12 (0.02%),\n",
            "I-fare_basis_code: 2 (0.00%),\n",
            "I-arrive_time.start_time: 8 (0.01%),\n",
            "B-time: 2 (0.00%),\n",
            "B-today_relative: 2 (0.00%),\n",
            "I-today_relative: 3 (0.01%),\n",
            "B-state_name: 2 (0.00%),\n",
            "B-days_code: 3 (0.01%),\n",
            "I-depart_time.period_of_day: 6 (0.01%),\n",
            "I-arrive_time.time_relative: 2 (0.00%),\n",
            "B-time_relative: 1 (0.00%),\n",
            "I-time: 1 (0.00%),\n",
            "B-return_date.month_name: 4 (0.01%),\n",
            "B-return_date.day_number: 4 (0.01%),\n",
            "I-depart_time.time_relative: 2 (0.00%),\n",
            "B-stoploc.airport_name: 1 (0.00%),\n",
            "B-day_name: 5 (0.01%),\n",
            "B-month_name: 2 (0.00%),\n",
            "B-day_number: 2 (0.00%),\n",
            "B-return_time.period_mod: 2 (0.00%),\n",
            "B-return_time.period_of_day: 3 (0.01%),\n",
            "B-return_date.today_relative: 1 (0.00%),\n",
            "I-return_date.today_relative: 2 (0.00%),\n",
            "I-meal_description: 1 (0.00%),\n",
            "I-return_date.day_number: 1 (0.00%),\n"
          ],
          "name": "stdout"
        }
      ]
    },
    {
      "cell_type": "code",
      "metadata": {
        "colab": {
          "base_uri": "https://localhost:8080/"
        },
        "id": "1dde0a8c",
        "outputId": "fe81085c-2bbc-4e1a-a04f-8426b78d4d73"
      },
      "source": [
        "#importing test data\n",
        "\n",
        "test_words = list()  # a list of list of words for every sentence in test dataset\n",
        "test_tags = list() # a list of list of IOB tags for every sentence in test dataset\n",
        "test_intents = list() # a list of intent for every sentence in test dataset\n",
        "test_vocabs = set() # a list of dicts contaiting above data in a more structured form\n",
        "test_data = list() # a set containing whole test dataset words\n",
        "\n",
        "with open('atis.test.w-intent.iob') as f:\n",
        "    for line in f.readlines():\n",
        "        line = line.strip().split()\n",
        "        \n",
        "        index = 0\n",
        "        words = list()\n",
        "        for i, word in enumerate(line[:-1]):\n",
        "            if (word == 'EOS'):\n",
        "                index = i\n",
        "                break\n",
        "            if (word != 'BOS'): \n",
        "                word = re.sub(r'[^\\w\\s]', '', word.lower()) # removing punctuations & lowerizing word\n",
        "                words.append(word) \n",
        "                train_vocabs.add(word)\n",
        "        test_words.append(words)\n",
        "        \n",
        "        tags = list()\n",
        "        for tag in line[index + 2:-1]:\n",
        "            tags.append(tag)\n",
        "        test_tags.append(tags)\n",
        "                    \n",
        "        #handling entries with multiple intents\n",
        "        intent = \"\"\n",
        "        if ('#' in line[-1]): \n",
        "            for item in line[-1].split('#'):\n",
        "                intent = item\n",
        "                break\n",
        "        else: intent = line[-1]\n",
        "        test_intents.append(intent)\n",
        "        \n",
        "        test_data.append({\n",
        "            'words': words,\n",
        "            'iob_tags': tags,\n",
        "            #             'length': len(words),\n",
        "            'intent': intent})\n",
        "\n",
        "print('train dataset vocab size:', len(test_vocabs))\n",
        "print('# of test dataset rows:', len(test_data))\n",
        "print('# of test dataset unique intents:', len(set(test_intents)))\n",
        "print('# of test dataset unique IOB tags:', len(set([tag for item in test_tags for tag in item])))"
      ],
      "id": "1dde0a8c",
      "execution_count": 8,
      "outputs": [
        {
          "output_type": "stream",
          "text": [
            "train dataset vocab size: 0\n",
            "# of test dataset rows: 893\n",
            "# of test dataset unique intents: 16\n",
            "# of test dataset unique IOB tags: 101\n"
          ],
          "name": "stdout"
        }
      ]
    },
    {
      "cell_type": "code",
      "metadata": {
        "colab": {
          "base_uri": "https://localhost:8080/"
        },
        "id": "ad36435a",
        "scrolled": true,
        "outputId": "dd17e1e9-60e6-4198-bf6a-410a8caa155a"
      },
      "source": [
        "ind = 0\n",
        "print('tokenized words:', test_data[ind]['words'])\n",
        "print('IOB tags:', test_data[ind]['iob_tags'])\n",
        "print('intent:', test_data[ind]['intent'])"
      ],
      "id": "ad36435a",
      "execution_count": 9,
      "outputs": [
        {
          "output_type": "stream",
          "text": [
            "tokenized words: ['i', 'would', 'like', 'to', 'find', 'a', 'flight', 'from', 'charlotte', 'to', 'las', 'vegas', 'that', 'makes', 'a', 'stop', 'in', 'st', 'louis']\n",
            "IOB tags: ['O', 'O', 'O', 'O', 'O', 'O', 'O', 'O', 'B-fromloc.city_name', 'O', 'B-toloc.city_name', 'I-toloc.city_name', 'O', 'O', 'O', 'O', 'O', 'B-stoploc.city_name', 'I-stoploc.city_name']\n",
            "intent: atis_flight\n"
          ],
          "name": "stdout"
        }
      ]
    },
    {
      "cell_type": "code",
      "metadata": {
        "colab": {
          "base_uri": "https://localhost:8080/"
        },
        "id": "9220a160",
        "scrolled": true,
        "outputId": "74c986ad-3d2a-48f5-827c-2a17c44b179e"
      },
      "source": [
        "test_intents_freq = dict()\n",
        "for intent in set(test_intents):\n",
        "    test_intents_freq[intent] = test_intents.count(intent)\n",
        "    \n",
        "for key in test_intents_freq:\n",
        "    value = test_intents_freq[key]\n",
        "    print('%s: %d (%.2f%%) ,' % (key, value, value / len(test_intents) * 100))"
      ],
      "id": "9220a160",
      "execution_count": 10,
      "outputs": [
        {
          "output_type": "stream",
          "text": [
            "atis_abbreviation: 33 (3.70%) ,\n",
            "atis_flight_time: 1 (0.11%) ,\n",
            "atis_meal: 6 (0.67%) ,\n",
            "atis_city: 6 (0.67%) ,\n",
            "atis_aircraft: 9 (1.01%) ,\n",
            "atis_ground_service: 36 (4.03%) ,\n",
            "atis_ground_fare: 7 (0.78%) ,\n",
            "atis_distance: 10 (1.12%) ,\n",
            "atis_airfare: 49 (5.49%) ,\n",
            "atis_airport: 18 (2.02%) ,\n",
            "atis_day_name: 2 (0.22%) ,\n",
            "atis_quantity: 3 (0.34%) ,\n",
            "atis_flight_no: 9 (1.01%) ,\n",
            "atis_airline: 38 (4.26%) ,\n",
            "atis_flight: 645 (72.23%) ,\n",
            "atis_capacity: 21 (2.35%) ,\n"
          ],
          "name": "stdout"
        }
      ]
    },
    {
      "cell_type": "code",
      "metadata": {
        "colab": {
          "base_uri": "https://localhost:8080/",
          "height": 483
        },
        "id": "796b9c50",
        "scrolled": true,
        "outputId": "9fcc91ca-3908-4313-a17b-17ba21daec49"
      },
      "source": [
        "plt.figure(figsize=(24, 8))\n",
        "plt.bar(list(test_intents_freq.keys()),test_intents_freq.values())\n",
        "plt.show()"
      ],
      "id": "796b9c50",
      "execution_count": 11,
      "outputs": [
        {
          "output_type": "display_data",
          "data": {
            "image/png": "[encoded data removed]",
            "text/plain": [
              "<Figure size 1728x576 with 1 Axes>"
            ]
          },
          "metadata": {
            "needs_background": "light"
          }
        }
      ]
    },
    {
      "cell_type": "code",
      "metadata": {
        "colab": {
          "base_uri": "https://localhost:8080/"
        },
        "id": "71092fa3",
        "scrolled": true,
        "outputId": "7dbcd5ad-80b8-44d1-bfa0-060755f6c9af"
      },
      "source": [
        "test_tags_freq = dict()\n",
        "count = 0\n",
        "for item in test_tags:\n",
        "    for tag in item:\n",
        "        if (tag in test_tags_freq): test_tags_freq[tag] += 1 #item.count(tag)\n",
        "        else: test_tags_freq[tag] = 1 #item.count(tag)\n",
        "        count += 1\n",
        "\n",
        "for key in test_tags_freq:\n",
        "    value = test_tags_freq[key]\n",
        "    print('%s: %d (%.2f%%),' % (key, value, value / count * 100))"
      ],
      "id": "71092fa3",
      "execution_count": 12,
      "outputs": [
        {
          "output_type": "stream",
          "text": [
            "O: 5501 (60.03%),\n",
            "B-fromloc.city_name: 704 (7.68%),\n",
            "B-toloc.city_name: 716 (7.81%),\n",
            "I-toloc.city_name: 265 (2.89%),\n",
            "B-stoploc.city_name: 20 (0.22%),\n",
            "I-stoploc.city_name: 10 (0.11%),\n",
            "B-depart_date.month_name: 56 (0.61%),\n",
            "B-depart_date.day_number: 55 (0.60%),\n",
            "B-depart_time.time_relative: 65 (0.71%),\n",
            "B-depart_time.time: 57 (0.62%),\n",
            "I-depart_time.time: 52 (0.57%),\n",
            "B-round_trip: 73 (0.80%),\n",
            "I-round_trip: 71 (0.77%),\n",
            "B-airline_name: 101 (1.10%),\n",
            "I-airline_name: 65 (0.71%),\n",
            "B-depart_date.day_name: 212 (2.31%),\n",
            "B-depart_time.period_of_day: 130 (1.42%),\n",
            "I-fromloc.city_name: 177 (1.93%),\n",
            "B-meal_description: 10 (0.11%),\n",
            "B-depart_date.date_relative: 17 (0.19%),\n",
            "B-arrive_time.time_relative: 31 (0.34%),\n",
            "B-arrive_time.time: 34 (0.37%),\n",
            "I-arrive_time.time: 35 (0.38%),\n",
            "B-return_date.day_name: 2 (0.02%),\n",
            "B-arrive_date.date_relative: 2 (0.02%),\n",
            "B-arrive_date.day_name: 11 (0.12%),\n",
            "B-flight_stop: 21 (0.23%),\n",
            "B-depart_date.today_relative: 9 (0.10%),\n",
            "B-toloc.state_name: 28 (0.31%),\n",
            "B-arrive_date.month_name: 6 (0.07%),\n",
            "B-arrive_date.day_number: 6 (0.07%),\n",
            "B-arrive_time.start_time: 8 (0.09%),\n",
            "B-arrive_time.end_time: 8 (0.09%),\n",
            "I-arrive_time.end_time: 8 (0.09%),\n",
            "B-airport_name: 21 (0.23%),\n",
            "I-airport_name: 29 (0.32%),\n",
            "B-connect: 6 (0.07%),\n",
            "B-fromloc.airport_name: 12 (0.13%),\n",
            "I-fromloc.airport_name: 15 (0.16%),\n",
            "B-meal: 16 (0.17%),\n",
            "B-flight_number: 11 (0.12%),\n",
            "I-flight_number: 1 (0.01%),\n",
            "B-return_date.date_relative: 3 (0.03%),\n",
            "I-return_date.date_relative: 3 (0.03%),\n",
            "B-arrive_time.period_of_day: 6 (0.07%),\n",
            "B-fromloc.state_name: 17 (0.19%),\n",
            "B-city_name: 57 (0.62%),\n",
            "I-city_name: 30 (0.33%),\n",
            "I-depart_date.day_number: 15 (0.16%),\n",
            "I-depart_time.period_of_day: 1 (0.01%),\n",
            "B-cost_relative: 37 (0.40%),\n",
            "I-cost_relative: 3 (0.03%),\n",
            "B-flight_time: 1 (0.01%),\n",
            "I-flight_time: 1 (0.01%),\n",
            "B-flight_mod: 24 (0.26%),\n",
            "B-class_type: 24 (0.26%),\n",
            "I-class_type: 17 (0.19%),\n",
            "B-airline_code: 34 (0.37%),\n",
            "B-toloc.airport_code: 4 (0.04%),\n",
            "B-transport_type: 10 (0.11%),\n",
            "B-depart_time.start_time: 3 (0.03%),\n",
            "B-depart_time.end_time: 3 (0.03%),\n",
            "I-depart_time.end_time: 3 (0.03%),\n",
            "B-toloc.airport_name: 3 (0.03%),\n",
            "I-toloc.airport_name: 3 (0.03%),\n",
            "B-aircraft_code: 33 (0.36%),\n",
            "B-toloc.country_name: 1 (0.01%),\n",
            "B-mod: 2 (0.02%),\n",
            "B-state_name: 9 (0.10%),\n",
            "B-compartment: 1 (0.01%),\n",
            "B-meal_code: 1 (0.01%),\n",
            "B-day_name: 2 (0.02%),\n",
            "B-toloc.state_code: 18 (0.20%),\n",
            "B-fromloc.state_code: 23 (0.25%),\n",
            "B-depart_time.period_mod: 5 (0.05%),\n",
            "B-fromloc.airport_code: 5 (0.05%),\n",
            "B-fare_basis_code: 17 (0.19%),\n",
            "B-flight_days: 10 (0.11%),\n",
            "B-depart_date.year: 3 (0.03%),\n",
            "B-period_of_day: 4 (0.04%),\n",
            "I-flight_mod: 6 (0.07%),\n",
            "B-state_code: 1 (0.01%),\n",
            "B-restriction_code: 4 (0.04%),\n",
            "I-restriction_code: 3 (0.03%),\n",
            "B-airport_code: 9 (0.10%),\n",
            "B-days_code: 1 (0.01%),\n",
            "I-arrive_time.time_relative: 4 (0.04%),\n",
            "B-or: 3 (0.03%),\n",
            "B-stoploc.airport_code: 1 (0.01%),\n",
            "I-depart_time.time_relative: 1 (0.01%),\n",
            "I-state_name: 1 (0.01%),\n",
            "B-economy: 6 (0.07%),\n",
            "B-booking_class: 1 (0.01%),\n",
            "B-fare_amount: 2 (0.02%),\n",
            "I-fare_amount: 2 (0.02%),\n",
            "B-flight: 1 (0.01%),\n",
            "I-depart_time.start_time: 1 (0.01%),\n",
            "I-arrive_time.start_time: 1 (0.01%),\n",
            "I-transport_type: 1 (0.01%),\n",
            "I-fromloc.state_name: 1 (0.01%),\n",
            "I-toloc.state_name: 1 (0.01%),\n"
          ],
          "name": "stdout"
        }
      ]
    },
    {
      "cell_type": "markdown",
      "metadata": {
        "id": "ac5a6d17"
      },
      "source": [
        "##### comparing train & test dataset tags & intents:"
      ],
      "id": "ac5a6d17"
    },
    {
      "cell_type": "code",
      "metadata": {
        "colab": {
          "base_uri": "https://localhost:8080/"
        },
        "id": "daa709ab",
        "outputId": "0a591ec8-893e-4f00-9010-7f0b528da3e0"
      },
      "source": [
        "print(test_vocabs.difference(train_vocabs))"
      ],
      "id": "daa709ab",
      "execution_count": 13,
      "outputs": [
        {
          "output_type": "stream",
          "text": [
            "set()\n"
          ],
          "name": "stdout"
        }
      ]
    },
    {
      "cell_type": "code",
      "metadata": {
        "colab": {
          "base_uri": "https://localhost:8080/"
        },
        "id": "21bf7e45",
        "outputId": "c00d327d-89d5-479d-ddc6-b417d441be11"
      },
      "source": [
        "set(test_intents).difference(set(train_intents))"
      ],
      "id": "21bf7e45",
      "execution_count": 14,
      "outputs": [
        {
          "output_type": "execute_result",
          "data": {
            "text/plain": [
              "{'atis_day_name'}"
            ]
          },
          "metadata": {},
          "execution_count": 14
        }
      ]
    },
    {
      "cell_type": "markdown",
      "metadata": {
        "id": "69e36fdc"
      },
      "source": [
        "so from above, we see there is no train data for 'atis_day_name'..."
      ],
      "id": "69e36fdc"
    },
    {
      "cell_type": "code",
      "metadata": {
        "colab": {
          "base_uri": "https://localhost:8080/"
        },
        "id": "294c2964",
        "outputId": "cd800a1e-e140-4bf2-9c61-448a3c2530d5"
      },
      "source": [
        "set(train_intents).difference(set(test_intents))"
      ],
      "id": "294c2964",
      "execution_count": 15,
      "outputs": [
        {
          "output_type": "execute_result",
          "data": {
            "text/plain": [
              "{'atis_restriction'}"
            ]
          },
          "metadata": {},
          "execution_count": 15
        }
      ]
    },
    {
      "cell_type": "markdown",
      "metadata": {
        "id": "ce2c2ded"
      },
      "source": [
        "and also there are no test data for 'atis_cheapest' & 'atis_restriction'..."
      ],
      "id": "ce2c2ded"
    },
    {
      "cell_type": "code",
      "metadata": {
        "colab": {
          "base_uri": "https://localhost:8080/"
        },
        "id": "b7b9d6c3",
        "outputId": "67a7bd92-d4dc-4bac-af80-7c01169bd89c"
      },
      "source": [
        "set(test_tags_freq.keys()).difference(set(train_tags_freq.keys()))"
      ],
      "id": "b7b9d6c3",
      "execution_count": 16,
      "outputs": [
        {
          "output_type": "execute_result",
          "data": {
            "text/plain": [
              "{'B-booking_class',\n",
              " 'B-compartment',\n",
              " 'B-flight',\n",
              " 'B-stoploc.airport_code',\n",
              " 'I-flight_number',\n",
              " 'I-state_name'}"
            ]
          },
          "metadata": {},
          "execution_count": 16
        }
      ]
    },
    {
      "cell_type": "markdown",
      "metadata": {
        "id": "237d0e8b"
      },
      "source": [
        "also we see there are no train data with 'B-stoploc.airport_code' or 'B-booking_class' or 'I-flight_number' or 'I-state_name' or 'B-flight' or 'B-compartment' tag..."
      ],
      "id": "237d0e8b"
    },
    {
      "cell_type": "code",
      "metadata": {
        "colab": {
          "base_uri": "https://localhost:8080/"
        },
        "id": "200b2854",
        "outputId": "1a195a66-0ec1-42c3-9052-509e477d8af4"
      },
      "source": [
        "set(train_tags_freq.keys()).difference(set(test_tags_freq.keys()))"
      ],
      "id": "200b2854",
      "execution_count": 17,
      "outputs": [
        {
          "output_type": "execute_result",
          "data": {
            "text/plain": [
              "{'B-arrive_date.today_relative',\n",
              " 'B-arrive_time.period_mod',\n",
              " 'B-day_number',\n",
              " 'B-month_name',\n",
              " 'B-return_date.day_number',\n",
              " 'B-return_date.month_name',\n",
              " 'B-return_date.today_relative',\n",
              " 'B-return_time.period_mod',\n",
              " 'B-return_time.period_of_day',\n",
              " 'B-stoploc.airport_name',\n",
              " 'B-stoploc.state_code',\n",
              " 'B-time',\n",
              " 'B-time_relative',\n",
              " 'B-today_relative',\n",
              " 'I-arrive_date.day_number',\n",
              " 'I-arrive_time.period_of_day',\n",
              " 'I-depart_date.today_relative',\n",
              " 'I-economy',\n",
              " 'I-fare_basis_code',\n",
              " 'I-flight_stop',\n",
              " 'I-meal_code',\n",
              " 'I-meal_description',\n",
              " 'I-return_date.day_number',\n",
              " 'I-return_date.today_relative',\n",
              " 'I-time',\n",
              " 'I-today_relative'}"
            ]
          },
          "metadata": {},
          "execution_count": 17
        }
      ]
    },
    {
      "cell_type": "markdown",
      "metadata": {
        "id": "528d2520"
      },
      "source": [
        "and finally there are no train data with 'I-return_date.day_number' or 'B-return_time.period_mod' or ... tag."
      ],
      "id": "528d2520"
    },
    {
      "cell_type": "markdown",
      "metadata": {
        "id": "0ef6de9b"
      },
      "source": [
        "to handle imbalanced data first we try to find and remove duplicates:"
      ],
      "id": "0ef6de9b"
    },
    {
      "cell_type": "code",
      "metadata": {
        "colab": {
          "base_uri": "https://localhost:8080/"
        },
        "id": "58e96b8f",
        "outputId": "871d42ca-abd3-4862-f057-e90e494c41f8"
      },
      "source": [
        "#removing duplicate train data with 'atis_flight' intent\n",
        "\n",
        "train_words_dup_free = list()\n",
        "train_tags_dup_free = list()\n",
        "train_intents_dup_free = list()\n",
        "train_data_dup_free = list()\n",
        "for i in range(len(train_words)):\n",
        "    words = train_words[i]\n",
        "    tags = train_tags[i]\n",
        "    intent = train_intents[i]\n",
        "    if (intent != 'atis_flight' or (intent == 'atis_flight' and words not in train_words_dup_free)):\n",
        "        train_words_dup_free.append(words)\n",
        "        train_tags_dup_free.append(tags)\n",
        "        train_intents_dup_free.append(intent)\n",
        "        train_data_dup_free.append({\n",
        "            'words': words,\n",
        "            'iob_tags': tags,\n",
        "            #             'length': len(words),\n",
        "            'intent': intent})\n",
        "\n",
        "print('# of duplicate sentences in train data: %d - %d = %d' % (len(train_words), len(train_words_dup_free), len(train_words) - len(train_words_dup_free)))"
      ],
      "id": "58e96b8f",
      "execution_count": 18,
      "outputs": [
        {
          "output_type": "stream",
          "text": [
            "# of duplicate sentences in train data: 4977 - 4733 = 244\n"
          ],
          "name": "stdout"
        }
      ]
    },
    {
      "cell_type": "code",
      "metadata": {
        "colab": {
          "base_uri": "https://localhost:8080/"
        },
        "id": "0dd0cb94",
        "outputId": "edb0c781-0902-41f4-c7e3-75b57bbf7f21"
      },
      "source": [
        "train_intents_dup_free_freq = dict()\n",
        "for intent in train_intents_dup_free:\n",
        "    train_intents_dup_free_freq[intent] = train_intents_dup_free.count(intent)\n",
        "\n",
        "for key in train_intents_dup_free_freq:\n",
        "    value = train_intents_dup_free_freq[key]\n",
        "    print('%s: %d (%.2f%%),' % (key, value, value / len(train_intents_dup_free) * 100))"
      ],
      "id": "0dd0cb94",
      "execution_count": 19,
      "outputs": [
        {
          "output_type": "stream",
          "text": [
            "atis_flight: 3443 (72.74%),\n",
            "atis_airfare: 424 (8.96%),\n",
            "atis_airline: 159 (3.36%),\n",
            "atis_ground_service: 256 (5.41%),\n",
            "atis_quantity: 51 (1.08%),\n",
            "atis_city: 19 (0.40%),\n",
            "atis_abbreviation: 147 (3.11%),\n",
            "atis_aircraft: 82 (1.73%),\n",
            "atis_distance: 20 (0.42%),\n",
            "atis_ground_fare: 18 (0.38%),\n",
            "atis_capacity: 16 (0.34%),\n",
            "atis_flight_time: 54 (1.14%),\n",
            "atis_meal: 6 (0.13%),\n",
            "atis_flight_no: 12 (0.25%),\n",
            "atis_restriction: 6 (0.13%),\n",
            "atis_airport: 20 (0.42%),\n"
          ],
          "name": "stdout"
        }
      ]
    },
    {
      "cell_type": "code",
      "metadata": {
        "colab": {
          "base_uri": "https://localhost:8080/",
          "height": 483
        },
        "id": "9d8f2933",
        "outputId": "1cc8d1ac-9b3f-4c55-85eb-5e6152b4bdb7"
      },
      "source": [
        "plt.figure(figsize=(24, 8))\n",
        "plt.bar(list(train_intents_dup_free_freq.keys()),train_intents_dup_free_freq.values())\n",
        "plt.show()"
      ],
      "id": "9d8f2933",
      "execution_count": 20,
      "outputs": [
        {
          "output_type": "display_data",
          "data": {
            "image/png": "[encoded data removed]",
            "text/plain": [
              "<Figure size 1728x576 with 1 Axes>"
            ]
          },
          "metadata": {
            "needs_background": "light"
          }
        }
      ]
    },
    {
      "cell_type": "code",
      "metadata": {
        "colab": {
          "base_uri": "https://localhost:8080/"
        },
        "id": "f7d2f377",
        "outputId": "7bc21059-7dc2-495e-e908-c9a4f308e19b"
      },
      "source": [
        "##removing duplicate test data with 'atis_flight' intent\n",
        "\n",
        "test_words_dup_free = list()\n",
        "test_tags_dup_free = list()\n",
        "test_intents_dup_free = list()\n",
        "test_data_dup_free = list()\n",
        "for i in range(len(test_words)):\n",
        "    words = test_words[i]\n",
        "    tags = test_tags[i]\n",
        "    intent = test_intents[i]\n",
        "    if (intent != 'atis_flight' or (intent == 'atis_flight' and words not in test_words_dup_free)):\n",
        "        test_words_dup_free.append(words)\n",
        "        test_tags_dup_free.append(tags)\n",
        "        test_intents_dup_free.append(intent)\n",
        "        test_data.append({\n",
        "            'words': words,\n",
        "            'iob_tags': tags,\n",
        "#             'length': len(words),\n",
        "            'intent': intent})\n",
        "\n",
        "\n",
        "print('# of duplicate sentences in test data: %d - %d = %d' % (len(test_words), len(test_words_dup_free),  len(test_words) - len(test_words_dup_free)))"
      ],
      "id": "f7d2f377",
      "execution_count": 21,
      "outputs": [
        {
          "output_type": "stream",
          "text": [
            "# of duplicate sentences in test data: 893 - 874 = 19\n"
          ],
          "name": "stdout"
        }
      ]
    },
    {
      "cell_type": "code",
      "metadata": {
        "colab": {
          "base_uri": "https://localhost:8080/"
        },
        "id": "34ea87fa",
        "outputId": "add90599-6a4a-4b3c-db93-a191f5455160"
      },
      "source": [
        "test_intents_dup_free_freq = dict()\n",
        "for intent in set(test_intents_dup_free):\n",
        "    test_intents_dup_free_freq[intent] = test_intents_dup_free.count(intent)\n",
        "\n",
        "for key in test_intents_dup_free_freq:\n",
        "    value = test_intents_dup_free_freq[key]\n",
        "    print('%s: %d (%.2f%%),' % (key, value, value / len(test_intents_dup_free) * 100))"
      ],
      "id": "34ea87fa",
      "execution_count": 22,
      "outputs": [
        {
          "output_type": "stream",
          "text": [
            "atis_abbreviation: 33 (3.78%),\n",
            "atis_flight_time: 1 (0.11%),\n",
            "atis_meal: 6 (0.69%),\n",
            "atis_city: 6 (0.69%),\n",
            "atis_aircraft: 9 (1.03%),\n",
            "atis_ground_service: 36 (4.12%),\n",
            "atis_ground_fare: 7 (0.80%),\n",
            "atis_distance: 10 (1.14%),\n",
            "atis_airfare: 49 (5.61%),\n",
            "atis_airport: 18 (2.06%),\n",
            "atis_day_name: 2 (0.23%),\n",
            "atis_quantity: 3 (0.34%),\n",
            "atis_flight_no: 9 (1.03%),\n",
            "atis_airline: 38 (4.35%),\n",
            "atis_flight: 626 (71.62%),\n",
            "atis_capacity: 21 (2.40%),\n"
          ],
          "name": "stdout"
        }
      ]
    },
    {
      "cell_type": "code",
      "metadata": {
        "colab": {
          "base_uri": "https://localhost:8080/",
          "height": 483
        },
        "id": "ce4a0fb9",
        "scrolled": false,
        "outputId": "0bfb4c17-d7d3-44e5-d774-f6771cf138c4"
      },
      "source": [
        "plt.figure(figsize=(24, 8))\n",
        "plt.bar(list(test_intents_dup_free_freq.keys()),test_intents_dup_free_freq.values())\n",
        "plt.show()"
      ],
      "id": "ce4a0fb9",
      "execution_count": 23,
      "outputs": [
        {
          "output_type": "display_data",
          "data": {
            "image/png": "[encoded data removed]",
            "text/plain": [
              "<Figure size 1728x576 with 1 Axes>"
            ]
          },
          "metadata": {
            "needs_background": "light"
          }
        }
      ]
    },
    {
      "cell_type": "markdown",
      "metadata": {
        "id": "a03fe17f"
      },
      "source": [
        "so we can see that unfortunately removing duplicates didn't have any noticable improvment on balancing the dataset."
      ],
      "id": "a03fe17f"
    },
    {
      "cell_type": "code",
      "metadata": {
        "colab": {
          "base_uri": "https://localhost:8080/"
        },
        "id": "7898bc3c",
        "outputId": "ec613ec0-3b3f-468e-e344-61e5b297f44a"
      },
      "source": [
        "from sklearn.utils import class_weight\n",
        "# from keras.preprocessing.text import Tokenizer\n",
        "# from keras.preprocessing.sequence import pad_sequences\n",
        "from sklearn.preprocessing import LabelBinarizer\n",
        "from sklearn.feature_extraction.text import TfidfVectorizer\n",
        "import numpy as np\n",
        "\n",
        "\n",
        "def identity_tokenizer(text):\n",
        "    return text\n",
        "# define Tokenizer with Vocab Size\n",
        "# tokenizer = Tokenizer(num_words=len(train_vocabs))\n",
        "# tokenizer.fit_on_texts(train_words)\n",
        "vectorizer = TfidfVectorizer(tokenizer=identity_tokenizer,lowercase=False)\n",
        "x_train = vectorizer.fit_transform(train_words)\n",
        "x_test = vectorizer.fit_transform(test_words)\n",
        "# x_train = tokenizer.texts_to_matrix(train_words, mode='tfidf')\n",
        "# x_test = tokenizer.texts_to_matrix(test_words, mode='tfidf')\n",
        "\n",
        "encoder = LabelBinarizer()\n",
        "encoder.fit(train_intents)\n",
        "y_train = encoder.transform(train_intents)\n",
        "y_test = encoder.transform(test_intents)\n",
        "print(encoder.classes_)\n",
        "print(x_train.shape, y_train.shape)\n",
        "#class_weight.compute_class_weight('balanced',np.unique(train_intents) ,train_intents)"
      ],
      "id": "7898bc3c",
      "execution_count": 24,
      "outputs": [
        {
          "output_type": "stream",
          "text": [
            "['atis_abbreviation' 'atis_aircraft' 'atis_airfare' 'atis_airline'\n",
            " 'atis_airport' 'atis_capacity' 'atis_city' 'atis_distance' 'atis_flight'\n",
            " 'atis_flight_no' 'atis_flight_time' 'atis_ground_fare'\n",
            " 'atis_ground_service' 'atis_meal' 'atis_quantity' 'atis_restriction']\n",
            "(4977, 898) (4977, 16)\n"
          ],
          "name": "stdout"
        }
      ]
    },
    {
      "cell_type": "code",
      "metadata": {
        "id": "l6mN3nyTIZGz"
      },
      "source": [
        "desired_count = 500\n",
        "strategy = {0: desired_count, 15: desired_count}# setting atis_restriction and atis_abbreviation classes count just as an example"
      ],
      "id": "l6mN3nyTIZGz",
      "execution_count": 25,
      "outputs": []
    },
    {
      "cell_type": "code",
      "metadata": {
        "colab": {
          "base_uri": "https://localhost:8080/"
        },
        "id": "aZnOPubKCSy6",
        "outputId": "ed6035cd-c661-4400-8c89-952909b33ff3"
      },
      "source": [
        "from imblearn.over_sampling import SMOTE, ADASYN\n",
        "smote = ADASYN(sampling_strategy=strategy, n_neighbors=5) #SMOTE(sampling_strategy='minority', k_neighbors=5)\n",
        "X_sm, y_sm = smote.fit_resample(x_train, y_train)\n",
        "print(X_sm.shape, y_sm.shape)"
      ],
      "id": "aZnOPubKCSy6",
      "execution_count": 26,
      "outputs": [
        {
          "output_type": "stream",
          "text": [
            "/usr/local/lib/python3.7/dist-packages/sklearn/externals/six.py:31: FutureWarning: The module is deprecated in version 0.21 and will be removed in version 0.23 since we've dropped support for Python 2.7. Please rely on the official version of six (https://pypi.org/project/six/).\n",
            "  \"(https://pypi.org/project/six/).\", FutureWarning)\n",
            "/usr/local/lib/python3.7/dist-packages/sklearn/utils/deprecation.py:144: FutureWarning: The sklearn.neighbors.base module is  deprecated in version 0.22 and will be removed in version 0.24. The corresponding classes / functions should instead be imported from sklearn.neighbors. Anything that cannot be imported from sklearn.neighbors is now part of the private API.\n",
            "  warnings.warn(message, FutureWarning)\n",
            "/usr/local/lib/python3.7/dist-packages/sklearn/utils/deprecation.py:87: FutureWarning: Function safe_indexing is deprecated; safe_indexing is deprecated in version 0.22 and will be removed in version 0.24.\n",
            "  warnings.warn(msg, category=FutureWarning)\n"
          ],
          "name": "stderr"
        },
        {
          "output_type": "stream",
          "text": [
            "(5811, 898) (5811, 16)\n"
          ],
          "name": "stdout"
        }
      ]
    },
    {
      "cell_type": "code",
      "metadata": {
        "colab": {
          "base_uri": "https://localhost:8080/"
        },
        "id": "of5AfVgdHlQQ",
        "outputId": "58458366-abfc-4f11-b02f-8f9b33d4d6c7"
      },
      "source": [
        "y_temp = list(encoder.inverse_transform(y_sm))\n",
        "temp_freq = dict()\n",
        "for intent in y_temp:\n",
        "    temp_freq[intent] = y_temp.count(intent)\n",
        "\n",
        "for key in temp_freq:\n",
        "    value = temp_freq[key]\n",
        "    print('%s: %d (%.2f%%),' % (key, value, value / len(y_temp) * 100))\n"
      ],
      "id": "of5AfVgdHlQQ",
      "execution_count": 27,
      "outputs": [
        {
          "output_type": "stream",
          "text": [
            "atis_flight: 3687 (63.45%),\n",
            "atis_airfare: 424 (7.30%),\n",
            "atis_airline: 159 (2.74%),\n",
            "atis_ground_service: 256 (4.41%),\n",
            "atis_quantity: 51 (0.88%),\n",
            "atis_city: 19 (0.33%),\n",
            "atis_abbreviation: 488 (8.40%),\n",
            "atis_aircraft: 82 (1.41%),\n",
            "atis_distance: 20 (0.34%),\n",
            "atis_ground_fare: 18 (0.31%),\n",
            "atis_capacity: 16 (0.28%),\n",
            "atis_flight_time: 54 (0.93%),\n",
            "atis_meal: 6 (0.10%),\n",
            "atis_flight_no: 12 (0.21%),\n",
            "atis_restriction: 499 (8.59%),\n",
            "atis_airport: 20 (0.34%),\n"
          ],
          "name": "stdout"
        }
      ]
    },
    {
      "cell_type": "code",
      "metadata": {
        "id": "PPbHNay0RDXc"
      },
      "source": [
        "from textblob import TextBlob\n",
        "from textblob.translate import NotTranslated\n",
        "import random\n",
        "sr = random.SystemRandom()\n",
        "\n",
        "language = [\"es\", \"de\", \"fr\", \"ar\", \"te\", \"hi\", \"ja\", \"fa\", \"sq\", \"bg\", \"nl\", \"gu\", \"ig\", \"kk\", \"mt\", \"ps\"]\n",
        "\n",
        "def data_augmentation(message, language, aug_range=1):\n",
        "    augmented_messages = []\n",
        "    if hasattr(message, \"decode\"):\n",
        "        message = message.decode(\"utf-8\")\n",
        "\n",
        "    for j in range(0,aug_range) :\n",
        "        new_message = \"\"\n",
        "        text = TextBlob(message)\n",
        "        try:\n",
        "            text = text.translate(to=sr.choice(language))   ## Converting to random langauge for meaningful variation\n",
        "            print('converted to random lang:',text)\n",
        "            text = text.translate(to=\"en\")\n",
        "        except NotTranslated:\n",
        "            pass\n",
        "        augmented_messages.append(str(text))\n",
        "\n",
        "    return augmented_messages"
      ],
      "id": "PPbHNay0RDXc",
      "execution_count": 28,
      "outputs": []
    },
    {
      "cell_type": "code",
      "metadata": {
        "colab": {
          "base_uri": "https://localhost:8080/"
        },
        "id": "py23AvosRhpR",
        "outputId": "9d941dd4-d2ca-4a0e-8beb-479ec59d0e54"
      },
      "source": [
        "data_augmentation('i want to fly from baltimore to dallas round trip', language)"
      ],
      "id": "py23AvosRhpR",
      "execution_count": 29,
      "outputs": [
        {
          "output_type": "stream",
          "text": [
            "converted to random lang: Ich möchte von Baltimore nach Dallas hin und zurück fliegen\n"
          ],
          "name": "stdout"
        },
        {
          "output_type": "execute_result",
          "data": {
            "text/plain": [
              "['I want to fly there and back from Baltimore to Dallas']"
            ]
          },
          "metadata": {},
          "execution_count": 29
        }
      ]
    },
    {
      "cell_type": "markdown",
      "metadata": {
        "id": "dl-OSK8KdTDc"
      },
      "source": [
        "#TO-DO: code cleaning & augmenting data using langauge translation (above function) & word embeddings \n",
        "# also data undersampling by removing similar samples from major class (atis_flight)"
      ],
      "id": "dl-OSK8KdTDc"
    },
    {
      "cell_type": "code",
      "metadata": {
        "id": "n8QrZY_vTTfJ"
      },
      "source": [
        "!pip install numpy requests nlpaug transformers"
      ],
      "id": "n8QrZY_vTTfJ",
      "execution_count": null,
      "outputs": []
    },
    {
      "cell_type": "code",
      "metadata": {
        "id": "LOc66TPuUZ_f"
      },
      "source": [
        "import nlpaug.augmenter.word as naw\n",
        "import nltk\n",
        "nltk.download('punkt')\n",
        "nltk.download('averaged_perceptron_tagger')\n",
        "nltk.download('universal_tagset')\n",
        "nltk.download('stopwords')\n",
        "nltk.download('wordnet')\n",
        "stop = nltk.corpus.stopwords.words('english')"
      ],
      "id": "LOc66TPuUZ_f",
      "execution_count": null,
      "outputs": []
    },
    {
      "cell_type": "code",
      "metadata": {
        "colab": {
          "base_uri": "https://localhost:8080/"
        },
        "id": "EGWMUGYoTZBO",
        "outputId": "ecba0727-df02-43ac-cc56-1769db4f4954"
      },
      "source": [
        "# aug = naw.SynonymAug(aug_p=0.25,stopwords=stop,aug_src='wordnet',aug_max=3)\n",
        "aug = naw.ContextualWordEmbsAug(model_path='bert-base-uncased',aug_p=0.2,stopwords=stop,aug_max=3)\n",
        "aug.augment('i want to fly from baltimore to dallas round trip', n = 10)"
      ],
      "id": "EGWMUGYoTZBO",
      "execution_count": 121,
      "outputs": [
        {
          "output_type": "execute_result",
          "data": {
            "text/plain": [
              "['i want to fly from cincinnati to dallas : trip',\n",
              " 'i played to win from baltimore to dallas round trip',\n",
              " 'i want to leave from baltimore to dallas so trip',\n",
              " 'i want to fly from baltimore to cincinnati road trip',\n",
              " 'i decided to fly from baltimore to another round trip',\n",
              " 'i want to fly from baltimore to massachusetts without trip',\n",
              " 'i want to fly from baltimore to california i trip',\n",
              " 'i seemed to fly from baltimore to amsterdam round trip',\n",
              " 'i elected to fly from baltimore to dallas town trip',\n",
              " 'i want to fly from jakarta to dallas street trip']"
            ]
          },
          "metadata": {},
          "execution_count": 121
        }
      ]
    },
    {
      "cell_type": "code",
      "metadata": {
        "id": "wW88OLA5FF21"
      },
      "source": [
        "!pip install textaugment"
      ],
      "id": "wW88OLA5FF21",
      "execution_count": null,
      "outputs": []
    },
    {
      "cell_type": "code",
      "metadata": {
        "colab": {
          "base_uri": "https://localhost:8080/"
        },
        "id": "ICdEFY64YV9x",
        "outputId": "70635ec0-2830-4697-d471-c47659b3317a"
      },
      "source": [
        "import gensim.downloader as api\n",
        "\n",
        "# Download the models\n",
        "fasttext_model300 = api.load('fasttext-wiki-news-subwords-300')\n",
        "# word2vec_model300 = api.load('word2vec-google-news-300') # crash!\n",
        "# glove_model300 = api.load('glove-wiki-gigaword-300')\n",
        "\n",
        "# Get word embeddings\n",
        "# word2vec_model300.most_similar('support')"
      ],
      "id": "ICdEFY64YV9x",
      "execution_count": 118,
      "outputs": [
        {
          "output_type": "stream",
          "text": [
            "[==================================================] 100.0% 958.5/958.4MB downloaded\n"
          ],
          "name": "stdout"
        }
      ]
    },
    {
      "cell_type": "code",
      "metadata": {
        "id": "UyXzu3dRThMz",
        "colab": {
          "base_uri": "https://localhost:8080/",
          "height": 35
        },
        "outputId": "3356296a-b86b-4b5d-fbb3-43ac92a9c30a"
      },
      "source": [
        "from textaugment import Word2vec\n",
        "t = Word2vec(model=fasttext_model300)\n",
        "t.augment('i want to fly from baltimore to dallas round trip')"
      ],
      "id": "UyXzu3dRThMz",
      "execution_count": 119,
      "outputs": [
        {
          "output_type": "execute_result",
          "data": {
            "application/vnd.google.colaboratory.intrinsic+json": {
              "type": "string"
            },
            "text/plain": [
              "'i wantto to flys from baltimore to orlando round trip'"
            ]
          },
          "metadata": {},
          "execution_count": 119
        }
      ]
    },
    {
      "cell_type": "code",
      "metadata": {
        "id": "Mz6IHqywhqyh"
      },
      "source": [
        "# from gensim.matutils import softcossim\n",
        "# from gensim import corpora\n",
        "\n",
        "# sent_1 = 'Sachin is a cricket player and a opening batsman'.split()\n",
        "# sent_2 = 'Dhoni is a cricket player too He is a batsman and keeper'.split()\n",
        "# sent_3 = 'Anand is a chess player'.split()\n",
        "\n",
        "\n",
        "# # Prepare a dictionary and a corpus.\n",
        "# documents = train_words_dup_free #[sent_1, sent_2, sent_3]\n",
        "# dictionary = corpora.Dictionary(documents)\n",
        "\n",
        "# # Prepare the similarity matrix\n",
        "# similarity_matrix = fasttext_model300.similarity_matrix(dictionary, tfidf=None, threshold=0.0, exponent=2.0, nonzero_limit=100)\n",
        "\n",
        "\n",
        "# # Convert the sentences into bag-of-words vectors.\n",
        "# sent_1 = dictionary.doc2bow(sent_1)\n",
        "# sent_2 = dictionary.doc2bow(sent_2)\n",
        "# sent_3 = dictionary.doc2bow(sent_3)\n",
        "\n",
        "# # Compute soft cosine similarity\n",
        "# print(softcossim(sent_1, sent_3, similarity_matrix))"
      ],
      "id": "Mz6IHqywhqyh",
      "execution_count": null,
      "outputs": []
    },
    {
      "cell_type": "code",
      "metadata": {
        "colab": {
          "base_uri": "https://localhost:8080/"
        },
        "id": "Lh4w4U91sIYf",
        "outputId": "5768d0ca-69e4-4faf-b928-9eebc242f806"
      },
      "source": [
        "train_sentences_dup_free = list()\n",
        "for i in range(len(train_intents_dup_free)):\n",
        "  if (train_intents_dup_free[i] == 'atis_flight'): \n",
        "    item = \" \".join(train_words_dup_free[i])\n",
        "    train_sentences_dup_free.append(item)\n",
        "\n",
        "len(train_sentences_dup_free)"
      ],
      "id": "Lh4w4U91sIYf",
      "execution_count": 41,
      "outputs": [
        {
          "output_type": "execute_result",
          "data": {
            "text/plain": [
              "3443"
            ]
          },
          "metadata": {},
          "execution_count": 41
        }
      ]
    },
    {
      "cell_type": "code",
      "metadata": {
        "id": "OveqpNDIPXpW"
      },
      "source": [
        "!pip install -U sentence-transformers"
      ],
      "id": "OveqpNDIPXpW",
      "execution_count": null,
      "outputs": []
    },
    {
      "cell_type": "code",
      "metadata": {
        "id": "e_a20ye7PVE9"
      },
      "source": [
        "from sentence_transformers import SentenceTransformer, util\n",
        "from sklearn.cluster import AgglomerativeClustering, KMeans\n",
        "import numpy as np\n",
        "import time  \n",
        "\n",
        "corpus_sentences = train_sentences_dup_free\n",
        "embedder = SentenceTransformer('paraphrase-mpnet-base-v2')"
      ],
      "id": "e_a20ye7PVE9",
      "execution_count": 84,
      "outputs": []
    },
    {
      "cell_type": "code",
      "metadata": {
        "id": "J5DC0O-pIFcr"
      },
      "source": [
        "# finding similar pairs\n",
        "\n",
        "#Compute embeddings\n",
        "corpus_embeddings = embedder.encode(sentences, convert_to_tensor=True)\n",
        "\n",
        "#Compute cosine-similarities for each sentence with each other sentence\n",
        "cosine_scores = util.pytorch_cos_sim(corpus_embeddings, corpus_embeddings)\n",
        "\n",
        "#Find the pairs with the highest cosine similarity scores\n",
        "pairs = []\n",
        "for i in range(len(cosine_scores)-1):\n",
        "    for j in range(i+1, len(cosine_scores)):\n",
        "        pairs.append({'index': [i, j], 'score': cosine_scores[i][j]})\n",
        "\n",
        "#Sort scores in decreasing order\n",
        "pairs = sorted(pairs, key=lambda x: x['score'], reverse=True)\n",
        "\n",
        "for pair in pairs[0:10]:\n",
        "    i, j = pair['index']\n",
        "    print(\"{} \\t\\t {} \\t\\t Score: {:.4f}\".format(sentences[i], sentences[j], pair['score']))"
      ],
      "id": "J5DC0O-pIFcr",
      "execution_count": null,
      "outputs": []
    },
    {
      "cell_type": "code",
      "metadata": {
        "id": "7hIt9RbBIa6_"
      },
      "source": [
        "f = open('similar-pairs.txt', 'w')\n",
        "for pair in pairs:\n",
        "  i, j = pair['index']\n",
        "  f.write(\"{} \\t\\t {} \\t\\t Score: {:.4f}\\n\".format(sentences[i], sentences[j], pair['score']))\n",
        "  #print(\"{} \\t\\t {} \\t\\t Score: {:.4f}\".format(sentences[i], sentences[j], pair['score']))\n",
        "  if (pair['score'] < 0.8): break\n",
        "f.close()"
      ],
      "id": "7hIt9RbBIa6_",
      "execution_count": 88,
      "outputs": []
    },
    {
      "cell_type": "code",
      "metadata": {
        "id": "9p_tMxBbPSTR"
      },
      "source": [
        "# Corpus with example sentences\n",
        "corpus_sentences = train_sentences_dup_free\n",
        "corpus_embeddings = embedder.encode(corpus_sentences)\n",
        "\n",
        "# Normalize the embeddings to unit length\n",
        "corpus_embeddings = corpus_embeddings /  np.linalg.norm(corpus_embeddings, axis=1, keepdims=True)"
      ],
      "id": "9p_tMxBbPSTR",
      "execution_count": 102,
      "outputs": []
    },
    {
      "cell_type": "code",
      "metadata": {
        "id": "gELPy3KyGLbz"
      },
      "source": [
        "# K-means\n",
        "\n",
        "num_clusters = 5\n",
        "clustering_model = KMeans(n_clusters=num_clusters)\n",
        "clustering_model.fit(corpus_embeddings)\n",
        "cluster_assignment = clustering_model.labels_\n",
        "\n",
        "clustered_sentences = [[] for i in range(num_clusters)]\n",
        "for sentence_id, cluster_id in enumerate(cluster_assignment):\n",
        "    clustered_sentences[cluster_id].append(corpus[sentence_id])"
      ],
      "id": "gELPy3KyGLbz",
      "execution_count": 108,
      "outputs": []
    },
    {
      "cell_type": "code",
      "metadata": {
        "id": "7_fKhZ2JH1Ju"
      },
      "source": [
        "f = open('Clusters-k-means.txt', 'w')\n",
        "for i, cluster in enumerate(clustered_sentences):\n",
        "    f.write(\"Cluster %d, #%d Elements :\\n\" % (i+1, len(cluster)) + str(cluster) + \"\\n\\n\\n\")\n",
        "    # print(\"Cluster \", i+1)\n",
        "    # print(cluster)\n",
        "    # print(\"\")\n",
        "f.close()"
      ],
      "id": "7_fKhZ2JH1Ju",
      "execution_count": 109,
      "outputs": []
    },
    {
      "cell_type": "code",
      "metadata": {
        "colab": {
          "base_uri": "https://localhost:8080/"
        },
        "id": "FH0-wZTc2HhO",
        "outputId": "53050d98-a20e-4e2c-e52b-44a47627d442"
      },
      "source": [
        "# Agglomerative Clustering\n",
        "\n",
        "clustering_model = AgglomerativeClustering(n_clusters=None, affinity='cosine', linkage='average', distance_threshold=0.5)\n",
        "clustering_model.fit(corpus_embeddings)\n",
        "cluster_assignment = clustering_model.labels_\n",
        "\n",
        "clustered_sentences = {}\n",
        "for sentence_id, cluster_id in enumerate(cluster_assignment):\n",
        "    if cluster_id not in clustered_sentences:\n",
        "        clustered_sentences[cluster_id] = []\n",
        "\n",
        "    clustered_sentences[cluster_id].append(corpus[sentence_id])\n",
        "\n",
        "len(clustered_sentences)"
      ],
      "id": "FH0-wZTc2HhO",
      "execution_count": 105,
      "outputs": [
        {
          "output_type": "execute_result",
          "data": {
            "text/plain": [
              "22"
            ]
          },
          "metadata": {},
          "execution_count": 105
        }
      ]
    },
    {
      "cell_type": "code",
      "metadata": {
        "id": "KTC-OfDUHtC-"
      },
      "source": [
        "f = open('Clusters-Agglomerative.txt', 'w')\n",
        "for i, cluster in clustered_sentences.items():\n",
        "    f.write(\"Cluster %d, #%d Elements :\\n\" % (i+1,len(cluster)) + str(cluster) + \"\\n\\n\\n\")\n",
        "    # print(\"Cluster \", i+1)\n",
        "    # print(cluster)\n",
        "    # print(\"\")\n",
        "f.close()"
      ],
      "id": "KTC-OfDUHtC-",
      "execution_count": 107,
      "outputs": []
    },
    {
      "cell_type": "code",
      "metadata": {
        "colab": {
          "base_uri": "https://localhost:8080/",
          "height": 99,
          "referenced_widgets": [
            "9eca027993084044853532b3a614b0a9",
            "8662b335f80641fd80c64940f97876e8",
            "346c864c259f42af9227e879b241dbbe",
            "a811eed42c2b45a48c52a91a79b5ec42",
            "0deb80e09b484c528350f28bf0868708",
            "1022a39000aa48b3b814bd04e0884a1a",
            "edd93593bfa24460867c6ad72a48df58",
            "73860869b53a44b4ad332ad0eadf8207",
            "a443a146f67042d88cc9f1a88ba47e23",
            "4a5a4c3da74d4dadb989f3b2abe5221c",
            "433190d3cbca4fb8a2c1d671f3cc8fc0"
          ]
        },
        "id": "pPOsza-HE6Fx",
        "outputId": "b6033c26-930f-49df-df48-1566c7893c07"
      },
      "source": [
        "# Fast Clustering\n",
        "\n",
        "corpus_sentences = train_sentences_dup_free\n",
        "print(\"Encode the corpus. This might take a while\")\n",
        "corpus_embeddings = embedder.encode(corpus_sentences, batch_size=64, show_progress_bar=True, convert_to_tensor=True)\n",
        "\n",
        "print(\"Start clustering\")\n",
        "start_time = time.time()\n",
        "\n",
        "#Two parameters to tune:\n",
        "#min_cluster_size: Only consider cluster that have at least 25 elements\n",
        "#threshold: Consider sentence pairs with a cosine-similarity larger than threshold as similar\n",
        "clusters = util.community_detection(corpus_embeddings, min_community_size=1, threshold=0.75)\n",
        "\n",
        "print(\"Clustering done after {:.2f} sec\".format(time.time() - start_time))"
      ],
      "id": "pPOsza-HE6Fx",
      "execution_count": 112,
      "outputs": [
        {
          "output_type": "stream",
          "text": [
            "Encode the corpus. This might take a while\n"
          ],
          "name": "stdout"
        },
        {
          "output_type": "display_data",
          "data": {
            "application/vnd.jupyter.widget-view+json": {
              "model_id": "9eca027993084044853532b3a614b0a9",
              "version_minor": 0,
              "version_major": 2
            },
            "text/plain": [
              "Batches:   0%|          | 0/54 [00:00<?, ?it/s]"
            ]
          },
          "metadata": {}
        },
        {
          "output_type": "stream",
          "text": [
            "Start clustering\n",
            "Clustering done after 0.98 sec\n"
          ],
          "name": "stdout"
        }
      ]
    },
    {
      "cell_type": "code",
      "metadata": {
        "id": "ebdUMVxcMecc"
      },
      "source": [
        "f = open('Clusters-fast.txt', 'w')\n",
        "#Print for all clusters the top 3 and bottom 3 elements\n",
        "for i, cluster in enumerate(clusters):\n",
        "    #print(\"\\nCluster {}, #{} Elements \".format(i+1, len(cluster)))\n",
        "    data = [corpus_sentences[sentence_id] for sentence_id in cluster]\n",
        "    f.write(\"Cluster {}, #{} Elements \\n\".format(i+1, len(cluster)) + str(data) + \"\\n\\n\\n\")\n",
        "\n",
        "    # for sentence_id in cluster[0:3]:\n",
        "    #     #print(\"\\t\", corpus_sentences[sentence_id])\n",
        "    #     f.write(\"\\t\" + corpus_sentences[sentence_id])\n",
        "    # #print(\"\\t\", \"...\")\n",
        "    # f.write(\"\\t ...\")\n",
        "    # for sentence_id in cluster[-3:]:\n",
        "    #     #print(\"\\t\", corpus_sentences[sentence_id])\n",
        "    #     f.write(\"\\t\" + corpus_sentences[sentence_id])\n",
        "    \n",
        "f.close()"
      ],
      "id": "ebdUMVxcMecc",
      "execution_count": 117,
      "outputs": []
    }
  ]
}
{
  "nbformat": 4,
  "nbformat_minor": 5,
  "metadata": {
    "colab": {
      "name": "Pre-Processing.ipynb",
      "provenance": [],
      "collapsed_sections": []
    },
    "kernelspec": {
      "display_name": "Python 3",
      "language": "python",
      "name": "python3"
    },
    "language_info": {
      "codemirror_mode": {
        "name": "ipython",
        "version": 3
      },
      "file_extension": ".py",
      "mimetype": "text/x-python",
      "name": "python",
      "nbconvert_exporter": "python",
      "pygments_lexer": "ipython3",
      "version": "3.7.10"
    },
    "widgets": {
      "application/vnd.jupyter.widget-state+json": {
        "30678d8013c14c4d9ecd3c239bb82cea": {
          "model_module": "@jupyter-widgets/controls",
          "model_name": "HBoxModel",
          "model_module_version": "1.5.0",
          "state": {
            "_view_name": "HBoxView",
            "_dom_classes": [],
            "_model_name": "HBoxModel",
            "_view_module": "@jupyter-widgets/controls",
            "_model_module_version": "1.5.0",
            "_view_count": null,
            "_view_module_version": "1.5.0",
            "box_style": "",
            "layout": "IPY_MODEL_c381630be5c44bbd90b438d028bbd2e5",
            "_model_module": "@jupyter-widgets/controls",
            "children": [
              "IPY_MODEL_7ca4b64dd8d64786a36e6d230f8321d0",
              "IPY_MODEL_75ce0d1e3d144d4db41375a35faa863f",
              "IPY_MODEL_94268214e1f54b12a728d9a485c9161a"
            ]
          }
        },
        "c381630be5c44bbd90b438d028bbd2e5": {
          "model_module": "@jupyter-widgets/base",
          "model_name": "LayoutModel",
          "model_module_version": "1.2.0",
          "state": {
            "_view_name": "LayoutView",
            "grid_template_rows": null,
            "right": null,
            "justify_content": null,
            "_view_module": "@jupyter-widgets/base",
            "overflow": null,
            "_model_module_version": "1.2.0",
            "_view_count": null,
            "flex_flow": null,
            "width": null,
            "min_width": null,
            "border": null,
            "align_items": null,
            "bottom": null,
            "_model_module": "@jupyter-widgets/base",
            "top": null,
            "grid_column": null,
            "overflow_y": null,
            "overflow_x": null,
            "grid_auto_flow": null,
            "grid_area": null,
            "grid_template_columns": null,
            "flex": null,
            "_model_name": "LayoutModel",
            "justify_items": null,
            "grid_row": null,
            "max_height": null,
            "align_content": null,
            "visibility": null,
            "align_self": null,
            "height": null,
            "min_height": null,
            "padding": null,
            "grid_auto_rows": null,
            "grid_gap": null,
            "max_width": null,
            "order": null,
            "_view_module_version": "1.2.0",
            "grid_template_areas": null,
            "object_position": null,
            "object_fit": null,
            "grid_auto_columns": null,
            "margin": null,
            "display": null,
            "left": null
          }
        },
        "7ca4b64dd8d64786a36e6d230f8321d0": {
          "model_module": "@jupyter-widgets/controls",
          "model_name": "HTMLModel",
          "model_module_version": "1.5.0",
          "state": {
            "_view_name": "HTMLView",
            "style": "IPY_MODEL_8b078388d90f4696923c8392a1829826",
            "_dom_classes": [],
            "description": "",
            "_model_name": "HTMLModel",
            "placeholder": "​",
            "_view_module": "@jupyter-widgets/controls",
            "_model_module_version": "1.5.0",
            "value": "Batches: 100%",
            "_view_count": null,
            "_view_module_version": "1.5.0",
            "description_tooltip": null,
            "_model_module": "@jupyter-widgets/controls",
            "layout": "IPY_MODEL_87c2aedde3ea4cbda3709472c209fcf7"
          }
        },
        "75ce0d1e3d144d4db41375a35faa863f": {
          "model_module": "@jupyter-widgets/controls",
          "model_name": "FloatProgressModel",
          "model_module_version": "1.5.0",
          "state": {
            "_view_name": "ProgressView",
            "style": "IPY_MODEL_31266566072544edb0fd2d37f236e6a8",
            "_dom_classes": [],
            "description": "",
            "_model_name": "FloatProgressModel",
            "bar_style": "success",
            "max": 108,
            "_view_module": "@jupyter-widgets/controls",
            "_model_module_version": "1.5.0",
            "value": 108,
            "_view_count": null,
            "_view_module_version": "1.5.0",
            "orientation": "horizontal",
            "min": 0,
            "description_tooltip": null,
            "_model_module": "@jupyter-widgets/controls",
            "layout": "IPY_MODEL_ccc885c5e0014e64bb0cae0b6691f0e9"
          }
        },
        "94268214e1f54b12a728d9a485c9161a": {
          "model_module": "@jupyter-widgets/controls",
          "model_name": "HTMLModel",
          "model_module_version": "1.5.0",
          "state": {
            "_view_name": "HTMLView",
            "style": "IPY_MODEL_c579d50137264f22828118bcd414fd98",
            "_dom_classes": [],
            "description": "",
            "_model_name": "HTMLModel",
            "placeholder": "​",
            "_view_module": "@jupyter-widgets/controls",
            "_model_module_version": "1.5.0",
            "value": " 108/108 [02:41&lt;00:00,  1.28it/s]",
            "_view_count": null,
            "_view_module_version": "1.5.0",
            "description_tooltip": null,
            "_model_module": "@jupyter-widgets/controls",
            "layout": "IPY_MODEL_040be28aabe54d65b02366a260400db6"
          }
        },
        "8b078388d90f4696923c8392a1829826": {
          "model_module": "@jupyter-widgets/controls",
          "model_name": "DescriptionStyleModel",
          "model_module_version": "1.5.0",
          "state": {
            "_view_name": "StyleView",
            "_model_name": "DescriptionStyleModel",
            "description_width": "",
            "_view_module": "@jupyter-widgets/base",
            "_model_module_version": "1.5.0",
            "_view_count": null,
            "_view_module_version": "1.2.0",
            "_model_module": "@jupyter-widgets/controls"
          }
        },
        "87c2aedde3ea4cbda3709472c209fcf7": {
          "model_module": "@jupyter-widgets/base",
          "model_name": "LayoutModel",
          "model_module_version": "1.2.0",
          "state": {
            "_view_name": "LayoutView",
            "grid_template_rows": null,
            "right": null,
            "justify_content": null,
            "_view_module": "@jupyter-widgets/base",
            "overflow": null,
            "_model_module_version": "1.2.0",
            "_view_count": null,
            "flex_flow": null,
            "width": null,
            "min_width": null,
            "border": null,
            "align_items": null,
            "bottom": null,
            "_model_module": "@jupyter-widgets/base",
            "top": null,
            "grid_column": null,
            "overflow_y": null,
            "overflow_x": null,
            "grid_auto_flow": null,
            "grid_area": null,
            "grid_template_columns": null,
            "flex": null,
            "_model_name": "LayoutModel",
            "justify_items": null,
            "grid_row": null,
            "max_height": null,
            "align_content": null,
            "visibility": null,
            "align_self": null,
            "height": null,
            "min_height": null,
            "padding": null,
            "grid_auto_rows": null,
            "grid_gap": null,
            "max_width": null,
            "order": null,
            "_view_module_version": "1.2.0",
            "grid_template_areas": null,
            "object_position": null,
            "object_fit": null,
            "grid_auto_columns": null,
            "margin": null,
            "display": null,
            "left": null
          }
        },
        "31266566072544edb0fd2d37f236e6a8": {
          "model_module": "@jupyter-widgets/controls",
          "model_name": "ProgressStyleModel",
          "model_module_version": "1.5.0",
          "state": {
            "_view_name": "StyleView",
            "_model_name": "ProgressStyleModel",
            "description_width": "",
            "_view_module": "@jupyter-widgets/base",
            "_model_module_version": "1.5.0",
            "_view_count": null,
            "_view_module_version": "1.2.0",
            "bar_color": null,
            "_model_module": "@jupyter-widgets/controls"
          }
        },
        "ccc885c5e0014e64bb0cae0b6691f0e9": {
          "model_module": "@jupyter-widgets/base",
          "model_name": "LayoutModel",
          "model_module_version": "1.2.0",
          "state": {
            "_view_name": "LayoutView",
            "grid_template_rows": null,
            "right": null,
            "justify_content": null,
            "_view_module": "@jupyter-widgets/base",
            "overflow": null,
            "_model_module_version": "1.2.0",
            "_view_count": null,
            "flex_flow": null,
            "width": null,
            "min_width": null,
            "border": null,
            "align_items": null,
            "bottom": null,
            "_model_module": "@jupyter-widgets/base",
            "top": null,
            "grid_column": null,
            "overflow_y": null,
            "overflow_x": null,
            "grid_auto_flow": null,
            "grid_area": null,
            "grid_template_columns": null,
            "flex": null,
            "_model_name": "LayoutModel",
            "justify_items": null,
            "grid_row": null,
            "max_height": null,
            "align_content": null,
            "visibility": null,
            "align_self": null,
            "height": null,
            "min_height": null,
            "padding": null,
            "grid_auto_rows": null,
            "grid_gap": null,
            "max_width": null,
            "order": null,
            "_view_module_version": "1.2.0",
            "grid_template_areas": null,
            "object_position": null,
            "object_fit": null,
            "grid_auto_columns": null,
            "margin": null,
            "display": null,
            "left": null
          }
        },
        "c579d50137264f22828118bcd414fd98": {
          "model_module": "@jupyter-widgets/controls",
          "model_name": "DescriptionStyleModel",
          "model_module_version": "1.5.0",
          "state": {
            "_view_name": "StyleView",
            "_model_name": "DescriptionStyleModel",
            "description_width": "",
            "_view_module": "@jupyter-widgets/base",
            "_model_module_version": "1.5.0",
            "_view_count": null,
            "_view_module_version": "1.2.0",
            "_model_module": "@jupyter-widgets/controls"
          }
        },
        "040be28aabe54d65b02366a260400db6": {
          "model_module": "@jupyter-widgets/base",
          "model_name": "LayoutModel",
          "model_module_version": "1.2.0",
          "state": {
            "_view_name": "LayoutView",
            "grid_template_rows": null,
            "right": null,
            "justify_content": null,
            "_view_module": "@jupyter-widgets/base",
            "overflow": null,
            "_model_module_version": "1.2.0",
            "_view_count": null,
            "flex_flow": null,
            "width": null,
            "min_width": null,
            "border": null,
            "align_items": null,
            "bottom": null,
            "_model_module": "@jupyter-widgets/base",
            "top": null,
            "grid_column": null,
            "overflow_y": null,
            "overflow_x": null,
            "grid_auto_flow": null,
            "grid_area": null,
            "grid_template_columns": null,
            "flex": null,
            "_model_name": "LayoutModel",
            "justify_items": null,
            "grid_row": null,
            "max_height": null,
            "align_content": null,
            "visibility": null,
            "align_self": null,
            "height": null,
            "min_height": null,
            "padding": null,
            "grid_auto_rows": null,
            "grid_gap": null,
            "max_width": null,
            "order": null,
            "_view_module_version": "1.2.0",
            "grid_template_areas": null,
            "object_position": null,
            "object_fit": null,
            "grid_auto_columns": null,
            "margin": null,
            "display": null,
            "left": null
          }
        }
      }
    }
  },
  "cells": [
    {
      "cell_type": "markdown",
      "metadata": {
        "id": "53a639b1"
      },
      "source": [
        "<h3 align=center> In His Name, the Most High </h3>"
      ],
      "id": "53a639b1"
    },
    {
      "cell_type": "code",
      "metadata": {
        "id": "i0NnhvQLu589"
      },
      "source": [
        "%%capture\n",
        "!pip install numpy requests nlpaug transformers\n",
        "!pip install -U sentence-transformers"
      ],
      "id": "i0NnhvQLu589",
      "execution_count": 1,
      "outputs": []
    },
    {
      "cell_type": "code",
      "metadata": {
        "id": "27a0482d"
      },
      "source": [
        "#importing libraries\n",
        "import re\n",
        "import numpy as np\n",
        "from sklearn.utils import class_weight\n",
        "import matplotlib.pyplot as plt\n",
        "from sentence_transformers import SentenceTransformer, util\n",
        "from sklearn.cluster import AgglomerativeClustering#, KMeans\n",
        "import nlpaug.augmenter.word as naw\n",
        "import nlpaug.model.word_stats as nmw\n",
        "from nlpaug.util.file.download import DownloadUtil\n",
        "import nltk\n",
        "import pickle\n",
        "import time  \n",
        "import random\n",
        "from sklearn.decomposition import PCA\n",
        "from mpl_toolkits.mplot3d import Axes3D\n",
        "from scipy.cluster.hierarchy import dendrogram\n",
        "from scipy.cluster import hierarchy\n",
        "import math\n",
        "from matplotlib import pyplot as plt\n",
        "# import gensim.downloader as api\n",
        "\n",
        "plt.style.use('seaborn')"
      ],
      "id": "27a0482d",
      "execution_count": 2,
      "outputs": []
    },
    {
      "cell_type": "markdown",
      "metadata": {
        "id": "c37bfe7d"
      },
      "source": [
        "## ATIS Dataset EDA"
      ],
      "id": "c37bfe7d"
    },
    {
      "cell_type": "markdown",
      "metadata": {
        "id": "27e084e7"
      },
      "source": [
        "The ATIS dataset is a standard benchmark dataset widely used for intent classification and slot filling.\n",
        "here we obtained the dataset from https://github.com/yvchen/JointSLU."
      ],
      "id": "27e084e7"
    },
    {
      "cell_type": "code",
      "metadata": {
        "id": "o4OSomy4Yu0e"
      },
      "source": [
        "def dataLoader(filename, drop_list = ['atis_cheapest', 'atis_city', 'atis_restriction', 'atis_meal', 'atis_distance', 'atis_airport', 'atis_capacity', 'atis_ground_fare','atis_flight_no']):\n",
        "  words_list = list() # a list of list of words for every sentence in dataset\n",
        "  tags_list = list() # a list of list of IOB tags for every sentence in dataset\n",
        "  intents_list = list() # a list of intent for every sentence in dataset\n",
        "  data = list() # a list of dicts contaiting above data in a more structured form\n",
        "  vocabs = set() # a set containing whole dataset words\n",
        "\n",
        "  with open(filename) as f:\n",
        "    for line in f.readlines():\n",
        "        line = line.strip().split()\n",
        "        \n",
        "        index = 0\n",
        "        words = list()\n",
        "        for i, word in enumerate(line[:-1]):\n",
        "            if (word == 'EOS'):\n",
        "                index = i\n",
        "                break\n",
        "            if (word != 'BOS'): \n",
        "                # word = re.sub(r'[^\\w\\s]', '', word) # removing punctuations\n",
        "                word = re.sub(r\"[?|'|!|.]\",\"\", word) # removing punctuations\n",
        "                word = word.lower() # lowerizing word\n",
        "                words.append(word) \n",
        "                vocabs.add(word)\n",
        "        \n",
        "        tags = list()\n",
        "        for tag in line[index + 2:-1]:\n",
        "            tags.append(tag)\n",
        "                    \n",
        "        # handling entries with multiple intents\n",
        "        intent = \"\"\n",
        "        if ('#' in line[-1]): \n",
        "            for item in line[-1].split('#'):\n",
        "                intent = item\n",
        "                break\n",
        "        else: intent = line[-1]\n",
        "\n",
        "        if (intent not in drop_list): #dropping \n",
        "          words_list.append(words)\n",
        "          tags_list.append(tags)\n",
        "          intents_list.append(intent)\n",
        "          data.append({\n",
        "              'words': words,\n",
        "              'iob_tags': tags,\n",
        "              #             'length': len(words),\n",
        "              'intent': intent})\n",
        "\n",
        "  return words_list, tags_list, intents_list, vocabs, data\n",
        "\n",
        "\n",
        "def dataStatistics(tags_list, intents_list, vocabs):\n",
        "  print('dataset vocab size:', len(vocabs))\n",
        "  print('# of dataset rows:', len(intents_list))\n",
        "  print('# of dataset unique intents:', len(set(intents_list)))\n",
        "  print('# of dataset unique IOB tags:', len(set([tag for item in tags_list for tag in item])))\n",
        "\n",
        "  print('-' * 35 + '\\nintents distribution:') \n",
        "  intents_freq = dict()\n",
        "  for intent in set(intents_list):\n",
        "      intents_freq[intent] = intents_list.count(intent)\n",
        "  for key in intents_freq:\n",
        "      value = intents_freq[key]\n",
        "      print('%s: %d (%.2f%%),' % (key, value, value / len(intents_list) * 100))\n",
        "  print()\n",
        "  plt.figure(figsize=(24, 8))\n",
        "  plt.bar(list(intents_freq.keys()),intents_freq.values())\n",
        "  plt.show()\n",
        "\n",
        "  print('\\n' + '-' * 35 + '\\ntags distribution:')\n",
        "  tags_freq = dict()\n",
        "  count = 0\n",
        "  for item in tags_list:\n",
        "      for tag in item:\n",
        "          if (tag in tags_freq): tags_freq[tag] += 1 \n",
        "          else: tags_freq[tag] = 1\n",
        "          count += 1\n",
        "  for key in tags_freq:\n",
        "      value = tags_freq[key]\n",
        "      print('%s: %d (%.2f%%),' % (key, value, value / count * 100))\n",
        "    \n",
        "  return intents_freq, tags_freq"
      ],
      "id": "o4OSomy4Yu0e",
      "execution_count": 3,
      "outputs": []
    },
    {
      "cell_type": "markdown",
      "metadata": {
        "id": "Nkf7awzaiqad"
      },
      "source": [
        "to make things simple we will drop classes with less than 50 samples:"
      ],
      "id": "Nkf7awzaiqad"
    },
    {
      "cell_type": "code",
      "metadata": {
        "id": "RXQHfpSHirTx"
      },
      "source": [
        "drop_list = ['atis_cheapest', 'atis_city', 'atis_restriction', 'atis_meal', 'atis_distance', 'atis_airport', 'atis_capacity', 'atis_ground_fare','atis_flight_no']"
      ],
      "id": "RXQHfpSHirTx",
      "execution_count": 4,
      "outputs": []
    },
    {
      "cell_type": "code",
      "metadata": {
        "colab": {
          "base_uri": "https://localhost:8080/",
          "height": 1000
        },
        "id": "H63TnhcbZ7uH",
        "outputId": "eae18426-55be-4b52-a60c-9b9fda7f0cd8"
      },
      "source": [
        "#importing train data\n",
        "train_words, train_tags, train_intents, train_vocabs, train_data = dataLoader('atis.train+dev.w-intent.iob', drop_list = drop_list)\n",
        "train_intents_freq, train_tags_freq = dataStatistics(train_tags, train_intents, train_vocabs)"
      ],
      "id": "H63TnhcbZ7uH",
      "execution_count": 5,
      "outputs": [
        {
          "output_type": "stream",
          "text": [
            "dataset vocab size: 895\n",
            "# of dataset rows: 4860\n",
            "# of dataset unique intents: 8\n",
            "# of dataset unique IOB tags: 121\n",
            "-----------------------------------\n",
            "intents distribution:\n",
            "atis_flight: 3687 (75.86%),\n",
            "atis_airline: 159 (3.27%),\n",
            "atis_quantity: 51 (1.05%),\n",
            "atis_ground_service: 256 (5.27%),\n",
            "atis_airfare: 424 (8.72%),\n",
            "atis_aircraft: 82 (1.69%),\n",
            "atis_abbreviation: 147 (3.02%),\n",
            "atis_flight_time: 54 (1.11%),\n",
            "\n"
          ],
          "name": "stdout"
        },
        {
          "output_type": "display_data",
          "data": {
            "image/png": "[encoded data removed]",
            "text/plain": [
              "<Figure size 1728x576 with 1 Axes>"
            ]
          },
          "metadata": {}
        },
        {
          "output_type": "stream",
          "text": [
            "\n",
            "-----------------------------------\n",
            "tags distribution:\n",
            "O: 34891 (63.33%),\n",
            "B-fromloc.city_name: 4294 (7.79%),\n",
            "B-toloc.city_name: 4308 (7.82%),\n",
            "B-round_trip: 347 (0.63%),\n",
            "I-round_trip: 338 (0.61%),\n",
            "B-cost_relative: 340 (0.62%),\n",
            "B-fare_amount: 52 (0.09%),\n",
            "I-fare_amount: 50 (0.09%),\n",
            "B-arrive_date.month_name: 47 (0.09%),\n",
            "B-arrive_date.day_number: 47 (0.09%),\n",
            "I-fromloc.city_name: 684 (1.24%),\n",
            "B-stoploc.city_name: 238 (0.43%),\n",
            "B-arrive_time.time_relative: 185 (0.34%),\n",
            "B-arrive_time.time: 206 (0.37%),\n",
            "I-arrive_time.time: 160 (0.29%),\n",
            "B-toloc.state_code: 85 (0.15%),\n",
            "I-toloc.city_name: 1085 (1.97%),\n",
            "I-stoploc.city_name: 47 (0.09%),\n",
            "B-meal_description: 57 (0.10%),\n",
            "B-depart_date.month_name: 377 (0.68%),\n",
            "B-depart_date.day_number: 393 (0.71%),\n",
            "B-airline_name: 681 (1.24%),\n",
            "I-airline_name: 406 (0.74%),\n",
            "B-depart_time.period_of_day: 591 (1.07%),\n",
            "B-depart_date.day_name: 887 (1.61%),\n",
            "B-toloc.state_name: 76 (0.14%),\n",
            "B-depart_time.time_relative: 321 (0.58%),\n",
            "B-depart_time.time: 365 (0.66%),\n",
            "B-toloc.airport_name: 39 (0.07%),\n",
            "I-toloc.airport_name: 49 (0.09%),\n",
            "B-depart_date.date_relative: 82 (0.15%),\n",
            "B-or: 65 (0.12%),\n",
            "B-airline_code: 136 (0.25%),\n",
            "B-class_type: 215 (0.39%),\n",
            "I-class_type: 181 (0.33%),\n",
            "I-cost_relative: 54 (0.10%),\n",
            "I-depart_time.time: 297 (0.54%),\n",
            "B-fromloc.airport_name: 73 (0.13%),\n",
            "I-fromloc.airport_name: 91 (0.17%),\n",
            "B-city_name: 201 (0.36%),\n",
            "B-flight_mod: 328 (0.60%),\n",
            "B-meal: 40 (0.07%),\n",
            "B-economy: 36 (0.07%),\n",
            "B-fare_basis_code: 76 (0.14%),\n",
            "I-depart_date.day_number: 119 (0.22%),\n",
            "B-depart_date.today_relative: 83 (0.15%),\n",
            "B-flight_stop: 167 (0.30%),\n",
            "B-airport_code: 26 (0.05%),\n",
            "B-fromloc.state_name: 38 (0.07%),\n",
            "I-fromloc.state_name: 9 (0.02%),\n",
            "I-city_name: 45 (0.08%),\n",
            "B-connect: 40 (0.07%),\n",
            "B-arrive_date.day_name: 88 (0.16%),\n",
            "B-fromloc.state_code: 46 (0.08%),\n",
            "B-arrive_date.today_relative: 2 (0.00%),\n",
            "B-depart_date.year: 25 (0.05%),\n",
            "B-depart_time.start_time: 25 (0.05%),\n",
            "I-depart_time.start_time: 13 (0.02%),\n",
            "B-depart_time.end_time: 25 (0.05%),\n",
            "I-depart_time.end_time: 18 (0.03%),\n",
            "B-arrive_time.start_time: 21 (0.04%),\n",
            "B-arrive_time.end_time: 20 (0.04%),\n",
            "I-arrive_time.end_time: 19 (0.03%),\n",
            "I-flight_mod: 11 (0.02%),\n",
            "B-flight_days: 39 (0.07%),\n",
            "B-mod: 28 (0.05%),\n",
            "B-flight_number: 80 (0.15%),\n",
            "I-toloc.state_name: 13 (0.02%),\n",
            "B-meal_code: 6 (0.01%),\n",
            "I-meal_code: 4 (0.01%),\n",
            "B-airport_name: 29 (0.05%),\n",
            "I-airport_name: 40 (0.07%),\n",
            "I-flight_stop: 17 (0.03%),\n",
            "B-state_code: 6 (0.01%),\n",
            "B-aircraft_code: 20 (0.04%),\n",
            "B-transport_type: 31 (0.06%),\n",
            "I-transport_type: 14 (0.03%),\n",
            "B-toloc.country_name: 3 (0.01%),\n",
            "I-arrive_date.day_number: 6 (0.01%),\n",
            "B-toloc.airport_code: 19 (0.03%),\n",
            "B-return_date.date_relative: 10 (0.02%),\n",
            "I-return_date.date_relative: 2 (0.00%),\n",
            "B-flight_time: 70 (0.13%),\n",
            "I-economy: 10 (0.02%),\n",
            "B-fromloc.airport_code: 14 (0.03%),\n",
            "B-arrive_time.period_of_day: 64 (0.12%),\n",
            "B-depart_time.period_mod: 44 (0.08%),\n",
            "I-flight_time: 32 (0.06%),\n",
            "B-return_date.day_name: 1 (0.00%),\n",
            "B-arrive_date.date_relative: 11 (0.02%),\n",
            "B-restriction_code: 19 (0.03%),\n",
            "I-restriction_code: 14 (0.03%),\n",
            "B-arrive_time.period_mod: 4 (0.01%),\n",
            "I-arrive_time.period_of_day: 3 (0.01%),\n",
            "B-period_of_day: 5 (0.01%),\n",
            "B-stoploc.state_code: 5 (0.01%),\n",
            "I-depart_date.today_relative: 12 (0.02%),\n",
            "I-fare_basis_code: 2 (0.00%),\n",
            "I-arrive_time.start_time: 8 (0.01%),\n",
            "B-time: 2 (0.00%),\n",
            "B-today_relative: 2 (0.00%),\n",
            "I-today_relative: 3 (0.01%),\n",
            "B-state_name: 2 (0.00%),\n",
            "B-days_code: 3 (0.01%),\n",
            "I-depart_time.period_of_day: 6 (0.01%),\n",
            "I-arrive_time.time_relative: 2 (0.00%),\n",
            "B-time_relative: 1 (0.00%),\n",
            "I-time: 1 (0.00%),\n",
            "B-return_date.month_name: 4 (0.01%),\n",
            "B-return_date.day_number: 4 (0.01%),\n",
            "I-depart_time.time_relative: 2 (0.00%),\n",
            "B-stoploc.airport_name: 1 (0.00%),\n",
            "B-day_name: 5 (0.01%),\n",
            "B-month_name: 2 (0.00%),\n",
            "B-day_number: 2 (0.00%),\n",
            "B-return_time.period_mod: 2 (0.00%),\n",
            "B-return_time.period_of_day: 3 (0.01%),\n",
            "B-return_date.today_relative: 1 (0.00%),\n",
            "I-return_date.today_relative: 2 (0.00%),\n",
            "I-meal_description: 1 (0.00%),\n",
            "I-return_date.day_number: 1 (0.00%),\n"
          ],
          "name": "stdout"
        }
      ]
    },
    {
      "cell_type": "code",
      "metadata": {
        "colab": {
          "base_uri": "https://localhost:8080/"
        },
        "id": "Ba-fpvjQ5_qt",
        "outputId": "45b31469-d69d-4e80-d8ce-f19d5128e993"
      },
      "source": [
        "ind = 0\n",
        "print('tokenized words:', train_data[ind]['words'])\n",
        "print('IOB tags:', train_data[ind]['iob_tags'])\n",
        "print('intent:', train_data[ind]['intent'])"
      ],
      "id": "Ba-fpvjQ5_qt",
      "execution_count": 6,
      "outputs": [
        {
          "output_type": "stream",
          "text": [
            "tokenized words: ['i', 'want', 'to', 'fly', 'from', 'baltimore', 'to', 'dallas', 'round', 'trip']\n",
            "IOB tags: ['O', 'O', 'O', 'O', 'O', 'B-fromloc.city_name', 'O', 'B-toloc.city_name', 'B-round_trip', 'I-round_trip']\n",
            "intent: atis_flight\n"
          ],
          "name": "stdout"
        }
      ]
    },
    {
      "cell_type": "code",
      "metadata": {
        "colab": {
          "base_uri": "https://localhost:8080/",
          "height": 1000
        },
        "id": "1dde0a8c",
        "outputId": "ebcf13a3-f118-465f-c043-033144e2cda5"
      },
      "source": [
        "#importing test data\n",
        "test_words, test_tags, test_intents, test_vocabs, test_data = dataLoader('atis.test.w-intent.iob', drop_list = drop_list)\n",
        "test_intents_freq, test_tags_freq = dataStatistics(test_tags, test_intents, test_vocabs)"
      ],
      "id": "1dde0a8c",
      "execution_count": 7,
      "outputs": [
        {
          "output_type": "stream",
          "text": [
            "dataset vocab size: 448\n",
            "# of dataset rows: 816\n",
            "# of dataset unique intents: 9\n",
            "# of dataset unique IOB tags: 98\n",
            "-----------------------------------\n",
            "intents distribution:\n",
            "atis_flight: 645 (79.04%),\n",
            "atis_airline: 38 (4.66%),\n",
            "atis_quantity: 3 (0.37%),\n",
            "atis_ground_service: 36 (4.41%),\n",
            "atis_airfare: 49 (6.00%),\n",
            "atis_aircraft: 9 (1.10%),\n",
            "atis_day_name: 2 (0.25%),\n",
            "atis_abbreviation: 33 (4.04%),\n",
            "atis_flight_time: 1 (0.12%),\n",
            "\n"
          ],
          "name": "stdout"
        },
        {
          "output_type": "display_data",
          "data": {
            "image/png": "[encoded data removed]",
            "text/plain": [
              "<Figure size 1728x576 with 1 Axes>"
            ]
          },
          "metadata": {}
        },
        {
          "output_type": "stream",
          "text": [
            "\n",
            "-----------------------------------\n",
            "tags distribution:\n",
            "O: 5044 (59.19%),\n",
            "B-fromloc.city_name: 688 (8.07%),\n",
            "B-toloc.city_name: 700 (8.21%),\n",
            "I-toloc.city_name: 256 (3.00%),\n",
            "B-stoploc.city_name: 20 (0.23%),\n",
            "I-stoploc.city_name: 10 (0.12%),\n",
            "B-depart_date.month_name: 56 (0.66%),\n",
            "B-depart_date.day_number: 55 (0.65%),\n",
            "B-depart_time.time_relative: 63 (0.74%),\n",
            "B-depart_time.time: 55 (0.65%),\n",
            "I-depart_time.time: 50 (0.59%),\n",
            "B-round_trip: 73 (0.86%),\n",
            "I-round_trip: 71 (0.83%),\n",
            "B-airline_name: 87 (1.02%),\n",
            "I-airline_name: 60 (0.70%),\n",
            "B-depart_date.day_name: 209 (2.45%),\n",
            "B-depart_time.period_of_day: 129 (1.51%),\n",
            "I-fromloc.city_name: 176 (2.07%),\n",
            "B-meal_description: 9 (0.11%),\n",
            "B-depart_date.date_relative: 17 (0.20%),\n",
            "B-arrive_time.time_relative: 31 (0.36%),\n",
            "B-arrive_time.time: 33 (0.39%),\n",
            "I-arrive_time.time: 34 (0.40%),\n",
            "B-return_date.day_name: 2 (0.02%),\n",
            "B-arrive_date.date_relative: 2 (0.02%),\n",
            "B-arrive_date.day_name: 11 (0.13%),\n",
            "B-flight_stop: 21 (0.25%),\n",
            "B-depart_date.today_relative: 9 (0.11%),\n",
            "B-toloc.state_name: 28 (0.33%),\n",
            "B-arrive_date.month_name: 6 (0.07%),\n",
            "B-arrive_date.day_number: 6 (0.07%),\n",
            "B-arrive_time.start_time: 8 (0.09%),\n",
            "B-arrive_time.end_time: 8 (0.09%),\n",
            "I-arrive_time.end_time: 8 (0.09%),\n",
            "B-airport_name: 15 (0.18%),\n",
            "I-airport_name: 21 (0.25%),\n",
            "B-connect: 6 (0.07%),\n",
            "B-fromloc.airport_name: 8 (0.09%),\n",
            "I-fromloc.airport_name: 7 (0.08%),\n",
            "B-return_date.date_relative: 3 (0.04%),\n",
            "I-return_date.date_relative: 3 (0.04%),\n",
            "B-arrive_time.period_of_day: 6 (0.07%),\n",
            "B-fromloc.state_name: 17 (0.20%),\n",
            "I-depart_date.day_number: 15 (0.18%),\n",
            "I-depart_time.period_of_day: 1 (0.01%),\n",
            "B-cost_relative: 37 (0.43%),\n",
            "I-cost_relative: 3 (0.04%),\n",
            "B-flight_time: 1 (0.01%),\n",
            "I-flight_time: 1 (0.01%),\n",
            "B-flight_mod: 24 (0.28%),\n",
            "B-flight_number: 7 (0.08%),\n",
            "B-city_name: 35 (0.41%),\n",
            "I-city_name: 17 (0.20%),\n",
            "B-airline_code: 33 (0.39%),\n",
            "B-toloc.airport_code: 4 (0.05%),\n",
            "B-depart_time.start_time: 3 (0.04%),\n",
            "B-depart_time.end_time: 3 (0.04%),\n",
            "I-depart_time.end_time: 3 (0.04%),\n",
            "B-toloc.airport_name: 3 (0.04%),\n",
            "I-toloc.airport_name: 3 (0.04%),\n",
            "B-aircraft_code: 13 (0.15%),\n",
            "B-toloc.country_name: 1 (0.01%),\n",
            "B-class_type: 23 (0.27%),\n",
            "B-compartment: 1 (0.01%),\n",
            "B-meal_code: 1 (0.01%),\n",
            "B-day_name: 2 (0.02%),\n",
            "B-meal: 11 (0.13%),\n",
            "B-toloc.state_code: 17 (0.20%),\n",
            "B-fromloc.state_code: 23 (0.27%),\n",
            "I-class_type: 16 (0.19%),\n",
            "B-depart_time.period_mod: 5 (0.06%),\n",
            "B-fromloc.airport_code: 5 (0.06%),\n",
            "B-fare_basis_code: 17 (0.20%),\n",
            "B-flight_days: 10 (0.12%),\n",
            "B-depart_date.year: 3 (0.04%),\n",
            "B-period_of_day: 4 (0.05%),\n",
            "I-flight_mod: 6 (0.07%),\n",
            "B-transport_type: 4 (0.05%),\n",
            "B-state_code: 1 (0.01%),\n",
            "B-restriction_code: 4 (0.05%),\n",
            "I-restriction_code: 3 (0.04%),\n",
            "B-airport_code: 9 (0.11%),\n",
            "B-mod: 1 (0.01%),\n",
            "B-days_code: 1 (0.01%),\n",
            "I-arrive_time.time_relative: 4 (0.05%),\n",
            "B-or: 3 (0.04%),\n",
            "B-stoploc.airport_code: 1 (0.01%),\n",
            "I-depart_time.time_relative: 1 (0.01%),\n",
            "B-economy: 6 (0.07%),\n",
            "B-booking_class: 1 (0.01%),\n",
            "B-fare_amount: 2 (0.02%),\n",
            "I-fare_amount: 2 (0.02%),\n",
            "B-flight: 1 (0.01%),\n",
            "I-depart_time.start_time: 1 (0.01%),\n",
            "I-arrive_time.start_time: 1 (0.01%),\n",
            "I-transport_type: 1 (0.01%),\n",
            "I-fromloc.state_name: 1 (0.01%),\n",
            "I-toloc.state_name: 1 (0.01%),\n"
          ],
          "name": "stdout"
        }
      ]
    },
    {
      "cell_type": "markdown",
      "metadata": {
        "id": "ac5a6d17"
      },
      "source": [
        "### comparing train & test dataset"
      ],
      "id": "ac5a6d17"
    },
    {
      "cell_type": "code",
      "metadata": {
        "colab": {
          "base_uri": "https://localhost:8080/"
        },
        "id": "daa709ab",
        "outputId": "27eff849-d30a-4187-f5e1-f0c630cdd29b"
      },
      "source": [
        "print(test_vocabs - train_vocabs)"
      ],
      "id": "daa709ab",
      "execution_count": 8,
      "outputs": [
        {
          "output_type": "stream",
          "text": [
            "{'468', 'sam', 'called', 'prior', 'india', 'lga', '382', '1994', 'combination', 'not', 'l10', '486', '665', 'basis', 'ap58', 'comes', '419', '20', '811', 'bh', 'snacks', 'bn', '1800', '320', 'sb', 'yx', 'tpa', 'kennedy', 'cvg', 'good', 'exceeding', 'mci', '950', 'al', 'included', '608', 'kw', 'dh8', '1207', '673', 'l1011', 'dca', 'dc9', '639', 'phl', 'dtw', 'wn', 'miles', 'be1', 'ever', '842', '1201'}\n"
          ],
          "name": "stdout"
        }
      ]
    },
    {
      "cell_type": "code",
      "metadata": {
        "colab": {
          "base_uri": "https://localhost:8080/"
        },
        "id": "21bf7e45",
        "outputId": "75c6f763-4229-472d-8cf4-e2b63848d620"
      },
      "source": [
        "set(test_intents) - set(train_intents)"
      ],
      "id": "21bf7e45",
      "execution_count": 9,
      "outputs": [
        {
          "output_type": "execute_result",
          "data": {
            "text/plain": [
              "{'atis_day_name'}"
            ]
          },
          "metadata": {},
          "execution_count": 9
        }
      ]
    },
    {
      "cell_type": "markdown",
      "metadata": {
        "id": "69e36fdc"
      },
      "source": [
        "so from above, we see there is no train data for 'atis_day_name'!"
      ],
      "id": "69e36fdc"
    },
    {
      "cell_type": "code",
      "metadata": {
        "colab": {
          "base_uri": "https://localhost:8080/"
        },
        "id": "b7b9d6c3",
        "outputId": "8caa9c34-0fd7-408d-812e-1c07bbec9929"
      },
      "source": [
        "set(test_tags_freq.keys()) - set(train_tags_freq.keys())"
      ],
      "id": "b7b9d6c3",
      "execution_count": 10,
      "outputs": [
        {
          "output_type": "execute_result",
          "data": {
            "text/plain": [
              "{'B-booking_class', 'B-compartment', 'B-flight', 'B-stoploc.airport_code'}"
            ]
          },
          "metadata": {},
          "execution_count": 10
        }
      ]
    },
    {
      "cell_type": "markdown",
      "metadata": {
        "id": "237d0e8b"
      },
      "source": [
        "also we see there are no train data with 'B-stoploc.airport_code' or 'B-booking_class' or 'I-flight_number' or 'I-state_name' or 'B-flight' or 'B-compartment' tag..."
      ],
      "id": "237d0e8b"
    },
    {
      "cell_type": "code",
      "metadata": {
        "colab": {
          "base_uri": "https://localhost:8080/"
        },
        "id": "200b2854",
        "outputId": "fe831dd2-e33e-4ea5-eaca-43ae72cdcf3f"
      },
      "source": [
        "set(train_tags_freq.keys()) - set(test_tags_freq.keys())"
      ],
      "id": "200b2854",
      "execution_count": 11,
      "outputs": [
        {
          "output_type": "execute_result",
          "data": {
            "text/plain": [
              "{'B-arrive_date.today_relative',\n",
              " 'B-arrive_time.period_mod',\n",
              " 'B-day_number',\n",
              " 'B-month_name',\n",
              " 'B-return_date.day_number',\n",
              " 'B-return_date.month_name',\n",
              " 'B-return_date.today_relative',\n",
              " 'B-return_time.period_mod',\n",
              " 'B-return_time.period_of_day',\n",
              " 'B-state_name',\n",
              " 'B-stoploc.airport_name',\n",
              " 'B-stoploc.state_code',\n",
              " 'B-time',\n",
              " 'B-time_relative',\n",
              " 'B-today_relative',\n",
              " 'I-arrive_date.day_number',\n",
              " 'I-arrive_time.period_of_day',\n",
              " 'I-depart_date.today_relative',\n",
              " 'I-economy',\n",
              " 'I-fare_basis_code',\n",
              " 'I-flight_stop',\n",
              " 'I-meal_code',\n",
              " 'I-meal_description',\n",
              " 'I-return_date.day_number',\n",
              " 'I-return_date.today_relative',\n",
              " 'I-time',\n",
              " 'I-today_relative'}"
            ]
          },
          "metadata": {},
          "execution_count": 11
        }
      ]
    },
    {
      "cell_type": "markdown",
      "metadata": {
        "id": "528d2520"
      },
      "source": [
        "and finally there are no train data with 'I-return_date.day_number' or 'B-return_time.period_mod' or ... tag."
      ],
      "id": "528d2520"
    },
    {
      "cell_type": "markdown",
      "metadata": {
        "id": "aZStPpo-pBAQ"
      },
      "source": [
        "# Handling Imbalanced dataset"
      ],
      "id": "aZStPpo-pBAQ"
    },
    {
      "cell_type": "markdown",
      "metadata": {
        "id": "0ef6de9b"
      },
      "source": [
        "to handle imbalanced data first we try to find and remove duplicate samples:"
      ],
      "id": "0ef6de9b"
    },
    {
      "cell_type": "code",
      "metadata": {
        "id": "flnsr3xEfkTs"
      },
      "source": [
        "def removeDuplicate(words_list, tags_list, intents_list):\n",
        "  words_dup_free = list()\n",
        "  tags_dup_free = list()\n",
        "  intents_dup_free = list()\n",
        "  data_dup_free = list()\n",
        "  for i in range(len(words_list)):\n",
        "    words = words_list[i]\n",
        "    tags = tags_list[i]\n",
        "    intent = intents_list[i]\n",
        "    if (intent != 'atis_flight' or (intent == 'atis_flight' and words not in words_dup_free)):\n",
        "    # if (words not in words_dup_free):\n",
        "        words_dup_free.append(words)\n",
        "        tags_dup_free.append(tags)\n",
        "        intents_dup_free.append(intent)\n",
        "        data_dup_free.append({\n",
        "            'words': words,\n",
        "            'iob_tags': tags,\n",
        "            #             'length': len(words),\n",
        "            'intent': intent})\n",
        "  print('# of duplicate sentences in train data: %d - %d = %d' % (len(words_list), len(words_dup_free), len(words_list) - len(words_dup_free)))\n",
        "\n",
        "  return words_dup_free, tags_dup_free, intents_dup_free, data_dup_free"
      ],
      "id": "flnsr3xEfkTs",
      "execution_count": 12,
      "outputs": []
    },
    {
      "cell_type": "code",
      "metadata": {
        "colab": {
          "base_uri": "https://localhost:8080/"
        },
        "id": "60BJm2Msghwg",
        "outputId": "d1fb2b87-fe67-44aa-9b8c-4fd5f2202fea"
      },
      "source": [
        "# removing duplicate train data  with 'atis_flight' intent\n",
        "train_words_dup_free, train_tags_dup_free, train_intents_dup_free, train_data_dup_free = removeDuplicate(train_words, train_tags, train_intents)"
      ],
      "id": "60BJm2Msghwg",
      "execution_count": 13,
      "outputs": [
        {
          "output_type": "stream",
          "text": [
            "# of duplicate sentences in train data: 4860 - 4616 = 244\n"
          ],
          "name": "stdout"
        }
      ]
    },
    {
      "cell_type": "code",
      "metadata": {
        "colab": {
          "base_uri": "https://localhost:8080/",
          "height": 1000
        },
        "id": "T51ohh1Dg2Ix",
        "outputId": "7eb8c39c-e33f-4dcd-dede-4ccb11c462e7"
      },
      "source": [
        "train_intents_dup_free_freq, train_tags_dup_free_freq = dataStatistics(train_tags_dup_free, train_intents_dup_free, train_vocabs)"
      ],
      "id": "T51ohh1Dg2Ix",
      "execution_count": 14,
      "outputs": [
        {
          "output_type": "stream",
          "text": [
            "dataset vocab size: 895\n",
            "# of dataset rows: 4616\n",
            "# of dataset unique intents: 8\n",
            "# of dataset unique IOB tags: 121\n",
            "-----------------------------------\n",
            "intents distribution:\n",
            "atis_flight: 3443 (74.59%),\n",
            "atis_airline: 159 (3.44%),\n",
            "atis_quantity: 51 (1.10%),\n",
            "atis_ground_service: 256 (5.55%),\n",
            "atis_airfare: 424 (9.19%),\n",
            "atis_aircraft: 82 (1.78%),\n",
            "atis_abbreviation: 147 (3.18%),\n",
            "atis_flight_time: 54 (1.17%),\n",
            "\n"
          ],
          "name": "stdout"
        },
        {
          "output_type": "display_data",
          "data": {
            "image/png": "[encoded data removed]",
            "text/plain": [
              "<Figure size 1728x576 with 1 Axes>"
            ]
          },
          "metadata": {}
        },
        {
          "output_type": "stream",
          "text": [
            "\n",
            "-----------------------------------\n",
            "tags distribution:\n",
            "O: 33488 (63.32%),\n",
            "B-fromloc.city_name: 4064 (7.68%),\n",
            "B-toloc.city_name: 4076 (7.71%),\n",
            "B-round_trip: 331 (0.63%),\n",
            "I-round_trip: 323 (0.61%),\n",
            "B-cost_relative: 332 (0.63%),\n",
            "B-fare_amount: 48 (0.09%),\n",
            "I-fare_amount: 46 (0.09%),\n",
            "B-arrive_date.month_name: 46 (0.09%),\n",
            "B-arrive_date.day_number: 46 (0.09%),\n",
            "I-fromloc.city_name: 650 (1.23%),\n",
            "B-stoploc.city_name: 232 (0.44%),\n",
            "B-arrive_time.time_relative: 178 (0.34%),\n",
            "B-arrive_time.time: 198 (0.37%),\n",
            "I-arrive_time.time: 155 (0.29%),\n",
            "B-toloc.state_code: 82 (0.16%),\n",
            "I-toloc.city_name: 1049 (1.98%),\n",
            "I-stoploc.city_name: 45 (0.09%),\n",
            "B-meal_description: 55 (0.10%),\n",
            "B-depart_date.month_name: 368 (0.70%),\n",
            "B-depart_date.day_number: 384 (0.73%),\n",
            "B-airline_name: 668 (1.26%),\n",
            "I-airline_name: 399 (0.75%),\n",
            "B-depart_time.period_of_day: 580 (1.10%),\n",
            "B-depart_date.day_name: 865 (1.64%),\n",
            "B-toloc.state_name: 74 (0.14%),\n",
            "B-depart_time.time_relative: 309 (0.58%),\n",
            "B-depart_time.time: 353 (0.67%),\n",
            "B-toloc.airport_name: 33 (0.06%),\n",
            "I-toloc.airport_name: 42 (0.08%),\n",
            "B-depart_date.date_relative: 81 (0.15%),\n",
            "B-or: 62 (0.12%),\n",
            "B-airline_code: 134 (0.25%),\n",
            "B-class_type: 214 (0.40%),\n",
            "I-class_type: 180 (0.34%),\n",
            "I-cost_relative: 54 (0.10%),\n",
            "I-depart_time.time: 287 (0.54%),\n",
            "B-fromloc.airport_name: 68 (0.13%),\n",
            "I-fromloc.airport_name: 86 (0.16%),\n",
            "B-city_name: 199 (0.38%),\n",
            "B-flight_mod: 320 (0.61%),\n",
            "B-meal: 39 (0.07%),\n",
            "B-economy: 36 (0.07%),\n",
            "B-fare_basis_code: 76 (0.14%),\n",
            "I-depart_date.day_number: 117 (0.22%),\n",
            "B-depart_date.today_relative: 83 (0.16%),\n",
            "B-flight_stop: 161 (0.30%),\n",
            "B-airport_code: 26 (0.05%),\n",
            "B-fromloc.state_name: 37 (0.07%),\n",
            "I-fromloc.state_name: 8 (0.02%),\n",
            "I-city_name: 45 (0.09%),\n",
            "B-connect: 40 (0.08%),\n",
            "B-arrive_date.day_name: 85 (0.16%),\n",
            "B-fromloc.state_code: 45 (0.09%),\n",
            "B-arrive_date.today_relative: 2 (0.00%),\n",
            "B-depart_date.year: 23 (0.04%),\n",
            "B-depart_time.start_time: 21 (0.04%),\n",
            "I-depart_time.start_time: 9 (0.02%),\n",
            "B-depart_time.end_time: 21 (0.04%),\n",
            "I-depart_time.end_time: 14 (0.03%),\n",
            "B-arrive_time.start_time: 19 (0.04%),\n",
            "B-arrive_time.end_time: 18 (0.03%),\n",
            "I-arrive_time.end_time: 17 (0.03%),\n",
            "I-flight_mod: 11 (0.02%),\n",
            "B-flight_days: 37 (0.07%),\n",
            "B-mod: 28 (0.05%),\n",
            "B-flight_number: 80 (0.15%),\n",
            "I-toloc.state_name: 13 (0.02%),\n",
            "B-meal_code: 6 (0.01%),\n",
            "I-meal_code: 4 (0.01%),\n",
            "B-airport_name: 28 (0.05%),\n",
            "I-airport_name: 38 (0.07%),\n",
            "I-flight_stop: 16 (0.03%),\n",
            "B-state_code: 6 (0.01%),\n",
            "B-aircraft_code: 20 (0.04%),\n",
            "B-transport_type: 31 (0.06%),\n",
            "I-transport_type: 14 (0.03%),\n",
            "B-toloc.country_name: 3 (0.01%),\n",
            "I-arrive_date.day_number: 6 (0.01%),\n",
            "B-toloc.airport_code: 19 (0.04%),\n",
            "B-return_date.date_relative: 10 (0.02%),\n",
            "I-return_date.date_relative: 2 (0.00%),\n",
            "B-flight_time: 70 (0.13%),\n",
            "I-economy: 10 (0.02%),\n",
            "B-fromloc.airport_code: 14 (0.03%),\n",
            "B-arrive_time.period_of_day: 64 (0.12%),\n",
            "B-depart_time.period_mod: 44 (0.08%),\n",
            "I-flight_time: 32 (0.06%),\n",
            "B-return_date.day_name: 1 (0.00%),\n",
            "B-arrive_date.date_relative: 10 (0.02%),\n",
            "B-restriction_code: 19 (0.04%),\n",
            "I-restriction_code: 14 (0.03%),\n",
            "B-arrive_time.period_mod: 4 (0.01%),\n",
            "I-arrive_time.period_of_day: 3 (0.01%),\n",
            "B-period_of_day: 5 (0.01%),\n",
            "B-stoploc.state_code: 5 (0.01%),\n",
            "I-depart_date.today_relative: 12 (0.02%),\n",
            "I-fare_basis_code: 2 (0.00%),\n",
            "I-arrive_time.start_time: 8 (0.02%),\n",
            "B-time: 2 (0.00%),\n",
            "B-today_relative: 2 (0.00%),\n",
            "I-today_relative: 3 (0.01%),\n",
            "B-state_name: 2 (0.00%),\n",
            "B-days_code: 3 (0.01%),\n",
            "I-depart_time.period_of_day: 6 (0.01%),\n",
            "I-arrive_time.time_relative: 2 (0.00%),\n",
            "B-time_relative: 1 (0.00%),\n",
            "I-time: 1 (0.00%),\n",
            "B-return_date.month_name: 4 (0.01%),\n",
            "B-return_date.day_number: 4 (0.01%),\n",
            "I-depart_time.time_relative: 2 (0.00%),\n",
            "B-stoploc.airport_name: 1 (0.00%),\n",
            "B-day_name: 5 (0.01%),\n",
            "B-month_name: 2 (0.00%),\n",
            "B-day_number: 2 (0.00%),\n",
            "B-return_time.period_mod: 2 (0.00%),\n",
            "B-return_time.period_of_day: 3 (0.01%),\n",
            "B-return_date.today_relative: 1 (0.00%),\n",
            "I-return_date.today_relative: 2 (0.00%),\n",
            "I-meal_description: 1 (0.00%),\n",
            "I-return_date.day_number: 1 (0.00%),\n"
          ],
          "name": "stdout"
        }
      ]
    },
    {
      "cell_type": "code",
      "metadata": {
        "colab": {
          "base_uri": "https://localhost:8080/"
        },
        "id": "f7d2f377",
        "outputId": "f335002b-5392-4694-f758-eaf2b38e15b8"
      },
      "source": [
        "# removing duplicate test data with 'atis_flight' intent\n",
        "test_words_dup_free, test_tags_dup_free, test_intents_dup_free, test_data_dup_free = removeDuplicate(test_words, test_tags, test_intents)"
      ],
      "id": "f7d2f377",
      "execution_count": 15,
      "outputs": [
        {
          "output_type": "stream",
          "text": [
            "# of duplicate sentences in train data: 816 - 797 = 19\n"
          ],
          "name": "stdout"
        }
      ]
    },
    {
      "cell_type": "code",
      "metadata": {
        "colab": {
          "base_uri": "https://localhost:8080/",
          "height": 1000
        },
        "id": "O7b0F1y9hkjq",
        "outputId": "54a08b30-3e6b-432d-86b1-220e388960f8"
      },
      "source": [
        "test_intents_dup_free_freq, test_tags_dup_free_freq = dataStatistics(test_tags_dup_free, test_intents_dup_free, test_vocabs)"
      ],
      "id": "O7b0F1y9hkjq",
      "execution_count": 16,
      "outputs": [
        {
          "output_type": "stream",
          "text": [
            "dataset vocab size: 448\n",
            "# of dataset rows: 797\n",
            "# of dataset unique intents: 9\n",
            "# of dataset unique IOB tags: 98\n",
            "-----------------------------------\n",
            "intents distribution:\n",
            "atis_flight: 626 (78.54%),\n",
            "atis_airline: 38 (4.77%),\n",
            "atis_quantity: 3 (0.38%),\n",
            "atis_ground_service: 36 (4.52%),\n",
            "atis_airfare: 49 (6.15%),\n",
            "atis_aircraft: 9 (1.13%),\n",
            "atis_day_name: 2 (0.25%),\n",
            "atis_abbreviation: 33 (4.14%),\n",
            "atis_flight_time: 1 (0.13%),\n",
            "\n"
          ],
          "name": "stdout"
        },
        {
          "output_type": "display_data",
          "data": {
            "image/png": "[encoded data removed]",
            "text/plain": [
              "<Figure size 1728x576 with 1 Axes>"
            ]
          },
          "metadata": {}
        },
        {
          "output_type": "stream",
          "text": [
            "\n",
            "-----------------------------------\n",
            "tags distribution:\n",
            "O: 4950 (59.29%),\n",
            "B-fromloc.city_name: 669 (8.01%),\n",
            "B-toloc.city_name: 680 (8.14%),\n",
            "I-toloc.city_name: 249 (2.98%),\n",
            "B-stoploc.city_name: 20 (0.24%),\n",
            "I-stoploc.city_name: 10 (0.12%),\n",
            "B-depart_date.month_name: 56 (0.67%),\n",
            "B-depart_date.day_number: 55 (0.66%),\n",
            "B-depart_time.time_relative: 62 (0.74%),\n",
            "B-depart_time.time: 54 (0.65%),\n",
            "I-depart_time.time: 49 (0.59%),\n",
            "B-round_trip: 71 (0.85%),\n",
            "I-round_trip: 69 (0.83%),\n",
            "B-airline_name: 87 (1.04%),\n",
            "I-airline_name: 60 (0.72%),\n",
            "B-depart_date.day_name: 206 (2.47%),\n",
            "B-depart_time.period_of_day: 128 (1.53%),\n",
            "I-fromloc.city_name: 168 (2.01%),\n",
            "B-meal_description: 9 (0.11%),\n",
            "B-depart_date.date_relative: 17 (0.20%),\n",
            "B-arrive_time.time_relative: 31 (0.37%),\n",
            "B-arrive_time.time: 33 (0.40%),\n",
            "I-arrive_time.time: 34 (0.41%),\n",
            "B-return_date.day_name: 2 (0.02%),\n",
            "B-arrive_date.date_relative: 2 (0.02%),\n",
            "B-arrive_date.day_name: 11 (0.13%),\n",
            "B-flight_stop: 21 (0.25%),\n",
            "B-depart_date.today_relative: 9 (0.11%),\n",
            "B-toloc.state_name: 28 (0.34%),\n",
            "B-arrive_date.month_name: 6 (0.07%),\n",
            "B-arrive_date.day_number: 6 (0.07%),\n",
            "B-arrive_time.start_time: 7 (0.08%),\n",
            "B-arrive_time.end_time: 7 (0.08%),\n",
            "I-arrive_time.end_time: 7 (0.08%),\n",
            "B-airport_name: 15 (0.18%),\n",
            "I-airport_name: 21 (0.25%),\n",
            "B-connect: 6 (0.07%),\n",
            "B-fromloc.airport_name: 8 (0.10%),\n",
            "I-fromloc.airport_name: 7 (0.08%),\n",
            "B-return_date.date_relative: 3 (0.04%),\n",
            "I-return_date.date_relative: 3 (0.04%),\n",
            "B-arrive_time.period_of_day: 6 (0.07%),\n",
            "B-fromloc.state_name: 16 (0.19%),\n",
            "I-depart_date.day_number: 15 (0.18%),\n",
            "I-depart_time.period_of_day: 1 (0.01%),\n",
            "B-cost_relative: 37 (0.44%),\n",
            "I-cost_relative: 3 (0.04%),\n",
            "B-flight_time: 1 (0.01%),\n",
            "I-flight_time: 1 (0.01%),\n",
            "B-flight_mod: 21 (0.25%),\n",
            "B-flight_number: 7 (0.08%),\n",
            "B-city_name: 35 (0.42%),\n",
            "I-city_name: 17 (0.20%),\n",
            "B-airline_code: 33 (0.40%),\n",
            "B-toloc.airport_code: 4 (0.05%),\n",
            "B-depart_time.start_time: 3 (0.04%),\n",
            "B-depart_time.end_time: 3 (0.04%),\n",
            "I-depart_time.end_time: 3 (0.04%),\n",
            "B-toloc.airport_name: 3 (0.04%),\n",
            "I-toloc.airport_name: 3 (0.04%),\n",
            "B-aircraft_code: 13 (0.16%),\n",
            "B-toloc.country_name: 1 (0.01%),\n",
            "B-class_type: 22 (0.26%),\n",
            "B-compartment: 1 (0.01%),\n",
            "B-meal_code: 1 (0.01%),\n",
            "B-day_name: 2 (0.02%),\n",
            "B-meal: 11 (0.13%),\n",
            "B-toloc.state_code: 17 (0.20%),\n",
            "B-fromloc.state_code: 22 (0.26%),\n",
            "I-class_type: 15 (0.18%),\n",
            "B-depart_time.period_mod: 5 (0.06%),\n",
            "B-fromloc.airport_code: 5 (0.06%),\n",
            "B-fare_basis_code: 17 (0.20%),\n",
            "B-flight_days: 10 (0.12%),\n",
            "B-depart_date.year: 3 (0.04%),\n",
            "B-period_of_day: 4 (0.05%),\n",
            "I-flight_mod: 5 (0.06%),\n",
            "B-transport_type: 4 (0.05%),\n",
            "B-state_code: 1 (0.01%),\n",
            "B-restriction_code: 4 (0.05%),\n",
            "I-restriction_code: 3 (0.04%),\n",
            "B-airport_code: 9 (0.11%),\n",
            "B-mod: 1 (0.01%),\n",
            "B-days_code: 1 (0.01%),\n",
            "I-arrive_time.time_relative: 4 (0.05%),\n",
            "B-or: 3 (0.04%),\n",
            "B-stoploc.airport_code: 1 (0.01%),\n",
            "I-depart_time.time_relative: 1 (0.01%),\n",
            "B-economy: 4 (0.05%),\n",
            "B-booking_class: 1 (0.01%),\n",
            "B-fare_amount: 2 (0.02%),\n",
            "I-fare_amount: 2 (0.02%),\n",
            "B-flight: 1 (0.01%),\n",
            "I-depart_time.start_time: 1 (0.01%),\n",
            "I-arrive_time.start_time: 1 (0.01%),\n",
            "I-transport_type: 1 (0.01%),\n",
            "I-fromloc.state_name: 1 (0.01%),\n",
            "I-toloc.state_name: 1 (0.01%),\n"
          ],
          "name": "stdout"
        }
      ]
    },
    {
      "cell_type": "markdown",
      "metadata": {
        "id": "a03fe17f"
      },
      "source": [
        "so we can see that unfortunately removing duplicates didn't have any noticable improvment on balancing the dataset."
      ],
      "id": "a03fe17f"
    },
    {
      "cell_type": "markdown",
      "metadata": {
        "id": "4eMbE0lSo795"
      },
      "source": [
        "## calculating class weights \n",
        "will be used in loss function for better handling imbalanced dataset"
      ],
      "id": "4eMbE0lSo795"
    },
    {
      "cell_type": "code",
      "metadata": {
        "colab": {
          "base_uri": "https://localhost:8080/"
        },
        "id": "RKJTPuzqoVR7",
        "outputId": "801537e5-2a97-4e0d-f058-c48d4f55c6db"
      },
      "source": [
        "class_weight.compute_class_weight('balanced',np.unique(train_intents_dup_free) ,train_intents_dup_free)"
      ],
      "id": "RKJTPuzqoVR7",
      "execution_count": 17,
      "outputs": [
        {
          "output_type": "execute_result",
          "data": {
            "text/plain": [
              "array([ 3.92517007,  7.03658537,  1.36084906,  3.62893082,  0.16758641,\n",
              "       10.68518519,  2.25390625, 11.31372549])"
            ]
          },
          "metadata": {},
          "execution_count": 17
        }
      ]
    },
    {
      "cell_type": "markdown",
      "metadata": {
        "id": "xR7TkN_97kvx"
      },
      "source": [
        "##Sentence generation via synonym replacement"
      ],
      "id": "xR7TkN_97kvx"
    },
    {
      "cell_type": "markdown",
      "metadata": {
        "id": "x1TK8l5NjaAw"
      },
      "source": [
        "at first some helper functions and model downloads"
      ],
      "id": "x1TK8l5NjaAw"
    },
    {
      "cell_type": "code",
      "metadata": {
        "id": "fVtg1qf8iiOB"
      },
      "source": [
        "def create_iob_file(filename, data):\n",
        "  f = open(filename, 'w')\n",
        "  for i in range(len(data)):\n",
        "    sentence = \" \".join(data[i]['words'])\n",
        "    tags = \" \".join(data[i]['iob_tags'])\n",
        "    intent = data[i]['intent']\n",
        "    f.write(\"BOS %s EOS\\t%s %s\\n\" % (sentence, tags, intent))\n",
        "  f.close()"
      ],
      "id": "fVtg1qf8iiOB",
      "execution_count": 18,
      "outputs": []
    },
    {
      "cell_type": "code",
      "metadata": {
        "id": "LOc66TPuUZ_f"
      },
      "source": [
        "%%capture\n",
        "# downloading nltk wordnet & stopwords &...\n",
        "nltk.download('punkt')\n",
        "nltk.download('averaged_perceptron_tagger')\n",
        "nltk.download('universal_tagset')\n",
        "nltk.download('stopwords')\n",
        "nltk.download('wordnet')\n",
        "stop = nltk.corpus.stopwords.words('english')\n",
        "\n",
        "# Download GloVe model\n",
        "# glove = api.load('glove-twitter-25') \n",
        "# DownloadUtil.download_glove(model_name='glove.6B', dest_dir='.') \n",
        "\n",
        "# models for synonym and context based sentence generation:\n",
        "aug_p=0.25; aug_max=5; aug_min=1\n",
        "syn = naw.SynonymAug(aug_src='wordnet', stopwords=stop, aug_p=aug_p, aug_max=aug_max, aug_min=aug_min)\n",
        "# emb = naw.WordEmbsAug(model_type='glove', model_path='glove.6B.300d.txt', stopwords=stop, aug_p=aug_p, aug_max=aug_max, aug_min=aug_min, action=\"substitute\")\n",
        "context = naw.ContextualWordEmbsAug(model_path='bert-base-uncased', stopwords=stop, aug_p=aug_p, aug_max=aug_max, aug_min=aug_min, action=\"substitute\")"
      ],
      "id": "LOc66TPuUZ_f",
      "execution_count": 19,
      "outputs": []
    },
    {
      "cell_type": "markdown",
      "metadata": {
        "id": "mtz2ZFgfjzkB"
      },
      "source": [
        "this function is used for generating new sentences with models defined above (deprecated)"
      ],
      "id": "mtz2ZFgfjzkB"
    },
    {
      "cell_type": "code",
      "metadata": {
        "id": "JQ_OrQK4WuJV"
      },
      "source": [
        "  # starting_index = 413 -> all except 'atis_flight'\n",
        "  # starting_index = 2597 -> just 'atis_restriction', 'atis_meal', 'atis_capacity', 'atis_ground_fare', 'atis_flight_no', 'atis_airport'\n",
        "\n",
        "def augment_old(reload = False, file_name = 'train_data_generated_old.pkl', starting_index = 2597):\n",
        "    train_data_generated = list()\n",
        "    if (reload):\n",
        "      f = open(file_name, 'rb')\n",
        "      train_data_generated = pickle.load(f)\n",
        "      f.close() \n",
        "\n",
        "    i = starting_index\n",
        "    while (i < len(train_data_dup_free)):\n",
        "      if (train_data_dup_free[i]['intent'] != 'atis_flight'):\n",
        "\n",
        "        orig_sentence = \" \".join(train_data_dup_free[i]['words'])\n",
        "        orig_tags = train_data_dup_free[i]['iob_tags']\n",
        "        orig_intent = train_data_dup_free[i]['intent']\n",
        "        print('\\nindex = %d, intent: %s\\noriginal sentence: %s\\n' % (i, orig_intent, orig_sentence))\n",
        "\n",
        "        generated = list()\n",
        "        generated += context.augment(orig_sentence, n = 5)\n",
        "        generated += emb.augment(orig_sentence, n = 5)\n",
        "        generated += syn.augment(orig_sentence, n = 5)\n",
        "        for j in range(len(generated)):\n",
        "          if (j % 5 == 0): print()\n",
        "          print('#%d: %s' % (j, generated[j]))\n",
        "        new_sentence = ''\n",
        "        while(True):\n",
        "          inp = input('\\nenter value between 0-'+ str(len(generated) - 1) +' or n to enter new sentence manually, r to regenerate sentences, s to skip sentence or b to break : ')\n",
        "          if (inp.isalpha()):\n",
        "            if (inp.lower() == 'n'): new_sentence = input('enter new sentence: ')\n",
        "            elif (inp.lower() == 'r'):\n",
        "              generated = list()\n",
        "              generated += context.augment(orig_sentence, n = 5)\n",
        "              generated += emb.augment(orig_sentence, n = 5)\n",
        "              generated += syn.augment(orig_sentence, n = 5)\n",
        "              print('\\nindex = %d, intent:%s\\noriginal sentence: %s\\n' % (i, orig_intent, orig_sentence))\n",
        "              for j in range(len(generated)):\n",
        "                if (j % 5 == 0): print()\n",
        "                print('#%d: %s' % (j, generated[j]))\n",
        "              continue\n",
        "\n",
        "            elif (inp.lower() == 'b'):\n",
        "              print('_' * 80)\n",
        "              print('\\nlast index = %d\\nbreaking...' % (i))\n",
        "              i = len(train_data_dup_free)\n",
        "              break\n",
        "            \n",
        "            elif (inp.lower() == 's'): break\n",
        "\n",
        "            else: continue\n",
        "\n",
        "          elif (inp.isnumeric()):\n",
        "            inp = int(inp)\n",
        "            if(inp > len(generated) - 1): continue\n",
        "            new_sentence = generated[inp]\n",
        "\n",
        "          else: continue\n",
        "\n",
        "          ans = input('\\noriginal sentence: %s\\nnew sentence: %s\\nis it ok? (y or n) ' %(orig_sentence, new_sentence))\n",
        "          if (ans.lower() == 'y' or ans.lower() == 'yes'): break\n",
        "        \n",
        "        if (new_sentence != ''):\n",
        "          new_words = new_sentence.strip().split()\n",
        "          train_data_generated.append({\n",
        "                  'words': new_words,\n",
        "                  'iob_tags': orig_tags,\n",
        "      #             'length': len(new_words),\n",
        "                  'intent': orig_intent})     \n",
        "        \n",
        "        print('_' * 80)\n",
        "        print('# of generated sentences: %d\\n' %(len(train_data_generated)))\n",
        "      i += 1\n",
        "\n",
        "    return train_data_generated"
      ],
      "id": "JQ_OrQK4WuJV",
      "execution_count": 20,
      "outputs": []
    },
    {
      "cell_type": "code",
      "metadata": {
        "id": "CQOh592BX_Ps"
      },
      "source": [
        "# train_data_generated_old = augment_old()\n",
        "\n",
        "# saving to file\n",
        "# f = open(file_name, 'wb')\n",
        "# pickle.dump(train_data_generated_old, f)\n",
        "# f.close()\n",
        "\n",
        "#creating iob file\n",
        "# create_iob_file('atis-generated-old-w-intent.iob', train_data_generated_old)"
      ],
      "id": "CQOh592BX_Ps",
      "execution_count": 21,
      "outputs": []
    },
    {
      "cell_type": "code",
      "metadata": {
        "id": "OIBQNxbdeCur"
      },
      "source": [
        "# f = open('train_data_generated_old.pkl','rb')\n",
        "# new_dict = pickle.load(f)\n",
        "# train_data_generated_old = [item for item in new_dict if item['intent'] not in drop_list]\n",
        "# f.close()"
      ],
      "id": "OIBQNxbdeCur",
      "execution_count": 22,
      "outputs": []
    },
    {
      "cell_type": "markdown",
      "metadata": {
        "id": "3DgQ_Jnbc5PS"
      },
      "source": [
        "#### following code will find all cities mentioned in train dataset"
      ],
      "id": "3DgQ_Jnbc5PS"
    },
    {
      "cell_type": "markdown",
      "metadata": {
        "id": "RzPtWGIZiCjN"
      },
      "source": [
        "so we can make new sentences by substituting them..."
      ],
      "id": "RzPtWGIZiCjN"
    },
    {
      "cell_type": "code",
      "metadata": {
        "id": "xgqsbU2dRft5"
      },
      "source": [
        "one_word_cities = set()\n",
        "two_words_cities = set()\n",
        "three_words_cities = set()\n",
        "two_words_city_state = set()\n",
        "\n",
        "for item in train_data_dup_free:\n",
        "  i = 0\n",
        "  while (i < len(item['iob_tags'])):\n",
        "    if ('city_name' in item['iob_tags'][i]):\n",
        "      if (i + 2 < len(item['iob_tags'])):\n",
        "        if ('city_name' in item['iob_tags'][i + 1] and 'city_name' in item['iob_tags'][i + 2]):\n",
        "            if (item['iob_tags'][i + 1][0] == 'I' and item['iob_tags'][i + 2][0] == 'I'): \n",
        "              three_words_cities.add(item['words'][i] + ' ' + item['words'][i + 1] + ' ' + item['words'][i + 2])\n",
        "              i += 2\n",
        "      elif (i + 1 < len(item['iob_tags'])):\n",
        "          if ('city_name' in item['iob_tags'][i + 1] and item['iob_tags'][i + 1][0] == 'I'): \n",
        "            two_words_cities.add(item['words'][i] + ' ' + item['words'][i + 1])\n",
        "            i += 1\n",
        "          elif ('state_code' in item['iob_tags'][i + 1]): \n",
        "            two_words_city_state.add(item['words'][i] + ' ' + item['words'][i + 1])\n",
        "            i += 1\n",
        "          elif (item['iob_tags'][i][0] == 'B'): one_word_cities.add(item['words'][i])\n",
        "      \n",
        "      elif (item['iob_tags'][i][0] == 'B'): one_word_cities.add(item['words'][i])\n",
        "    i += 1"
      ],
      "id": "xgqsbU2dRft5",
      "execution_count": 23,
      "outputs": []
    },
    {
      "cell_type": "markdown",
      "metadata": {
        "id": "jnIwypEihddg"
      },
      "source": [
        "we need to remove somve cities otherwise they will make some trouble:"
      ],
      "id": "jnIwypEihddg"
    },
    {
      "cell_type": "code",
      "metadata": {
        "colab": {
          "base_uri": "https://localhost:8080/"
        },
        "id": "884S2k6oUVjc",
        "outputId": "29a28bfe-f44b-4c32-8a70-b21e5a95ff2a"
      },
      "source": [
        "one_word_cities = one_word_cities - set(['washington', 'atlantas'])\n",
        "one_word_cities.update(['ny', 'riverside', 'manhattan', 'ottawa', 'austin', 'bristol', 'appleton', 'sanford', 'hartford', 'stratford', 'brooklyn', 'queens'])\n",
        "print(one_word_cities)"
      ],
      "id": "884S2k6oUVjc",
      "execution_count": 24,
      "outputs": [
        {
          "output_type": "stream",
          "text": [
            "{'columbus', 'atlanta', 'austin', 'seattle', 'philly', 'miami', 'toronto', 'dallas', 'la', 'brooklyn', 'hartford', 'manhattan', 'charlotte', 'ottawa', 'milwaukee', 'phoenix', 'baltimore', 'cleveland', 'boston', 'houston', 'orlando', 'tampa', 'indianapolis', 'detroit', 'ontario', 'queens', 'oakland', 'denver', 'burbank', 'chicago', 'riverside', 'tacoma', 'bristol', 'sanford', 'nashville', 'appleton', 'pittsburgh', 'cincinnati', 'memphis', 'minneapolis', 'montreal', 'philadelphia', 'stratford', 'newark', 'ny'}\n"
          ],
          "name": "stdout"
        }
      ]
    },
    {
      "cell_type": "code",
      "metadata": {
        "colab": {
          "base_uri": "https://localhost:8080/"
        },
        "id": "tOO28HN7aLu4",
        "outputId": "6cc6cb9c-470d-4d79-ec5a-a55408e7ee58"
      },
      "source": [
        "two_words_cities.update(['santa monica', 'santa barbara', 'oklahoma city', 'new orleans', 'colorado springs', 'port land', 'san antonio'])\n",
        "print(two_words_cities)"
      ],
      "id": "tOO28HN7aLu4",
      "execution_count": 25,
      "outputs": [
        {
          "output_type": "stream",
          "text": [
            "{'santa barbara', 'st louis', 'san francisco', 'santa monica', 'bay area', 'st paul', 'long beach', 'st petersburg', 'new york', 'westchester county', 'colorado springs', 'kansas city', 'san diego', 'oklahoma city', 'san antonio', 'las vegas', 'san jose', 'fort worth', 'los angeles', 'new orleans', 'port land', 'salt lake'}\n"
          ],
          "name": "stdout"
        }
      ]
    },
    {
      "cell_type": "code",
      "metadata": {
        "colab": {
          "base_uri": "https://localhost:8080/"
        },
        "id": "YcqEFF7KaN2I",
        "outputId": "5382d8d0-3469-41cf-8264-dbc1f7bbd99c"
      },
      "source": [
        "print(three_words_cities)"
      ],
      "id": "YcqEFF7KaN2I",
      "execution_count": 26,
      "outputs": [
        {
          "output_type": "stream",
          "text": [
            "{'city in dallas', 'new york city', 'dallas fort worth', 'salt lake city', 'city of boston'}\n"
          ],
          "name": "stdout"
        }
      ]
    },
    {
      "cell_type": "code",
      "metadata": {
        "colab": {
          "base_uri": "https://localhost:8080/"
        },
        "id": "I-Jthls8aVg2",
        "outputId": "85f757f6-559d-49ad-c6b8-589a6dc93324"
      },
      "source": [
        "print(two_words_city_state)"
      ],
      "id": "I-Jthls8aVg2",
      "execution_count": 27,
      "outputs": [
        {
          "output_type": "stream",
          "text": [
            "{'washington dc'}\n"
          ],
          "name": "stdout"
        }
      ]
    },
    {
      "cell_type": "markdown",
      "metadata": {
        "id": "5vwn78x9hqmV"
      },
      "source": [
        "#### following code will find all states mentioned in train dataset"
      ],
      "id": "5vwn78x9hqmV"
    },
    {
      "cell_type": "code",
      "metadata": {
        "id": "4Hj7RVqYbRuO"
      },
      "source": [
        "one_word_states = set()\n",
        "two_words_states = set()\n",
        "three_words_states = set()\n",
        "\n",
        "for item in train_data_dup_free:\n",
        "  i = 0\n",
        "  while (i < len(item['iob_tags'])):\n",
        "    if ('state_name' in item['iob_tags'][i]):\n",
        "      if (i + 2 < len(item['iob_tags'])):\n",
        "        if ('state_name' in item['iob_tags'][i + 1] and 'airline_name' in item['iob_tags'][i + 2]):\n",
        "            if (item['iob_tags'][i + 1][0] == 'I' and item['iob_tags'][i + 2][0] == 'I'): \n",
        "              three_words_states.add(item['words'][i] + ' ' + item['words'][i + 1] + ' ' + item['words'][i + 2])\n",
        "              i += 2\n",
        "      if (i + 1 < len(item['iob_tags'])):\n",
        "          if ('state_name' in item['iob_tags'][i + 1] and item['iob_tags'][i + 1][0] == 'I'): \n",
        "            two_words_states.add(item['words'][i] + ' ' + item['words'][i + 1])\n",
        "            i += 1\n",
        "          elif (item['iob_tags'][i][0] == 'B'): one_word_states.add(item['words'][i])\n",
        "      elif (item['iob_tags'][i][0] == 'B'): one_word_states.add(item['words'][i])\n",
        "    i += 1"
      ],
      "id": "4Hj7RVqYbRuO",
      "execution_count": 28,
      "outputs": []
    },
    {
      "cell_type": "code",
      "metadata": {
        "colab": {
          "base_uri": "https://localhost:8080/"
        },
        "id": "EvRyjgDbcJ3b",
        "outputId": "f9757dd4-6a4c-4f6d-a084-91e4cec13371"
      },
      "source": [
        "one_word_states.update(['alabama', 'iowa', 'kentucky', 'oklahoma', 'oregon', 'wisconsin', 'illinois', 'hawaii', 'alaska', 'maryland', 'massachusetts'])\n",
        "one_word_states.discard('washington')\n",
        "one_word_states.discard('colorado')\n",
        "print(one_word_states)"
      ],
      "id": "EvRyjgDbcJ3b",
      "execution_count": 29,
      "outputs": [
        {
          "output_type": "stream",
          "text": [
            "{'tennessee', 'pennsylvania', 'wisconsin', 'missouri', 'texas', 'massachusetts', 'nevada', 'kentucky', 'florida', 'michigan', 'utah', 'arizona', 'hawaii', 'quebec', 'minnesota', 'iowa', 'ohio', 'illinois', 'indiana', 'oklahoma', 'alabama', 'maryland', 'alaska', 'california', 'georgia', 'oregon'}\n"
          ],
          "name": "stdout"
        }
      ]
    },
    {
      "cell_type": "code",
      "metadata": {
        "colab": {
          "base_uri": "https://localhost:8080/"
        },
        "id": "2nfiw-8bcK_l",
        "outputId": "cde63362-acab-43d0-b966-7e4d604969fc"
      },
      "source": [
        "two_words_states.update(['new hampshire', 'new mexico', 'new york', 'south dakota', 'north dakota', 'south carolina'])\n",
        "two_words_states.discard('new york')\n",
        "print(two_words_states)"
      ],
      "id": "2nfiw-8bcK_l",
      "execution_count": 30,
      "outputs": [
        {
          "output_type": "stream",
          "text": [
            "{'new hampshire', 'new jersey', 'south dakota', 'new mexico', 'north dakota', 'south carolina', 'north carolina'}\n"
          ],
          "name": "stdout"
        }
      ]
    },
    {
      "cell_type": "code",
      "metadata": {
        "colab": {
          "base_uri": "https://localhost:8080/"
        },
        "id": "1E7Y5kdxcMrW",
        "outputId": "17c7153b-6fed-4025-910a-f80353a64e0e"
      },
      "source": [
        "three_words_states"
      ],
      "id": "1E7Y5kdxcMrW",
      "execution_count": 31,
      "outputs": [
        {
          "output_type": "execute_result",
          "data": {
            "text/plain": [
              "set()"
            ]
          },
          "metadata": {},
          "execution_count": 31
        }
      ]
    },
    {
      "cell_type": "markdown",
      "metadata": {
        "id": "qzxEHbEuhwiw"
      },
      "source": [
        "#### following code will find airlines mentioned in train dataset"
      ],
      "id": "qzxEHbEuhwiw"
    },
    {
      "cell_type": "code",
      "metadata": {
        "id": "gc-S3Ia_emKc"
      },
      "source": [
        "one_word_airlines = set()\n",
        "two_words_airlines = set()\n",
        "three_words_airlines = set()\n",
        "for item in train_data_dup_free:\n",
        "  i = 0\n",
        "  while (i < len(item['iob_tags'])):\n",
        "    if ('airline_name' in item['iob_tags'][i]):\n",
        "      if (i + 2 < len(item['iob_tags'])):\n",
        "        if ('airline_name' in item['iob_tags'][i + 1] and 'airline_name' in item['iob_tags'][i + 2]):\n",
        "            if (item['iob_tags'][i + 1][0] == 'I' and item['iob_tags'][i + 2][0] == 'I'): \n",
        "              three_words_airlines.add(item['words'][i] + ' ' + item['words'][i + 1] + ' ' + item['words'][i + 2])\n",
        "              i += 2\n",
        "      if (i + 1 < len(item['iob_tags'])):\n",
        "          if ('airline_name' in item['iob_tags'][i + 1] and item['iob_tags'][i + 1][0] == 'I'): \n",
        "            two_words_airlines.add(item['words'][i] + ' ' + item['words'][i + 1])\n",
        "            i += 1\n",
        "          elif (item['iob_tags'][i][0] == 'B'): one_word_airlines.add(item['words'][i])\n",
        "      elif (item['iob_tags'][i][0] == 'B'): one_word_airlines.add(item['words'][i])\n",
        "    i += 1"
      ],
      "id": "gc-S3Ia_emKc",
      "execution_count": 32,
      "outputs": []
    },
    {
      "cell_type": "code",
      "metadata": {
        "colab": {
          "base_uri": "https://localhost:8080/"
        },
        "id": "NXVZGR6Be0Mv",
        "outputId": "ec61e89c-b769-44a3-84dd-e373a4fae578"
      },
      "source": [
        "one_word_airlines.discard('americans')\n",
        "one_word_airlines.discard('deltas')\n",
        "one_word_airlines.update(['avelo', 'breeze', 'jetblue', 'spirit'])\n",
        "print(one_word_airlines)"
      ],
      "id": "NXVZGR6Be0Mv",
      "execution_count": 33,
      "outputs": [
        {
          "output_type": "stream",
          "text": [
            "{'nationair', 'breeze', 'continental', 'northwest', 'delta', 'american', 'southwest', 'united', 'eastern', 'lufthansa', 'avelo', 'midwest', 'jetblue', 'spirit'}\n"
          ],
          "name": "stdout"
        }
      ]
    },
    {
      "cell_type": "code",
      "metadata": {
        "colab": {
          "base_uri": "https://localhost:8080/"
        },
        "id": "zfp6jKwBe1vZ",
        "outputId": "9416bd24-a978-4dbd-ee0b-79465d1f60ee"
      },
      "source": [
        "two_words_airlines.update(['allegiant air', 'frontier airlines'])\n",
        "print(two_words_airlines)"
      ],
      "id": "zfp6jKwBe1vZ",
      "execution_count": 34,
      "outputs": [
        {
          "output_type": "stream",
          "text": [
            "{'northwest airline', 'alaska airlines', 'american airline', 'canadian airlines', 'tower air', 'american airlines', 'continental airlines', 'southwest airlines', 'northwest airlines', 'us air', 'us airlines', 'frontier airlines', 'eastern airlines', 'air canada', 'delta airlines', 'united airlines', 'america west', 'lufthansa airlines', 'eastern airline', 'allegiant air', 'continental airline', 'usa air', 'delta airline', 'midway airlines', 'united airline'}\n"
          ],
          "name": "stdout"
        }
      ]
    },
    {
      "cell_type": "code",
      "metadata": {
        "colab": {
          "base_uri": "https://localhost:8080/"
        },
        "id": "rG116UO7e3Ee",
        "outputId": "63e2f568-5487-4bd1-a452-aa6ef280d77b"
      },
      "source": [
        "three_words_airlines.update(['american eagle airlines', 'sky west airlines', 'omni air international', 'world atlantic airlines'])\n",
        "print(three_words_airlines)"
      ],
      "id": "rG116UO7e3Ee",
      "execution_count": 35,
      "outputs": [
        {
          "output_type": "stream",
          "text": [
            "{'sky west airlines', 'omni air international', 'world atlantic airlines', 'american eagle airlines', 'trans world airline', 'canadian airlines international'}\n"
          ],
          "name": "stdout"
        }
      ]
    },
    {
      "cell_type": "markdown",
      "metadata": {
        "id": "wXnBEMe3h1Kj"
      },
      "source": [
        "we can also change weekdays, months ,... in a sentence to make new ones:"
      ],
      "id": "wXnBEMe3h1Kj"
    },
    {
      "cell_type": "code",
      "metadata": {
        "id": "ElaIMga4Zz5d"
      },
      "source": [
        "weekdays = set(['saturday', 'sunday', 'monday', 'tuesday', 'wednesday', 'thursday', 'friday', 'sat', 'sun', 'mon', 'tue', 'wed', 'thu', 'fri'])\n",
        "months = set(['january', 'february', 'march', 'april', 'may', 'june', 'july', 'august', 'september', 'october', 'november', 'december', 'jan', 'feb', 'mar', 'apr', 'may', 'jun', 'jul', 'aug', 'sep', 'oct', 'nov', 'dec'])\n",
        "daytimes = set(['morning', 'noon', 'afternoon', 'evening', 'night'])\n",
        "ampm = set(['am', 'pm'])\n",
        "clocks = set(['1', '2', '3', '4', '5', '6', '7', '8', '9', '10', '11', '12'])\n",
        "\n",
        "# others:\n",
        "# second = set(['second', '2nd'])\n",
        "# third = set(['third', '3rd'])\n",
        "#ths->seventh, nineteenth ,...\n",
        "# airport_code\n",
        "# 1000$ ,..\n",
        "# summer, winter ,..."
      ],
      "id": "ElaIMga4Zz5d",
      "execution_count": 36,
      "outputs": []
    },
    {
      "cell_type": "markdown",
      "metadata": {
        "id": "uhugrvA5iNPU"
      },
      "source": [
        "the following function will get a sentence and generates n sentences with substituted name of cities &...\n"
      ],
      "id": "uhugrvA5iNPU"
    },
    {
      "cell_type": "code",
      "metadata": {
        "id": "mNMhx7CAFLRk"
      },
      "source": [
        "def myAug(sentence, n = 5):\n",
        "  generated_sentences = list()\n",
        "  for i in range(n):\n",
        "    #cities\n",
        "    new_sentence = sentence\n",
        "    used_cities = set()\n",
        "    for city in three_words_cities:\n",
        "      if (re.search(r'\\b%s\\b' % (city), new_sentence)):\n",
        "        # used_cities.add(city)\n",
        "        new = random.choice(tuple(three_words_cities - used_cities))\n",
        "        new_sentence = re.sub(r'\\b%s\\b' % (city) , new, new_sentence)\n",
        "        used_cities.add(new)\n",
        "        break\n",
        "    else:\n",
        "      # used_cities = set()\n",
        "      for city in two_words_cities:\n",
        "        if (re.search(r'\\b%s\\b' % (city), new_sentence)):\n",
        "          # used_cities.add(city)\n",
        "          new = random.choice(tuple(two_words_cities - used_cities))\n",
        "          new_sentence = re.sub(r'\\b%s\\b' % (city) , new, new_sentence)\n",
        "          used_cities.add(new)\n",
        "      else:\n",
        "          # used_cities = set()\n",
        "          for city in one_word_cities:\n",
        "            if (re.search(r'\\b%s\\b' % (city), new_sentence)):\n",
        "              # used_cities.add(city)\n",
        "              new = random.choice(tuple(one_word_cities - used_cities))\n",
        "              new_sentence = re.sub(r'\\b%s\\b' % (city) , new, new_sentence)\n",
        "              used_cities.add(new)\n",
        "\n",
        "    #states\n",
        "    used_states = set()\n",
        "    for state in three_words_states:\n",
        "       if (re.search(r'\\b%s\\b' % (state), new_sentence)):\n",
        "        # used_states.add(state)\n",
        "        new = random.choice(tuple(three_words_states - used_states))\n",
        "        new_sentence = re.sub(r'\\b%s\\b' % (state) , new, new_sentence)\n",
        "        used_states.add(new)\n",
        "        break\n",
        "    else:\n",
        "      # used_states = set()\n",
        "      for state in two_words_states:\n",
        "        if (re.search(r'\\b%s\\b' % (state), new_sentence)):\n",
        "          # used_states.add(state)\n",
        "          new = random.choice(tuple(two_words_states - used_states))\n",
        "          new_sentence = re.sub(r'\\b%s\\b' % (state) , new, new_sentence)\n",
        "          used_states.add(new)\n",
        "          # break\n",
        "      else:\n",
        "        # used_states = set()\n",
        "        for state in one_word_states:\n",
        "          if (re.search(r'\\b%s\\b' % (state), new_sentence)):\n",
        "            # used_states.add(state)\n",
        "            new = random.choice(tuple(one_word_states - used_states))\n",
        "            new_sentence = re.sub(r'\\b%s\\b' % (state) , new, new_sentence)\n",
        "            used_states.add(new)\n",
        "            # break\n",
        "      \n",
        "    #airlines\n",
        "    used_airlines = set()\n",
        "    for airline in three_words_airlines:\n",
        "      if (re.search(r'\\b%s\\b' % (airline), new_sentence)):\n",
        "        # used_airlines.add(airline)\n",
        "        new = random.choice(tuple(three_words_airlines - used_airlines))\n",
        "        new_sentence = re.sub(r'\\b%s\\b' % (airline) , new, new_sentence)\n",
        "        used_airlines.add(new)\n",
        "        break\n",
        "    else:\n",
        "      # used_airlines = set()\n",
        "      for airline in two_words_airlines:\n",
        "        if (re.search(r'\\b%s\\b' % (airline), new_sentence)):\n",
        "          # used_airlines.add(airline)\n",
        "          new = random.choice(tuple(two_words_airlines - used_airlines))\n",
        "          new_sentence = re.sub(r'\\b%s\\b' % (airline) , new, new_sentence)\n",
        "          used_airlines.add(new)\n",
        "          # break\n",
        "      else:\n",
        "        # used_airlines = set()\n",
        "        for airline in one_word_airlines:\n",
        "          if (re.search(r'\\b%s\\b' % (airline), new_sentence)):\n",
        "            # used_airlines.add(airline)\n",
        "            new = random.choice(tuple(one_word_airlines - used_airlines))\n",
        "            new_sentence = re.sub(r'\\b%s\\b' % (airline) , new, new_sentence)\n",
        "            used_airlines.add(new)\n",
        "            # break\n",
        "      \n",
        "    #months\n",
        "    # used_months = set()\n",
        "    for month in months:\n",
        "      if (re.search(r'\\b%s\\b' % (month), new_sentence)):\n",
        "         new = random.choice(tuple(months - set([month])))\n",
        "         new_sentence = re.sub(r'\\b%s\\b' % (month) , new, new_sentence)\n",
        "\n",
        "    #daytimes\n",
        "    # used_daytimes = set()\n",
        "    for time in daytimes:\n",
        "      if (re.search(r'\\b%s\\b' % (time), new_sentence)):\n",
        "         new = random.choice(tuple(daytimes - set([time])))\n",
        "         new_sentence = re.sub(r'\\b%s\\b' % (time) , new, new_sentence)\n",
        "          \n",
        "    #weekdays\n",
        "    # used_weekdays = set()\n",
        "    for weekday in weekdays:\n",
        "      if (re.search(r'\\b%s\\b' % (weekday), new_sentence)):\n",
        "         new = random.choice(tuple(weekdays - set([weekday])))\n",
        "         new_sentence = re.sub(r'\\b%s\\b' % (weekday) , new, new_sentence)\n",
        "\n",
        "    #clocks\n",
        "    # used_clocks = set()\n",
        "    for clock in clocks:\n",
        "      if (re.search(r'\\b%s\\b' % (clock), new_sentence)):\n",
        "         new = random.choice(tuple(clocks - set([clock])))\n",
        "         new_sentence = re.sub(r'\\b%s\\b' % (clock) , new, new_sentence)\n",
        "         break   \n",
        "    \n",
        "    #ampm\n",
        "    for item in ampm:\n",
        "      if (re.search(r'\\b%s\\b' % (item), new_sentence) and random.random() > 0.5):\n",
        "        new = random.choice(tuple(ampm - set([item])))\n",
        "        new_sentence = re.sub(r'\\b%s\\b' % (item) , new, new_sentence)\n",
        "\n",
        "    if (re.search(r'\\b%s\\b' % ('first class'), new_sentence) and random.random() > 0.5):\n",
        "      new_sentence = re.sub(r'\\b%s\\b' % ('first class') , '1st class', new_sentence)\n",
        "\n",
        "    if (new_sentence != sentence): generated_sentences.append(new_sentence)\n",
        " \n",
        "  return generated_sentences"
      ],
      "id": "mNMhx7CAFLRk",
      "execution_count": 37,
      "outputs": []
    },
    {
      "cell_type": "markdown",
      "metadata": {
        "id": "QGLqNTLzpVE6"
      },
      "source": [
        "this function is used for generating new sentences using above function (deprecated):\n"
      ],
      "id": "QGLqNTLzpVE6"
    },
    {
      "cell_type": "code",
      "metadata": {
        "id": "-EWf4hIig5ck"
      },
      "source": [
        "def augment_new():\n",
        "  train_data_generated_new = list()\n",
        "  starting_index = 0\n",
        "  i = starting_index\n",
        "  for i in range(starting_index, len(train_data_dup_free)):\n",
        "    if (train_data_dup_free[i]['intent'] != 'atis_flight'):\n",
        "\n",
        "      orig_sentence = \" \".join(train_data_dup_free[i]['words'])\n",
        "      orig_tags = train_data_dup_free[i]['iob_tags']\n",
        "      orig_intent = train_data_dup_free[i]['intent']\n",
        "\n",
        "      new_sentence = ''\n",
        "      generated = myAug(orig_sentence, n = 5)\n",
        "      if(len(generated) > 0): new_sentence = random.choice(tuple(generated))\n",
        "      if (new_sentence != ''):\n",
        "        new_words = new_sentence.strip().split()\n",
        "        train_data_generated_new.append({\n",
        "                'words': new_words,\n",
        "                'iob_tags': orig_tags,\n",
        "    #             'length': len(new_words),\n",
        "                'intent': orig_intent})     \n",
        "\n",
        "    return train_data_generated_new"
      ],
      "id": "-EWf4hIig5ck",
      "execution_count": 38,
      "outputs": []
    },
    {
      "cell_type": "code",
      "metadata": {
        "id": "78EjmQ4CclSm"
      },
      "source": [
        "# train_data_generated_new = augment_new()\n",
        "\n",
        "# writing to file\n",
        "# f = open('train_data_generated_new.pkl','wb')\n",
        "# pickle.dump(train_data_generated_new, f)\n",
        "# f.close()\n",
        "\n",
        "#creating iob file\n",
        "# create_iob_file('atis-generated-new-w-intent.iob', train_data_generated_new)"
      ],
      "id": "78EjmQ4CclSm",
      "execution_count": 39,
      "outputs": []
    },
    {
      "cell_type": "markdown",
      "metadata": {
        "id": "Ez5DHz6RsfX_"
      },
      "source": [
        "adding some random misspellings:"
      ],
      "id": "Ez5DHz6RsfX_"
    },
    {
      "cell_type": "code",
      "metadata": {
        "id": "FvQSl8Air0L7"
      },
      "source": [
        "spell = naw.SpellingAug(dict_path ='spelling_en.txt', aug_p=aug_p, aug_max=aug_max, aug_min=aug_min)"
      ],
      "id": "FvQSl8Air0L7",
      "execution_count": 40,
      "outputs": []
    },
    {
      "cell_type": "code",
      "metadata": {
        "id": "Kpq6vtH0r4L-"
      },
      "source": [
        "def augment_misspell(reload = False, file_name = 'train_data_misspell.pkl', starting_index = 1290):\n",
        "  train_data_misspell = list()\n",
        "  if (reload):\n",
        "    f = open(file_name, 'rb')\n",
        "    train_data_misspell = pickle.load(f)\n",
        "    f.close() \n",
        "  i = starting_index\n",
        "  while (i < len(train_data_dup_free)):\n",
        "    if (train_data_dup_free[i]['intent'] != 'atis_flight'):\n",
        "      orig_sentence = \" \".join(train_data_dup_free[i]['words'])\n",
        "      orig_tags = train_data_dup_free[i]['iob_tags']\n",
        "      orig_intent = train_data_dup_free[i]['intent']\n",
        "      print('\\nindex = %d, intent: %s\\noriginal sentence: %s\\n' % (i, orig_intent, orig_sentence))\n",
        "\n",
        "      generated = spell.augment(orig_sentence, n = 15)\n",
        "      for j in range(len(generated)):\n",
        "        print('#%d: %s' % (j, generated[j]))\n",
        "      new_sentence = ''\n",
        "      while(True):\n",
        "        inp = input('\\nenter value between 0-'+ str(len(generated) - 1) +' or n to enter new sentence manually, r to regenerate sentences, s to skip sentence or b to break : ')\n",
        "        if (inp.isalpha()):\n",
        "          if (inp.lower() == 'n'): new_sentence = input('enter new sentence: ')\n",
        "          elif (inp.lower() == 'r'):\n",
        "            generated = spell.augment(orig_sentence, n = 15)\n",
        "            print('\\nindex = %d, intent:%s\\noriginal sentence: %s\\n' % (i, orig_intent, orig_sentence))\n",
        "            for j in range(len(generated)):\n",
        "              print('#%d: %s' % (j, generated[j]))\n",
        "            continue\n",
        "\n",
        "          elif (inp.lower() == 'b'):\n",
        "            print('_' * 80)\n",
        "            print('\\nlast index = %d\\nbreaking...' % (i))\n",
        "            i = len(train_data_dup_free)\n",
        "            break\n",
        "          \n",
        "          elif (inp.lower() == 's'): break\n",
        "\n",
        "          else: continue\n",
        "\n",
        "        elif (inp.isnumeric()):\n",
        "          inp = int(inp)\n",
        "          if(inp > len(generated) - 1): continue\n",
        "          new_sentence = generated[inp]\n",
        "\n",
        "        else: continue\n",
        "\n",
        "        ans = input('\\noriginal sentence: %s\\nnew sentence: %s\\nis it ok? (y or n) ' %(orig_sentence, new_sentence))\n",
        "        if (ans.lower() == 'y' or ans.lower() == 'yes'): break\n",
        "      \n",
        "      if (new_sentence != ''):\n",
        "        new_words = new_sentence.strip().split()\n",
        "        train_data_misspell.append({\n",
        "                'words': new_words,\n",
        "                'iob_tags': orig_tags,\n",
        "    #             'length': len(new_words),\n",
        "                'intent': orig_intent})     \n",
        "      \n",
        "      print('_' * 80)\n",
        "      print('# of generated sentences: %d\\n' %(len(train_data_misspell)))\n",
        "\n",
        "    i += 1\n",
        "\n",
        "  return train_data_misspell"
      ],
      "id": "Kpq6vtH0r4L-",
      "execution_count": 41,
      "outputs": []
    },
    {
      "cell_type": "code",
      "metadata": {
        "id": "8-8PxTo3lrsx"
      },
      "source": [
        "# train_data_misspell = augment_misspell()\n",
        "\n",
        "#saving to file\n",
        "# f = open('train_data_misspell.pkl', 'wb')\n",
        "# pickle.dump(train_data_misspell, f)\n",
        "# f.close()\n",
        "\n",
        "# creating iob file\n",
        "# create_iob_file('atis-generated-misspell-w-intent.iob', train_data_misspell)"
      ],
      "id": "8-8PxTo3lrsx",
      "execution_count": 42,
      "outputs": []
    },
    {
      "cell_type": "code",
      "metadata": {
        "id": "zLK44yiukxrN"
      },
      "source": [
        "# f = open('train_data_misspell.pkl','rb')\n",
        "# dict_temp = pickle.load(f)\n",
        "# f.close()\n",
        "# len(dict_temp)\n",
        "\n",
        "# train_data_misspell = [item for item in dict_temp if item['intent'] not in drop_list]\n",
        "# len(train_data_misspell)"
      ],
      "id": "zLK44yiukxrN",
      "execution_count": 43,
      "outputs": []
    },
    {
      "cell_type": "markdown",
      "metadata": {
        "id": "bJn8HobH7t6B"
      },
      "source": [
        "##Dropping similar sentences"
      ],
      "id": "bJn8HobH7t6B"
    },
    {
      "cell_type": "code",
      "metadata": {
        "id": "Lh4w4U91sIYf"
      },
      "source": [
        "# train sentences with 'atis_flight' intent that we are going to drop some\n",
        "train_sentences_dup_free = list()\n",
        "for i in range(len(train_intents_dup_free)):\n",
        "  if (train_intents_dup_free[i] == 'atis_flight'): \n",
        "    item = \" \".join(train_words_dup_free[i])\n",
        "    train_sentences_dup_free.append(item)"
      ],
      "id": "Lh4w4U91sIYf",
      "execution_count": 44,
      "outputs": []
    },
    {
      "cell_type": "code",
      "metadata": {
        "id": "uSJrMBcTzTJH"
      },
      "source": [
        "%%capture\n",
        "# preparing model\n",
        "corpus_sentences = train_sentences_dup_free\n",
        "embedder = SentenceTransformer('stsb-mpnet-base-v2')"
      ],
      "id": "uSJrMBcTzTJH",
      "execution_count": 45,
      "outputs": []
    },
    {
      "cell_type": "markdown",
      "metadata": {
        "id": "zvGWyak9kcnb"
      },
      "source": [
        "### finding similar pairs\n"
      ],
      "id": "zvGWyak9kcnb"
    },
    {
      "cell_type": "code",
      "metadata": {
        "id": "J5DC0O-pIFcr"
      },
      "source": [
        "def find_similar_pairs():\n",
        "  # Compute embeddings\n",
        "  corpus_embeddings = embedder.encode(corpus_sentences,show_progress_bar=True, convert_to_tensor=True)\n",
        "\n",
        "  #Compute cosine-similarities for each sentence with each other sentence\n",
        "  cosine_scores = util.pytorch_cos_sim(corpus_embeddings, corpus_embeddings)\n",
        "\n",
        "  #Find the pairs with the highest cosine similarity scores\n",
        "  pairs = []\n",
        "  for i in range(len(cosine_scores)-1):\n",
        "      for j in range(i+1, len(cosine_scores)):\n",
        "          pairs.append({'index': [i, j], 'score': cosine_scores[i][j]})\n",
        "\n",
        "  #Sort scores in decreasing order\n",
        "  pairs = sorted(pairs, key=lambda x: x['score'], reverse=True)\n",
        "\n",
        "  return pairs"
      ],
      "id": "J5DC0O-pIFcr",
      "execution_count": 46,
      "outputs": []
    },
    {
      "cell_type": "code",
      "metadata": {
        "id": "G-mDv4wLpBZu"
      },
      "source": [
        "# find_similar_pairs()"
      ],
      "id": "G-mDv4wLpBZu",
      "execution_count": 47,
      "outputs": []
    },
    {
      "cell_type": "code",
      "metadata": {
        "id": "7hIt9RbBIa6_"
      },
      "source": [
        "# # saving to file\n",
        "# f = open('similar-pairs.txt', 'w')\n",
        "# for pair in pairs:\n",
        "#   i, j = pair['index']\n",
        "#   f.write(\"{} \\t\\t {} \\t\\t Score: {:.4f}\\n\".format(corpus_sentences[i], corpus_sentences[j], pair['score']))\n",
        "#   if (pair['score'] < 0.75): break\n",
        "# f.close()"
      ],
      "id": "7hIt9RbBIa6_",
      "execution_count": 48,
      "outputs": []
    },
    {
      "cell_type": "markdown",
      "metadata": {
        "id": "Rxxbg-Nypt04"
      },
      "source": [
        "### Agglomerative Clustering\n"
      ],
      "id": "Rxxbg-Nypt04"
    },
    {
      "cell_type": "code",
      "metadata": {
        "colab": {
          "base_uri": "https://localhost:8080/",
          "height": 49,
          "referenced_widgets": [
            "30678d8013c14c4d9ecd3c239bb82cea",
            "c381630be5c44bbd90b438d028bbd2e5",
            "7ca4b64dd8d64786a36e6d230f8321d0",
            "75ce0d1e3d144d4db41375a35faa863f",
            "94268214e1f54b12a728d9a485c9161a",
            "8b078388d90f4696923c8392a1829826",
            "87c2aedde3ea4cbda3709472c209fcf7",
            "31266566072544edb0fd2d37f236e6a8",
            "ccc885c5e0014e64bb0cae0b6691f0e9",
            "c579d50137264f22828118bcd414fd98",
            "040be28aabe54d65b02366a260400db6"
          ]
        },
        "id": "Ij7JAWPkskwp",
        "outputId": "777b44f3-b02d-4c47-ba24-f8a17aeb19a1"
      },
      "source": [
        "corpus_sentences = train_sentences_dup_free\n",
        "corpus_embeddings = embedder.encode(corpus_sentences, show_progress_bar=True)\n",
        "\n",
        "# Normalize the embeddings to unit length\n",
        "corpus_embeddings = corpus_embeddings / np.linalg.norm(corpus_embeddings, axis=1, keepdims=True)"
      ],
      "id": "Ij7JAWPkskwp",
      "execution_count": 49,
      "outputs": [
        {
          "output_type": "display_data",
          "data": {
            "application/vnd.jupyter.widget-view+json": {
              "model_id": "30678d8013c14c4d9ecd3c239bb82cea",
              "version_minor": 0,
              "version_major": 2
            },
            "text/plain": [
              "Batches:   0%|          | 0/108 [00:00<?, ?it/s]"
            ]
          },
          "metadata": {}
        }
      ]
    },
    {
      "cell_type": "code",
      "metadata": {
        "id": "1c3vcY3GnAHn"
      },
      "source": [
        "def cluster():\n",
        "    # clustering_model = AgglomerativeClustering(n_clusters=None, distance_threshold=1) \n",
        "  clustering_model = AgglomerativeClustering(n_clusters=None, affinity='cosine', linkage='complete', distance_threshold=0.15)\n",
        "  model = clustering_model.fit(corpus_embeddings)\n",
        "  cluster_assignment = clustering_model.labels_\n",
        "\n",
        "  clustered_sentences = {}\n",
        "  for sentence_id, cluster_id in enumerate(cluster_assignment):\n",
        "      if cluster_id not in clustered_sentences: clustered_sentences[cluster_id] = list()\n",
        "      clustered_sentences[cluster_id].append(corpus_sentences[sentence_id])\n",
        "\n",
        "  return clustering_model, clustered_sentences"
      ],
      "id": "1c3vcY3GnAHn",
      "execution_count": 50,
      "outputs": []
    },
    {
      "cell_type": "code",
      "metadata": {
        "id": "MQSfOe9KoMkb"
      },
      "source": [
        "clustering_model, clustered_sentences = cluster()"
      ],
      "id": "MQSfOe9KoMkb",
      "execution_count": 51,
      "outputs": []
    },
    {
      "cell_type": "code",
      "metadata": {
        "id": "MiXhJwzvZZtj"
      },
      "source": [
        "def visualize_clusters():\n",
        "  pca = PCA(n_components=2)\n",
        "  X_r = pca.fit(corpus_embeddings).transform(corpus_embeddings)\n",
        "\n",
        "  plt.figure(1, figsize=(7, 5))\n",
        "  for i, target_name in zip([x for x in range(len(clustering_model.labels_))], set(clustering_model.labels_)):\n",
        "      plt.scatter(X_r[clustering_model.labels_ == i, 0], X_r[ clustering_model.labels_ == i, 1], alpha=.8, label=target_name)\n",
        "  plt.title('2D PCA Agglomerative Clustering')\n",
        "  plt.show()\n",
        "\n",
        "  # ploting the first three PCA dimensions\n",
        "  fig = plt.figure(1, figsize=(7, 5))\n",
        "  ax = Axes3D(fig, elev=-150, azim=110)\n",
        "  X_reduced = PCA(n_components=3).fit_transform(corpus_embeddings)\n",
        "  ax.scatter(X_reduced[:, 0], X_reduced[:, 1], X_reduced[:, 2],c=clustering_model.labels_,\n",
        "            cmap=plt.cm.Set1, edgecolor='k', s=40)\n",
        "  ax.set_title(\"First three PCA directions - Agglomerative Clustering\")\n",
        "  ax.set_xlabel(\"1st eigenvector\")\n",
        "  ax.w_xaxis.set_ticklabels([])\n",
        "  ax.set_ylabel(\"2nd eigenvector\")\n",
        "  ax.w_yaxis.set_ticklabels([])\n",
        "  ax.set_zlabel(\"3rd eigenvector\")\n",
        "  ax.w_zaxis.set_ticklabels([])\n",
        "  plt.show()"
      ],
      "id": "MiXhJwzvZZtj",
      "execution_count": 52,
      "outputs": []
    },
    {
      "cell_type": "code",
      "metadata": {
        "colab": {
          "base_uri": "https://localhost:8080/",
          "height": 709
        },
        "id": "cz5BHEcYafiC",
        "outputId": "dde15d99-de5c-43c1-b906-2ae790e91bdf"
      },
      "source": [
        "visualize_clusters()"
      ],
      "id": "cz5BHEcYafiC",
      "execution_count": 53,
      "outputs": [
        {
          "output_type": "display_data",
          "data": {
            "image/png": "[encoded data removed]",
            "text/plain": [
              "<Figure size 504x360 with 1 Axes>"
            ]
          },
          "metadata": {}
        },
        {
          "output_type": "display_data",
          "data": {
            "image/png": "[encoded data removed]",
            "text/plain": [
              "<Figure size 504x360 with 1 Axes>"
            ]
          },
          "metadata": {}
        }
      ]
    },
    {
      "cell_type": "code",
      "metadata": {
        "id": "zjf2237vqxJ4"
      },
      "source": [
        "def plot_dendrogram(model, **kwargs):\n",
        "    # Create linkage matrix and then plot the dendrogram\n",
        "    \n",
        "    # create the counts of samples under each node\n",
        "    counts = np.zeros(model.children_.shape[0])\n",
        "    n_samples = len(model.labels_)\n",
        "    for i, merge in enumerate(model.children_):\n",
        "        current_count = 0\n",
        "        for child_idx in merge:\n",
        "            if child_idx < n_samples:\n",
        "                current_count += 1  # leaf node\n",
        "            else:\n",
        "                current_count += counts[child_idx - n_samples]\n",
        "        counts[i] = current_count\n",
        "\n",
        "    linkage_matrix = np.column_stack([model.children_, model.distances_,\n",
        "                                      counts]).astype(float)\n",
        "\n",
        "    # Plot the corresponding dendrogram\n",
        "    plt.figure(figsize=(12, 5))\n",
        "    plt.title('Hierarchical Clustering Dendrogram')\n",
        "    dendrogram(linkage_matrix, **kwargs)\n",
        "    plt.xlabel(\"Number of points in node (or index of point if no parenthesis).\")\n",
        "    plt.show()"
      ],
      "id": "zjf2237vqxJ4",
      "execution_count": 54,
      "outputs": []
    },
    {
      "cell_type": "code",
      "metadata": {
        "colab": {
          "base_uri": "https://localhost:8080/",
          "height": 353
        },
        "id": "uo9BbauTEUKz",
        "outputId": "a72e4348-4685-43f3-9190-b97e7bd08909"
      },
      "source": [
        "plot_dendrogram(clustering_model, truncate_mode='level', p=5)"
      ],
      "id": "uo9BbauTEUKz",
      "execution_count": 55,
      "outputs": [
        {
          "output_type": "display_data",
          "data": {
            "image/png": "[encoded data removed]",
            "text/plain": [
              "<Figure size 864x360 with 1 Axes>"
            ]
          },
          "metadata": {}
        }
      ]
    },
    {
      "cell_type": "code",
      "metadata": {
        "id": "jPAaJAd_Tkol"
      },
      "source": [
        "# # writing to text\n",
        "# f = open('Clusters-Agglomerative.txt', 'w')\n",
        "# for i, cluster in clustered_sentences.items():\n",
        "#     if (len(cluster) > 1): f.write(\"Cluster %d, #%d Elements :\\n\" % (i+1, len(cluster)) + str(cluster) + \"\\n\\n\\n\")\n",
        "# f.close()"
      ],
      "id": "jPAaJAd_Tkol",
      "execution_count": 56,
      "outputs": []
    },
    {
      "cell_type": "markdown",
      "metadata": {
        "id": "LvD3EMmakiwH"
      },
      "source": [
        "dropping 50% of every clusters samples:"
      ],
      "id": "LvD3EMmakiwH"
    },
    {
      "cell_type": "code",
      "metadata": {
        "id": "l82fRd4SEk-3"
      },
      "source": [
        "# percentage = 0.5\n",
        "# train_data_undersampled = list()\n",
        "# for i, cluster in clustered_sentences.items():\n",
        "#   sorted_cluster = sorted(cluster, key=len,  reverse=True)\n",
        "#   for j in range(math.ceil(percentage * len(sorted_cluster))):\n",
        "#      item = next(item for item in train_data_dup_free if item[\"words\"] == sorted_cluster[j].strip().split())\n",
        "#      train_data_undersampled.append(item)     \n",
        "\n",
        "\n",
        "# # writing to file\n",
        "# f = open('train_data_undersampled.pkl','wb')\n",
        "# pickle.dump(train_data_undersampled, f)\n",
        "# f.close()\n",
        "\n",
        "# # creating iob file\n",
        "# create_iob_file('atis-undersampled-w-intent.iob', train_data_undersampled)"
      ],
      "id": "l82fRd4SEk-3",
      "execution_count": 57,
      "outputs": []
    },
    {
      "cell_type": "code",
      "metadata": {
        "id": "MOrLPAi_o2qB"
      },
      "source": [
        "# f = open('train_data_undersampled.pkl','rb')\n",
        "# new_dict = pickle.load(f)\n",
        "# f.close()\n",
        "# train_data_undersampled = new_dict"
      ],
      "id": "MOrLPAi_o2qB",
      "execution_count": 58,
      "outputs": []
    },
    {
      "cell_type": "markdown",
      "metadata": {
        "id": "bhHTN5MpxCbp"
      },
      "source": [
        "##Final result"
      ],
      "id": "bhHTN5MpxCbp"
    },
    {
      "cell_type": "code",
      "metadata": {
        "id": "j9qQZIn4kyby"
      },
      "source": [
        "# loading previously generated data and combining them\n",
        "_, _, _, _, generated_new = dataLoader('atis-generated-new-w-intent.iob')\n",
        "_, _, _, _, generated_old = dataLoader('atis-generated-old-w-intent.iob')\n",
        "_, _, _, _, generated_misspell = dataLoader('atis-generated-misspell-w-intent.iob')\n",
        "generated_final = generated_new + generated_old + generated_misspell\n",
        "random.shuffle(generated_final)\n",
        "\n",
        "# creating iob file from combined data\n",
        "create_iob_file('atis-generated-final-w-intent.iob', generated_final)"
      ],
      "id": "j9qQZIn4kyby",
      "execution_count": 59,
      "outputs": []
    },
    {
      "cell_type": "code",
      "metadata": {
        "id": "X1CYOrtKor3I"
      },
      "source": [
        "# loading undersampled data with 'atis_flight' intent\n",
        "_, _, _, _, train_data_undersampled = dataLoader('atis-undersampled-w-intent.iob')"
      ],
      "id": "X1CYOrtKor3I",
      "execution_count": 60,
      "outputs": []
    },
    {
      "cell_type": "code",
      "metadata": {
        "id": "1-qPD7OstzAT"
      },
      "source": [
        "# putting generated data and original data all together\n",
        "train_data_final = generated_final\n",
        "train_data_final += [item for item in train_data_dup_free if item['intent'] != 'atis_flight']\n",
        "train_data_final += train_data_undersampled\n",
        "random.shuffle(train_data_final)\n",
        "create_iob_file('atis-train-final-w-intent.iob', train_data_final)"
      ],
      "id": "1-qPD7OstzAT",
      "execution_count": 61,
      "outputs": []
    },
    {
      "cell_type": "code",
      "metadata": {
        "colab": {
          "base_uri": "https://localhost:8080/",
          "height": 1000
        },
        "id": "eYZdwhOxx6pt",
        "outputId": "be9e7f73-f712-4ccc-8d65-281e5980843b"
      },
      "source": [
        "#loading final result \n",
        "final_words, final_tags, final_intents, final_vocabs, final_data = dataLoader('atis-train-final-w-intent.iob')\n",
        "dataStatistics(final_tags, final_intents, final_vocabs)"
      ],
      "id": "eYZdwhOxx6pt",
      "execution_count": 62,
      "outputs": [
        {
          "output_type": "stream",
          "text": [
            "dataset vocab size: 1000\n",
            "# of dataset rows: 4770\n",
            "# of dataset unique intents: 8\n",
            "# of dataset unique IOB tags: 119\n",
            "-----------------------------------\n",
            "intents distribution:\n",
            "atis_flight: 2554 (53.54%),\n",
            "atis_airline: 293 (6.14%),\n",
            "atis_quantity: 100 (2.10%),\n",
            "atis_ground_service: 524 (10.99%),\n",
            "atis_airfare: 874 (18.32%),\n",
            "atis_aircraft: 161 (3.38%),\n",
            "atis_abbreviation: 152 (3.19%),\n",
            "atis_flight_time: 112 (2.35%),\n",
            "\n"
          ],
          "name": "stdout"
        },
        {
          "output_type": "display_data",
          "data": {
            "image/png": "[encoded data removed]",
            "text/plain": [
              "<Figure size 1728x576 with 1 Axes>"
            ]
          },
          "metadata": {}
        },
        {
          "output_type": "stream",
          "text": [
            "\n",
            "-----------------------------------\n",
            "tags distribution:\n",
            "I-round_trip: 471 (1.00%),\n",
            "O: 27536 (58.57%),\n",
            "B-fromloc.city_name: 3891 (8.28%),\n",
            "B-toloc.city_name: 3958 (8.42%),\n",
            "B-cost_relative: 438 (0.93%),\n",
            "B-fare_amount: 71 (0.15%),\n",
            "I-fare_amount: 69 (0.15%),\n",
            "B-fromloc.airport_name: 90 (0.19%),\n",
            "I-fromloc.airport_name: 110 (0.23%),\n",
            "B-flight_mod: 245 (0.52%),\n",
            "I-toloc.city_name: 1041 (2.21%),\n",
            "B-meal: 36 (0.08%),\n",
            "B-depart_time.time_relative: 288 (0.61%),\n",
            "B-depart_time.time: 334 (0.71%),\n",
            "I-depart_time.time: 271 (0.58%),\n",
            "B-depart_date.day_name: 704 (1.50%),\n",
            "B-flight_time: 112 (0.24%),\n",
            "I-flight_time: 48 (0.10%),\n",
            "B-flight_stop: 126 (0.27%),\n",
            "I-fromloc.city_name: 598 (1.27%),\n",
            "B-airline_name: 601 (1.28%),\n",
            "I-airline_name: 397 (0.84%),\n",
            "B-city_name: 384 (0.82%),\n",
            "B-round_trip: 454 (0.97%),\n",
            "I-transport_type: 27 (0.06%),\n",
            "B-stoploc.city_name: 197 (0.42%),\n",
            "I-stoploc.city_name: 34 (0.07%),\n",
            "B-meal_description: 41 (0.09%),\n",
            "B-depart_time.period_of_day: 495 (1.05%),\n",
            "B-depart_date.month_name: 375 (0.80%),\n",
            "B-depart_date.day_number: 402 (0.86%),\n",
            "I-depart_date.day_number: 112 (0.24%),\n",
            "B-depart_date.year: 23 (0.05%),\n",
            "B-toloc.state_code: 81 (0.17%),\n",
            "B-airport_name: 50 (0.11%),\n",
            "I-airport_name: 63 (0.13%),\n",
            "I-flight_stop: 15 (0.03%),\n",
            "B-depart_date.today_relative: 80 (0.17%),\n",
            "B-fare_basis_code: 79 (0.17%),\n",
            "B-transport_type: 51 (0.11%),\n",
            "I-cost_relative: 73 (0.16%),\n",
            "B-depart_date.date_relative: 74 (0.16%),\n",
            "B-arrive_time.time_relative: 158 (0.34%),\n",
            "B-arrive_time.time: 170 (0.36%),\n",
            "B-class_type: 306 (0.65%),\n",
            "I-city_name: 93 (0.20%),\n",
            "B-day_name: 10 (0.02%),\n",
            "B-period_of_day: 8 (0.02%),\n",
            "B-airline_code: 138 (0.29%),\n",
            "B-flight_number: 117 (0.25%),\n",
            "I-meal_description: 2 (0.00%),\n",
            "I-arrive_time.time: 137 (0.29%),\n",
            "B-days_code: 3 (0.01%),\n",
            "B-airport_code: 27 (0.06%),\n",
            "B-arrive_date.day_name: 73 (0.16%),\n",
            "B-fromloc.state_code: 38 (0.08%),\n",
            "B-arrive_date.date_relative: 10 (0.02%),\n",
            "I-class_type: 265 (0.56%),\n",
            "B-mod: 38 (0.08%),\n",
            "B-arrive_time.period_of_day: 58 (0.12%),\n",
            "B-restriction_code: 19 (0.04%),\n",
            "B-meal_code: 6 (0.01%),\n",
            "B-arrive_time.start_time: 15 (0.03%),\n",
            "I-arrive_time.start_time: 6 (0.01%),\n",
            "B-arrive_time.end_time: 14 (0.03%),\n",
            "I-arrive_time.end_time: 14 (0.03%),\n",
            "B-toloc.airport_name: 32 (0.07%),\n",
            "I-toloc.airport_name: 41 (0.09%),\n",
            "B-depart_time.period_mod: 39 (0.08%),\n",
            "I-depart_date.today_relative: 12 (0.03%),\n",
            "B-connect: 36 (0.08%),\n",
            "B-economy: 45 (0.10%),\n",
            "I-economy: 12 (0.03%),\n",
            "I-restriction_code: 14 (0.03%),\n",
            "B-toloc.state_name: 71 (0.15%),\n",
            "B-return_date.month_name: 5 (0.01%),\n",
            "B-return_date.day_number: 5 (0.01%),\n",
            "B-aircraft_code: 22 (0.05%),\n",
            "B-or: 52 (0.11%),\n",
            "B-state_code: 7 (0.01%),\n",
            "B-arrive_date.month_name: 45 (0.10%),\n",
            "B-arrive_date.day_number: 45 (0.10%),\n",
            "I-arrive_date.day_number: 8 (0.02%),\n",
            "B-return_date.today_relative: 1 (0.00%),\n",
            "I-return_date.today_relative: 2 (0.00%),\n",
            "B-fromloc.state_name: 35 (0.07%),\n",
            "B-depart_time.start_time: 16 (0.03%),\n",
            "B-depart_time.end_time: 16 (0.03%),\n",
            "B-return_date.date_relative: 7 (0.01%),\n",
            "B-flight_days: 22 (0.05%),\n",
            "I-arrive_time.period_of_day: 3 (0.01%),\n",
            "B-fromloc.airport_code: 12 (0.03%),\n",
            "B-toloc.airport_code: 25 (0.05%),\n",
            "B-arrive_time.period_mod: 4 (0.01%),\n",
            "B-today_relative: 4 (0.01%),\n",
            "I-fromloc.state_name: 8 (0.02%),\n",
            "I-depart_time.period_of_day: 7 (0.01%),\n",
            "I-depart_time.start_time: 7 (0.01%),\n",
            "I-depart_time.end_time: 11 (0.02%),\n",
            "I-flight_mod: 10 (0.02%),\n",
            "B-time: 4 (0.01%),\n",
            "I-depart_time.time_relative: 2 (0.00%),\n",
            "B-arrive_date.today_relative: 2 (0.00%),\n",
            "I-toloc.state_name: 11 (0.02%),\n",
            "I-fare_basis_code: 2 (0.00%),\n",
            "B-stoploc.airport_name: 1 (0.00%),\n",
            "I-meal_code: 4 (0.01%),\n",
            "B-time_relative: 2 (0.00%),\n",
            "I-time: 2 (0.00%),\n",
            "B-return_time.period_of_day: 2 (0.00%),\n",
            "I-return_date.day_number: 1 (0.00%),\n",
            "B-stoploc.state_code: 4 (0.01%),\n",
            "B-return_time.period_mod: 1 (0.00%),\n",
            "I-today_relative: 6 (0.01%),\n",
            "I-arrive_time.time_relative: 2 (0.00%),\n",
            "B-month_name: 4 (0.01%),\n",
            "B-day_number: 4 (0.01%),\n",
            "B-state_name: 3 (0.01%),\n",
            "B-toloc.country_name: 3 (0.01%),\n"
          ],
          "name": "stdout"
        },
        {
          "output_type": "execute_result",
          "data": {
            "text/plain": [
              "({'atis_abbreviation': 152,\n",
              "  'atis_aircraft': 161,\n",
              "  'atis_airfare': 874,\n",
              "  'atis_airline': 293,\n",
              "  'atis_flight': 2554,\n",
              "  'atis_flight_time': 112,\n",
              "  'atis_ground_service': 524,\n",
              "  'atis_quantity': 100},\n",
              " {'B-aircraft_code': 22,\n",
              "  'B-airline_code': 138,\n",
              "  'B-airline_name': 601,\n",
              "  'B-airport_code': 27,\n",
              "  'B-airport_name': 50,\n",
              "  'B-arrive_date.date_relative': 10,\n",
              "  'B-arrive_date.day_name': 73,\n",
              "  'B-arrive_date.day_number': 45,\n",
              "  'B-arrive_date.month_name': 45,\n",
              "  'B-arrive_date.today_relative': 2,\n",
              "  'B-arrive_time.end_time': 14,\n",
              "  'B-arrive_time.period_mod': 4,\n",
              "  'B-arrive_time.period_of_day': 58,\n",
              "  'B-arrive_time.start_time': 15,\n",
              "  'B-arrive_time.time': 170,\n",
              "  'B-arrive_time.time_relative': 158,\n",
              "  'B-city_name': 384,\n",
              "  'B-class_type': 306,\n",
              "  'B-connect': 36,\n",
              "  'B-cost_relative': 438,\n",
              "  'B-day_name': 10,\n",
              "  'B-day_number': 4,\n",
              "  'B-days_code': 3,\n",
              "  'B-depart_date.date_relative': 74,\n",
              "  'B-depart_date.day_name': 704,\n",
              "  'B-depart_date.day_number': 402,\n",
              "  'B-depart_date.month_name': 375,\n",
              "  'B-depart_date.today_relative': 80,\n",
              "  'B-depart_date.year': 23,\n",
              "  'B-depart_time.end_time': 16,\n",
              "  'B-depart_time.period_mod': 39,\n",
              "  'B-depart_time.period_of_day': 495,\n",
              "  'B-depart_time.start_time': 16,\n",
              "  'B-depart_time.time': 334,\n",
              "  'B-depart_time.time_relative': 288,\n",
              "  'B-economy': 45,\n",
              "  'B-fare_amount': 71,\n",
              "  'B-fare_basis_code': 79,\n",
              "  'B-flight_days': 22,\n",
              "  'B-flight_mod': 245,\n",
              "  'B-flight_number': 117,\n",
              "  'B-flight_stop': 126,\n",
              "  'B-flight_time': 112,\n",
              "  'B-fromloc.airport_code': 12,\n",
              "  'B-fromloc.airport_name': 90,\n",
              "  'B-fromloc.city_name': 3891,\n",
              "  'B-fromloc.state_code': 38,\n",
              "  'B-fromloc.state_name': 35,\n",
              "  'B-meal': 36,\n",
              "  'B-meal_code': 6,\n",
              "  'B-meal_description': 41,\n",
              "  'B-mod': 38,\n",
              "  'B-month_name': 4,\n",
              "  'B-or': 52,\n",
              "  'B-period_of_day': 8,\n",
              "  'B-restriction_code': 19,\n",
              "  'B-return_date.date_relative': 7,\n",
              "  'B-return_date.day_number': 5,\n",
              "  'B-return_date.month_name': 5,\n",
              "  'B-return_date.today_relative': 1,\n",
              "  'B-return_time.period_mod': 1,\n",
              "  'B-return_time.period_of_day': 2,\n",
              "  'B-round_trip': 454,\n",
              "  'B-state_code': 7,\n",
              "  'B-state_name': 3,\n",
              "  'B-stoploc.airport_name': 1,\n",
              "  'B-stoploc.city_name': 197,\n",
              "  'B-stoploc.state_code': 4,\n",
              "  'B-time': 4,\n",
              "  'B-time_relative': 2,\n",
              "  'B-today_relative': 4,\n",
              "  'B-toloc.airport_code': 25,\n",
              "  'B-toloc.airport_name': 32,\n",
              "  'B-toloc.city_name': 3958,\n",
              "  'B-toloc.country_name': 3,\n",
              "  'B-toloc.state_code': 81,\n",
              "  'B-toloc.state_name': 71,\n",
              "  'B-transport_type': 51,\n",
              "  'I-airline_name': 397,\n",
              "  'I-airport_name': 63,\n",
              "  'I-arrive_date.day_number': 8,\n",
              "  'I-arrive_time.end_time': 14,\n",
              "  'I-arrive_time.period_of_day': 3,\n",
              "  'I-arrive_time.start_time': 6,\n",
              "  'I-arrive_time.time': 137,\n",
              "  'I-arrive_time.time_relative': 2,\n",
              "  'I-city_name': 93,\n",
              "  'I-class_type': 265,\n",
              "  'I-cost_relative': 73,\n",
              "  'I-depart_date.day_number': 112,\n",
              "  'I-depart_date.today_relative': 12,\n",
              "  'I-depart_time.end_time': 11,\n",
              "  'I-depart_time.period_of_day': 7,\n",
              "  'I-depart_time.start_time': 7,\n",
              "  'I-depart_time.time': 271,\n",
              "  'I-depart_time.time_relative': 2,\n",
              "  'I-economy': 12,\n",
              "  'I-fare_amount': 69,\n",
              "  'I-fare_basis_code': 2,\n",
              "  'I-flight_mod': 10,\n",
              "  'I-flight_stop': 15,\n",
              "  'I-flight_time': 48,\n",
              "  'I-fromloc.airport_name': 110,\n",
              "  'I-fromloc.city_name': 598,\n",
              "  'I-fromloc.state_name': 8,\n",
              "  'I-meal_code': 4,\n",
              "  'I-meal_description': 2,\n",
              "  'I-restriction_code': 14,\n",
              "  'I-return_date.day_number': 1,\n",
              "  'I-return_date.today_relative': 2,\n",
              "  'I-round_trip': 471,\n",
              "  'I-stoploc.city_name': 34,\n",
              "  'I-time': 2,\n",
              "  'I-today_relative': 6,\n",
              "  'I-toloc.airport_name': 41,\n",
              "  'I-toloc.city_name': 1041,\n",
              "  'I-toloc.state_name': 11,\n",
              "  'I-transport_type': 27,\n",
              "  'O': 27536})"
            ]
          },
          "metadata": {},
          "execution_count": 62
        }
      ]
    }
  ]
}